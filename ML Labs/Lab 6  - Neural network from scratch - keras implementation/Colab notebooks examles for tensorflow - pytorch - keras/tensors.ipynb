{
  "nbformat": 4,
  "nbformat_minor": 0,
  "metadata": {
    "colab": {
      "name": "tensors.ipynb",
      "provenance": [],
      "collapsed_sections": [],
      "toc_visible": true
    },
    "kernelspec": {
      "name": "python3",
      "display_name": "Python 3"
    },
    "accelerator": "GPU"
  },
  "cells": [
    {
      "cell_type": "code",
      "metadata": {
        "id": "7i1UqqIkNxAt"
      },
      "source": [
        "# Import necessary libraries\n",
        "import tensorflow as tf\n",
        "import numpy as np"
      ],
      "execution_count": 1,
      "outputs": []
    },
    {
      "cell_type": "markdown",
      "metadata": {
        "id": "0T5qxdv7Mi3h"
      },
      "source": [
        "# NumPy Array With Rows and Columns\n",
        "\n",
        "let’s refresh our knowledge of NumPy arrays.\n",
        "\n",
        "Typically in Python, we work with lists of numbers or lists of lists of numbers. For example, we can define a two-dimensional matrix of two rows of three numbers as a list of numbers as follows:"
      ]
    },
    {
      "cell_type": "code",
      "metadata": {
        "id": "0ApCUoFPLz-A"
      },
      "source": [
        "\n",
        "# define data as a list\n",
        "data = [[1,2,3], [4,5,6]]\n",
        "\n"
      ],
      "execution_count": 8,
      "outputs": []
    },
    {
      "cell_type": "markdown",
      "metadata": {
        "id": "gCTwGKCXLkaS"
      },
      "source": [
        "A NumPy array allows us to define and operate upon vectors and matrices of numbers in an efficient manner, e.g. a lot more efficient than simply Python lists. NumPy arrays are called NDArrays and can have virtually any number of dimensions, although, in machine learning, we are most commonly working with 1D and 2D arrays (or 3D arrays for images).\n",
        "\n",
        "For example, we can convert our list of lists matrix to a NumPy array via the asarray() function:"
      ]
    },
    {
      "cell_type": "code",
      "metadata": {
        "colab": {
          "base_uri": "https://localhost:8080/"
        },
        "id": "hgatE0LDNWUy",
        "outputId": "d8f9ade4-1471-4f43-ad8a-6d1a303c788d"
      },
      "source": [
        "# convert to a numpy array\n",
        "data = np.asarray(data)\n",
        "print(data)\n",
        "print(data.shape)"
      ],
      "execution_count": 11,
      "outputs": [
        {
          "output_type": "stream",
          "text": [
            "[[1 2 3]\n",
            " [4 5 6]]\n",
            "(2, 3)\n"
          ],
          "name": "stdout"
        }
      ]
    },
    {
      "cell_type": "markdown",
      "metadata": {
        "id": "VKSd_U0SN0fm"
      },
      "source": [
        "# Rows and Columns of Data in NumPy Arrays\n",
        "\n",
        "The “shape” property summarizes the dimensionality of our data.\n",
        "\n",
        "Importantly, the first dimension defines the number of rows and the second dimension defines the number of columns. For example (2,3) defines an array with two rows and three columns, as we saw in the last section.\n",
        "\n",
        "We can enumerate each row of data in an array by enumerating from index 0 to the first dimension of the array shape, e.g. shape[0]. We can access data in the array via the row and column index.\n",
        "\n",
        "For example, data[0, 0] is the value at the first row and the first column, whereas data[0, :] is the values in the first row and all columns, e.g. the complete first row in our matrix.\n",
        "\n",
        "The example below enumerates all rows in the data and prints each in turn."
      ]
    },
    {
      "cell_type": "code",
      "metadata": {
        "colab": {
          "base_uri": "https://localhost:8080/"
        },
        "id": "YIMjIlaZOFEn",
        "outputId": "d556bab2-f859-4345-d432-78e17cb81d5f"
      },
      "source": [
        "# enumerate rows in a numpy array\n",
        "from numpy import asarray\n",
        "# define data as a list\n",
        "data = [[1,2,3], [4,5,6]]\n",
        "# convert to a numpy array\n",
        "data = asarray(data)\n",
        "# step through rows\n",
        "for row in range(data.shape[0]):\n",
        "\tprint(data[row, :])"
      ],
      "execution_count": 12,
      "outputs": [
        {
          "output_type": "stream",
          "text": [
            "[1 2 3]\n",
            "[4 5 6]\n"
          ],
          "name": "stdout"
        }
      ]
    },
    {
      "cell_type": "markdown",
      "metadata": {
        "id": "WlEpYjuIOTDU"
      },
      "source": [
        "We can achieve the same effect for columns.\n",
        "\n",
        "That is, we can enumerate data by columns. For example, data[:, 0] accesses all rows for the first column. We can enumerate all columns from column 0 to the final column defined by the second dimension of the “shape” property, e.g. shape[1].\n",
        "\n",
        "The example below demonstrates this by enumerating all columns in our matrix."
      ]
    },
    {
      "cell_type": "code",
      "metadata": {
        "colab": {
          "base_uri": "https://localhost:8080/"
        },
        "id": "NrKuMEfhOWmO",
        "outputId": "14342ff1-4957-4433-c46f-d08036737858"
      },
      "source": [
        "# enumerate columns in a numpy array\n",
        "from numpy import asarray\n",
        "# define data as a list\n",
        "data = [[1,2,3], [4,5,6]]\n",
        "# convert to a numpy array\n",
        "data = asarray(data)\n",
        "# step through columns\n",
        "for col in range(data.shape[1]):\n",
        "\tprint(data[:, col])"
      ],
      "execution_count": 13,
      "outputs": [
        {
          "output_type": "stream",
          "text": [
            "[1 4]\n",
            "[2 5]\n",
            "[3 6]\n"
          ],
          "name": "stdout"
        }
      ]
    },
    {
      "cell_type": "markdown",
      "metadata": {
        "id": "1T6_UFxCLkga"
      },
      "source": [
        "# NumPy Array Operations By Row and Column\n",
        "\n",
        "We often need to perform operations on NumPy arrays by column or by row.\n",
        "\n",
        "For example, we may need to sum values or calculate a mean for a matrix of data by row or by column.\n",
        "\n",
        "**This can be achieved by using the sum() or mean() NumPy function and specifying the “axis” on which to perform the operation.**\n",
        "\n",
        "We can specify the axis as the dimension across which the operation is to be performed, and this dimension does not match our intuition based on how we interpret the “shape” of the array and how we index data in the array.\n",
        "\n",
        "As such, this causes maximum confusion for beginners.\n",
        "\n",
        "That is, axis=0 will perform the operation column-wise and axis=1 will perform the operation row-wise. We can also specify the axis as None, which will perform the operation for the entire array.\n",
        "\n",
        "In summary:\n",
        "\n",
        "    axis=None: Apply operation array-wise.\n",
        "    axis=0: Apply operation column-wise, across all rows for each column.\n",
        "    axis=1: Apply operation row-wise, across all columns for each row.\n",
        "\n",
        "Let’s make this concrete with a worked example.\n",
        "\n",
        "We will sum values in our array by each of the three axes.\n",
        "\n",
        "# Axis=None Array-Wise Operation\n",
        "\n",
        "Setting the **axis=None** when performing an operation on a NumPy array will perform the operation for the entire array.\n",
        "\n",
        "This is often the default for most operations, such as sum, mean, std, and so on."
      ]
    },
    {
      "cell_type": "code",
      "metadata": {
        "colab": {
          "base_uri": "https://localhost:8080/"
        },
        "id": "bueWBOp6PXi9",
        "outputId": "8f66fc17-9ac0-4277-a3f8-c442edaec740"
      },
      "source": [
        "...\n",
        "# sum values array-wise\n",
        "from numpy import asarray\n",
        "# define data as a list\n",
        "data = [[1,2,3], [4,5,6]]\n",
        "# convert to a numpy array\n",
        "data = asarray(data)\n",
        "# summarize the array content\n",
        "print(data)\n",
        "# sum data by array\n",
        "result = data.sum(axis=None)\n",
        "# summarize the result\n",
        "print(result)"
      ],
      "execution_count": 15,
      "outputs": [
        {
          "output_type": "stream",
          "text": [
            "[[1 2 3]\n",
            " [4 5 6]]\n",
            "21\n"
          ],
          "name": "stdout"
        }
      ]
    },
    {
      "cell_type": "markdown",
      "metadata": {
        "id": "OByJ7DKgPvVN"
      },
      "source": [
        "# Axis=0 Column-Wise Operation\n",
        "\n",
        "Setting the axis=0 when performing an operation on a NumPy array will perform the operation column-wise, that is, across all rows for each column."
      ]
    },
    {
      "cell_type": "code",
      "metadata": {
        "colab": {
          "base_uri": "https://localhost:8080/"
        },
        "id": "OeS4O8FYPA6c",
        "outputId": "72e43010-01ce-47d1-d994-50d07023cb56"
      },
      "source": [
        "# sum values column-wise\n",
        "from numpy import asarray\n",
        "# define data as a list\n",
        "data = [[1,2,3], [4,5,6]]\n",
        "# convert to a numpy array\n",
        "data = asarray(data)\n",
        "# summarize the array content\n",
        "print(data)\n",
        "# sum data by column\n",
        "result = data.sum(axis=0)\n",
        "# summarize the result\n",
        "print(result)"
      ],
      "execution_count": 18,
      "outputs": [
        {
          "output_type": "stream",
          "text": [
            "[[1 2 3]\n",
            " [4 5 6]]\n",
            "[5 7 9]\n"
          ],
          "name": "stdout"
        }
      ]
    },
    {
      "cell_type": "markdown",
      "metadata": {
        "id": "_rakrl34QUUH"
      },
      "source": [
        "# Axis=1 Row-Wise Operation\n",
        "\n",
        "Setting the **axis=1** when performing an operation on a NumPy array will perform the operation row-wise, that is across all columns for each row."
      ]
    },
    {
      "cell_type": "code",
      "metadata": {
        "colab": {
          "base_uri": "https://localhost:8080/"
        },
        "id": "eWKFOmZCQf4S",
        "outputId": "b795703f-1926-4682-d9f8-92adfd930382"
      },
      "source": [
        "# sum values row-wise\n",
        "from numpy import asarray\n",
        "# define data as a list\n",
        "data = [[1,2,3], [4,5,6]]\n",
        "# convert to a numpy array\n",
        "data = asarray(data)\n",
        "# summarize the array content\n",
        "print(data)\n",
        "# sum data by row\n",
        "result = data.sum(axis=1)\n",
        "# summarize the result\n",
        "print(result)"
      ],
      "execution_count": 19,
      "outputs": [
        {
          "output_type": "stream",
          "text": [
            "[[1 2 3]\n",
            " [4 5 6]]\n",
            "[ 6 15]\n"
          ],
          "name": "stdout"
        }
      ]
    },
    {
      "cell_type": "markdown",
      "metadata": {
        "id": "Hc5CKVymQv3O"
      },
      "source": [
        "# What are Tensors?\n",
        "\n",
        "A tensor is a generalization of vectors and matrices and is easily understood as a multidimensional array.\n",
        "\n",
        "> In the general case, an array of numbers arranged on a regular grid with a variable number of axes is known as a tensor.\n",
        "\n",
        "\n",
        "A *vector is a one-dimensional or first order tensor* and *a matrix is a two-dimensional or second order tensor*.\n",
        "\n",
        "Tensor notation is much like matrix notation with a capital letter representing a tensor and lowercase letters with subscript integers representing scalar values within the tensor."
      ]
    },
    {
      "cell_type": "markdown",
      "metadata": {
        "id": "ZWwvtiJZRtLj"
      },
      "source": [
        "```\n",
        "     t111, t121, t131     t112, t122, t132     t113, t123, t133\n",
        "T =  t211, t221, t231,    t212, t222, t232,    t213, t223, t233\n",
        "     t311, t321, t331     t312, t322, t332     t313, t323, t333\n",
        "```\n"
      ]
    },
    {
      "cell_type": "markdown",
      "metadata": {
        "id": "SiZTuwUdTFoG"
      },
      "source": [
        "Many of the operations that can be performed with scalars, vectors, and matrices can be reformulated to be performed with tensors.\n",
        "\n",
        "As a tool, tensors and tensor algebra is widely used in the fields of physics and engineering. It is a term and set of techniques known in machine learning in the training and operation of deep learning models can be described in terms of tensors.\n",
        "\n"
      ]
    },
    {
      "cell_type": "markdown",
      "metadata": {
        "id": "GwWdNpscTH4N"
      },
      "source": [
        "# Tensors in Python\n",
        "\n",
        "Like vectors and matrices, tensors can be represented in Python using the N-dimensional array (ndarray).\n",
        "\n",
        "A tensor can be defined in-line to the constructor of array() as a list of lists.\n",
        "\n",
        "The example below defines a 3x3x3 tensor as a NumPy ndarray.  Here, we first define rows, then a list of rows stacked as columns, then a list of columns stacked as levels in a cube.\n",
        "\n",
        "![3d](https://github.com/instillai/TensorFlow-Course/blob/master/codes/ipython/1-basics/'/content/cubetensor.jpg'?raw=1)![cubetensor.jpg](data:image/jpeg;base64,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)\n",
        "\n",
        "\n",
        "\n"
      ]
    },
    {
      "cell_type": "markdown",
      "metadata": {
        "id": "m7Cq3Os_VzkR"
      },
      "source": [
        ""
      ]
    },
    {
      "cell_type": "code",
      "metadata": {
        "colab": {
          "base_uri": "https://localhost:8080/"
        },
        "id": "KjY81XF1TbUK",
        "outputId": "ab77b00c-dcca-4955-fdd7-3b1819b761ba"
      },
      "source": [
        "# create tensor\n",
        "from numpy import array\n",
        "T = array([\n",
        "  [[1,2,3],    [4,5,6],    [7,8,9]],\n",
        "  [[11,12,13], [14,15,16], [17,18,19]],\n",
        "  [[21,22,23], [24,25,26], [27,28,29]],\n",
        "  ])\n",
        "print(T.shape)\n",
        "print(T)"
      ],
      "execution_count": 21,
      "outputs": [
        {
          "output_type": "stream",
          "text": [
            "(3, 3, 3)\n",
            "[[[ 1  2  3]\n",
            "  [ 4  5  6]\n",
            "  [ 7  8  9]]\n",
            "\n",
            " [[11 12 13]\n",
            "  [14 15 16]\n",
            "  [17 18 19]]\n",
            "\n",
            " [[21 22 23]\n",
            "  [24 25 26]\n",
            "  [27 28 29]]]\n"
          ],
          "name": "stdout"
        }
      ]
    },
    {
      "cell_type": "markdown",
      "metadata": {
        "id": "aqKVnBWuTteO"
      },
      "source": [
        "You can see that, at least in three-dimensions, the tensor is printed as a series of matrices, one for each layer. For this 3D tensor, axis 0 specifies the level, axis 1 specifies the row, and axis 2 specifies the column.\n"
      ]
    },
    {
      "cell_type": "markdown",
      "metadata": {
        "id": "KuFpiPQpW4fW"
      },
      "source": [
        "# Element-Wise Tensor Operations\n",
        "As with matrices, we can perform element-wise arithmetic between tensors.\n",
        "\n",
        "In this section, we will work through the four main arithmetic operations.\n",
        "\n",
        "## Tensor Addition\n",
        "The element-wise addition of two tensors with the same dimensions results in a new tensor with the same dimensions where each scalar value is the element-wise addition of the scalars in the parent tensors."
      ]
    },
    {
      "cell_type": "code",
      "metadata": {
        "colab": {
          "base_uri": "https://localhost:8080/"
        },
        "id": "Oa9ynMocXAU4",
        "outputId": "4a81ec4b-9faa-426b-eac3-93ed18637e9b"
      },
      "source": [
        "# tensor addition\n",
        "from numpy import array\n",
        "A = array([\n",
        "  [[1,2,3],    [4,5,6],    [7,8,9]],\n",
        "  [[11,12,13], [14,15,16], [17,18,19]],\n",
        "  [[21,22,23], [24,25,26], [27,28,29]],\n",
        "  ])\n",
        "B = array([\n",
        "  [[1,2,3],    [4,5,6],    [7,8,9]],\n",
        "  [[11,12,13], [14,15,16], [17,18,19]],\n",
        "  [[21,22,23], [24,25,26], [27,28,29]],\n",
        "  ])\n",
        "C = A + B\n",
        "print(C)"
      ],
      "execution_count": 23,
      "outputs": [
        {
          "output_type": "stream",
          "text": [
            "[[[ 2  4  6]\n",
            "  [ 8 10 12]\n",
            "  [14 16 18]]\n",
            "\n",
            " [[22 24 26]\n",
            "  [28 30 32]\n",
            "  [34 36 38]]\n",
            "\n",
            " [[42 44 46]\n",
            "  [48 50 52]\n",
            "  [54 56 58]]]\n"
          ],
          "name": "stdout"
        }
      ]
    },
    {
      "cell_type": "markdown",
      "metadata": {
        "id": "_q8HEGMDXI4k"
      },
      "source": [
        "# Tensor Subtraction\n",
        "\n",
        "The element-wise subtraction of one tensor from another tensor with the same dimensions results in a new tensor with the same dimensions where each scalar value is the element-wise subtraction of the scalars in the parent tensors."
      ]
    },
    {
      "cell_type": "code",
      "metadata": {
        "colab": {
          "base_uri": "https://localhost:8080/"
        },
        "id": "aA3Z8-ijXQRw",
        "outputId": "e8547b2b-95ac-48f1-e955-642034255d25"
      },
      "source": [
        "# tensor subtraction\n",
        "from numpy import array\n",
        "A = array([\n",
        "  [[1,2,3],    [4,5,6],    [7,8,9]],\n",
        "  [[11,12,13], [14,15,16], [17,18,19]],\n",
        "  [[21,22,23], [24,25,26], [27,28,29]],\n",
        "  ])\n",
        "B = array([\n",
        "  [[1,2,3],    [4,5,6],    [7,8,9]],\n",
        "  [[11,12,13], [14,15,16], [17,18,19]],\n",
        "  [[21,22,23], [24,25,26], [27,28,29]],\n",
        "  ])\n",
        "C = A - B\n",
        "print(C)"
      ],
      "execution_count": 25,
      "outputs": [
        {
          "output_type": "stream",
          "text": [
            "[[[0 0 0]\n",
            "  [0 0 0]\n",
            "  [0 0 0]]\n",
            "\n",
            " [[0 0 0]\n",
            "  [0 0 0]\n",
            "  [0 0 0]]\n",
            "\n",
            " [[0 0 0]\n",
            "  [0 0 0]\n",
            "  [0 0 0]]]\n"
          ],
          "name": "stdout"
        }
      ]
    },
    {
      "cell_type": "markdown",
      "metadata": {
        "id": "JPPpnSNHXZ_I"
      },
      "source": [
        "# Tensor Hadamard Product\n",
        "The element-wise multiplication of one tensor from another tensor with the same dimensions results in a new tensor with the same dimensions where each scalar value is the element-wise multiplication of the scalars in the parent tensors.\n",
        "\n",
        "As with matrices, the operation is referred to as the Hadamard Product to differentiate it from tensor multiplication. Here, we will use the “o” operator to indicate the Hadamard product operation between tensors.\n"
      ]
    },
    {
      "cell_type": "code",
      "metadata": {
        "colab": {
          "base_uri": "https://localhost:8080/"
        },
        "id": "6KEHT_VmXnRg",
        "outputId": "236957fd-2d58-4d55-87da-cbec0cf244e8"
      },
      "source": [
        "# tensor Hadamard product\n",
        "from numpy import array\n",
        "A = array([\n",
        "  [[1,2,3],    [4,5,6],    [7,8,9]],\n",
        "  [[11,12,13], [14,15,16], [17,18,19]],\n",
        "  [[21,22,23], [24,25,26], [27,28,29]],\n",
        "  ])\n",
        "B = array([\n",
        "  [[1,2,3],    [4,5,6],    [7,8,9]],\n",
        "  [[11,12,13], [14,15,16], [17,18,19]],\n",
        "  [[21,22,23], [24,25,26], [27,28,29]],\n",
        "  ])\n",
        "C = A * B\n",
        "print(C)"
      ],
      "execution_count": 26,
      "outputs": [
        {
          "output_type": "stream",
          "text": [
            "[[[  1   4   9]\n",
            "  [ 16  25  36]\n",
            "  [ 49  64  81]]\n",
            "\n",
            " [[121 144 169]\n",
            "  [196 225 256]\n",
            "  [289 324 361]]\n",
            "\n",
            " [[441 484 529]\n",
            "  [576 625 676]\n",
            "  [729 784 841]]]\n"
          ],
          "name": "stdout"
        }
      ]
    },
    {
      "cell_type": "markdown",
      "metadata": {
        "id": "Yug6ROdTXt3K"
      },
      "source": [
        "# Tensor Division\n",
        "The element-wise division of one tensor from another tensor with the same dimensions results in a new tensor with the same dimensions where each scalar value is the element-wise division of the scalars in the parent tensors."
      ]
    },
    {
      "cell_type": "code",
      "metadata": {
        "colab": {
          "base_uri": "https://localhost:8080/"
        },
        "id": "SQXDlP3YX2cI",
        "outputId": "518e3bbe-7ed8-44e7-fb09-0f542bdb6555"
      },
      "source": [
        "# tensor division\n",
        "from numpy import array\n",
        "A = array([\n",
        "  [[1,2,3],    [4,5,6],    [7,8,9]],\n",
        "  [[11,12,13], [14,15,16], [17,18,19]],\n",
        "  [[21,22,23], [24,25,26], [27,28,29]],\n",
        "  ])\n",
        "B = array([\n",
        "  [[1,2,3],    [4,5,6],    [7,8,9]],\n",
        "  [[11,12,13], [14,15,16], [17,18,19]],\n",
        "  [[21,22,23], [24,25,26], [27,28,29]],\n",
        "  ])\n",
        "C = A / B\n",
        "print(C)"
      ],
      "execution_count": 27,
      "outputs": [
        {
          "output_type": "stream",
          "text": [
            "[[[1. 1. 1.]\n",
            "  [1. 1. 1.]\n",
            "  [1. 1. 1.]]\n",
            "\n",
            " [[1. 1. 1.]\n",
            "  [1. 1. 1.]\n",
            "  [1. 1. 1.]]\n",
            "\n",
            " [[1. 1. 1.]\n",
            "  [1. 1. 1.]\n",
            "  [1. 1. 1.]]]\n"
          ],
          "name": "stdout"
        }
      ]
    },
    {
      "cell_type": "markdown",
      "metadata": {
        "id": "b__ZD4oxX-aS"
      },
      "source": [
        "# Tensor Product\n",
        "The tensor product operator is often denoted as a circle with a small x in the middle. We will denote it here as “(x)”.\n",
        "\n",
        "Given a tensor A with q dimensions and tensor B with r dimensions, the product of these tensors will be a new tensor with the order of q + r or, said another way, q + r dimensions.\n",
        "\n",
        "The tensor product is not limited to tensors, but can also be performed on matrices and vectors, which can be a good place to practice in order to develop the intuition for higher dimensions.\n",
        "\n",
        "Let’s take a look at the tensor product for vectors.\n",
        "\n",
        "```\n",
        "a = (a1, a2)\n",
        "\n",
        "b = (b1, b2)\n",
        "\n",
        "c = a (x) b\n",
        "\n",
        "     a1 * [b1, b2]\n",
        "c = (a2 * [b1, b2])\n",
        "```\n",
        "Or, unrolled:\n",
        "``\n",
        "     a1 * b1, a1 * b2\n",
        "c = (a2 * b1, a2 * b2)\n",
        "```\n",
        "     a11, a12\n",
        "A = (a21, a22)\n",
        "\n",
        "     b11, b12\n",
        "B = (b21, b22)\n",
        "\n",
        "C = A (x) B\n",
        "\n",
        "            b11, b12          b11, b12\n",
        "     a11 * (b21, b22), a12 * (b21, b22)\n",
        "C = [       b11, b12          b11, b12 ]\n",
        "     a21 * (b21, b22), a22 * (b21, b22)\n",
        "```\n",
        "\n",
        "The tensor product can be implemented in NumPy using the `tensordot()` function.\n",
        "\n",
        "The function takes as arguments the two tensors to be multiplied and the axis on which to sum the products over, called the sum reduction. To calculate the tensor product, also called the tensor dot product in NumPy, the axis must be set to 0.\n",
        "\n",
        "In the example below, we define two order-1 tensors (vectors) with and calculate the tensor product."
      ]
    },
    {
      "cell_type": "code",
      "metadata": {
        "colab": {
          "base_uri": "https://localhost:8080/"
        },
        "id": "bXY7vtbpZCyG",
        "outputId": "5641c58a-58d7-4df3-c423-396e30beb215"
      },
      "source": [
        "# tensor product\n",
        "from numpy import array\n",
        "from numpy import tensordot\n",
        "A = array([1,2])\n",
        "B = array([3,4])\n",
        "C = tensordot(A, B, axes=0)\n",
        "print(C)"
      ],
      "execution_count": 28,
      "outputs": [
        {
          "output_type": "stream",
          "text": [
            "[[3 4]\n",
            " [6 8]]\n"
          ],
          "name": "stdout"
        }
      ]
    },
    {
      "cell_type": "markdown",
      "metadata": {
        "id": "I4YPHO9ba3Bc"
      },
      "source": [
        "## Tensors\n",
        "\n",
        "Tensor are multi-dimensitonal arrays that are used in Tensorflow.\n",
        "\n",
        "We use the following definition:\n",
        "\n",
        "* **Rank:** The number of dimensions that a vector has.\n",
        "\n",
        "Below, we will define different kinds of tensors and show their rank using [tf.rank](https://www.tensorflow.org/api_docs/python/tf/rank) function."
      ]
    },
    {
      "cell_type": "code",
      "metadata": {
        "id": "rcU8_F3fPUb5",
        "colab": {
          "base_uri": "https://localhost:8080/"
        },
        "outputId": "b3f83836-6927-4da6-c83c-e5e816c999c0"
      },
      "source": [
        "tensor = tf.constant(0)\n",
        "print(\"Print constant tensor {} of rank {}\".format(tensor, tf.rank(tensor)))\n",
        "print(\"Show full tensor:\", tensor)"
      ],
      "execution_count": 2,
      "outputs": [
        {
          "output_type": "stream",
          "text": [
            "Print constant tensor 0 of rank 0\n",
            "Show full tensor: tf.Tensor(0, shape=(), dtype=int32)\n"
          ],
          "name": "stdout"
        }
      ]
    },
    {
      "cell_type": "code",
      "metadata": {
        "id": "ahIBf6_4cRnm",
        "colab": {
          "base_uri": "https://localhost:8080/"
        },
        "outputId": "ef67b3e5-9318-4d97-90c6-2b9c3791db6b"
      },
      "source": [
        "# NOTE: We use .numpy() to transform tf.tensor to numpy\n",
        "tensor = tf.constant([1,2,3])\n",
        "print(\"Tensor:\", tensor)\n",
        "print(\"Rank:\", tf.rank(tensor).numpy())"
      ],
      "execution_count": 3,
      "outputs": [
        {
          "output_type": "stream",
          "text": [
            "Tensor: tf.Tensor([1 2 3], shape=(3,), dtype=int32)\n",
            "Rank: 1\n"
          ],
          "name": "stdout"
        }
      ]
    },
    {
      "cell_type": "markdown",
      "metadata": {
        "id": "ss3aDmDTd-LS"
      },
      "source": [
        "### Tensor Operations"
      ]
    },
    {
      "cell_type": "code",
      "metadata": {
        "id": "TKX2U0Imcm7d",
        "colab": {
          "base_uri": "https://localhost:8080/"
        },
        "outputId": "895031e3-7125-44c9-83bf-2523d946dd38"
      },
      "source": [
        "x = tf.constant([[1, 1],\n",
        "                 [1, 1]])\n",
        "y = tf.constant([[2, 4],\n",
        "                 [6, 8]])\n",
        "\n",
        "# Add two tensors\n",
        "print(tf.add(x, y), \"\\n\")\n",
        "\n",
        "# Add two tensors\n",
        "print(tf.matmul(x, y), \"\\n\")\n"
      ],
      "execution_count": 4,
      "outputs": [
        {
          "output_type": "stream",
          "text": [
            "tf.Tensor(\n",
            "[[3 5]\n",
            " [7 9]], shape=(2, 2), dtype=int32) \n",
            "\n",
            "tf.Tensor(\n",
            "[[ 8 12]\n",
            " [ 8 12]], shape=(2, 2), dtype=int32) \n",
            "\n"
          ],
          "name": "stdout"
        }
      ]
    },
    {
      "cell_type": "markdown",
      "metadata": {
        "id": "BlEgQ2t2edKl"
      },
      "source": [
        "### Muti-dimentional Tensors\n",
        "\n",
        "This part is not much different compared to what we learned so far. However, it would be nice to try extracting as much information as we can from a multi-dimentional tensor.\n",
        "\n",
        "\n",
        "Let's use [tf.ones](https://www.tensorflow.org/api_docs/python/tf/ones) for our purpose here. It creates an all-one tensor."
      ]
    },
    {
      "cell_type": "code",
      "metadata": {
        "id": "Gdtt0e4-fDkl",
        "colab": {
          "base_uri": "https://localhost:8080/"
        },
        "outputId": "c59185ab-84f1-4e02-d327-255df4cb2b1f"
      },
      "source": [
        "# We set the shape of the tensor and the desired data type.\n",
        "tensor = tf.ones(shape = [2, 3, 6], dtype = tf.float32)\n",
        "print('Tensor:', tensor)"
      ],
      "execution_count": null,
      "outputs": [
        {
          "output_type": "stream",
          "text": [
            "Tensor: tf.Tensor(\n",
            "[[[1. 1. 1. 1. 1. 1.]\n",
            "  [1. 1. 1. 1. 1. 1.]\n",
            "  [1. 1. 1. 1. 1. 1.]]\n",
            "\n",
            " [[1. 1. 1. 1. 1. 1.]\n",
            "  [1. 1. 1. 1. 1. 1.]\n",
            "  [1. 1. 1. 1. 1. 1.]]], shape=(2, 3, 6), dtype=float32)\n"
          ],
          "name": "stdout"
        }
      ]
    },
    {
      "cell_type": "code",
      "metadata": {
        "id": "c5PChFhlfXmx",
        "colab": {
          "base_uri": "https://localhost:8080/"
        },
        "outputId": "15da08f5-98df-4b54-a580-f90881976b38"
      },
      "source": [
        "print(\"Tensor Rank: \", tf.rank(tensor).numpy())\n",
        "print(\"Shape: \", tensor.shape)\n",
        "print(\"Elements' type\", tensor.dtype)\n",
        "print(\"The size of the second axis:\", tensor.shape[1])\n",
        "print(\"The size of the last axis:\", tensor.shape[-1])\n",
        "print(\"Total number of elements: \", tf.size(tensor).numpy())\n",
        "print(\"How many dimensions? \", tensor.ndim)"
      ],
      "execution_count": null,
      "outputs": [
        {
          "output_type": "stream",
          "text": [
            "Tensor Rank:  3\n",
            "Shape:  (2, 3, 6)\n",
            "Elements' type <dtype: 'float32'>\n",
            "The size of the second axis: 3\n",
            "The size of the last axis: 6\n",
            "Total number of elements:  36\n",
            "How many dimensions?  3\n"
          ],
          "name": "stdout"
        }
      ]
    },
    {
      "cell_type": "markdown",
      "metadata": {
        "id": "cnYwTBqPhW1I"
      },
      "source": [
        "### Indexing\n",
        "\n",
        "TensorFlow indexing is aligned with Python indexing. See the following examples."
      ]
    },
    {
      "cell_type": "code",
      "metadata": {
        "id": "34-Tfcsnf6uG"
      },
      "source": [
        "x = tf.constant([[1, 2, 3],\n",
        "                 [4, 5, 6],\n",
        "                 [7, 8, 9]])"
      ],
      "execution_count": 29,
      "outputs": []
    },
    {
      "cell_type": "code",
      "metadata": {
        "id": "tNZhisXDhoLp",
        "colab": {
          "base_uri": "https://localhost:8080/"
        },
        "outputId": "46a2e276-8c2e-45c6-a862-054bf216a60f"
      },
      "source": [
        "# All elements\n",
        "print(x[:].numpy())"
      ],
      "execution_count": 30,
      "outputs": [
        {
          "output_type": "stream",
          "text": [
            "[[1 2 3]\n",
            " [4 5 6]\n",
            " [7 8 9]]\n"
          ],
          "name": "stdout"
        }
      ]
    },
    {
      "cell_type": "code",
      "metadata": {
        "id": "KUghwlZ7hr10",
        "colab": {
          "base_uri": "https://localhost:8080/"
        },
        "outputId": "bb79ec90-dbaa-4d21-9cad-84eb13004b27"
      },
      "source": [
        "# All elements of the first row\n",
        "print(x[0,:].numpy())"
      ],
      "execution_count": 31,
      "outputs": [
        {
          "output_type": "stream",
          "text": [
            "[1 2 3]\n"
          ],
          "name": "stdout"
        }
      ]
    },
    {
      "cell_type": "code",
      "metadata": {
        "id": "NSCMESaPhwnV",
        "colab": {
          "base_uri": "https://localhost:8080/"
        },
        "outputId": "15ccde33-bdd8-4130-c78b-47dceb8f9e27"
      },
      "source": [
        "# First row and last column\n",
        "print(x[0,-1].numpy())"
      ],
      "execution_count": 32,
      "outputs": [
        {
          "output_type": "stream",
          "text": [
            "3\n"
          ],
          "name": "stdout"
        }
      ]
    },
    {
      "cell_type": "code",
      "metadata": {
        "id": "hH8Fhi2Sh2rt",
        "colab": {
          "base_uri": "https://localhost:8080/"
        },
        "outputId": "c8555d9a-a3f5-42cb-a3aa-654670912061"
      },
      "source": [
        "# From second row to last and from third column to last\n",
        "print(x[1:,2:].numpy)"
      ],
      "execution_count": 33,
      "outputs": [
        {
          "output_type": "stream",
          "text": [
            "<bound method _EagerTensorBase.numpy of <tf.Tensor: shape=(2, 1), dtype=int32, numpy=\n",
            "array([[6],\n",
            "       [9]], dtype=int32)>>\n"
          ],
          "name": "stdout"
        }
      ]
    },
    {
      "cell_type": "markdown",
      "metadata": {
        "id": "Y_zEE3-7iUmu"
      },
      "source": [
        "### Data types\n",
        "\n",
        "You can change the data type of the tensorflow tensors for your purpose. This will be done easily by [tf.cast](https://www.tensorflow.org/api_docs/python/tf/cast)."
      ]
    },
    {
      "cell_type": "code",
      "metadata": {
        "id": "mFsqRDxAiK95",
        "colab": {
          "base_uri": "https://localhost:8080/"
        },
        "outputId": "0d8de961-f147-46be-8a8e-15f8d17810f3"
      },
      "source": [
        "original_tensor = tf.constant([1, 2, 3, 4], dtype=tf.int32)\n",
        "print('Original tensor: ', original_tensor)\n",
        "print(\"Tensor type before casting: \", original_tensor.dtype)\n",
        "\n",
        "# Casting to change dtype\n",
        "casted_tensor = tf.cast(original_tensor, dtype=tf.float32)\n",
        "print('New tensor: ', casted_tensor)\n",
        "print(\"Tensor type after casting: \", casted_tensor.dtype)"
      ],
      "execution_count": 34,
      "outputs": [
        {
          "output_type": "stream",
          "text": [
            "Original tensor:  tf.Tensor([1 2 3 4], shape=(4,), dtype=int32)\n",
            "Tensor type before casting:  <dtype: 'int32'>\n",
            "New tensor:  tf.Tensor([1. 2. 3. 4.], shape=(4,), dtype=float32)\n",
            "Tensor type after casting:  <dtype: 'float32'>\n"
          ],
          "name": "stdout"
        }
      ]
    },
    {
      "cell_type": "code",
      "metadata": {
        "id": "81XDYbnxi-nx"
      },
      "source": [
        ""
      ],
      "execution_count": null,
      "outputs": []
    }
  ]
}