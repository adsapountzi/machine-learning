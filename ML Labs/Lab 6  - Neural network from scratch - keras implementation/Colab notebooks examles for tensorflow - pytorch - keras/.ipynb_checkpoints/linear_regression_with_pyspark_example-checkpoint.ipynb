{
 "cells": [
  {
   "cell_type": "code",
   "execution_count": 2,
   "metadata": {
    "colab": {
     "base_uri": "https://localhost:8080/",
     "height": 34
    },
    "colab_type": "code",
    "executionInfo": {
     "elapsed": 33838,
     "status": "ok",
     "timestamp": 1600772844065,
     "user": {
      "displayName": "Elias Houstis",
      "photoUrl": "",
      "userId": "10418832289000065323"
     },
     "user_tz": -180
    },
    "id": "foO7zdAPTfTd",
    "outputId": "3943afda-c532-4c25-e0a6-4cd600efa4b8"
   },
   "outputs": [
    {
     "name": "stdout",
     "output_type": "stream",
     "text": [
      "Mounted at /content.gdrive\n"
     ]
    }
   ],
   "source": [
    "from google.colab import drive\n",
    "drive.mount('/content.gdrive')"
   ]
  },
  {
   "cell_type": "code",
   "execution_count": 3,
   "metadata": {
    "colab": {
     "base_uri": "https://localhost:8080/",
     "height": 267
    },
    "colab_type": "code",
    "executionInfo": {
     "elapsed": 38199,
     "status": "ok",
     "timestamp": 1600772889149,
     "user": {
      "displayName": "Elias Houstis",
      "photoUrl": "",
      "userId": "10418832289000065323"
     },
     "user_tz": -180
    },
    "id": "-RPkcGx--dKX",
    "outputId": "0f3025fb-477f-425f-9b72-b8931c16f722"
   },
   "outputs": [
    {
     "name": "stdout",
     "output_type": "stream",
     "text": [
      "Collecting pyspark\n",
      "\u001b[?25l  Downloading https://files.pythonhosted.org/packages/f0/26/198fc8c0b98580f617cb03cb298c6056587b8f0447e20fa40c5b634ced77/pyspark-3.0.1.tar.gz (204.2MB)\n",
      "\u001b[K     |████████████████████████████████| 204.2MB 60kB/s \n",
      "\u001b[?25hCollecting py4j==0.10.9\n",
      "\u001b[?25l  Downloading https://files.pythonhosted.org/packages/9e/b6/6a4fb90cd235dc8e265a6a2067f2a2c99f0d91787f06aca4bcf7c23f3f80/py4j-0.10.9-py2.py3-none-any.whl (198kB)\n",
      "\u001b[K     |████████████████████████████████| 204kB 34.1MB/s \n",
      "\u001b[?25hBuilding wheels for collected packages: pyspark\n",
      "  Building wheel for pyspark (setup.py) ... \u001b[?25l\u001b[?25hdone\n",
      "  Created wheel for pyspark: filename=pyspark-3.0.1-py2.py3-none-any.whl size=204612243 sha256=fdb55f51df9fc84da765f7ab9adfcb790303d48f0bccb74465716d08fdd6dc34\n",
      "  Stored in directory: /root/.cache/pip/wheels/5e/bd/07/031766ca628adec8435bb40f0bd83bb676ce65ff4007f8e73f\n",
      "Successfully built pyspark\n",
      "Installing collected packages: py4j, pyspark\n",
      "Successfully installed py4j-0.10.9 pyspark-3.0.1\n"
     ]
    }
   ],
   "source": [
    "!pip install pyspark"
   ]
  },
  {
   "cell_type": "code",
   "execution_count": 5,
   "metadata": {
    "colab": {},
    "colab_type": "code",
    "executionInfo": {
     "elapsed": 683,
     "status": "ok",
     "timestamp": 1600773030070,
     "user": {
      "displayName": "Elias Houstis",
      "photoUrl": "",
      "userId": "10418832289000065323"
     },
     "user_tz": -180
    },
    "id": "whXWmOq_gXhU"
   },
   "outputs": [],
   "source": [
    "# assume /content/drive is mounted automatically\n",
    "import sys\n",
    "nb_path = \"/content/drive/My Drive/Colab Notebooks\"\n",
    "if nb_path not in sys.path:\n",
    "  sys.path.insert(5, nb_path)\n",
    "\n",
    "# Call pip install on 1st time only\n",
    "#!pip install pyspark --target=\"{nb_path}\"\n",
    "import pyspark"
   ]
  },
  {
   "cell_type": "code",
   "execution_count": 6,
   "metadata": {
    "colab": {},
    "colab_type": "code",
    "executionInfo": {
     "elapsed": 9466,
     "status": "ok",
     "timestamp": 1600773049021,
     "user": {
      "displayName": "Elias Houstis",
      "photoUrl": "",
      "userId": "10418832289000065323"
     },
     "user_tz": -180
    },
    "id": "jT_bRwqS-V8D"
   },
   "outputs": [],
   "source": [
    "#create sparksession object\n",
    "from pyspark.sql import SparkSession\n",
    "spark=SparkSession.builder.appName('lin_reg').getOrCreate()"
   ]
  },
  {
   "cell_type": "code",
   "execution_count": 7,
   "metadata": {
    "colab": {},
    "colab_type": "code",
    "executionInfo": {
     "elapsed": 710,
     "status": "ok",
     "timestamp": 1600773057654,
     "user": {
      "displayName": "Elias Houstis",
      "photoUrl": "",
      "userId": "10418832289000065323"
     },
     "user_tz": -180
    },
    "id": "v7nnWszf-V8I"
   },
   "outputs": [],
   "source": [
    "#import Linear Regression from spark's MLlib\n",
    "from pyspark.ml.regression import LinearRegression"
   ]
  },
  {
   "cell_type": "code",
   "execution_count": 8,
   "metadata": {
    "colab": {},
    "colab_type": "code",
    "executionInfo": {
     "elapsed": 6987,
     "status": "ok",
     "timestamp": 1600773071696,
     "user": {
      "displayName": "Elias Houstis",
      "photoUrl": "",
      "userId": "10418832289000065323"
     },
     "user_tz": -180
    },
    "id": "sWlRYPpG-V8M"
   },
   "outputs": [],
   "source": [
    "#Load the dataset\n",
    "df=spark.read.csv('/content/Linear_regression_dataset.csv',inferSchema=True,header=True)"
   ]
  },
  {
   "cell_type": "code",
   "execution_count": 9,
   "metadata": {
    "colab": {
     "base_uri": "https://localhost:8080/",
     "height": 34
    },
    "colab_type": "code",
    "executionInfo": {
     "elapsed": 1740,
     "status": "ok",
     "timestamp": 1600773077809,
     "user": {
      "displayName": "Elias Houstis",
      "photoUrl": "",
      "userId": "10418832289000065323"
     },
     "user_tz": -180
    },
    "id": "L8qD0Un3-V8O",
    "outputId": "c45c50aa-134b-4076-d54f-5fc72819b053"
   },
   "outputs": [
    {
     "name": "stdout",
     "output_type": "stream",
     "text": [
      "(1232, 6)\n"
     ]
    }
   ],
   "source": [
    "#validate the size of data\n",
    "print((df.count(), len(df.columns)))"
   ]
  },
  {
   "cell_type": "code",
   "execution_count": 10,
   "metadata": {
    "colab": {
     "base_uri": "https://localhost:8080/",
     "height": 158
    },
    "colab_type": "code",
    "executionInfo": {
     "elapsed": 646,
     "status": "ok",
     "timestamp": 1600773081159,
     "user": {
      "displayName": "Elias Houstis",
      "photoUrl": "",
      "userId": "10418832289000065323"
     },
     "user_tz": -180
    },
    "id": "_a66kwG8-V8R",
    "outputId": "cd7fb151-4161-434c-9c3d-5d3877161a25"
   },
   "outputs": [
    {
     "name": "stdout",
     "output_type": "stream",
     "text": [
      "root\n",
      " |-- var_1: integer (nullable = true)\n",
      " |-- var_2: integer (nullable = true)\n",
      " |-- var_3: integer (nullable = true)\n",
      " |-- var_4: double (nullable = true)\n",
      " |-- var_5: double (nullable = true)\n",
      " |-- output: double (nullable = true)\n",
      "\n"
     ]
    }
   ],
   "source": [
    "#explore the data\n",
    "df.printSchema()"
   ]
  },
  {
   "cell_type": "code",
   "execution_count": 11,
   "metadata": {
    "colab": {
     "base_uri": "https://localhost:8080/",
     "height": 194
    },
    "colab_type": "code",
    "executionInfo": {
     "elapsed": 2366,
     "status": "ok",
     "timestamp": 1600773089499,
     "user": {
      "displayName": "Elias Houstis",
      "photoUrl": "",
      "userId": "10418832289000065323"
     },
     "user_tz": -180
    },
    "id": "fekbUB6b-V8U",
    "outputId": "e51b4d5e-d5c6-44da-e25f-d13a753405e2"
   },
   "outputs": [
    {
     "name": "stdout",
     "output_type": "stream",
     "text": [
      "+-------+-----------------+-----------------+------------------+--------------------+--------------------+-------------------+\n",
      "|summary|var_1            |var_2            |var_3             |var_4               |var_5               |output             |\n",
      "+-------+-----------------+-----------------+------------------+--------------------+--------------------+-------------------+\n",
      "|count  |1232             |1232             |1232              |1232                |1232                |1232               |\n",
      "|mean   |715.0819805194806|715.0819805194806|80.90422077922078 |0.3263311688311693  |0.25927272727272715 |0.39734172077922014|\n",
      "|stddev |91.5342940441652 |93.07993263118064|11.458139049993724|0.015012772334166148|0.012907228928000298|0.03326689862173776|\n",
      "|min    |463              |472              |40                |0.277               |0.214               |0.301              |\n",
      "|max    |1009             |1103             |116               |0.373               |0.294               |0.491              |\n",
      "+-------+-----------------+-----------------+------------------+--------------------+--------------------+-------------------+\n",
      "\n"
     ]
    }
   ],
   "source": [
    "#view statistical measures of data \n",
    "df.describe().show(5,False)"
   ]
  },
  {
   "cell_type": "code",
   "execution_count": 12,
   "metadata": {
    "colab": {},
    "colab_type": "code",
    "executionInfo": {
     "elapsed": 635,
     "status": "ok",
     "timestamp": 1600773092922,
     "user": {
      "displayName": "Elias Houstis",
      "photoUrl": "",
      "userId": "10418832289000065323"
     },
     "user_tz": -180
    },
    "id": "Ytq-L3PD-V8X"
   },
   "outputs": [],
   "source": [
    "#import corr function from pyspark functions\n",
    "from pyspark.sql.functions import corr"
   ]
  },
  {
   "cell_type": "code",
   "execution_count": 13,
   "metadata": {
    "colab": {
     "base_uri": "https://localhost:8080/",
     "height": 123
    },
    "colab_type": "code",
    "executionInfo": {
     "elapsed": 883,
     "status": "ok",
     "timestamp": 1600773098635,
     "user": {
      "displayName": "Elias Houstis",
      "photoUrl": "",
      "userId": "10418832289000065323"
     },
     "user_tz": -180
    },
    "id": "AOBv5Gcn-V8a",
    "outputId": "5508fdb5-8d97-4d38-9fae-c33c46ffb3d7"
   },
   "outputs": [
    {
     "name": "stdout",
     "output_type": "stream",
     "text": [
      "+------------------+\n",
      "|corr(var_1, var_2)|\n",
      "+------------------+\n",
      "|0.3801386662491575|\n",
      "+------------------+\n",
      "\n"
     ]
    }
   ],
   "source": [
    "# check for correlation\n",
    "df.select(corr('var_1','var_2')).show()"
   ]
  },
  {
   "cell_type": "code",
   "execution_count": 14,
   "metadata": {
    "colab": {},
    "colab_type": "code",
    "executionInfo": {
     "elapsed": 659,
     "status": "ok",
     "timestamp": 1600773103158,
     "user": {
      "displayName": "Elias Houstis",
      "photoUrl": "",
      "userId": "10418832289000065323"
     },
     "user_tz": -180
    },
    "id": "rHr4uxmV-V8c"
   },
   "outputs": [],
   "source": [
    "#import vectorassembler to create dense vectors\n",
    "from pyspark.ml.linalg import Vector\n",
    "from pyspark.ml.feature import VectorAssembler"
   ]
  },
  {
   "cell_type": "code",
   "execution_count": 15,
   "metadata": {
    "colab": {
     "base_uri": "https://localhost:8080/",
     "height": 34
    },
    "colab_type": "code",
    "executionInfo": {
     "elapsed": 677,
     "status": "ok",
     "timestamp": 1600773105762,
     "user": {
      "displayName": "Elias Houstis",
      "photoUrl": "",
      "userId": "10418832289000065323"
     },
     "user_tz": -180
    },
    "id": "xSF6iMIp-V8h",
    "outputId": "05dedc20-804b-4b6a-b7d5-fa1668242550"
   },
   "outputs": [
    {
     "data": {
      "text/plain": [
       "['var_1', 'var_2', 'var_3', 'var_4', 'var_5', 'output']"
      ]
     },
     "execution_count": 15,
     "metadata": {
      "tags": []
     },
     "output_type": "execute_result"
    }
   ],
   "source": [
    "#select the columns to create input vector\n",
    "df.columns\n"
   ]
  },
  {
   "cell_type": "code",
   "execution_count": 16,
   "metadata": {
    "colab": {},
    "colab_type": "code",
    "executionInfo": {
     "elapsed": 613,
     "status": "ok",
     "timestamp": 1600773111105,
     "user": {
      "displayName": "Elias Houstis",
      "photoUrl": "",
      "userId": "10418832289000065323"
     },
     "user_tz": -180
    },
    "id": "0RUAU-G9-V8j"
   },
   "outputs": [],
   "source": [
    "#create the vector assembler \n",
    "vec_assmebler=VectorAssembler(inputCols=['var_1', 'var_2', 'var_3', 'var_4', 'var_5'],outputCol='features')"
   ]
  },
  {
   "cell_type": "code",
   "execution_count": 17,
   "metadata": {
    "colab": {},
    "colab_type": "code",
    "executionInfo": {
     "elapsed": 925,
     "status": "ok",
     "timestamp": 1600773114085,
     "user": {
      "displayName": "Elias Houstis",
      "photoUrl": "",
      "userId": "10418832289000065323"
     },
     "user_tz": -180
    },
    "id": "zQCGeqMB-V8l"
   },
   "outputs": [],
   "source": [
    "#transform the values\n",
    "features_df=vec_assmebler.transform(df)"
   ]
  },
  {
   "cell_type": "code",
   "execution_count": 18,
   "metadata": {
    "colab": {
     "base_uri": "https://localhost:8080/",
     "height": 176
    },
    "colab_type": "code",
    "executionInfo": {
     "elapsed": 801,
     "status": "ok",
     "timestamp": 1600773117653,
     "user": {
      "displayName": "Elias Houstis",
      "photoUrl": "",
      "userId": "10418832289000065323"
     },
     "user_tz": -180
    },
    "id": "zisapZPV-V8n",
    "outputId": "9045f600-50a0-43e5-83bc-d1fdb5a420da"
   },
   "outputs": [
    {
     "name": "stdout",
     "output_type": "stream",
     "text": [
      "root\n",
      " |-- var_1: integer (nullable = true)\n",
      " |-- var_2: integer (nullable = true)\n",
      " |-- var_3: integer (nullable = true)\n",
      " |-- var_4: double (nullable = true)\n",
      " |-- var_5: double (nullable = true)\n",
      " |-- output: double (nullable = true)\n",
      " |-- features: vector (nullable = true)\n",
      "\n"
     ]
    }
   ],
   "source": [
    "#validate the presence of dense vectors \n",
    "features_df.printSchema()"
   ]
  },
  {
   "cell_type": "code",
   "execution_count": 19,
   "metadata": {
    "colab": {
     "base_uri": "https://localhost:8080/",
     "height": 211
    },
    "colab_type": "code",
    "executionInfo": {
     "elapsed": 987,
     "status": "ok",
     "timestamp": 1600773124563,
     "user": {
      "displayName": "Elias Houstis",
      "photoUrl": "",
      "userId": "10418832289000065323"
     },
     "user_tz": -180
    },
    "id": "_QtN25fO-V8p",
    "outputId": "b3dc379b-a519-4a55-bb23-32186c510d67"
   },
   "outputs": [
    {
     "name": "stdout",
     "output_type": "stream",
     "text": [
      "+------------------------------+\n",
      "|features                      |\n",
      "+------------------------------+\n",
      "|[734.0,688.0,81.0,0.328,0.259]|\n",
      "|[700.0,600.0,94.0,0.32,0.247] |\n",
      "|[712.0,705.0,93.0,0.311,0.247]|\n",
      "|[734.0,806.0,69.0,0.315,0.26] |\n",
      "|[613.0,759.0,61.0,0.302,0.24] |\n",
      "+------------------------------+\n",
      "only showing top 5 rows\n",
      "\n"
     ]
    }
   ],
   "source": [
    "#view the details of dense vector\n",
    "features_df.select('features').show(5,False)"
   ]
  },
  {
   "cell_type": "code",
   "execution_count": 20,
   "metadata": {
    "colab": {},
    "colab_type": "code",
    "executionInfo": {
     "elapsed": 620,
     "status": "ok",
     "timestamp": 1600773130795,
     "user": {
      "displayName": "Elias Houstis",
      "photoUrl": "",
      "userId": "10418832289000065323"
     },
     "user_tz": -180
    },
    "id": "6WCzvu-e-V8s"
   },
   "outputs": [],
   "source": [
    "#create data containing input features and output column\n",
    "model_df=features_df.select('features','output')"
   ]
  },
  {
   "cell_type": "code",
   "execution_count": 21,
   "metadata": {
    "colab": {
     "base_uri": "https://localhost:8080/",
     "height": 34
    },
    "colab_type": "code",
    "executionInfo": {
     "elapsed": 869,
     "status": "ok",
     "timestamp": 1600773136600,
     "user": {
      "displayName": "Elias Houstis",
      "photoUrl": "",
      "userId": "10418832289000065323"
     },
     "user_tz": -180
    },
    "id": "e9kw_afs-V8u",
    "outputId": "ee6adb4e-77c7-4d10-9910-a646bde8f3c1"
   },
   "outputs": [
    {
     "name": "stdout",
     "output_type": "stream",
     "text": [
      "(1232, 2)\n"
     ]
    }
   ],
   "source": [
    "#size of model df\n",
    "print((model_df.count(), len(model_df.columns)))"
   ]
  },
  {
   "cell_type": "code",
   "execution_count": 23,
   "metadata": {
    "colab": {},
    "colab_type": "code",
    "executionInfo": {
     "elapsed": 668,
     "status": "ok",
     "timestamp": 1600773146737,
     "user": {
      "displayName": "Elias Houstis",
      "photoUrl": "",
      "userId": "10418832289000065323"
     },
     "user_tz": -180
    },
    "id": "XVBVK2qA-V8x"
   },
   "outputs": [],
   "source": [
    "#split the data into 70/30 ratio for train test purpose\n",
    "train_df,test_df=model_df.randomSplit([0.7,0.3])"
   ]
  },
  {
   "cell_type": "code",
   "execution_count": 24,
   "metadata": {
    "colab": {
     "base_uri": "https://localhost:8080/",
     "height": 194
    },
    "colab_type": "code",
    "executionInfo": {
     "elapsed": 1431,
     "status": "ok",
     "timestamp": 1600773150319,
     "user": {
      "displayName": "Elias Houstis",
      "photoUrl": "",
      "userId": "10418832289000065323"
     },
     "user_tz": -180
    },
    "id": "Bx3tuokx-V8z",
    "outputId": "e12845d9-f489-46d2-f436-8afe668f8c12"
   },
   "outputs": [
    {
     "name": "stdout",
     "output_type": "stream",
     "text": [
      "+-------+-------------------+\n",
      "|summary|             output|\n",
      "+-------+-------------------+\n",
      "|  count|                847|\n",
      "|   mean|0.39792561983471036|\n",
      "| stddev|0.03324087023468722|\n",
      "|    min|              0.311|\n",
      "|    max|              0.491|\n",
      "+-------+-------------------+\n",
      "\n"
     ]
    }
   ],
   "source": [
    "train_df.describe().show()"
   ]
  },
  {
   "cell_type": "code",
   "execution_count": 26,
   "metadata": {
    "colab": {},
    "colab_type": "code",
    "executionInfo": {
     "elapsed": 688,
     "status": "ok",
     "timestamp": 1600773166774,
     "user": {
      "displayName": "Elias Houstis",
      "photoUrl": "",
      "userId": "10418832289000065323"
     },
     "user_tz": -180
    },
    "id": "ywRUKcrl-V83"
   },
   "outputs": [],
   "source": [
    "#Build Linear Regression model \n",
    "lin_Reg=LinearRegression(labelCol='output')"
   ]
  },
  {
   "cell_type": "code",
   "execution_count": 27,
   "metadata": {
    "colab": {},
    "colab_type": "code",
    "executionInfo": {
     "elapsed": 2821,
     "status": "ok",
     "timestamp": 1600773168913,
     "user": {
      "displayName": "Elias Houstis",
      "photoUrl": "",
      "userId": "10418832289000065323"
     },
     "user_tz": -180
    },
    "id": "CixomA3k-V86"
   },
   "outputs": [],
   "source": [
    "#fit the linear regression model on training data set \n",
    "lr_model=lin_Reg.fit(train_df)"
   ]
  },
  {
   "cell_type": "code",
   "execution_count": 28,
   "metadata": {
    "colab": {
     "base_uri": "https://localhost:8080/",
     "height": 34
    },
    "colab_type": "code",
    "executionInfo": {
     "elapsed": 2819,
     "status": "ok",
     "timestamp": 1600773168917,
     "user": {
      "displayName": "Elias Houstis",
      "photoUrl": "",
      "userId": "10418832289000065323"
     },
     "user_tz": -180
    },
    "id": "xC8nwd5d-V88",
    "outputId": "1808fbf8-0686-4b65-b6d6-4e058204498c"
   },
   "outputs": [
    {
     "data": {
      "text/plain": [
       "0.18925366978382055"
      ]
     },
     "execution_count": 28,
     "metadata": {
      "tags": []
     },
     "output_type": "execute_result"
    }
   ],
   "source": [
    "lr_model.intercept"
   ]
  },
  {
   "cell_type": "code",
   "execution_count": 29,
   "metadata": {
    "colab": {
     "base_uri": "https://localhost:8080/",
     "height": 34
    },
    "colab_type": "code",
    "executionInfo": {
     "elapsed": 2816,
     "status": "ok",
     "timestamp": 1600773168918,
     "user": {
      "displayName": "Elias Houstis",
      "photoUrl": "",
      "userId": "10418832289000065323"
     },
     "user_tz": -180
    },
    "id": "2lYJMiJf-V8-",
    "outputId": "7223a63f-6f7b-4dc5-d225-104aa016ad89"
   },
   "outputs": [
    {
     "name": "stdout",
     "output_type": "stream",
     "text": [
      "[0.0003446158045290719,5.242645803594545e-05,0.00017141598758795015,-0.6411870757820619,0.4607673574698688]\n"
     ]
    }
   ],
   "source": [
    "print(lr_model.coefficients)"
   ]
  },
  {
   "cell_type": "code",
   "execution_count": 30,
   "metadata": {
    "colab": {},
    "colab_type": "code",
    "executionInfo": {
     "elapsed": 3572,
     "status": "ok",
     "timestamp": 1600773169679,
     "user": {
      "displayName": "Elias Houstis",
      "photoUrl": "",
      "userId": "10418832289000065323"
     },
     "user_tz": -180
    },
    "id": "YsWIa3Kg-V9B"
   },
   "outputs": [],
   "source": [
    "training_predictions=lr_model.evaluate(train_df)"
   ]
  },
  {
   "cell_type": "code",
   "execution_count": 31,
   "metadata": {
    "colab": {
     "base_uri": "https://localhost:8080/",
     "height": 34
    },
    "colab_type": "code",
    "executionInfo": {
     "elapsed": 3564,
     "status": "ok",
     "timestamp": 1600773169680,
     "user": {
      "displayName": "Elias Houstis",
      "photoUrl": "",
      "userId": "10418832289000065323"
     },
     "user_tz": -180
    },
    "id": "jxmLBwkd-V9D",
    "outputId": "b18eded0-15fc-4254-a4c9-b3249e15f986"
   },
   "outputs": [
    {
     "data": {
      "text/plain": [
       "0.00015419967481956147"
      ]
     },
     "execution_count": 31,
     "metadata": {
      "tags": []
     },
     "output_type": "execute_result"
    }
   ],
   "source": [
    "training_predictions.meanSquaredError"
   ]
  },
  {
   "cell_type": "code",
   "execution_count": 32,
   "metadata": {
    "colab": {
     "base_uri": "https://localhost:8080/",
     "height": 34
    },
    "colab_type": "code",
    "executionInfo": {
     "elapsed": 3558,
     "status": "ok",
     "timestamp": 1600773169681,
     "user": {
      "displayName": "Elias Houstis",
      "photoUrl": "",
      "userId": "10418832289000065323"
     },
     "user_tz": -180
    },
    "id": "IlSrPOR4-V9F",
    "outputId": "658b0fa7-d7d0-428b-b98e-b48280a54f7d"
   },
   "outputs": [
    {
     "data": {
      "text/plain": [
       "0.8602822010737656"
      ]
     },
     "execution_count": 32,
     "metadata": {
      "tags": []
     },
     "output_type": "execute_result"
    }
   ],
   "source": [
    "training_predictions.r2"
   ]
  },
  {
   "cell_type": "code",
   "execution_count": 33,
   "metadata": {
    "colab": {},
    "colab_type": "code",
    "executionInfo": {
     "elapsed": 4324,
     "status": "ok",
     "timestamp": 1600773170452,
     "user": {
      "displayName": "Elias Houstis",
      "photoUrl": "",
      "userId": "10418832289000065323"
     },
     "user_tz": -180
    },
    "id": "9QUtgABe-V9J"
   },
   "outputs": [],
   "source": [
    "#make predictions on test data \n",
    "test_results=lr_model.evaluate(test_df)"
   ]
  },
  {
   "cell_type": "code",
   "execution_count": 34,
   "metadata": {
    "colab": {
     "base_uri": "https://localhost:8080/",
     "height": 300
    },
    "colab_type": "code",
    "executionInfo": {
     "elapsed": 4587,
     "status": "ok",
     "timestamp": 1600773170720,
     "user": {
      "displayName": "Elias Houstis",
      "photoUrl": "",
      "userId": "10418832289000065323"
     },
     "user_tz": -180
    },
    "id": "Ra3pcs2e-V9M",
    "outputId": "781daa1e-2afe-4021-f7dd-27b826c8240f"
   },
   "outputs": [
    {
     "name": "stdout",
     "output_type": "stream",
     "text": [
      "+--------------------+\n",
      "|           residuals|\n",
      "+--------------------+\n",
      "|-0.01293466760616...|\n",
      "|0.007390792573481297|\n",
      "|-8.12504188299312...|\n",
      "|-0.00653994951760...|\n",
      "|0.008241031760976125|\n",
      "|0.004439831487794865|\n",
      "|-0.01218376981680...|\n",
      "|-0.00184845145731...|\n",
      "|-0.01136696743357...|\n",
      "|-3.92323399864613...|\n",
      "+--------------------+\n",
      "only showing top 10 rows\n",
      "\n"
     ]
    }
   ],
   "source": [
    "#view the residual errors based on predictions \n",
    "test_results.residuals.show(10)"
   ]
  },
  {
   "cell_type": "code",
   "execution_count": 35,
   "metadata": {
    "colab": {
     "base_uri": "https://localhost:8080/",
     "height": 34
    },
    "colab_type": "code",
    "executionInfo": {
     "elapsed": 4584,
     "status": "ok",
     "timestamp": 1600773170721,
     "user": {
      "displayName": "Elias Houstis",
      "photoUrl": "",
      "userId": "10418832289000065323"
     },
     "user_tz": -180
    },
    "id": "nnRG0tWF-V9O",
    "outputId": "73da825f-98ea-4361-a2d3-bfe92dd8e26c"
   },
   "outputs": [
    {
     "data": {
      "text/plain": [
       "0.8884225703337666"
      ]
     },
     "execution_count": 35,
     "metadata": {
      "tags": []
     },
     "output_type": "execute_result"
    }
   ],
   "source": [
    "#coefficient of determination value for model\n",
    "test_results.r2"
   ]
  },
  {
   "cell_type": "code",
   "execution_count": 36,
   "metadata": {
    "colab": {
     "base_uri": "https://localhost:8080/",
     "height": 34
    },
    "colab_type": "code",
    "executionInfo": {
     "elapsed": 4576,
     "status": "ok",
     "timestamp": 1600773170721,
     "user": {
      "displayName": "Elias Houstis",
      "photoUrl": "",
      "userId": "10418832289000065323"
     },
     "user_tz": -180
    },
    "id": "gF0fsqqp-V9Q",
    "outputId": "84fa8add-057a-4913-a8ec-e43c1e4fbd50"
   },
   "outputs": [
    {
     "data": {
      "text/plain": [
       "0.011119256312808162"
      ]
     },
     "execution_count": 36,
     "metadata": {
      "tags": []
     },
     "output_type": "execute_result"
    }
   ],
   "source": [
    "test_results.rootMeanSquaredError"
   ]
  },
  {
   "cell_type": "code",
   "execution_count": 37,
   "metadata": {
    "colab": {
     "base_uri": "https://localhost:8080/",
     "height": 34
    },
    "colab_type": "code",
    "executionInfo": {
     "elapsed": 4570,
     "status": "ok",
     "timestamp": 1600773170722,
     "user": {
      "displayName": "Elias Houstis",
      "photoUrl": "",
      "userId": "10418832289000065323"
     },
     "user_tz": -180
    },
    "id": "LV0uPi-e-V9T",
    "outputId": "bc49ad13-2267-410c-a2f0-199dd1f00e7e"
   },
   "outputs": [
    {
     "data": {
      "text/plain": [
       "0.00012363786094992415"
      ]
     },
     "execution_count": 37,
     "metadata": {
      "tags": []
     },
     "output_type": "execute_result"
    }
   ],
   "source": [
    "test_results.meanSquaredError"
   ]
  },
  {
   "cell_type": "code",
   "execution_count": 37,
   "metadata": {
    "colab": {},
    "colab_type": "code",
    "executionInfo": {
     "elapsed": 4562,
     "status": "ok",
     "timestamp": 1600773170722,
     "user": {
      "displayName": "Elias Houstis",
      "photoUrl": "",
      "userId": "10418832289000065323"
     },
     "user_tz": -180
    },
    "id": "nsp1xi6S-V9W"
   },
   "outputs": [],
   "source": []
  }
 ],
 "metadata": {
  "colab": {
   "name": "Copy of linear_regression_with_pyspark_example.ipynb",
   "provenance": [
    {
     "file_id": "1PDOQJnKcUEqWSrEl8bwPPm7TDh7iDX-r",
     "timestamp": 1600703501423
    }
   ],
   "toc_visible": true
  },
  "kernelspec": {
   "display_name": "Python 3",
   "language": "python",
   "name": "python3"
  },
  "language_info": {
   "codemirror_mode": {
    "name": "ipython",
    "version": 3
   },
   "file_extension": ".py",
   "mimetype": "text/x-python",
   "name": "python",
   "nbconvert_exporter": "python",
   "pygments_lexer": "ipython3",
   "version": "3.6.10"
  },
  "latex_envs": {
   "LaTeX_envs_menu_present": true,
   "autoclose": false,
   "autocomplete": true,
   "bibliofile": "biblio.bib",
   "cite_by": "apalike",
   "current_citInitial": 1,
   "eqLabelWithNumbers": true,
   "eqNumInitial": 1,
   "hotkeys": {
    "equation": "Ctrl-E",
    "itemize": "Ctrl-I"
   },
   "labels_anchors": false,
   "latex_user_defs": false,
   "report_style_numbering": false,
   "user_envs_cfg": false
  },
  "name": "linear_regression_with_pyspark_example",
  "nbTranslate": {
   "displayLangs": [
    "*"
   ],
   "hotkey": "alt-t",
   "langInMainMenu": true,
   "sourceLang": "en",
   "targetLang": "fr",
   "useGoogleTranslate": true
  },
  "notebookId": 3072484274821143,
  "toc": {
   "base_numbering": 1,
   "nav_menu": {},
   "number_sections": true,
   "sideBar": true,
   "skip_h1_title": false,
   "title_cell": "Table of Contents",
   "title_sidebar": "Contents",
   "toc_cell": false,
   "toc_position": {},
   "toc_section_display": true,
   "toc_window_display": false
  },
  "varInspector": {
   "cols": {
    "lenName": 16,
    "lenType": 16,
    "lenVar": 40
   },
   "kernels_config": {
    "python": {
     "delete_cmd_postfix": "",
     "delete_cmd_prefix": "del ",
     "library": "var_list.py",
     "varRefreshCmd": "print(var_dic_list())"
    },
    "r": {
     "delete_cmd_postfix": ") ",
     "delete_cmd_prefix": "rm(",
     "library": "var_list.r",
     "varRefreshCmd": "cat(var_dic_list()) "
    }
   },
   "types_to_exclude": [
    "module",
    "function",
    "builtin_function_or_method",
    "instance",
    "_Feature"
   ],
   "window_display": false
  }
 },
 "nbformat": 4,
 "nbformat_minor": 1
}
