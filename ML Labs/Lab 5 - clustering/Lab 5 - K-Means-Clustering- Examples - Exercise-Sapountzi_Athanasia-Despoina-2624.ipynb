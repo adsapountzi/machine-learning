{
 "cells": [
  {
   "cell_type": "markdown",
   "metadata": {},
   "source": [
    "# K-Means"
   ]
  },
  {
   "cell_type": "markdown",
   "metadata": {},
   "source": [
    "> Byrdes of on kynde and color flok and flye allwayes together\n",
    "\n",
    "<footer>~ William Turner</footer>"
   ]
  },
  {
   "cell_type": "markdown",
   "metadata": {},
   "source": [
    "1. Cluster Analysis\n",
    "1. K-means Clustering\n",
    "1. Interpreting Results\n",
    "\n",
    "\\begin{exercise}\n",
    "1) Apply the the k-means described below and sklearn algorithm for clustering the data set \"priorities_perifereion.xlsx'\n",
    "2) Repeat 1) using hierarchical clustering algorithm and compare the two methods\n",
    "included in the file.\n",
    "\\end{exercise}\n",
    "\n"
   ]
  },
  {
   "cell_type": "code",
   "execution_count": 28,
   "metadata": {
    "ExecuteTime": {
     "end_time": "2021-06-02T12:54:55.552430Z",
     "start_time": "2021-06-02T12:54:55.503561Z"
    }
   },
   "outputs": [
    {
     "name": "stdout",
     "output_type": "stream",
     "text": [
      "                                           Unnamed: 0 PERIFEREIES  \\\n",
      "0                                      Proteraiotites       KRITI   \n",
      "1               Sindesi Ereunas & Epixeirimatikotitas           1   \n",
      "2                   Anaptixi aristeias ston tomea E&K           0   \n",
      "3                     Ipiresies ilektronikou emporiou           1   \n",
      "4      Ilektrinikes ipiresies se koinonikes efarmoges           1   \n",
      "..                                                ...         ...   \n",
      "33                                               Poma           1   \n",
      "34                            Anagkes eupathwn omadwn           1   \n",
      "35                   Prosvasi se koinwnikes ipiresies           1   \n",
      "36                         Anagkes topikwn koinothtwn           1   \n",
      "37  Dia viou mathisi & Eppagelmatiki katartisi & y...           1   \n",
      "\n",
      "                    Unnamed: 2 Unnamed: 3     Unnamed: 4     Unnamed: 5  \\\n",
      "0   ANATOLIKI MAKEDONIA-THRAKI     ATTIKI  VOREIO AIGAIO  DYTIKI ELLADA   \n",
      "1                            1          1              1              1   \n",
      "2                            0          1              1              1   \n",
      "3                            0          1              1              1   \n",
      "4                            1          1              1              1   \n",
      "..                         ...        ...            ...            ...   \n",
      "33                           1          1              1              1   \n",
      "34                           1          1              1              1   \n",
      "35                           1          1              1              1   \n",
      "36                           0          0              0              1   \n",
      "37                           1          1              1              1   \n",
      "\n",
      "          Unnamed: 6 Unnamed: 7 Unnamed: 8   Unnamed: 9         Unnamed: 10  \\\n",
      "0   DYTIKI MAKEDONIA     IPIROS  THESSALIA  IONIA NISIA  KENTRIKI MAKEDONIA   \n",
      "1                  1          1          1            1                   1   \n",
      "2                  1          1          1            1                   1   \n",
      "3                  1          1          0            1                   1   \n",
      "4                  1          1          1            1                   1   \n",
      "..               ...        ...        ...          ...                 ...   \n",
      "33                 0          1          1            1                   1   \n",
      "34                 1          1          1            1                   1   \n",
      "35                 1          1          1            1                   1   \n",
      "36                 0          1          1            1                   1   \n",
      "37                 1          1          1            1                   1   \n",
      "\n",
      "     Unnamed: 11   Unnamed: 12    Unnamed: 13  \n",
      "0   NOTIO AIGAIO  PELOPONNISOS  STEREA ELLADA  \n",
      "1              1             1              1  \n",
      "2              1             1              1  \n",
      "3              1             1              1  \n",
      "4              1             1              1  \n",
      "..           ...           ...            ...  \n",
      "33             1             1              1  \n",
      "34             1             1              1  \n",
      "35             1             1              1  \n",
      "36             0             1              1  \n",
      "37             1             1              1  \n",
      "\n",
      "[38 rows x 14 columns]\n"
     ]
    }
   ],
   "source": [
    "import pandas as pd\n",
    "\n",
    "dataset = pd.read_excel ('priorities_perifereion.xlsx')\n",
    "print (dataset)"
   ]
  },
  {
   "cell_type": "code",
   "execution_count": 55,
   "metadata": {
    "ExecuteTime": {
     "end_time": "2021-06-02T13:30:25.478883Z",
     "start_time": "2021-06-02T13:30:25.456941Z"
    }
   },
   "outputs": [
    {
     "data": {
      "text/plain": [
       "array([[1, 1, 1, 1, 1, 1, 1, 1, 1, 1, 1, 1, 1],\n",
       "       [0, 0, 1, 1, 1, 1, 1, 1, 1, 1, 1, 1, 1],\n",
       "       [1, 0, 1, 1, 1, 1, 1, 0, 1, 1, 1, 1, 1],\n",
       "       [1, 1, 1, 1, 1, 1, 1, 1, 1, 1, 1, 1, 1],\n",
       "       [1, 1, 1, 1, 1, 1, 1, 1, 1, 1, 1, 1, 1],\n",
       "       [1, 0, 1, 1, 1, 1, 1, 1, 1, 1, 0, 1, 1],\n",
       "       [0, 1, 1, 1, 1, 1, 0, 1, 0, 1, 1, 1, 1],\n",
       "       [1, 1, 1, 1, 1, 1, 1, 1, 1, 1, 1, 1, 1],\n",
       "       [1, 1, 1, 1, 1, 1, 1, 1, 1, 1, 1, 1, 1],\n",
       "       [1, 1, 1, 1, 1, 1, 1, 1, 1, 1, 1, 1, 1],\n",
       "       [1, 1, 1, 0, 1, 1, 1, 1, 0, 1, 0, 0, 1],\n",
       "       [0, 0, 1, 0, 0, 0, 0, 0, 0, 0, 0, 0, 0],\n",
       "       [1, 1, 0, 0, 1, 1, 1, 0, 1, 0, 1, 1, 1],\n",
       "       [0, 0, 1, 1, 1, 0, 0, 1, 1, 1, 0, 0, 1],\n",
       "       [1, 1, 1, 1, 1, 0, 0, 1, 1, 1, 0, 1, 0],\n",
       "       [1, 1, 1, 1, 1, 1, 1, 1, 1, 1, 1, 1, 1],\n",
       "       [1, 1, 1, 1, 1, 1, 1, 1, 1, 1, 1, 1, 1],\n",
       "       [1, 1, 1, 1, 1, 1, 1, 1, 1, 1, 1, 1, 1],\n",
       "       [1, 1, 1, 1, 1, 1, 1, 1, 1, 1, 1, 1, 1],\n",
       "       [0, 0, 0, 0, 0, 0, 0, 0, 0, 0, 0, 0, 1],\n",
       "       [1, 1, 1, 1, 1, 1, 1, 1, 1, 1, 1, 1, 1],\n",
       "       [0, 1, 1, 1, 1, 1, 1, 1, 0, 1, 1, 0, 0],\n",
       "       [0, 0, 1, 0, 1, 0, 0, 0, 1, 0, 0, 1, 0],\n",
       "       [0, 1, 0, 0, 1, 0, 1, 0, 0, 1, 0, 0, 1],\n",
       "       [1, 1, 1, 1, 1, 1, 0, 1, 1, 1, 1, 1, 1],\n",
       "       [1, 0, 1, 1, 1, 0, 1, 1, 1, 1, 1, 1, 1],\n",
       "       [0, 0, 0, 0, 0, 0, 1, 0, 1, 0, 1, 0, 0],\n",
       "       [1, 1, 1, 1, 1, 1, 1, 1, 1, 1, 1, 1, 1],\n",
       "       [0, 0, 0, 0, 0, 0, 1, 1, 0, 0, 0, 1, 0],\n",
       "       [0, 0, 0, 1, 0, 0, 0, 1, 0, 1, 0, 1, 0],\n",
       "       [0, 0, 0, 0, 0, 0, 0, 1, 0, 0, 0, 1, 0],\n",
       "       [1, 1, 1, 1, 1, 1, 1, 1, 1, 1, 1, 1, 1],\n",
       "       [1, 1, 1, 1, 1, 0, 1, 1, 1, 1, 1, 1, 1],\n",
       "       [1, 1, 1, 1, 1, 1, 1, 1, 1, 1, 1, 1, 1],\n",
       "       [1, 1, 1, 1, 1, 1, 1, 1, 1, 1, 1, 1, 1],\n",
       "       [1, 0, 0, 0, 1, 0, 1, 1, 1, 1, 0, 1, 1],\n",
       "       [1, 1, 1, 1, 1, 1, 1, 1, 1, 1, 1, 1, 1]], dtype=object)"
      ]
     },
     "execution_count": 55,
     "metadata": {},
     "output_type": "execute_result"
    }
   ],
   "source": [
    "x = dataset.iloc[1:, 1:].values\n",
    "x"
   ]
  },
  {
   "cell_type": "code",
   "execution_count": 57,
   "metadata": {
    "ExecuteTime": {
     "end_time": "2021-06-02T13:30:34.672859Z",
     "start_time": "2021-06-02T13:30:34.629972Z"
    }
   },
   "outputs": [
    {
     "name": "stdout",
     "output_type": "stream",
     "text": [
      "[1 1 1 1 1 1 1 1 1 1 0 4 1 3 3 1 1 1 1 4 1 1 4 0 1 1 2 1 2 2 2 1 1 1 1 3 1]\n"
     ]
    },
    {
     "data": {
      "text/plain": [
       "array([[5.00000000e-01, 1.00000000e+00, 5.00000000e-01, 0.00000000e+00,\n",
       "        1.00000000e+00, 5.00000000e-01, 1.00000000e+00, 5.00000000e-01,\n",
       "        0.00000000e+00, 1.00000000e+00, 0.00000000e+00, 0.00000000e+00,\n",
       "        1.00000000e+00],\n",
       "       [8.80000000e-01, 8.40000000e-01, 9.60000000e-01, 9.60000000e-01,\n",
       "        1.00000000e+00, 9.20000000e-01, 9.20000000e-01, 9.20000000e-01,\n",
       "        9.20000000e-01, 9.60000000e-01, 9.60000000e-01, 9.60000000e-01,\n",
       "        9.60000000e-01],\n",
       "       [0.00000000e+00, 0.00000000e+00, 0.00000000e+00, 2.50000000e-01,\n",
       "        0.00000000e+00, 0.00000000e+00, 5.00000000e-01, 7.50000000e-01,\n",
       "        2.50000000e-01, 2.50000000e-01, 2.50000000e-01, 7.50000000e-01,\n",
       "        0.00000000e+00],\n",
       "       [6.66666667e-01, 3.33333333e-01, 6.66666667e-01, 6.66666667e-01,\n",
       "        1.00000000e+00, 0.00000000e+00, 3.33333333e-01, 1.00000000e+00,\n",
       "        1.00000000e+00, 1.00000000e+00, 0.00000000e+00, 6.66666667e-01,\n",
       "        6.66666667e-01],\n",
       "       [0.00000000e+00, 0.00000000e+00, 6.66666667e-01, 1.11022302e-16,\n",
       "        3.33333333e-01, 0.00000000e+00, 1.11022302e-16, 1.11022302e-16,\n",
       "        3.33333333e-01, 1.11022302e-16, 0.00000000e+00, 3.33333333e-01,\n",
       "        3.33333333e-01]])"
      ]
     },
     "execution_count": 57,
     "metadata": {},
     "output_type": "execute_result"
    }
   ],
   "source": [
    "kmeans5 = KMeans(n_clusters=5)\n",
    "y_kmeans5 = kmeans5.fit_predict(x)\n",
    "print(y_kmeans5)\n",
    "\n",
    "kmeans5.cluster_centers_"
   ]
  },
  {
   "cell_type": "code",
   "execution_count": 58,
   "metadata": {
    "ExecuteTime": {
     "end_time": "2021-06-02T13:30:37.285750Z",
     "start_time": "2021-06-02T13:30:35.331694Z"
    }
   },
   "outputs": [
    {
     "name": "stderr",
     "output_type": "stream",
     "text": [
      "C:\\Users\\User\\anaconda3\\lib\\site-packages\\sklearn\\cluster\\_kmeans.py:881: UserWarning: KMeans is known to have a memory leak on Windows with MKL, when there are less chunks than available threads. You can avoid it by setting the environment variable OMP_NUM_THREADS=1.\n",
      "  warnings.warn(\n",
      "C:\\Users\\User\\anaconda3\\lib\\site-packages\\sklearn\\cluster\\_kmeans.py:881: UserWarning: KMeans is known to have a memory leak on Windows with MKL, when there are less chunks than available threads. You can avoid it by setting the environment variable OMP_NUM_THREADS=1.\n",
      "  warnings.warn(\n"
     ]
    },
    {
     "data": {
      "image/png": "[encoded data removed]",
      "text/plain": [
       "<Figure size 1440x576 with 1 Axes>"
      ]
     },
     "metadata": {
      "needs_background": "light"
     },
     "output_type": "display_data"
    }
   ],
   "source": [
    "Error =[]\n",
    "for i in range(1, 14):\n",
    "    kmeans = KMeans(n_clusters = i).fit(x)\n",
    "    kmeans.fit(x)\n",
    "    Error.append(kmeans.inertia_)\n",
    "import matplotlib.pyplot as plt\n",
    "plt.plot(range(1, 14), Error)\n",
    "plt.title('Elbow method')\n",
    "plt.xlabel('No of clusters')\n",
    "plt.ylabel('Error')\n",
    "plt.show()"
   ]
  },
  {
   "cell_type": "markdown",
   "metadata": {},
   "source": [
    "From the above figure I observe that the the big \"elbow\" is at 2 so k=2 for kmeans. \n"
   ]
  },
  {
   "cell_type": "markdown",
   "metadata": {
    "ExecuteTime": {
     "end_time": "2021-06-02T13:33:31.100629Z",
     "start_time": "2021-06-02T13:33:31.094644Z"
    }
   },
   "source": [
    "# HIERARCHICAL CLUSTERING"
   ]
  },
  {
   "cell_type": "code",
   "execution_count": 60,
   "metadata": {
    "ExecuteTime": {
     "end_time": "2021-06-02T13:34:13.220601Z",
     "start_time": "2021-06-02T13:34:13.153807Z"
    }
   },
   "outputs": [],
   "source": [
    "import numpy as np\n",
    "import matplotlib.pyplot as plt\n",
    "from scipy.spatial.distance import pdist, squareform\n",
    "from scipy.cluster.hierarchy import linkage, dendrogram"
   ]
  },
  {
   "cell_type": "markdown",
   "metadata": {
    "ExecuteTime": {
     "end_time": "2021-06-02T13:34:31.956253Z",
     "start_time": "2021-06-02T13:34:31.925361Z"
    }
   },
   "source": [
    "Single Linkage:\n",
    "  \n",
    "In single linkage hierarchical clustering, the distance between two clusters is defined as the shortest distance between two points in each cluster. For example, the distance between clusters “r” and “s” to the left is equal to the length of the arrow between their two closest points."
   ]
  },
  {
   "cell_type": "code",
   "execution_count": 65,
   "metadata": {
    "ExecuteTime": {
     "end_time": "2021-06-02T13:39:36.072515Z",
     "start_time": "2021-06-02T13:39:35.684557Z"
    }
   },
   "outputs": [
    {
     "data": {
      "image/png": "[encoded data removed]",
      "text/plain": [
       "<Figure size 1440x576 with 1 Axes>"
      ]
     },
     "metadata": {
      "needs_background": "light"
     },
     "output_type": "display_data"
    }
   ],
   "source": [
    "from scipy.cluster.hierarchy import linkage,dendrogram\n",
    "\n",
    "merg = linkage(x,method = 'single')\n",
    "dendrogram(merg, leaf_rotation = 90, leaf_font_size = 6)\n",
    "plt.show()"
   ]
  },
  {
   "cell_type": "markdown",
   "metadata": {},
   "source": [
    "Complete Linkage\n",
    "\n",
    "In complete linkage hierarchical clustering, the distance between two clusters is defined as the longest distance between two points in each cluster. For example, the distance between clusters “r” and “s” to the left is equal to the length of the arrow between their two furthest points."
   ]
  },
  {
   "cell_type": "code",
   "execution_count": 67,
   "metadata": {
    "ExecuteTime": {
     "end_time": "2021-06-02T13:40:28.885526Z",
     "start_time": "2021-06-02T13:40:28.495521Z"
    }
   },
   "outputs": [
    {
     "data": {
      "image/png": "[encoded data removed]",
      "text/plain": [
       "<Figure size 1440x576 with 1 Axes>"
      ]
     },
     "metadata": {
      "needs_background": "light"
     },
     "output_type": "display_data"
    }
   ],
   "source": [
    "mergings = linkage(x, method=\"complete\", metric='euclidean')\n",
    "dendrogram(mergings)\n",
    "plt.show()"
   ]
  },
  {
   "cell_type": "markdown",
   "metadata": {},
   "source": [
    "Average Linkage:\n",
    "\n",
    "In average linkage hierarchical clustering, the distance between two clusters is defined as the average distance between each point in one cluster to every point in the other cluster. For example, the distance between clusters “r” and “s” to the left is equal to the average length each arrow between connecting the points of one cluster to the other."
   ]
  },
  {
   "cell_type": "code",
   "execution_count": 69,
   "metadata": {
    "ExecuteTime": {
     "end_time": "2021-06-02T13:41:09.020917Z",
     "start_time": "2021-06-02T13:41:08.614511Z"
    }
   },
   "outputs": [
    {
     "data": {
      "image/png": "[encoded data removed]",
      "text/plain": [
       "<Figure size 1440x576 with 1 Axes>"
      ]
     },
     "metadata": {
      "needs_background": "light"
     },
     "output_type": "display_data"
    }
   ],
   "source": [
    "# Average linkage\n",
    "\n",
    "mergings = linkage(x, method=\"average\", metric='euclidean')\n",
    "dendrogram(mergings)\n",
    "plt.show()"
   ]
  },
  {
   "cell_type": "markdown",
   "metadata": {},
   "source": [
    "# CONCLUSION\n",
    "\n",
    "K-means clustering a simply a division of the set of data  objects into non- overlapping subsets (clusters) such that each  data object is in exactly one subset), whereas hierarchical clustering is a set of nested clusters that are arranged as a tree.\n",
    "\n",
    "I observe that, according to the elbow method, kmeans has a smaller k than hierarchical clustering,but has a bigger error."
   ]
  },
  {
   "cell_type": "markdown",
   "metadata": {},
   "source": [
    "## Cluster Analysis"
   ]
  },
  {
   "cell_type": "markdown",
   "metadata": {},
   "source": [
    "A cluster is a group of _similar_ data points, hence the concept of similarity is central to the definition of a cluster, and therefore to cluster analysis. Cluster analysis enhances our understanding of a dataset by dividing the data into groups. It provides a layer of abstraction from individual data points. The goal is to extract and enhance the natural structure of the data (not to impose arbitrary structure!)"
   ]
  },
  {
   "cell_type": "markdown",
   "metadata": {},
   "source": [
    "|   \t|continuous\t|categorical   \t|\n",
    "|:-:\t|:-:\t|:-:\t|\n",
    "|**supervised**   \t|regression   \t|classification   \t|\n",
    "|**unsupervised**   \t|dimension reduction   \t|clustering   \t|"
   ]
  },
  {
   "cell_type": "markdown",
   "metadata": {},
   "source": [
    "### Useful for"
   ]
  },
  {
   "cell_type": "markdown",
   "metadata": {},
   "source": [
    "### Clustering for Understanding"
   ]
  },
  {
   "cell_type": "markdown",
   "metadata": {},
   "source": [
    "* Market Segmentation\n",
    "* [Social Network Analysis](https://immersion.media.mit.edu/viz)\n",
    "* Organising Computing Clusters\n",
    "* Astronomical Data Analysis"
   ]
  },
  {
   "cell_type": "markdown",
   "metadata": {},
   "source": [
    "#### Clustering for Utility"
   ]
  },
  {
   "cell_type": "markdown",
   "metadata": {},
   "source": [
    "* Summarization\n",
    "* Compression\n",
    "* Efficiently Finding Nearest Neighbours"
   ]
  },
  {
   "cell_type": "markdown",
   "metadata": {},
   "source": [
    "### Approach"
   ]
  },
  {
   "cell_type": "markdown",
   "metadata": {},
   "source": [
    "Think of a cluster as a “potential class”; then the solution to a clustering problem is to programatically determine these classes. The real purpose of clustering is data exploration, so a solution is anything that contributes to your understanding."
   ]
  },
  {
   "cell_type": "markdown",
   "metadata": {},
   "source": [
    "## K-means clustering"
   ]
  },
  {
   "cell_type": "markdown",
   "metadata": {},
   "source": [
    "A greedy learner that partitions a data set into $k$ clusters."
   ]
  },
  {
   "cell_type": "markdown",
   "metadata": {},
   "source": [
    "* *greedy* – captures local structure (depends on initial conditions)\n",
    "* *partition* – performs complete clustering (each point belongs to\n",
    "exactly one cluster)"
   ]
  },
  {
   "cell_type": "markdown",
   "metadata": {},
   "source": [
    "### Partitions"
   ]
  },
  {
   "cell_type": "markdown",
   "metadata": {},
   "source": [
    "Algorithm $k$ -means\n",
    "1. Decide on a value for $k$.\n",
    "2. Initialize the $k$ cluster centers (randomly, if necessary).\n",
    "3. Decide the class memberships of the $N$ objects by assigning them to the nearest cluster center.\n",
    "4. Re-estimate the $k$ cluster centers, by assuming the memberships found above are correct.\n",
    "5. If none of the $N$ objects changed membership in the last iteration, exit. Otherwise goto 3 ."
   ]
  },
  {
   "cell_type": "markdown",
   "metadata": {},
   "source": [
    "These partitions are sometimes called _Voronoi cells_, and these maps _Voronoi diagrams_."
   ]
  },
  {
   "cell_type": "markdown",
   "metadata": {},
   "source": [
    "![plot_kmeans_digits_1.png](plot_kmeans_digits_1.png)"
   ]
  },
  {
   "cell_type": "markdown",
   "metadata": {},
   "source": [
    "One important point to keep in mind is that partitions are not scale-invariant! This means that the same data can yield very different clustering results depending on the scale and the units used. Therefore it’s important to think about your data representation before applying a clustering algorithm."
   ]
  },
  {
   "cell_type": "markdown",
   "metadata": {},
   "source": [
    "### The Basic K-means algorithm"
   ]
  },
  {
   "cell_type": "markdown",
   "metadata": {},
   "source": [
    "1. Choose K initial centroids (note that K is an input)\n",
    "2. For each point:\n",
    "  * Find distance to each centroid\n",
    "  * Assign point to nearest centroid\n",
    "3. Recalculate centroid positions\n",
    "4. Repeat steps 2-3 until stopping criteria met"
   ]
  },
  {
   "cell_type": "markdown",
   "metadata": {},
   "source": [
    "![K-means.png](K-means.png)"
   ]
  },
  {
   "cell_type": "markdown",
   "metadata": {},
   "source": [
    "### Properties"
   ]
  },
  {
   "cell_type": "markdown",
   "metadata": {},
   "source": [
    "* K-means is algorithmically pretty efficient (time & space complexity is linear in number of records).\n",
    "* It has a hard time dealing with non-[convex clusters](http://pafnuty.wordpress.com/2013/08/14/non-convex-sets-with-k-means-and-hierarchical-clustering/), or data with widely varying shapes and densities.\n",
    "* Clustering binary data with K-Means [(should be avoided)](http://www-01.ibm.com/support/docview.wss?uid=swg21477401)\n",
    "* Difficulties can sometimes be overcome by increasing the value of k and combining subclusters in a post-processing step."
   ]
  },
  {
   "cell_type": "markdown",
   "metadata": {},
   "source": [
    "### STEP 1 – CHOOSING INITIAL CENTROIDS"
   ]
  },
  {
   "cell_type": "markdown",
   "metadata": {},
   "source": [
    "How do you choose the initial centroid positions?\n",
    "* Randomly (but may yield divergent behavior)\n",
    "![K-means_convergence_to_a_local_minimum.png](K-means_convergence_to_a_local_minimum.png)\n",
    "* Perform alternative clustering task, use resulting centroids as initial k-means centroids\n",
    "* Start with global centroid, choose point at max distance, repeat (but might select outlier)"
   ]
  },
  {
   "cell_type": "markdown",
   "metadata": {},
   "source": [
    "### STEP 2 – SIMILARITY MEASURES"
   ]
  },
  {
   "cell_type": "markdown",
   "metadata": {},
   "source": [
    "How do you determine which centroid is the nearest?\n",
    "* The “nearness” criterion is determined by the similarity/distance measure we discussed earlier. This measure makes quantitative inference possible. (Technically, by defining a similarity measure we are mapping our observations into a metric space.)\n",
    "* A similarity measure must satisfy certain general conditions:"
   ]
  },
  {
   "cell_type": "markdown",
   "metadata": {},
   "source": [
    "$$d(x,y) \\geq 0$$"
   ]
  },
  {
   "cell_type": "markdown",
   "metadata": {},
   "source": [
    "$$d(x,y) = 0 \\longleftrightarrow x = y$$"
   ]
  },
  {
   "cell_type": "markdown",
   "metadata": {},
   "source": [
    "$$d(x,y) = d(x,y) \\\\ \\text{(symmetry)}$$"
   ]
  },
  {
   "cell_type": "markdown",
   "metadata": {},
   "source": [
    "$$d(x,y) + d(y,z) \\geq d(x,z) \\\\\\text{(triangle inequality)}$$"
   ]
  },
  {
   "cell_type": "markdown",
   "metadata": {},
   "source": [
    "* There are a number of different [similarity measures](http://ag.arizona.edu/classes/rnr555/lecnotes/10.html) to choose from, and in general the right choice depends on the problem.\n",
    "  * For data that takes values in $R^n$ , the typical choice is the [Euclidean distance](http://en.wikipedia.org/wiki/Euclidean_distance):"
   ]
  },
  {
   "cell_type": "markdown",
   "metadata": {},
   "source": [
    "$$ d(p,q) = d(q,p) = \\sqrt{(p_1 - q_1)^2 + (p_2 - q_2)^2 + \\dots + (p_n -q_n)^2} = \\sqrt{\\sum\\limits_{i=1}^n(q_{i}-p_{i})^2 }$$"
   ]
  },
  {
   "cell_type": "markdown",
   "metadata": {},
   "source": [
    "* We can express different semantics about our data through the choice of metric. Ex: One popular metric for text mining problems (or any problem with sparse binary data) is the [Jaccard Coefficient](http://matpalm.com/resemblance/jaccard_coeff/)]."
   ]
  },
  {
   "cell_type": "markdown",
   "metadata": {},
   "source": [
    "$$J(A,B) = \\frac{A\\cap B}{A\\cup B}$$"
   ]
  },
  {
   "cell_type": "markdown",
   "metadata": {},
   "source": [
    "* Applying this metric to a problem expresses the sparse nature of the data, and makes a variety of text mining techniques accessible."
   ]
  },
  {
   "cell_type": "markdown",
   "metadata": {},
   "source": [
    "The matrix whose entries $D_{ij}$ contain the values $d(x, y)$ for all $x$ and $y$ is called the distance matrix. The distance matrix contains all of the information we know about the dataset. For this reason, it’s really the choice of metric that determines the definition of a cluster."
   ]
  },
  {
   "cell_type": "markdown",
   "metadata": {},
   "source": [
    "### STEP 3 – OBJECTIVE FUNCTION"
   ]
  },
  {
   "cell_type": "markdown",
   "metadata": {},
   "source": [
    "We need to recompute the positions of the centroids at each iteration of the algorithm. We do so by optimizing an objective function that tells us how “good” the clustering is. The iterative part of the algorithm (recomputing centroids and reassigning points to clusters) explicitly tries to minimize this objective function."
   ]
  },
  {
   "cell_type": "markdown",
   "metadata": {},
   "source": [
    "Ex: Using the Euclidean distance measure, one typical objective function is the sum of squared errors from each point $x$ to its centroid $c_i$ :"
   ]
  },
  {
   "cell_type": "markdown",
   "metadata": {},
   "source": [
    "$$ SSE = \\sum\\limits_{i=1}^k \\sum\\limits_{x\\in C_{i}} d(x,c_{i})^2 $$"
   ]
  },
  {
   "cell_type": "markdown",
   "metadata": {},
   "source": [
    "Given two clusterings, we will prefer the one with the lower SSE since this means the centroids have converged to better locations (a better local optimum)."
   ]
  },
  {
   "cell_type": "markdown",
   "metadata": {},
   "source": [
    "### STEP 4 – CONVERGENCE"
   ]
  },
  {
   "cell_type": "markdown",
   "metadata": {},
   "source": [
    "We iterate until some stopping criteria are met; in general, suitable convergence is achieved in a small number of steps. Stopping criteria can be based on the centroids (eg, if positions change by no more than $e$) or on the points (eg, if no more than $x$% change clusters between iterations). Recall that, in general, different runs of the algorithm will converge to different local optima (centroid configurations)."
   ]
  },
  {
   "cell_type": "markdown",
   "metadata": {},
   "source": [
    "## Cluster Validation"
   ]
  },
  {
   "cell_type": "markdown",
   "metadata": {},
   "source": [
    "In general, k-means will converge to a solution and return a partition of $k$ clusters, even if no natural clusters exist in the data. We will look at two validation metrics useful for partitional clustering, *cohesion* and *separation*."
   ]
  },
  {
   "cell_type": "markdown",
   "metadata": {},
   "source": [
    "### Cohesion and separation"
   ]
  },
  {
   "cell_type": "markdown",
   "metadata": {},
   "source": [
    "![separationcohesion.png](separationcohesion.png)"
   ]
  },
  {
   "cell_type": "markdown",
   "metadata": {},
   "source": [
    "*Cohesion* measures clustering effectiveness within a cluster."
   ]
  },
  {
   "cell_type": "markdown",
   "metadata": {},
   "source": [
    "$$ \\hat{C}(C_{i}) = \\sum\\limits_{x \\in C_i} d(x,c_{i}) $$ "
   ]
  },
  {
   "cell_type": "markdown",
   "metadata": {},
   "source": [
    "*Separation* measures clustering effectiveness between clusters."
   ]
  },
  {
   "cell_type": "markdown",
   "metadata": {},
   "source": [
    "$$ \\hat{S}(C_{i},C_{j}) = d(c_{i},c_{j}) $$ "
   ]
  },
  {
   "cell_type": "markdown",
   "metadata": {},
   "source": [
    "We can turn these values into overall measures of clustering validity by taking a weighted sum over clusters:"
   ]
  },
  {
   "cell_type": "markdown",
   "metadata": {},
   "source": [
    "$$ \\hat{V}_{total} = \\sum\\limits_{1}^K w_{i}\\hat{V}(C_{i}) $$"
   ]
  },
  {
   "cell_type": "markdown",
   "metadata": {},
   "source": [
    "Here $V$ can be cohesion, separation, or some function of both. The weights can all be set to $1$ (best for k-means), or proportional to the cluster masses (the number of points they contain).\n",
    "\n",
    "Cluster validation measures can be used to identify clusters that should be split or merged, or to identify individual points with disproportionate effect on the overall clustering."
   ]
  },
  {
   "cell_type": "markdown",
   "metadata": {},
   "source": [
    "### Silhouette Coefficient"
   ]
  },
  {
   "cell_type": "markdown",
   "metadata": {},
   "source": [
    "One useful measure than combines the ideas of cohesion and separation is the [silhouette coefficient](http://pafnuty.wordpress.com/2013/02/04/interpretation-of-silhouette-plots-clustering/). For an individual point $x_i$ , this is given by:"
   ]
  },
  {
   "cell_type": "markdown",
   "metadata": {},
   "source": [
    "$$ SC_{i} = \\frac{b_{i}-a_{i}}{max(a_{i},b_{i})} $$\n",
    "\\begin{align*}\n",
    "\\text{such that}&: \\\\\n",
    "& a_{i} = \\text{average distance from } x_{i} \\\\\n",
    "& b_{ij} = \\text{average between-cluster distance to } x_{i}\\\\\n",
    "& b_{i} = min_{j}(b_{ij}) \\\\\n",
    "\\end{align*}"
   ]
  },
  {
   "cell_type": "markdown",
   "metadata": {},
   "source": [
    "The silhouette coefficient can take values between -1 and 1. In general, we want separation to be high and cohesion to be low. This corresponds to a value of SC close to +1. A negative silhouette coefficient means the cluster radius is larger than the space between clusters, and thus clusters overlap.\n",
    "\n",
    "Silhouette analysis can be used to study the separation distance between the resulting clusters. The silhouette plot displays a measure of how close each point in one cluster is to points in the neighboring clusters and thus provides a way to assess parameters like number of clusters visually. This measure has a range of [-1, 1].\n",
    "Silhouette coefficients (as these values are referred to as) near +1 indicate that the sample is far away from the neighboring clusters. A value of 0 indicates that the sample is on or very close to the decision boundary between two neighboring clusters and negative values indicate that those samples might have been assigned to the wrong cluster.\n",
    "\n",
    "In this example the silhouette analysis is used to choose an optimal value for n_clusters. The silhouette plot shows that the n_clusters value of 3, 5 and 6 are a bad pick for the given data due to the presence of clusters with below average silhouette scores and also due to wide fluctuations in the size of the silhouette plots. Silhouette analysis is more ambivalent in deciding between 2 and 4.\n",
    "Also from the thickness of the silhouette plot the cluster size can be visualized. The silhouette plot for cluster 0 when n_clusters is equal to 2, is bigger in size owing to the grouping of the 3 sub clusters into one big cluster. However when the n_clusters is equal to 4, all the plots are more or less of similar thickness and hence are of similar sizes as can be also verified from the labelled scatter plot on the right."
   ]
  },
  {
   "cell_type": "markdown",
   "metadata": {},
   "source": [
    "![sphx_glr_plot_kmeans_silhouette_analysis_001.png](sphx_glr_plot_kmeans_silhouette_analysis_001.png)![sphx_glr_plot_kmeans_silhouette_analysis_002.png](sphx_glr_plot_kmeans_silhouette_analysis_002.png)![sphx_glr_plot_kmeans_silhouette_analysis_003.png](sphx_glr_plot_kmeans_silhouette_analysis_003.png)![sphx_glr_plot_kmeans_silhouette_analysis_004.png](sphx_glr_plot_kmeans_silhouette_analysis_004.png)\n",
    "![sphx_glr_plot_kmeans_silhouette_analysis_005.png](sphx_glr_plot_kmeans_silhouette_analysis_005.png)\n"
   ]
  },
  {
   "cell_type": "markdown",
   "metadata": {},
   "source": [
    "The silhouette coefficient for the cluster $C_i$ is given by the average silhouette coefficient across all points in $C_i$ :"
   ]
  },
  {
   "cell_type": "markdown",
   "metadata": {},
   "source": [
    "$$ SC(C_{i}) = \\frac{1}{m_{i}} \\sum \\limits_{x \\in C_{i}} SC_{i} $$"
   ]
  },
  {
   "cell_type": "markdown",
   "metadata": {},
   "source": [
    "The overall silhouette coefficient is given by the average silhouette coefficient across all points:"
   ]
  },
  {
   "cell_type": "markdown",
   "metadata": {},
   "source": [
    "$$ SC_{total} = \\frac{1}{k} \\sum \\limits_{1}^{k} SC(C_{i}) $$"
   ]
  },
  {
   "cell_type": "markdown",
   "metadata": {},
   "source": [
    "This gives a summary measure of the overall clustering quality."
   ]
  },
  {
   "cell_type": "markdown",
   "metadata": {},
   "source": [
    "### Similarity Matrix"
   ]
  },
  {
   "cell_type": "markdown",
   "metadata": {},
   "source": [
    "An alternative validation scheme is given by comparing the similarity matrix with an idealized $(0/1)$ similarity matrix that represents the same clustering configuration. This can be done either graphically or using correlations."
   ]
  },
  {
   "cell_type": "markdown",
   "metadata": {},
   "source": [
    "![build_sim_matrix.png](build_sim_matrix.png)"
   ]
  },
  {
   "cell_type": "markdown",
   "metadata": {},
   "source": [
    "One useful application of cluster validation is to determine the best number of clusters for your dataset. We can do this by computing the overall SSE or [intepreting the Silhouette Coefficient](http://pafnuty.wordpress.com/2013/02/04/interpretation-of-silhouette-plots-clustering/) for different values of K."
   ]
  },
  {
   "cell_type": "markdown",
   "metadata": {},
   "source": [
    "![](assets/cluster_validation.png)"
   ]
  },
  {
   "cell_type": "markdown",
   "metadata": {},
   "source": [
    "To determine your level of confidence in these validation metrics, we use rely on our statistical methods, eg, by computing frequency distributions for these metrics (over several runs of the algorithm) and determining statistical significance."
   ]
  },
  {
   "cell_type": "markdown",
   "metadata": {},
   "source": [
    "Ultimately, cluster validation and clustering in general are suggestive techniques that rely on human interpretation to be meaningful."
   ]
  },
  {
   "cell_type": "markdown",
   "metadata": {},
   "source": [
    "## Implementing K-Means"
   ]
  },
  {
   "cell_type": "markdown",
   "metadata": {},
   "source": [
    "* See a very basic example of K-means applied to a clear data set\n",
    "* Work through an implementation of predicting the classes in the iris data set\n",
    "* Application to data we're using"
   ]
  },
  {
   "cell_type": "code",
   "execution_count": 1,
   "metadata": {
    "ExecuteTime": {
     "end_time": "2021-06-02T10:10:37.904017Z",
     "start_time": "2021-06-02T10:10:36.184695Z"
    }
   },
   "outputs": [],
   "source": [
    "%matplotlib inline\n",
    "import pandas as pd\n",
    "import numpy as np\n",
    "import matplotlib\n",
    "import matplotlib.pyplot as plt\n",
    "\n",
    "# Don't show deprecation warnings\n",
    "import warnings\n",
    "warnings.filterwarnings(\"ignore\", category=DeprecationWarning) \n",
    "\n",
    "# Set some Pandas options\n",
    "pd.set_option('max_columns', 30)\n",
    "pd.set_option('max_rows', 20)\n",
    "\n",
    "# Set some Matplotlib options\n",
    "matplotlib.rcParams.update({'font.size': 20})\n",
    "matplotlib.rcParams['figure.figsize'] = 20, 8\n",
    "\n",
    "# Store data in a consistent place\n",
    "DATA_DIR = '../data/'"
   ]
  },
  {
   "cell_type": "markdown",
   "metadata": {},
   "source": [
    "### K-Means with good data"
   ]
  },
  {
   "cell_type": "markdown",
   "metadata": {},
   "source": [
    "First things first, let's look at a readable and good application of kmeans with made up data:"
   ]
  },
  {
   "cell_type": "code",
   "execution_count": 2,
   "metadata": {
    "ExecuteTime": {
     "end_time": "2021-06-02T12:31:37.220544Z",
     "start_time": "2021-06-02T12:31:34.564059Z"
    }
   },
   "outputs": [],
   "source": [
    "# load modules\n",
    "from sklearn import cluster\n",
    "from numpy import random\n",
    "from pandas import DataFrame, concat\n",
    "from matplotlib import pyplot as plt\n",
    "\n",
    "random.seed(1)\n",
    "\n",
    "classone = DataFrame({\n",
    "    'x' :random.random(20) + 1,\n",
    "    'y' : random.random(20) + 1,\n",
    "    'label' : ['r' for i in range(20)]\n",
    "})\n",
    "classtwo = DataFrame({\n",
    "    'x' :random.random(20) + 1,\n",
    "    'y' : random.random(20) + 3,\n",
    "    'label' : ['g' for i in range(20)]\n",
    "})\n",
    "classthree = DataFrame({\n",
    "    'x' :random.random(20) + 3,\n",
    "    'y' : random.random(20) + 1,\n",
    "    'label' : ['b' for i in range(20)]\n",
    "})\n",
    "classfour = DataFrame({\n",
    "    'x' :random.random(20) + 3,\n",
    "    'y' : random.random(20) + 3,\n",
    "    'label' : ['purple' for i in range(20)]\n",
    "})\n",
    "data = concat([classone, classtwo, classthree, classfour])"
   ]
  },
  {
   "cell_type": "markdown",
   "metadata": {},
   "source": [
    "A quick scatter shows that yes, these are easy identifiable clusters."
   ]
  },
  {
   "cell_type": "code",
   "execution_count": 3,
   "metadata": {
    "ExecuteTime": {
     "end_time": "2021-06-02T12:31:38.925118Z",
     "start_time": "2021-06-02T12:31:38.658788Z"
    }
   },
   "outputs": [
    {
     "data": {
      "image/png": "[encoded data removed]",
      "text/plain": [
       "<Figure size 1440x576 with 1 Axes>"
      ]
     },
     "metadata": {
      "needs_background": "light"
     },
     "output_type": "display_data"
    }
   ],
   "source": [
    "plt.scatter(data.x.values, data.y.values, color=list(data.label.values))\n",
    "plt.title('Really Easy Clusters')\n",
    "plt.show()"
   ]
  },
  {
   "cell_type": "code",
   "execution_count": 4,
   "metadata": {
    "ExecuteTime": {
     "end_time": "2021-06-02T12:31:39.689953Z",
     "start_time": "2021-06-02T12:31:39.647557Z"
    }
   },
   "outputs": [
    {
     "name": "stdout",
     "output_type": "stream",
     "text": [
      "(array([[3.47459732, 3.39687035],\n",
      "       [1.36728075, 1.55126409],\n",
      "       [3.56427383, 1.5767669 ],\n",
      "       [1.43540531, 3.51116565]]), array([1, 1, 1, 1, 1, 1, 1, 1, 1, 1, 1, 1, 1, 1, 1, 1, 1, 1, 1, 1, 3, 3,\n",
      "       3, 3, 3, 3, 3, 3, 3, 3, 3, 3, 3, 3, 3, 3, 3, 3, 3, 3, 2, 2, 2, 2,\n",
      "       2, 2, 2, 2, 2, 2, 2, 2, 2, 2, 2, 2, 2, 2, 2, 2, 0, 0, 0, 0, 0, 0,\n",
      "       0, 0, 0, 0, 0, 0, 0, 0, 0, 0, 0, 0, 0, 0]), 14.3621195486022)\n"
     ]
    }
   ],
   "source": [
    "cls = cluster.k_means(data[ ['x', 'y'] ].values, 4)\n",
    "print (cls)"
   ]
  },
  {
   "cell_type": "markdown",
   "metadata": {},
   "source": [
    "Printing cls returns two arrays and a float.\n",
    "The first array is 'x' and 'y' for the centrioids of each cluster.\n",
    "The second array is the cluster values.\n",
    "The float represents the inertia."
   ]
  },
  {
   "cell_type": "code",
   "execution_count": 5,
   "metadata": {
    "ExecuteTime": {
     "end_time": "2021-06-02T12:31:41.045328Z",
     "start_time": "2021-06-02T12:31:41.037352Z"
    }
   },
   "outputs": [],
   "source": [
    "data['clusters'] = cls[1]"
   ]
  },
  {
   "cell_type": "code",
   "execution_count": 6,
   "metadata": {
    "ExecuteTime": {
     "end_time": "2021-06-02T12:31:41.921968Z",
     "start_time": "2021-06-02T12:31:41.683874Z"
    }
   },
   "outputs": [
    {
     "data": {
      "image/png": "[encoded data removed]",
      "text/plain": [
       "<Figure size 1440x576 with 1 Axes>"
      ]
     },
     "metadata": {
      "needs_background": "light"
     },
     "output_type": "display_data"
    }
   ],
   "source": [
    "plt.scatter(data.x.values, data.y.values, c=list(data.clusters.values))\n",
    "plt.title('Clusters Identifed by color')\n",
    "plt.show()"
   ]
  },
  {
   "cell_type": "markdown",
   "metadata": {},
   "source": [
    "What happens when we introduce a new length of cluster?"
   ]
  },
  {
   "cell_type": "code",
   "execution_count": 7,
   "metadata": {
    "ExecuteTime": {
     "end_time": "2021-06-02T12:31:42.735587Z",
     "start_time": "2021-06-02T12:31:42.713618Z"
    }
   },
   "outputs": [],
   "source": [
    "classfive = DataFrame({\n",
    "    'x' : random.random(50) * 50 + 100,\n",
    "    'y' : random.random(50) * 50 + 100,\n",
    "    'label' : ['orange' for i in range(50)]\n",
    "})"
   ]
  },
  {
   "cell_type": "code",
   "execution_count": 8,
   "metadata": {
    "ExecuteTime": {
     "end_time": "2021-06-02T12:31:43.219679Z",
     "start_time": "2021-06-02T12:31:43.208708Z"
    }
   },
   "outputs": [],
   "source": [
    "data = concat([data, classfive])"
   ]
  },
  {
   "cell_type": "code",
   "execution_count": 9,
   "metadata": {
    "ExecuteTime": {
     "end_time": "2021-06-02T12:31:43.782683Z",
     "start_time": "2021-06-02T12:31:43.719854Z"
    }
   },
   "outputs": [],
   "source": [
    "cls = cluster.k_means(data[ ['x', 'y'] ].values, 5)"
   ]
  },
  {
   "cell_type": "code",
   "execution_count": 10,
   "metadata": {
    "ExecuteTime": {
     "end_time": "2021-06-02T12:31:44.201644Z",
     "start_time": "2021-06-02T12:31:44.195661Z"
    }
   },
   "outputs": [],
   "source": [
    "data['clusters'] = cls[1]"
   ]
  },
  {
   "cell_type": "code",
   "execution_count": 11,
   "metadata": {
    "ExecuteTime": {
     "end_time": "2021-06-02T12:31:45.035355Z",
     "start_time": "2021-06-02T12:31:44.766524Z"
    }
   },
   "outputs": [
    {
     "data": {
      "image/png": "[encoded data removed]",
      "text/plain": [
       "<Figure size 1440x576 with 1 Axes>"
      ]
     },
     "metadata": {
      "needs_background": "light"
     },
     "output_type": "display_data"
    }
   ],
   "source": [
    "plt.scatter(data.x.values, data.y.values, c=list(data.clusters.values))\n",
    "plt.title('Clusters Identifed by color')\n",
    "plt.show()"
   ]
  },
  {
   "cell_type": "code",
   "execution_count": 12,
   "metadata": {
    "ExecuteTime": {
     "end_time": "2021-06-02T12:31:45.426946Z",
     "start_time": "2021-06-02T12:31:45.251325Z"
    }
   },
   "outputs": [
    {
     "name": "stdout",
     "output_type": "stream",
     "text": [
      "(array([[5.9016129 , 2.7483871 , 4.39354839, 1.43387097],\n",
      "       [5.006     , 3.428     , 1.462     , 0.246     ],\n",
      "       [6.85      , 3.07368421, 5.74210526, 2.07105263]]), array([1, 1, 1, 1, 1, 1, 1, 1, 1, 1, 1, 1, 1, 1, 1, 1, 1, 1, 1, 1, 1, 1,\n",
      "       1, 1, 1, 1, 1, 1, 1, 1, 1, 1, 1, 1, 1, 1, 1, 1, 1, 1, 1, 1, 1, 1,\n",
      "       1, 1, 1, 1, 1, 1, 0, 0, 2, 0, 0, 0, 0, 0, 0, 0, 0, 0, 0, 0, 0, 0,\n",
      "       0, 0, 0, 0, 0, 0, 0, 0, 0, 0, 0, 2, 0, 0, 0, 0, 0, 0, 0, 0, 0, 0,\n",
      "       0, 0, 0, 0, 0, 0, 0, 0, 0, 0, 0, 0, 2, 0, 2, 2, 2, 2, 0, 2, 2, 2,\n",
      "       2, 2, 2, 0, 0, 2, 2, 2, 2, 0, 2, 0, 2, 0, 2, 2, 0, 0, 2, 2, 2, 2,\n",
      "       2, 0, 2, 2, 2, 2, 0, 2, 2, 2, 0, 2, 2, 2, 0, 2, 2, 0]), 78.851441426146)\n"
     ]
    }
   ],
   "source": [
    "## Iris Data Application\n",
    "from sklearn import datasets\n",
    "iris = datasets.load_iris()\n",
    "cls = cluster.k_means(iris.data, 3)\n",
    "print (cls)"
   ]
  },
  {
   "cell_type": "markdown",
   "metadata": {},
   "source": [
    "Compare the results here. How did K-means do without any data changes?"
   ]
  },
  {
   "cell_type": "code",
   "execution_count": 13,
   "metadata": {
    "ExecuteTime": {
     "end_time": "2021-06-02T12:31:47.087303Z",
     "start_time": "2021-06-02T12:31:46.781614Z"
    }
   },
   "outputs": [
    {
     "data": {
      "image/png": "[encoded data removed]",
      "text/plain": [
       "<Figure size 1440x576 with 2 Axes>"
      ]
     },
     "metadata": {
      "needs_background": "light"
     },
     "output_type": "display_data"
    }
   ],
   "source": [
    "import matplotlib.pyplot as plt\n",
    "from matplotlib.pyplot import cm\n",
    "\n",
    "plt.subplot(211)\n",
    "plt.scatter(iris.data[:,:1], iris.data[:, 1:2], cmap=plt.cm.jet, c=iris.target)\n",
    "plt.subplot(212)\n",
    "plt.scatter(iris.data[:,:1], iris.data[:, 1:2], cmap=plt.cm.jet, c=list(cls[1]))\n",
    "plt.show()"
   ]
  },
  {
   "cell_type": "markdown",
   "metadata": {},
   "source": [
    "Now calculate the Silhouette Coefficient for the total cluster."
   ]
  },
  {
   "cell_type": "code",
   "execution_count": 14,
   "metadata": {
    "ExecuteTime": {
     "end_time": "2021-06-02T12:31:50.260564Z",
     "start_time": "2021-06-02T12:31:50.239617Z"
    }
   },
   "outputs": [
    {
     "data": {
      "text/plain": [
       "0.5528190123564091"
      ]
     },
     "execution_count": 14,
     "metadata": {},
     "output_type": "execute_result"
    }
   ],
   "source": [
    "from sklearn.metrics import silhouette_score\n",
    "\n",
    "silhouette_score(iris.data, cls[1])"
   ]
  },
  {
   "cell_type": "code",
   "execution_count": 24,
   "metadata": {
    "ExecuteTime": {
     "end_time": "2021-06-02T12:43:07.690940Z",
     "start_time": "2021-06-02T12:43:07.660026Z"
    }
   },
   "outputs": [
    {
     "data": {
      "text/html": [
       "<div>\n",
       "<style scoped>\n",
       "    .dataframe tbody tr th:only-of-type {\n",
       "        vertical-align: middle;\n",
       "    }\n",
       "\n",
       "    .dataframe tbody tr th {\n",
       "        vertical-align: top;\n",
       "    }\n",
       "\n",
       "    .dataframe thead th {\n",
       "        text-align: right;\n",
       "    }\n",
       "</style>\n",
       "<table border=\"1\" class=\"dataframe\">\n",
       "  <thead>\n",
       "    <tr style=\"text-align: right;\">\n",
       "      <th></th>\n",
       "      <th>Unnamed: 0</th>\n",
       "      <th>Sepal.Length</th>\n",
       "      <th>Sepal.Width</th>\n",
       "      <th>Petal.Length</th>\n",
       "      <th>Petal.Width</th>\n",
       "      <th>Species</th>\n",
       "    </tr>\n",
       "  </thead>\n",
       "  <tbody>\n",
       "    <tr>\n",
       "      <th>0</th>\n",
       "      <td>1</td>\n",
       "      <td>5.1</td>\n",
       "      <td>3.5</td>\n",
       "      <td>1.4</td>\n",
       "      <td>0.2</td>\n",
       "      <td>setosa</td>\n",
       "    </tr>\n",
       "    <tr>\n",
       "      <th>1</th>\n",
       "      <td>2</td>\n",
       "      <td>4.9</td>\n",
       "      <td>3.0</td>\n",
       "      <td>1.4</td>\n",
       "      <td>0.2</td>\n",
       "      <td>setosa</td>\n",
       "    </tr>\n",
       "    <tr>\n",
       "      <th>2</th>\n",
       "      <td>3</td>\n",
       "      <td>4.7</td>\n",
       "      <td>3.2</td>\n",
       "      <td>1.3</td>\n",
       "      <td>0.2</td>\n",
       "      <td>setosa</td>\n",
       "    </tr>\n",
       "    <tr>\n",
       "      <th>3</th>\n",
       "      <td>4</td>\n",
       "      <td>4.6</td>\n",
       "      <td>3.1</td>\n",
       "      <td>1.5</td>\n",
       "      <td>0.2</td>\n",
       "      <td>setosa</td>\n",
       "    </tr>\n",
       "    <tr>\n",
       "      <th>4</th>\n",
       "      <td>5</td>\n",
       "      <td>5.0</td>\n",
       "      <td>3.6</td>\n",
       "      <td>1.4</td>\n",
       "      <td>0.2</td>\n",
       "      <td>setosa</td>\n",
       "    </tr>\n",
       "    <tr>\n",
       "      <th>...</th>\n",
       "      <td>...</td>\n",
       "      <td>...</td>\n",
       "      <td>...</td>\n",
       "      <td>...</td>\n",
       "      <td>...</td>\n",
       "      <td>...</td>\n",
       "    </tr>\n",
       "    <tr>\n",
       "      <th>145</th>\n",
       "      <td>146</td>\n",
       "      <td>6.7</td>\n",
       "      <td>3.0</td>\n",
       "      <td>5.2</td>\n",
       "      <td>2.3</td>\n",
       "      <td>virginica</td>\n",
       "    </tr>\n",
       "    <tr>\n",
       "      <th>146</th>\n",
       "      <td>147</td>\n",
       "      <td>6.3</td>\n",
       "      <td>2.5</td>\n",
       "      <td>5.0</td>\n",
       "      <td>1.9</td>\n",
       "      <td>virginica</td>\n",
       "    </tr>\n",
       "    <tr>\n",
       "      <th>147</th>\n",
       "      <td>148</td>\n",
       "      <td>6.5</td>\n",
       "      <td>3.0</td>\n",
       "      <td>5.2</td>\n",
       "      <td>2.0</td>\n",
       "      <td>virginica</td>\n",
       "    </tr>\n",
       "    <tr>\n",
       "      <th>148</th>\n",
       "      <td>149</td>\n",
       "      <td>6.2</td>\n",
       "      <td>3.4</td>\n",
       "      <td>5.4</td>\n",
       "      <td>2.3</td>\n",
       "      <td>virginica</td>\n",
       "    </tr>\n",
       "    <tr>\n",
       "      <th>149</th>\n",
       "      <td>150</td>\n",
       "      <td>5.9</td>\n",
       "      <td>3.0</td>\n",
       "      <td>5.1</td>\n",
       "      <td>1.8</td>\n",
       "      <td>virginica</td>\n",
       "    </tr>\n",
       "  </tbody>\n",
       "</table>\n",
       "<p>150 rows × 6 columns</p>\n",
       "</div>"
      ],
      "text/plain": [
       "     Unnamed: 0  Sepal.Length  Sepal.Width  Petal.Length  Petal.Width  \\\n",
       "0             1           5.1          3.5           1.4          0.2   \n",
       "1             2           4.9          3.0           1.4          0.2   \n",
       "2             3           4.7          3.2           1.3          0.2   \n",
       "3             4           4.6          3.1           1.5          0.2   \n",
       "4             5           5.0          3.6           1.4          0.2   \n",
       "..          ...           ...          ...           ...          ...   \n",
       "145         146           6.7          3.0           5.2          2.3   \n",
       "146         147           6.3          2.5           5.0          1.9   \n",
       "147         148           6.5          3.0           5.2          2.0   \n",
       "148         149           6.2          3.4           5.4          2.3   \n",
       "149         150           5.9          3.0           5.1          1.8   \n",
       "\n",
       "       Species  \n",
       "0       setosa  \n",
       "1       setosa  \n",
       "2       setosa  \n",
       "3       setosa  \n",
       "4       setosa  \n",
       "..         ...  \n",
       "145  virginica  \n",
       "146  virginica  \n",
       "147  virginica  \n",
       "148  virginica  \n",
       "149  virginica  \n",
       "\n",
       "[150 rows x 6 columns]"
      ]
     },
     "execution_count": 24,
     "metadata": {},
     "output_type": "execute_result"
    }
   ],
   "source": [
    "#Import libraries\n",
    "import numpy as np\n",
    "import pandas as pd\n",
    "import matplotlib.pyplot as plt\n",
    "from sklearn.cluster import KMeans\n",
    "#import the dataset\n",
    "#import the dataset\n",
    "df = pd.read_csv('iris.csv')\n",
    "df"
   ]
  },
  {
   "cell_type": "code",
   "execution_count": 25,
   "metadata": {
    "ExecuteTime": {
     "end_time": "2021-06-02T12:43:08.143076Z",
     "start_time": "2021-06-02T12:43:08.122122Z"
    }
   },
   "outputs": [
    {
     "data": {
      "text/plain": [
       "array([[  1. ,   5.1,   3.5,   1.4],\n",
       "       [  2. ,   4.9,   3. ,   1.4],\n",
       "       [  3. ,   4.7,   3.2,   1.3],\n",
       "       [  4. ,   4.6,   3.1,   1.5],\n",
       "       [  5. ,   5. ,   3.6,   1.4],\n",
       "       [  6. ,   5.4,   3.9,   1.7],\n",
       "       [  7. ,   4.6,   3.4,   1.4],\n",
       "       [  8. ,   5. ,   3.4,   1.5],\n",
       "       [  9. ,   4.4,   2.9,   1.4],\n",
       "       [ 10. ,   4.9,   3.1,   1.5],\n",
       "       [ 11. ,   5.4,   3.7,   1.5],\n",
       "       [ 12. ,   4.8,   3.4,   1.6],\n",
       "       [ 13. ,   4.8,   3. ,   1.4],\n",
       "       [ 14. ,   4.3,   3. ,   1.1],\n",
       "       [ 15. ,   5.8,   4. ,   1.2],\n",
       "       [ 16. ,   5.7,   4.4,   1.5],\n",
       "       [ 17. ,   5.4,   3.9,   1.3],\n",
       "       [ 18. ,   5.1,   3.5,   1.4],\n",
       "       [ 19. ,   5.7,   3.8,   1.7],\n",
       "       [ 20. ,   5.1,   3.8,   1.5],\n",
       "       [ 21. ,   5.4,   3.4,   1.7],\n",
       "       [ 22. ,   5.1,   3.7,   1.5],\n",
       "       [ 23. ,   4.6,   3.6,   1. ],\n",
       "       [ 24. ,   5.1,   3.3,   1.7],\n",
       "       [ 25. ,   4.8,   3.4,   1.9],\n",
       "       [ 26. ,   5. ,   3. ,   1.6],\n",
       "       [ 27. ,   5. ,   3.4,   1.6],\n",
       "       [ 28. ,   5.2,   3.5,   1.5],\n",
       "       [ 29. ,   5.2,   3.4,   1.4],\n",
       "       [ 30. ,   4.7,   3.2,   1.6],\n",
       "       [ 31. ,   4.8,   3.1,   1.6],\n",
       "       [ 32. ,   5.4,   3.4,   1.5],\n",
       "       [ 33. ,   5.2,   4.1,   1.5],\n",
       "       [ 34. ,   5.5,   4.2,   1.4],\n",
       "       [ 35. ,   4.9,   3.1,   1.5],\n",
       "       [ 36. ,   5. ,   3.2,   1.2],\n",
       "       [ 37. ,   5.5,   3.5,   1.3],\n",
       "       [ 38. ,   4.9,   3.6,   1.4],\n",
       "       [ 39. ,   4.4,   3. ,   1.3],\n",
       "       [ 40. ,   5.1,   3.4,   1.5],\n",
       "       [ 41. ,   5. ,   3.5,   1.3],\n",
       "       [ 42. ,   4.5,   2.3,   1.3],\n",
       "       [ 43. ,   4.4,   3.2,   1.3],\n",
       "       [ 44. ,   5. ,   3.5,   1.6],\n",
       "       [ 45. ,   5.1,   3.8,   1.9],\n",
       "       [ 46. ,   4.8,   3. ,   1.4],\n",
       "       [ 47. ,   5.1,   3.8,   1.6],\n",
       "       [ 48. ,   4.6,   3.2,   1.4],\n",
       "       [ 49. ,   5.3,   3.7,   1.5],\n",
       "       [ 50. ,   5. ,   3.3,   1.4],\n",
       "       [ 51. ,   7. ,   3.2,   4.7],\n",
       "       [ 52. ,   6.4,   3.2,   4.5],\n",
       "       [ 53. ,   6.9,   3.1,   4.9],\n",
       "       [ 54. ,   5.5,   2.3,   4. ],\n",
       "       [ 55. ,   6.5,   2.8,   4.6],\n",
       "       [ 56. ,   5.7,   2.8,   4.5],\n",
       "       [ 57. ,   6.3,   3.3,   4.7],\n",
       "       [ 58. ,   4.9,   2.4,   3.3],\n",
       "       [ 59. ,   6.6,   2.9,   4.6],\n",
       "       [ 60. ,   5.2,   2.7,   3.9],\n",
       "       [ 61. ,   5. ,   2. ,   3.5],\n",
       "       [ 62. ,   5.9,   3. ,   4.2],\n",
       "       [ 63. ,   6. ,   2.2,   4. ],\n",
       "       [ 64. ,   6.1,   2.9,   4.7],\n",
       "       [ 65. ,   5.6,   2.9,   3.6],\n",
       "       [ 66. ,   6.7,   3.1,   4.4],\n",
       "       [ 67. ,   5.6,   3. ,   4.5],\n",
       "       [ 68. ,   5.8,   2.7,   4.1],\n",
       "       [ 69. ,   6.2,   2.2,   4.5],\n",
       "       [ 70. ,   5.6,   2.5,   3.9],\n",
       "       [ 71. ,   5.9,   3.2,   4.8],\n",
       "       [ 72. ,   6.1,   2.8,   4. ],\n",
       "       [ 73. ,   6.3,   2.5,   4.9],\n",
       "       [ 74. ,   6.1,   2.8,   4.7],\n",
       "       [ 75. ,   6.4,   2.9,   4.3],\n",
       "       [ 76. ,   6.6,   3. ,   4.4],\n",
       "       [ 77. ,   6.8,   2.8,   4.8],\n",
       "       [ 78. ,   6.7,   3. ,   5. ],\n",
       "       [ 79. ,   6. ,   2.9,   4.5],\n",
       "       [ 80. ,   5.7,   2.6,   3.5],\n",
       "       [ 81. ,   5.5,   2.4,   3.8],\n",
       "       [ 82. ,   5.5,   2.4,   3.7],\n",
       "       [ 83. ,   5.8,   2.7,   3.9],\n",
       "       [ 84. ,   6. ,   2.7,   5.1],\n",
       "       [ 85. ,   5.4,   3. ,   4.5],\n",
       "       [ 86. ,   6. ,   3.4,   4.5],\n",
       "       [ 87. ,   6.7,   3.1,   4.7],\n",
       "       [ 88. ,   6.3,   2.3,   4.4],\n",
       "       [ 89. ,   5.6,   3. ,   4.1],\n",
       "       [ 90. ,   5.5,   2.5,   4. ],\n",
       "       [ 91. ,   5.5,   2.6,   4.4],\n",
       "       [ 92. ,   6.1,   3. ,   4.6],\n",
       "       [ 93. ,   5.8,   2.6,   4. ],\n",
       "       [ 94. ,   5. ,   2.3,   3.3],\n",
       "       [ 95. ,   5.6,   2.7,   4.2],\n",
       "       [ 96. ,   5.7,   3. ,   4.2],\n",
       "       [ 97. ,   5.7,   2.9,   4.2],\n",
       "       [ 98. ,   6.2,   2.9,   4.3],\n",
       "       [ 99. ,   5.1,   2.5,   3. ],\n",
       "       [100. ,   5.7,   2.8,   4.1],\n",
       "       [101. ,   6.3,   3.3,   6. ],\n",
       "       [102. ,   5.8,   2.7,   5.1],\n",
       "       [103. ,   7.1,   3. ,   5.9],\n",
       "       [104. ,   6.3,   2.9,   5.6],\n",
       "       [105. ,   6.5,   3. ,   5.8],\n",
       "       [106. ,   7.6,   3. ,   6.6],\n",
       "       [107. ,   4.9,   2.5,   4.5],\n",
       "       [108. ,   7.3,   2.9,   6.3],\n",
       "       [109. ,   6.7,   2.5,   5.8],\n",
       "       [110. ,   7.2,   3.6,   6.1],\n",
       "       [111. ,   6.5,   3.2,   5.1],\n",
       "       [112. ,   6.4,   2.7,   5.3],\n",
       "       [113. ,   6.8,   3. ,   5.5],\n",
       "       [114. ,   5.7,   2.5,   5. ],\n",
       "       [115. ,   5.8,   2.8,   5.1],\n",
       "       [116. ,   6.4,   3.2,   5.3],\n",
       "       [117. ,   6.5,   3. ,   5.5],\n",
       "       [118. ,   7.7,   3.8,   6.7],\n",
       "       [119. ,   7.7,   2.6,   6.9],\n",
       "       [120. ,   6. ,   2.2,   5. ],\n",
       "       [121. ,   6.9,   3.2,   5.7],\n",
       "       [122. ,   5.6,   2.8,   4.9],\n",
       "       [123. ,   7.7,   2.8,   6.7],\n",
       "       [124. ,   6.3,   2.7,   4.9],\n",
       "       [125. ,   6.7,   3.3,   5.7],\n",
       "       [126. ,   7.2,   3.2,   6. ],\n",
       "       [127. ,   6.2,   2.8,   4.8],\n",
       "       [128. ,   6.1,   3. ,   4.9],\n",
       "       [129. ,   6.4,   2.8,   5.6],\n",
       "       [130. ,   7.2,   3. ,   5.8],\n",
       "       [131. ,   7.4,   2.8,   6.1],\n",
       "       [132. ,   7.9,   3.8,   6.4],\n",
       "       [133. ,   6.4,   2.8,   5.6],\n",
       "       [134. ,   6.3,   2.8,   5.1],\n",
       "       [135. ,   6.1,   2.6,   5.6],\n",
       "       [136. ,   7.7,   3. ,   6.1],\n",
       "       [137. ,   6.3,   3.4,   5.6],\n",
       "       [138. ,   6.4,   3.1,   5.5],\n",
       "       [139. ,   6. ,   3. ,   4.8],\n",
       "       [140. ,   6.9,   3.1,   5.4],\n",
       "       [141. ,   6.7,   3.1,   5.6],\n",
       "       [142. ,   6.9,   3.1,   5.1],\n",
       "       [143. ,   5.8,   2.7,   5.1],\n",
       "       [144. ,   6.8,   3.2,   5.9],\n",
       "       [145. ,   6.7,   3.3,   5.7],\n",
       "       [146. ,   6.7,   3. ,   5.2],\n",
       "       [147. ,   6.3,   2.5,   5. ],\n",
       "       [148. ,   6.5,   3. ,   5.2],\n",
       "       [149. ,   6.2,   3.4,   5.4],\n",
       "       [150. ,   5.9,   3. ,   5.1]])"
      ]
     },
     "execution_count": 25,
     "metadata": {},
     "output_type": "execute_result"
    }
   ],
   "source": [
    "x = df.iloc[:, [0,1,2,3]].values\n",
    "x"
   ]
  },
  {
   "cell_type": "code",
   "execution_count": 17,
   "metadata": {
    "ExecuteTime": {
     "end_time": "2021-06-02T12:31:52.574516Z",
     "start_time": "2021-06-02T12:31:52.504480Z"
    }
   },
   "outputs": [
    {
     "name": "stdout",
     "output_type": "stream",
     "text": [
      "[0 0 0 0 0 0 0 0 0 0 0 0 0 0 0 0 0 0 0 0 0 0 0 0 0 0 0 0 0 4 4 4 4 4 4 4 4\n",
      " 4 4 4 4 4 4 4 4 4 4 4 4 4 4 4 4 4 4 4 4 4 2 2 2 2 2 2 2 2 2 2 2 2 2 2 2 2\n",
      " 2 2 2 2 2 2 2 2 2 2 2 2 2 2 2 1 1 1 1 1 1 1 1 1 1 1 1 1 1 1 1 1 1 1 1 1 1\n",
      " 1 1 1 1 1 1 1 1 1 3 3 3 3 3 3 3 3 3 3 3 3 3 3 3 3 3 3 3 3 3 3 3 3 3 3 3 3\n",
      " 3 3]\n"
     ]
    },
    {
     "data": {
      "text/plain": [
       "array([[ 15.        ,   5.03793103,   3.45862069,   1.46896552],\n",
       "       [105.        ,   6.22903226,   2.84516129,   5.07741935],\n",
       "       [ 74.        ,   5.99032258,   2.76129032,   4.30645161],\n",
       "       [135.5       ,   6.60666667,   3.01      ,   5.48333333],\n",
       "       [ 44.        ,   5.28965517,   3.24827586,   2.26551724]])"
      ]
     },
     "execution_count": 17,
     "metadata": {},
     "output_type": "execute_result"
    }
   ],
   "source": [
    "kmeans5 = KMeans(n_clusters=5)\n",
    "y_kmeans5 = kmeans5.fit_predict(x)\n",
    "print(y_kmeans5)\n",
    "\n",
    "kmeans5.cluster_centers_"
   ]
  },
  {
   "cell_type": "code",
   "execution_count": 18,
   "metadata": {
    "ExecuteTime": {
     "end_time": "2021-06-02T12:31:55.324333Z",
     "start_time": "2021-06-02T12:31:53.286421Z"
    }
   },
   "outputs": [
    {
     "name": "stderr",
     "output_type": "stream",
     "text": [
      "C:\\Users\\User\\anaconda3\\lib\\site-packages\\sklearn\\cluster\\_kmeans.py:881: UserWarning: KMeans is known to have a memory leak on Windows with MKL, when there are less chunks than available threads. You can avoid it by setting the environment variable OMP_NUM_THREADS=1.\n",
      "  warnings.warn(\n",
      "C:\\Users\\User\\anaconda3\\lib\\site-packages\\sklearn\\cluster\\_kmeans.py:881: UserWarning: KMeans is known to have a memory leak on Windows with MKL, when there are less chunks than available threads. You can avoid it by setting the environment variable OMP_NUM_THREADS=1.\n",
      "  warnings.warn(\n"
     ]
    },
    {
     "data": {
      "image/png": "[encoded data removed]",
      "text/plain": [
       "<Figure size 1440x576 with 1 Axes>"
      ]
     },
     "metadata": {
      "needs_background": "light"
     },
     "output_type": "display_data"
    }
   ],
   "source": [
    "Error =[]\n",
    "for i in range(1, 11):\n",
    "    kmeans = KMeans(n_clusters = i).fit(x)\n",
    "    kmeans.fit(x)\n",
    "    Error.append(kmeans.inertia_)\n",
    "import matplotlib.pyplot as plt\n",
    "plt.plot(range(1, 11), Error)\n",
    "plt.title('Elbow method')\n",
    "plt.xlabel('No of clusters')\n",
    "plt.ylabel('Error')\n",
    "plt.show()"
   ]
  },
  {
   "cell_type": "markdown",
   "metadata": {},
   "source": [
    "### Application to data we're using"
   ]
  },
  {
   "cell_type": "markdown",
   "metadata": {},
   "source": [
    "Kmeans is a really effective way of regrouping or reclassifying data that may make more sense to be viewed based on other variables."
   ]
  },
  {
   "cell_type": "markdown",
   "metadata": {},
   "source": [
    "1. Consider a strategy here for the baseball problem: Could Kmeans be used to determine groups of players, which could then better predict salary?\n",
    "2. Consider it's application to bad vs good used car purchases. What data could be used to to generate new car groups? What should those car groups represent?"
   ]
  },
  {
   "cell_type": "markdown",
   "metadata": {},
   "source": [
    "## Resources"
   ]
  },
  {
   "cell_type": "markdown",
   "metadata": {},
   "source": [
    "### Academic"
   ]
  },
  {
   "cell_type": "markdown",
   "metadata": {},
   "source": [
    "* [An implementation of the relational k-means algorithm](http://arxiv.org/abs/1304.6899)\n"
   ]
  },
  {
   "cell_type": "markdown",
   "metadata": {},
   "source": [
    "### Packages"
   ]
  },
  {
   "cell_type": "markdown",
   "metadata": {},
   "source": [
    "* [SciKit Clusting](http://scikit-learn.org/stable/modules/clustering.html)\n",
    "* [sklearn.cluster.KMeans](http://scikit-learn.org/stable/modules/generated/sklearn.cluster.KMeans.html)"
   ]
  }
 ],
 "metadata": {
  "kernelspec": {
   "display_name": "Python 3",
   "language": "python",
   "name": "python3"
  },
  "language_info": {
   "codemirror_mode": {
    "name": "ipython",
    "version": 3
   },
   "file_extension": ".py",
   "mimetype": "text/x-python",
   "name": "python",
   "nbconvert_exporter": "python",
   "pygments_lexer": "ipython3",
   "version": "3.8.3"
  },
  "latex_envs": {
   "LaTeX_envs_menu_present": true,
   "autoclose": false,
   "autocomplete": true,
   "bibliofile": "biblio.bib",
   "cite_by": "apalike",
   "current_citInitial": 1,
   "eqLabelWithNumbers": true,
   "eqNumInitial": 1,
   "hotkeys": {
    "equation": "Ctrl-E",
    "itemize": "Ctrl-I"
   },
   "labels_anchors": false,
   "latex_user_defs": false,
   "report_style_numbering": false,
   "user_envs_cfg": false
  },
  "nbTranslate": {
   "displayLangs": [
    "*"
   ],
   "hotkey": "alt-t",
   "langInMainMenu": true,
   "sourceLang": "en",
   "targetLang": "fr",
   "useGoogleTranslate": true
  },
  "toc": {
   "base_numbering": 1,
   "nav_menu": {},
   "number_sections": true,
   "sideBar": true,
   "skip_h1_title": false,
   "title_cell": "Table of Contents",
   "title_sidebar": "Contents",
   "toc_cell": false,
   "toc_position": {},
   "toc_section_display": true,
   "toc_window_display": false
  },
  "varInspector": {
   "cols": {
    "lenName": 16,
    "lenType": 16,
    "lenVar": 40
   },
   "kernels_config": {
    "python": {
     "delete_cmd_postfix": "",
     "delete_cmd_prefix": "del ",
     "library": "var_list.py",
     "varRefreshCmd": "print(var_dic_list())"
    },
    "r": {
     "delete_cmd_postfix": ") ",
     "delete_cmd_prefix": "rm(",
     "library": "var_list.r",
     "varRefreshCmd": "cat(var_dic_list()) "
    }
   },
   "types_to_exclude": [
    "module",
    "function",
    "builtin_function_or_method",
    "instance",
    "_Feature"
   ],
   "window_display": false
  }
 },
 "nbformat": 4,
 "nbformat_minor": 1
}
