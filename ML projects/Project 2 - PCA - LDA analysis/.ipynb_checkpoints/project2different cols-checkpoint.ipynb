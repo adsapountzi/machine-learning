{
 "cells": [
  {
   "cell_type": "code",
   "execution_count": 144,
   "metadata": {
    "ExecuteTime": {
     "end_time": "2021-03-28T20:34:52.926200Z",
     "start_time": "2021-03-28T20:34:52.455692Z"
    }
   },
   "outputs": [
    {
     "data": {
      "text/html": [
       "<div>\n",
       "<style scoped>\n",
       "    .dataframe tbody tr th:only-of-type {\n",
       "        vertical-align: middle;\n",
       "    }\n",
       "\n",
       "    .dataframe tbody tr th {\n",
       "        vertical-align: top;\n",
       "    }\n",
       "\n",
       "    .dataframe thead th {\n",
       "        text-align: right;\n",
       "    }\n",
       "</style>\n",
       "<table border=\"1\" class=\"dataframe\">\n",
       "  <thead>\n",
       "    <tr style=\"text-align: right;\">\n",
       "      <th></th>\n",
       "      <th>FirstVariable</th>\n",
       "      <th>SecondVariable</th>\n",
       "      <th>Correlation</th>\n",
       "    </tr>\n",
       "  </thead>\n",
       "  <tbody>\n",
       "    <tr>\n",
       "      <th>0</th>\n",
       "      <td>V2</td>\n",
       "      <td>V3</td>\n",
       "      <td>0.996574</td>\n",
       "    </tr>\n",
       "    <tr>\n",
       "      <th>1</th>\n",
       "      <td>V4</td>\n",
       "      <td>V5</td>\n",
       "      <td>0.545557</td>\n",
       "    </tr>\n",
       "    <tr>\n",
       "      <th>2</th>\n",
       "      <td>V2</td>\n",
       "      <td>V6</td>\n",
       "      <td>0.346578</td>\n",
       "    </tr>\n",
       "    <tr>\n",
       "      <th>3</th>\n",
       "      <td>V3</td>\n",
       "      <td>V6</td>\n",
       "      <td>0.340442</td>\n",
       "    </tr>\n",
       "    <tr>\n",
       "      <th>4</th>\n",
       "      <td>V3</td>\n",
       "      <td>V4</td>\n",
       "      <td>0.250569</td>\n",
       "    </tr>\n",
       "    <tr>\n",
       "      <th>5</th>\n",
       "      <td>V2</td>\n",
       "      <td>V4</td>\n",
       "      <td>0.245920</td>\n",
       "    </tr>\n",
       "    <tr>\n",
       "      <th>6</th>\n",
       "      <td>V3</td>\n",
       "      <td>V5</td>\n",
       "      <td>0.102733</td>\n",
       "    </tr>\n",
       "    <tr>\n",
       "      <th>7</th>\n",
       "      <td>V2</td>\n",
       "      <td>V5</td>\n",
       "      <td>0.100251</td>\n",
       "    </tr>\n",
       "    <tr>\n",
       "      <th>8</th>\n",
       "      <td>V4</td>\n",
       "      <td>V6</td>\n",
       "      <td>0.098375</td>\n",
       "    </tr>\n",
       "    <tr>\n",
       "      <th>9</th>\n",
       "      <td>V5</td>\n",
       "      <td>V6</td>\n",
       "      <td>0.064875</td>\n",
       "    </tr>\n",
       "    <tr>\n",
       "      <th>10</th>\n",
       "      <td>V6</td>\n",
       "      <td>V6</td>\n",
       "      <td>0.000000</td>\n",
       "    </tr>\n",
       "    <tr>\n",
       "      <th>11</th>\n",
       "      <td>V4</td>\n",
       "      <td>V2</td>\n",
       "      <td>0.000000</td>\n",
       "    </tr>\n",
       "    <tr>\n",
       "      <th>12</th>\n",
       "      <td>V3</td>\n",
       "      <td>V2</td>\n",
       "      <td>0.000000</td>\n",
       "    </tr>\n",
       "    <tr>\n",
       "      <th>13</th>\n",
       "      <td>V3</td>\n",
       "      <td>V3</td>\n",
       "      <td>0.000000</td>\n",
       "    </tr>\n",
       "    <tr>\n",
       "      <th>14</th>\n",
       "      <td>V4</td>\n",
       "      <td>V4</td>\n",
       "      <td>0.000000</td>\n",
       "    </tr>\n",
       "    <tr>\n",
       "      <th>15</th>\n",
       "      <td>V4</td>\n",
       "      <td>V3</td>\n",
       "      <td>0.000000</td>\n",
       "    </tr>\n",
       "    <tr>\n",
       "      <th>16</th>\n",
       "      <td>V6</td>\n",
       "      <td>V5</td>\n",
       "      <td>0.000000</td>\n",
       "    </tr>\n",
       "    <tr>\n",
       "      <th>17</th>\n",
       "      <td>V5</td>\n",
       "      <td>V2</td>\n",
       "      <td>0.000000</td>\n",
       "    </tr>\n",
       "    <tr>\n",
       "      <th>18</th>\n",
       "      <td>V5</td>\n",
       "      <td>V3</td>\n",
       "      <td>0.000000</td>\n",
       "    </tr>\n",
       "    <tr>\n",
       "      <th>19</th>\n",
       "      <td>V5</td>\n",
       "      <td>V4</td>\n",
       "      <td>0.000000</td>\n",
       "    </tr>\n",
       "  </tbody>\n",
       "</table>\n",
       "</div>"
      ],
      "text/plain": [
       "   FirstVariable SecondVariable  Correlation\n",
       "0             V2             V3     0.996574\n",
       "1             V4             V5     0.545557\n",
       "2             V2             V6     0.346578\n",
       "3             V3             V6     0.340442\n",
       "4             V3             V4     0.250569\n",
       "5             V2             V4     0.245920\n",
       "6             V3             V5     0.102733\n",
       "7             V2             V5     0.100251\n",
       "8             V4             V6     0.098375\n",
       "9             V5             V6     0.064875\n",
       "10            V6             V6     0.000000\n",
       "11            V4             V2     0.000000\n",
       "12            V3             V2     0.000000\n",
       "13            V3             V3     0.000000\n",
       "14            V4             V4     0.000000\n",
       "15            V4             V3     0.000000\n",
       "16            V6             V5     0.000000\n",
       "17            V5             V2     0.000000\n",
       "18            V5             V3     0.000000\n",
       "19            V5             V4     0.000000"
      ]
     },
     "execution_count": 144,
     "metadata": {},
     "output_type": "execute_result"
    }
   ],
   "source": [
    "from pydoc import help  # can type in the python console `help(name of function)` to get the documentation\n",
    "import pandas as pd\n",
    "import numpy as np\n",
    "import matplotlib.pyplot as plt\n",
    "import seaborn as sns\n",
    "from sklearn.preprocessing import scale\n",
    "from sklearn.decomposition import PCA\n",
    "from sklearn.discriminant_analysis import LinearDiscriminantAnalysis\n",
    "from scipy import stats\n",
    "from IPython.display import display, HTML\n",
    "\n",
    "# figures inline in notebook\n",
    "%matplotlib inline\n",
    "\n",
    "np.set_printoptions(suppress=True)\n",
    "\n",
    "DISPLAY_MAX_ROWS = 210  # number of max rows to print for a DataFrame\n",
    "pd.set_option('display.max_rows', DISPLAY_MAX_ROWS)\n",
    "data = pd.read_excel('business_survey_results.xlsx', sheet_name='results',usecols=['2. Η Νομική μορφή της επιχείρησης είναι:','6.1 Κύρια Δραστηριότητα', '7. Πόσο διαφοροποιημένα είναι τα προϊόντα που παράγει η επιχείρηση σε σχέση με τον ανταγωνισμό;', '8.1 Σε τι είναι διαφοροποιημένα τα προϊόντα της επιχείρησης; (Στην εμφάνιση)', '14.Στον δικό σας κλάδο παραγωγής, πόσο σημαντικό ρόλο θεωρείτε ότι έχει η θέση εγκατάστασης της επιχείρησης; ', '15.Η θέση εγκατάστασης της δικής σας επιχείρησης θεωρείτε ότι είναι:'])\n",
    "data.columns = [\"V\"+str(i) for i in range(1, len(data.columns)+1)]\n",
    "data.dtypes\n",
    "data = data.fillna(data.mean()) \n",
    "for col_name in data.columns:\n",
    "    if(data[col_name].dtype == 'object'):#convert object type to categorical\n",
    "        data[col_name]= data[col_name].astype('category')\n",
    "        data[col_name] = data[col_name].cat.codes #\n",
    "       \n",
    "    \n",
    "data = data.replace([-1],np.nan) #cat.codes replaces nan with -1, so reverse that.\n",
    "\n",
    "\n",
    "data = data.fillna(data.mean()) # replace nan values with the mean() of that column.\n",
    "\n",
    "X = data.loc[:, \"V2\":]  # independent variables data\n",
    "\n",
    "y = data.V1  # dependant variable data\n",
    "\n",
    "\n",
    "def mosthighlycorrelated(mydataframe, numtoreport):\n",
    "    # find the correlations\n",
    "    cormatrix = mydataframe.corr()\n",
    "    # set the correlations on the diagonal or lower triangle to zero,\n",
    "    # so they will not be reported as the highest ones:\n",
    "    cormatrix *= np.tri(*cormatrix.values.shape, k=-1).T\n",
    "    # find the top n correlations\n",
    "    cormatrix = cormatrix.stack()\n",
    "    cormatrix = cormatrix.reindex(cormatrix.abs().sort_values(ascending=False).index).reset_index()\n",
    "    # assign human-friendly names\n",
    "    cormatrix.columns = [\"FirstVariable\", \"SecondVariable\", \"Correlation\"]\n",
    "    return cormatrix.head(numtoreport)\n",
    "mosthighlycorrelated(X, 20)"
   ]
  },
  {
   "cell_type": "code",
   "execution_count": 87,
   "metadata": {
    "ExecuteTime": {
     "end_time": "2021-03-28T19:45:21.154879Z",
     "start_time": "2021-03-28T19:45:21.111028Z"
    }
   },
   "outputs": [
    {
     "data": {
      "text/html": [
       "<div>\n",
       "<style scoped>\n",
       "    .dataframe tbody tr th:only-of-type {\n",
       "        vertical-align: middle;\n",
       "    }\n",
       "\n",
       "    .dataframe tbody tr th {\n",
       "        vertical-align: top;\n",
       "    }\n",
       "\n",
       "    .dataframe thead th {\n",
       "        text-align: right;\n",
       "    }\n",
       "</style>\n",
       "<table border=\"1\" class=\"dataframe\">\n",
       "  <thead>\n",
       "    <tr style=\"text-align: right;\">\n",
       "      <th></th>\n",
       "      <th>V1</th>\n",
       "      <th>V2</th>\n",
       "      <th>V3</th>\n",
       "      <th>V4</th>\n",
       "      <th>V5</th>\n",
       "      <th>V6</th>\n",
       "      <th>V7</th>\n",
       "      <th>V8</th>\n",
       "      <th>V9</th>\n",
       "      <th>V10</th>\n",
       "      <th>...</th>\n",
       "      <th>V121</th>\n",
       "      <th>V122</th>\n",
       "      <th>V123</th>\n",
       "      <th>V124</th>\n",
       "      <th>V125</th>\n",
       "      <th>V126</th>\n",
       "      <th>V127</th>\n",
       "      <th>V128</th>\n",
       "      <th>V129</th>\n",
       "      <th>V130</th>\n",
       "    </tr>\n",
       "  </thead>\n",
       "  <tbody>\n",
       "    <tr>\n",
       "      <th>0</th>\n",
       "      <td>2.0</td>\n",
       "      <td>10.0</td>\n",
       "      <td>2.0</td>\n",
       "      <td>2.0</td>\n",
       "      <td>2.0</td>\n",
       "      <td>4.0</td>\n",
       "      <td>4.0</td>\n",
       "      <td>27.0</td>\n",
       "      <td>55.00000</td>\n",
       "      <td>3.000000</td>\n",
       "      <td>...</td>\n",
       "      <td>0.000000e+00</td>\n",
       "      <td>0.000000e+00</td>\n",
       "      <td>125665.156941</td>\n",
       "      <td>118458.51211</td>\n",
       "      <td>119674.745371</td>\n",
       "      <td>144521.423807</td>\n",
       "      <td>-15600.11000</td>\n",
       "      <td>-24803.130000</td>\n",
       "      <td>16.00000</td>\n",
       "      <td>120.000000</td>\n",
       "    </tr>\n",
       "    <tr>\n",
       "      <th>1</th>\n",
       "      <td>2.0</td>\n",
       "      <td>1.0</td>\n",
       "      <td>0.0</td>\n",
       "      <td>1.0</td>\n",
       "      <td>1.0</td>\n",
       "      <td>4.0</td>\n",
       "      <td>4.0</td>\n",
       "      <td>20.0</td>\n",
       "      <td>74.00000</td>\n",
       "      <td>0.000000</td>\n",
       "      <td>...</td>\n",
       "      <td>0.000000e+00</td>\n",
       "      <td>0.000000e+00</td>\n",
       "      <td>125665.156941</td>\n",
       "      <td>118458.51211</td>\n",
       "      <td>119674.745371</td>\n",
       "      <td>0.000000</td>\n",
       "      <td>4890.63000</td>\n",
       "      <td>845.970000</td>\n",
       "      <td>71.00000</td>\n",
       "      <td>36.000000</td>\n",
       "    </tr>\n",
       "    <tr>\n",
       "      <th>2</th>\n",
       "      <td>2.0</td>\n",
       "      <td>46.0</td>\n",
       "      <td>18.0</td>\n",
       "      <td>0.0</td>\n",
       "      <td>0.0</td>\n",
       "      <td>1.0</td>\n",
       "      <td>2.0</td>\n",
       "      <td>3.0</td>\n",
       "      <td>82.00000</td>\n",
       "      <td>0.000000</td>\n",
       "      <td>...</td>\n",
       "      <td>5.914970e+03</td>\n",
       "      <td>2.716370e+03</td>\n",
       "      <td>125665.156941</td>\n",
       "      <td>118458.51211</td>\n",
       "      <td>119674.745371</td>\n",
       "      <td>144521.423807</td>\n",
       "      <td>5753.44000</td>\n",
       "      <td>-1508.880000</td>\n",
       "      <td>124.00000</td>\n",
       "      <td>129.000000</td>\n",
       "    </tr>\n",
       "    <tr>\n",
       "      <th>3</th>\n",
       "      <td>5.0</td>\n",
       "      <td>47.0</td>\n",
       "      <td>19.0</td>\n",
       "      <td>0.0</td>\n",
       "      <td>1.0</td>\n",
       "      <td>3.0</td>\n",
       "      <td>4.0</td>\n",
       "      <td>2.0</td>\n",
       "      <td>25.00000</td>\n",
       "      <td>47.000000</td>\n",
       "      <td>...</td>\n",
       "      <td>0.000000e+00</td>\n",
       "      <td>0.000000e+00</td>\n",
       "      <td>1913.960000</td>\n",
       "      <td>4364.04000</td>\n",
       "      <td>3868.040000</td>\n",
       "      <td>0.000000</td>\n",
       "      <td>19728.35000</td>\n",
       "      <td>16688.950000</td>\n",
       "      <td>152.00000</td>\n",
       "      <td>18.000000</td>\n",
       "    </tr>\n",
       "    <tr>\n",
       "      <th>4</th>\n",
       "      <td>5.0</td>\n",
       "      <td>69.0</td>\n",
       "      <td>26.0</td>\n",
       "      <td>2.0</td>\n",
       "      <td>0.0</td>\n",
       "      <td>4.0</td>\n",
       "      <td>2.0</td>\n",
       "      <td>43.0</td>\n",
       "      <td>30.95099</td>\n",
       "      <td>8.000000</td>\n",
       "      <td>...</td>\n",
       "      <td>0.000000e+00</td>\n",
       "      <td>0.000000e+00</td>\n",
       "      <td>0.000000</td>\n",
       "      <td>0.00000</td>\n",
       "      <td>0.000000</td>\n",
       "      <td>0.000000</td>\n",
       "      <td>-3886.56000</td>\n",
       "      <td>-11548.360000</td>\n",
       "      <td>193.00000</td>\n",
       "      <td>197.000000</td>\n",
       "    </tr>\n",
       "    <tr>\n",
       "      <th>...</th>\n",
       "      <td>...</td>\n",
       "      <td>...</td>\n",
       "      <td>...</td>\n",
       "      <td>...</td>\n",
       "      <td>...</td>\n",
       "      <td>...</td>\n",
       "      <td>...</td>\n",
       "      <td>...</td>\n",
       "      <td>...</td>\n",
       "      <td>...</td>\n",
       "      <td>...</td>\n",
       "      <td>...</td>\n",
       "      <td>...</td>\n",
       "      <td>...</td>\n",
       "      <td>...</td>\n",
       "      <td>...</td>\n",
       "      <td>...</td>\n",
       "      <td>...</td>\n",
       "      <td>...</td>\n",
       "      <td>...</td>\n",
       "      <td>...</td>\n",
       "    </tr>\n",
       "    <tr>\n",
       "      <th>238</th>\n",
       "      <td>1.0</td>\n",
       "      <td>46.0</td>\n",
       "      <td>18.0</td>\n",
       "      <td>2.0</td>\n",
       "      <td>1.0</td>\n",
       "      <td>2.0</td>\n",
       "      <td>3.0</td>\n",
       "      <td>10.0</td>\n",
       "      <td>80.00000</td>\n",
       "      <td>15.712745</td>\n",
       "      <td>...</td>\n",
       "      <td>1.023951e+06</td>\n",
       "      <td>9.755742e+05</td>\n",
       "      <td>382068.070000</td>\n",
       "      <td>432830.12300</td>\n",
       "      <td>470206.920000</td>\n",
       "      <td>500218.130000</td>\n",
       "      <td>-155831.89000</td>\n",
       "      <td>-150692.580000</td>\n",
       "      <td>2.00000</td>\n",
       "      <td>1.000000</td>\n",
       "    </tr>\n",
       "    <tr>\n",
       "      <th>239</th>\n",
       "      <td>4.0</td>\n",
       "      <td>3.0</td>\n",
       "      <td>1.0</td>\n",
       "      <td>0.0</td>\n",
       "      <td>0.0</td>\n",
       "      <td>4.0</td>\n",
       "      <td>4.0</td>\n",
       "      <td>25.0</td>\n",
       "      <td>50.00000</td>\n",
       "      <td>10.000000</td>\n",
       "      <td>...</td>\n",
       "      <td>3.215737e+05</td>\n",
       "      <td>3.374795e+05</td>\n",
       "      <td>125665.156941</td>\n",
       "      <td>118458.51211</td>\n",
       "      <td>119674.745371</td>\n",
       "      <td>144521.423807</td>\n",
       "      <td>103584.60881</td>\n",
       "      <td>72438.973868</td>\n",
       "      <td>92.40553</td>\n",
       "      <td>94.870968</td>\n",
       "    </tr>\n",
       "    <tr>\n",
       "      <th>240</th>\n",
       "      <td>5.0</td>\n",
       "      <td>13.0</td>\n",
       "      <td>3.0</td>\n",
       "      <td>0.0</td>\n",
       "      <td>0.0</td>\n",
       "      <td>1.0</td>\n",
       "      <td>3.0</td>\n",
       "      <td>20.0</td>\n",
       "      <td>50.00000</td>\n",
       "      <td>0.000000</td>\n",
       "      <td>...</td>\n",
       "      <td>0.000000e+00</td>\n",
       "      <td>0.000000e+00</td>\n",
       "      <td>0.000000</td>\n",
       "      <td>0.00000</td>\n",
       "      <td>0.000000</td>\n",
       "      <td>0.000000</td>\n",
       "      <td>0.00000</td>\n",
       "      <td>0.000000</td>\n",
       "      <td>54.00000</td>\n",
       "      <td>52.000000</td>\n",
       "    </tr>\n",
       "    <tr>\n",
       "      <th>241</th>\n",
       "      <td>0.0</td>\n",
       "      <td>25.0</td>\n",
       "      <td>9.0</td>\n",
       "      <td>3.0</td>\n",
       "      <td>2.0</td>\n",
       "      <td>2.0</td>\n",
       "      <td>4.0</td>\n",
       "      <td>20.0</td>\n",
       "      <td>20.00000</td>\n",
       "      <td>20.000000</td>\n",
       "      <td>...</td>\n",
       "      <td>2.380375e+06</td>\n",
       "      <td>1.943503e+06</td>\n",
       "      <td>129535.780000</td>\n",
       "      <td>119149.75000</td>\n",
       "      <td>58872.890000</td>\n",
       "      <td>235540.360000</td>\n",
       "      <td>53254.42000</td>\n",
       "      <td>-37260.050000</td>\n",
       "      <td>182.00000</td>\n",
       "      <td>186.000000</td>\n",
       "    </tr>\n",
       "    <tr>\n",
       "      <th>242</th>\n",
       "      <td>1.0</td>\n",
       "      <td>46.0</td>\n",
       "      <td>18.0</td>\n",
       "      <td>2.0</td>\n",
       "      <td>2.0</td>\n",
       "      <td>4.0</td>\n",
       "      <td>4.0</td>\n",
       "      <td>30.0</td>\n",
       "      <td>30.00000</td>\n",
       "      <td>20.000000</td>\n",
       "      <td>...</td>\n",
       "      <td>5.332613e+05</td>\n",
       "      <td>4.527204e+05</td>\n",
       "      <td>125665.156941</td>\n",
       "      <td>118458.51211</td>\n",
       "      <td>73153.260000</td>\n",
       "      <td>60171.490000</td>\n",
       "      <td>103584.60881</td>\n",
       "      <td>72438.973868</td>\n",
       "      <td>183.00000</td>\n",
       "      <td>185.000000</td>\n",
       "    </tr>\n",
       "  </tbody>\n",
       "</table>\n",
       "<p>243 rows × 130 columns</p>\n",
       "</div>"
      ],
      "text/plain": [
       "      V1    V2    V3   V4   V5   V6   V7    V8        V9        V10  ...  \\\n",
       "0    2.0  10.0   2.0  2.0  2.0  4.0  4.0  27.0  55.00000   3.000000  ...   \n",
       "1    2.0   1.0   0.0  1.0  1.0  4.0  4.0  20.0  74.00000   0.000000  ...   \n",
       "2    2.0  46.0  18.0  0.0  0.0  1.0  2.0   3.0  82.00000   0.000000  ...   \n",
       "3    5.0  47.0  19.0  0.0  1.0  3.0  4.0   2.0  25.00000  47.000000  ...   \n",
       "4    5.0  69.0  26.0  2.0  0.0  4.0  2.0  43.0  30.95099   8.000000  ...   \n",
       "..   ...   ...   ...  ...  ...  ...  ...   ...       ...        ...  ...   \n",
       "238  1.0  46.0  18.0  2.0  1.0  2.0  3.0  10.0  80.00000  15.712745  ...   \n",
       "239  4.0   3.0   1.0  0.0  0.0  4.0  4.0  25.0  50.00000  10.000000  ...   \n",
       "240  5.0  13.0   3.0  0.0  0.0  1.0  3.0  20.0  50.00000   0.000000  ...   \n",
       "241  0.0  25.0   9.0  3.0  2.0  2.0  4.0  20.0  20.00000  20.000000  ...   \n",
       "242  1.0  46.0  18.0  2.0  2.0  4.0  4.0  30.0  30.00000  20.000000  ...   \n",
       "\n",
       "             V121          V122           V123          V124           V125  \\\n",
       "0    0.000000e+00  0.000000e+00  125665.156941  118458.51211  119674.745371   \n",
       "1    0.000000e+00  0.000000e+00  125665.156941  118458.51211  119674.745371   \n",
       "2    5.914970e+03  2.716370e+03  125665.156941  118458.51211  119674.745371   \n",
       "3    0.000000e+00  0.000000e+00    1913.960000    4364.04000    3868.040000   \n",
       "4    0.000000e+00  0.000000e+00       0.000000       0.00000       0.000000   \n",
       "..            ...           ...            ...           ...            ...   \n",
       "238  1.023951e+06  9.755742e+05  382068.070000  432830.12300  470206.920000   \n",
       "239  3.215737e+05  3.374795e+05  125665.156941  118458.51211  119674.745371   \n",
       "240  0.000000e+00  0.000000e+00       0.000000       0.00000       0.000000   \n",
       "241  2.380375e+06  1.943503e+06  129535.780000  119149.75000   58872.890000   \n",
       "242  5.332613e+05  4.527204e+05  125665.156941  118458.51211   73153.260000   \n",
       "\n",
       "              V126          V127           V128       V129        V130  \n",
       "0    144521.423807  -15600.11000  -24803.130000   16.00000  120.000000  \n",
       "1         0.000000    4890.63000     845.970000   71.00000   36.000000  \n",
       "2    144521.423807    5753.44000   -1508.880000  124.00000  129.000000  \n",
       "3         0.000000   19728.35000   16688.950000  152.00000   18.000000  \n",
       "4         0.000000   -3886.56000  -11548.360000  193.00000  197.000000  \n",
       "..             ...           ...            ...        ...         ...  \n",
       "238  500218.130000 -155831.89000 -150692.580000    2.00000    1.000000  \n",
       "239  144521.423807  103584.60881   72438.973868   92.40553   94.870968  \n",
       "240       0.000000       0.00000       0.000000   54.00000   52.000000  \n",
       "241  235540.360000   53254.42000  -37260.050000  182.00000  186.000000  \n",
       "242   60171.490000  103584.60881   72438.973868  183.00000  185.000000  \n",
       "\n",
       "[243 rows x 130 columns]"
      ]
     },
     "execution_count": 87,
     "metadata": {},
     "output_type": "execute_result"
    }
   ],
   "source": [
    "data\n"
   ]
  },
  {
   "cell_type": "code",
   "execution_count": null,
   "metadata": {},
   "outputs": [],
   "source": []
  },
  {
   "cell_type": "code",
   "execution_count": 145,
   "metadata": {
    "ExecuteTime": {
     "end_time": "2021-03-28T20:35:11.075682Z",
     "start_time": "2021-03-28T20:35:11.055734Z"
    }
   },
   "outputs": [],
   "source": [
    "#standarize for better analysis\n",
    "standardisedX = scale(X)\n",
    "standardisedX = pd.DataFrame(standardisedX, index=X.index, columns=X.columns)"
   ]
  },
  {
   "cell_type": "code",
   "execution_count": 146,
   "metadata": {
    "ExecuteTime": {
     "end_time": "2021-03-28T20:35:11.498945Z",
     "start_time": "2021-03-28T20:35:11.490934Z"
    }
   },
   "outputs": [],
   "source": [
    "#perform pca\n",
    "\n",
    "pca = PCA().fit(standardisedX)"
   ]
  },
  {
   "cell_type": "code",
   "execution_count": 147,
   "metadata": {
    "ExecuteTime": {
     "end_time": "2021-03-28T20:35:12.026627Z",
     "start_time": "2021-03-28T20:35:12.012666Z"
    }
   },
   "outputs": [],
   "source": [
    "def pca_summary(pca, standardised_data, out=True):\n",
    "    names = [\"PC\"+str(i) for i in range(1, len(pca.explained_variance_ratio_)+1)]\n",
    "    a = list(np.std(pca.transform(standardised_data), axis=0))\n",
    "    b = list(pca.explained_variance_ratio_)\n",
    "    c = [np.sum(pca.explained_variance_ratio_[:i]) for i in range(1, len(pca.explained_variance_ratio_)+1)]\n",
    "    columns = pd.MultiIndex.from_tuples([(\"sdev\", \"Standard deviation\"), (\"varprop\", \"Proportion of Variance\"), (\"cumprop\", \"Cumulative Proportion\")])\n",
    "    summary = pd.DataFrame(zip(a, b, c), index=names, columns=columns)\n",
    "    if out:\n",
    "        print(\"Importance of components:\")\n",
    "        display(summary)\n",
    "    return summary"
   ]
  },
  {
   "cell_type": "code",
   "execution_count": 148,
   "metadata": {
    "ExecuteTime": {
     "end_time": "2021-03-28T20:35:13.040551Z",
     "start_time": "2021-03-28T20:35:13.011632Z"
    }
   },
   "outputs": [
    {
     "name": "stdout",
     "output_type": "stream",
     "text": [
      "Importance of components:\n"
     ]
    },
    {
     "data": {
      "text/html": [
       "<div>\n",
       "<style scoped>\n",
       "    .dataframe tbody tr th:only-of-type {\n",
       "        vertical-align: middle;\n",
       "    }\n",
       "\n",
       "    .dataframe tbody tr th {\n",
       "        vertical-align: top;\n",
       "    }\n",
       "\n",
       "    .dataframe thead tr th {\n",
       "        text-align: left;\n",
       "    }\n",
       "</style>\n",
       "<table border=\"1\" class=\"dataframe\">\n",
       "  <thead>\n",
       "    <tr>\n",
       "      <th></th>\n",
       "      <th>sdev</th>\n",
       "      <th>varprop</th>\n",
       "      <th>cumprop</th>\n",
       "    </tr>\n",
       "    <tr>\n",
       "      <th></th>\n",
       "      <th>Standard deviation</th>\n",
       "      <th>Proportion of Variance</th>\n",
       "      <th>Cumulative Proportion</th>\n",
       "    </tr>\n",
       "  </thead>\n",
       "  <tbody>\n",
       "    <tr>\n",
       "      <th>PC1</th>\n",
       "      <td>1.539222</td>\n",
       "      <td>0.473841</td>\n",
       "      <td>0.473841</td>\n",
       "    </tr>\n",
       "    <tr>\n",
       "      <th>PC2</th>\n",
       "      <td>1.176545</td>\n",
       "      <td>0.276852</td>\n",
       "      <td>0.750693</td>\n",
       "    </tr>\n",
       "    <tr>\n",
       "      <th>PC3</th>\n",
       "      <td>0.897073</td>\n",
       "      <td>0.160948</td>\n",
       "      <td>0.911641</td>\n",
       "    </tr>\n",
       "    <tr>\n",
       "      <th>PC4</th>\n",
       "      <td>0.662121</td>\n",
       "      <td>0.087681</td>\n",
       "      <td>0.999321</td>\n",
       "    </tr>\n",
       "    <tr>\n",
       "      <th>PC5</th>\n",
       "      <td>0.058249</td>\n",
       "      <td>0.000679</td>\n",
       "      <td>1.000000</td>\n",
       "    </tr>\n",
       "  </tbody>\n",
       "</table>\n",
       "</div>"
      ],
      "text/plain": [
       "                  sdev                varprop               cumprop\n",
       "    Standard deviation Proportion of Variance Cumulative Proportion\n",
       "PC1           1.539222               0.473841              0.473841\n",
       "PC2           1.176545               0.276852              0.750693\n",
       "PC3           0.897073               0.160948              0.911641\n",
       "PC4           0.662121               0.087681              0.999321\n",
       "PC5           0.058249               0.000679              1.000000"
      ]
     },
     "metadata": {},
     "output_type": "display_data"
    }
   ],
   "source": [
    "summary = pca_summary(pca, standardisedX)"
   ]
  },
  {
   "cell_type": "markdown",
   "metadata": {},
   "source": [
    "This gives us the standard deviation of each component, and the proportion of variance explained by each component. The standard deviation of the components is stored in a named row called sdev of the output variable made by the pca_summary function and stored in the summary variable:"
   ]
  },
  {
   "cell_type": "code",
   "execution_count": 149,
   "metadata": {
    "ExecuteTime": {
     "end_time": "2021-03-28T20:35:15.175576Z",
     "start_time": "2021-03-28T20:35:15.154632Z"
    }
   },
   "outputs": [
    {
     "data": {
      "text/html": [
       "<div>\n",
       "<style scoped>\n",
       "    .dataframe tbody tr th:only-of-type {\n",
       "        vertical-align: middle;\n",
       "    }\n",
       "\n",
       "    .dataframe tbody tr th {\n",
       "        vertical-align: top;\n",
       "    }\n",
       "\n",
       "    .dataframe thead th {\n",
       "        text-align: right;\n",
       "    }\n",
       "</style>\n",
       "<table border=\"1\" class=\"dataframe\">\n",
       "  <thead>\n",
       "    <tr style=\"text-align: right;\">\n",
       "      <th></th>\n",
       "      <th>Standard deviation</th>\n",
       "    </tr>\n",
       "  </thead>\n",
       "  <tbody>\n",
       "    <tr>\n",
       "      <th>PC1</th>\n",
       "      <td>1.539222</td>\n",
       "    </tr>\n",
       "    <tr>\n",
       "      <th>PC2</th>\n",
       "      <td>1.176545</td>\n",
       "    </tr>\n",
       "    <tr>\n",
       "      <th>PC3</th>\n",
       "      <td>0.897073</td>\n",
       "    </tr>\n",
       "    <tr>\n",
       "      <th>PC4</th>\n",
       "      <td>0.662121</td>\n",
       "    </tr>\n",
       "    <tr>\n",
       "      <th>PC5</th>\n",
       "      <td>0.058249</td>\n",
       "    </tr>\n",
       "  </tbody>\n",
       "</table>\n",
       "</div>"
      ],
      "text/plain": [
       "     Standard deviation\n",
       "PC1            1.539222\n",
       "PC2            1.176545\n",
       "PC3            0.897073\n",
       "PC4            0.662121\n",
       "PC5            0.058249"
      ]
     },
     "execution_count": 149,
     "metadata": {},
     "output_type": "execute_result"
    }
   ],
   "source": [
    "summary.sdev"
   ]
  },
  {
   "cell_type": "markdown",
   "metadata": {},
   "source": [
    "The total variance explained by the components is the sum of the variances of the components:"
   ]
  },
  {
   "cell_type": "code",
   "execution_count": 150,
   "metadata": {
    "ExecuteTime": {
     "end_time": "2021-03-28T20:35:15.988662Z",
     "start_time": "2021-03-28T20:35:15.969708Z"
    }
   },
   "outputs": [
    {
     "data": {
      "text/plain": [
       "Standard deviation    5.0\n",
       "dtype: float64"
      ]
     },
     "execution_count": 150,
     "metadata": {},
     "output_type": "execute_result"
    }
   ],
   "source": [
    "np.sum(summary.sdev**2)"
   ]
  },
  {
   "cell_type": "markdown",
   "metadata": {},
   "source": [
    "In this case, we see that the total variance is 5, which is equal to the number of standardised variables (5 variables). This is because for standardised data, the variance of each standardised variable is 1. The total variance is equal to the sum of the variances of the individual variables, and since the variance of each standardised variable is 1, the total variance should be equal to the number of variables (5 here)."
   ]
  },
  {
   "cell_type": "markdown",
   "metadata": {},
   "source": [
    "### Deciding How Many Principal Components to Retain\n",
    "In order to decide how many principal components should be retained, it is common to summarise the results of a principal components analysis by making a scree plot, which we can do using the `screeplot()` function below:"
   ]
  },
  {
   "cell_type": "code",
   "execution_count": 151,
   "metadata": {
    "ExecuteTime": {
     "end_time": "2021-03-28T20:35:39.774925Z",
     "start_time": "2021-03-28T20:35:39.633341Z"
    }
   },
   "outputs": [
    {
     "data": {
      "image/png": "[encoded data removed]",
      "text/plain": [
       "<Figure size 432x288 with 1 Axes>"
      ]
     },
     "metadata": {
      "needs_background": "light"
     },
     "output_type": "display_data"
    }
   ],
   "source": [
    "def screeplot(pca, standardised_values):\n",
    "    y = np.std(pca.transform(standardised_values), axis=0)**2\n",
    "    x = np.arange(len(y)) + 1\n",
    "    plt.plot(x, y, \"o-\")\n",
    "    plt.xticks(x, [\"Comp.\"+str(i) for i in x], rotation=60)\n",
    "    plt.ylabel(\"Variance\")\n",
    "    plt.show()\n",
    "\n",
    "screeplot(pca, standardisedX)"
   ]
  },
  {
   "cell_type": "markdown",
   "metadata": {},
   "source": [
    "In this example the location of the \"elbow\" is at comp 3.Therefore,\n",
    " way of deciding how many components to retain is to use *Kaiser’s criterion*: that we should only retain principal components for which the variance is above 1 (when principal component analysis was applied to standardised data). We can check this by finding the variance of each of the principal components:"
   ]
  },
  {
   "cell_type": "code",
   "execution_count": 152,
   "metadata": {
    "ExecuteTime": {
     "end_time": "2021-03-28T20:35:41.627439Z",
     "start_time": "2021-03-28T20:35:41.604504Z"
    }
   },
   "outputs": [
    {
     "data": {
      "text/html": [
       "<div>\n",
       "<style scoped>\n",
       "    .dataframe tbody tr th:only-of-type {\n",
       "        vertical-align: middle;\n",
       "    }\n",
       "\n",
       "    .dataframe tbody tr th {\n",
       "        vertical-align: top;\n",
       "    }\n",
       "\n",
       "    .dataframe thead th {\n",
       "        text-align: right;\n",
       "    }\n",
       "</style>\n",
       "<table border=\"1\" class=\"dataframe\">\n",
       "  <thead>\n",
       "    <tr style=\"text-align: right;\">\n",
       "      <th></th>\n",
       "      <th>Standard deviation</th>\n",
       "    </tr>\n",
       "  </thead>\n",
       "  <tbody>\n",
       "    <tr>\n",
       "      <th>PC1</th>\n",
       "      <td>2.369205</td>\n",
       "    </tr>\n",
       "    <tr>\n",
       "      <th>PC2</th>\n",
       "      <td>1.384258</td>\n",
       "    </tr>\n",
       "    <tr>\n",
       "      <th>PC3</th>\n",
       "      <td>0.804739</td>\n",
       "    </tr>\n",
       "    <tr>\n",
       "      <th>PC4</th>\n",
       "      <td>0.438404</td>\n",
       "    </tr>\n",
       "    <tr>\n",
       "      <th>PC5</th>\n",
       "      <td>0.003393</td>\n",
       "    </tr>\n",
       "  </tbody>\n",
       "</table>\n",
       "</div>"
      ],
      "text/plain": [
       "     Standard deviation\n",
       "PC1            2.369205\n",
       "PC2            1.384258\n",
       "PC3            0.804739\n",
       "PC4            0.438404\n",
       "PC5            0.003393"
      ]
     },
     "execution_count": 152,
     "metadata": {},
     "output_type": "execute_result"
    }
   ],
   "source": [
    "summary.sdev**2"
   ]
  },
  {
   "cell_type": "markdown",
   "metadata": {},
   "source": [
    "We see that the variance is above 1 for principal components 1, 2,  (which have variances 2.65 and 2.08respectively). Therefore, using Kaiser’s criterion, we would retain the first 2 principal components."
   ]
  },
  {
   "cell_type": "markdown",
   "metadata": {},
   "source": [
    "### Loadings for the Principal Components\n",
    "\n",
    "The loadings for the principal components are stored in a named element `components_` of the variable returned by `PCA().fit()`. This contains a matrix with the loadings of each principal component, where the first column in the matrix contains the loadings for the first principal component, the second column contains the loadings for the second principal component, and so on.\n",
    "\n",
    "Therefore, to obtain the loadings for the first principal component in our analysis of the 13 chemical concentrations in wine samples, we type:"
   ]
  },
  {
   "cell_type": "code",
   "execution_count": 153,
   "metadata": {
    "ExecuteTime": {
     "end_time": "2021-03-28T20:35:43.607601Z",
     "start_time": "2021-03-28T20:35:43.596637Z"
    },
    "scrolled": true
   },
   "outputs": [
    {
     "data": {
      "text/plain": [
       "array([0.59874404, 0.59878421, 0.33636594, 0.23870693, 0.33591665])"
      ]
     },
     "execution_count": 153,
     "metadata": {},
     "output_type": "execute_result"
    }
   ],
   "source": [
    "pca.components_[0]"
   ]
  },
  {
   "cell_type": "markdown",
   "metadata": {},
   "source": [
    "This means that the first principal component is a linear combination of the variables:\n",
    "```\n",
    "0.477*Z2 + 0.484*Z3 +  0.328*Z4 + 0.344*Z5 + 0.557*Z6\n",
    "\n",
    "```\n",
    "\n",
    "where Z2, Z3, Z4, Z5,Z6 are the standardised versions of the variables V2, V3, V4, V5, V6 (that each have mean of 0 and variance of 1).\n",
    "\n",
    "Note that the square of the loadings sum to 1, as this is a constraint used in calculating the loadings:"
   ]
  },
  {
   "cell_type": "code",
   "execution_count": 99,
   "metadata": {
    "ExecuteTime": {
     "end_time": "2021-03-28T19:47:22.993796Z",
     "start_time": "2021-03-28T19:47:22.972854Z"
    }
   },
   "outputs": [
    {
     "data": {
      "text/plain": [
       "0.9999999999999992"
      ]
     },
     "execution_count": 99,
     "metadata": {},
     "output_type": "execute_result"
    }
   ],
   "source": [
    "np.sum(pca.components_[0]**2)"
   ]
  },
  {
   "cell_type": "markdown",
   "metadata": {},
   "source": [
    "To calculate the values of the first principal component, we can define our own function to calculate a principal component given the loadings and the input variables' values:"
   ]
  },
  {
   "cell_type": "code",
   "execution_count": 100,
   "metadata": {
    "ExecuteTime": {
     "end_time": "2021-03-28T19:47:24.425907Z",
     "start_time": "2021-03-28T19:47:24.413912Z"
    }
   },
   "outputs": [],
   "source": [
    "def calcpc(variables, loadings):\n",
    "    # find the number of samples in the data set and the number of variables\n",
    "    numsamples, numvariables = variables.shape\n",
    "    # make a vector to store the component\n",
    "    pc = np.zeros(numsamples)\n",
    "    # calculate the value of the component for each sample\n",
    "    for i in range(numsamples):\n",
    "        valuei = 0\n",
    "        for j in range(numvariables):\n",
    "            valueij = variables.iloc[i, j]\n",
    "            loadingj = loadings[j]\n",
    "            valuei = valuei + (valueij * loadingj)\n",
    "        pc[i] = valuei\n",
    "    return pc"
   ]
  },
  {
   "cell_type": "markdown",
   "metadata": {},
   "source": [
    "We can then use the function to calculate the values of the first principal component for each sample in our wine data:"
   ]
  },
  {
   "cell_type": "code",
   "execution_count": 101,
   "metadata": {
    "ExecuteTime": {
     "end_time": "2021-03-28T19:47:25.456831Z",
     "start_time": "2021-03-28T19:47:25.423916Z"
    }
   },
   "outputs": [
    {
     "data": {
      "text/plain": [
       "array([-0.31727878, -0.32866738, -0.32640297, -0.32728952, -0.32863238,\n",
       "       -0.11157022, -0.20911048, -0.23129087, -0.09724014, -0.1544144 ,\n",
       "       -0.30305761, -0.32781757, -0.22649202, -0.32639243, -0.32667544,\n",
       "       -0.32859252, -0.20908679, -0.09724014, -0.20911048, -0.32859435,\n",
       "       -0.32866738, -0.27363192, -0.32866738, -0.32063822, -0.32857931,\n",
       "       -0.20881166, -0.20899963, -0.13092757, -0.3280949 ,  0.        ,\n",
       "       -0.32863743, -0.32761291, -0.32813709,  0.        ,  0.        ,\n",
       "        0.        , -0.19736097,  0.        , -0.32289173, -0.32866738,\n",
       "       -0.04344037, -0.32866738, -0.32866738, -0.32866738, -0.32866738,\n",
       "       -0.23142723, -0.32866738, -0.28051834, -0.32866737, -0.30699851,\n",
       "       -0.20911048, -0.32866737, -0.32866738, -0.3286552 ,  0.        ,\n",
       "       -0.32866737, -0.3286033 , -0.32674488, -0.32863451, -0.15610772,\n",
       "       -0.32865895, -0.32866738, -0.29879801, -0.32866738, -0.32791818,\n",
       "        0.        , -0.27957627,  0.        , -0.32866738,  0.        ,\n",
       "       -0.32806894,  0.        , -0.32866738, -0.32862777, -0.32855267,\n",
       "       -0.32866738, -0.32866738, -0.32866738, -0.10981576,  0.81063346,\n",
       "       -0.32408948, -0.32866738, -0.32866738, -0.32699061, -0.22272977,\n",
       "       -0.32436571, -0.31776988, -0.29115661, -0.29086126, -0.32866738,\n",
       "       -0.32604717, -0.31398923, -0.32866738, -0.32866738, -0.32866738,\n",
       "       -0.32623217, -0.32801861, -0.30270921, -0.3275074 , -0.32622474,\n",
       "       -0.32866738, -0.32866738, -0.32866738, -0.32866738, -0.32866738,\n",
       "       -0.32715302, -0.32866738, -0.32866738, -0.32866738, -0.32866738,\n",
       "       -0.3272731 , -0.32866738, -0.32866738, -0.32866738, -0.32866738,\n",
       "       -0.32866738, -0.32866738, -0.32479529, -0.32866738, -0.30633259,\n",
       "       -0.32866738, -0.32866738, -0.32865115, -0.32866738, -0.32841319,\n",
       "       -0.05873201,  0.        ,  0.        ,  0.        ,  0.        ,\n",
       "       -0.32866738, -0.32866738, -0.32866738, -0.32866738, -0.32866738,\n",
       "       -0.32866738, -0.32866738, 17.67939907,  0.        , -0.32866738,\n",
       "       -0.32866738,  0.15340823, -0.3285376 , -0.32853977, -0.32863467,\n",
       "       -0.32866738, -0.32866738, -0.32866738, -0.32866738, -0.32863493,\n",
       "       -0.32863493, -0.3281807 , -0.32866738,  0.        ,  1.93979094,\n",
       "       -0.32596478, -0.32859819, -0.32866738, -0.32853675, -0.32866738,\n",
       "        0.        , -0.32866738, -0.32864866, -0.32866738, -0.32866738,\n",
       "       -0.32866738, -0.32825246, -0.32845243, -0.32866738, -0.32866738,\n",
       "        7.92748374, -0.32083088,  1.51822454,  4.67820213, -0.02096776,\n",
       "        0.        ,  0.        ,  6.48509444, -0.02096776, -0.03856582,\n",
       "       -0.32866738, -0.32866738, -0.32866738, -0.32866738, -0.32866738,\n",
       "       -0.32866738, -0.32866738, -0.32866738, -0.32866738, -0.32866738,\n",
       "       -0.32866738, -0.32866738, -0.32866738, -0.32866738, -0.32866738,\n",
       "       -0.32866738, -0.32866738,  0.        , -0.32866738, -0.32866738,\n",
       "       -0.20911048, -0.32327874, -0.28720577, -0.00605286, -0.23658304,\n",
       "       -0.06029598, -0.29940667, -0.231203  , -0.32539972, -0.32866738,\n",
       "       -0.32866738, -0.32866738, -0.32866738, -0.32719882, -0.32866738,\n",
       "       -0.32866738, -0.32866738, -0.32866738, -0.32797213, -0.32866737,\n",
       "        0.        ,  0.        , 13.15716201,  0.        ,  0.        ,\n",
       "        1.62097352,  0.        , -0.32866738,  1.8984218 ,  0.1720554 ,\n",
       "       -0.17697978, -0.27085884, -0.32555077, -0.32866738,  0.        ,\n",
       "       -0.32866738, -0.0747886 , -0.07435077,  0.4530508 ,  0.        ,\n",
       "       -0.32866738,  1.2693286 , -0.01706274])"
      ]
     },
     "execution_count": 101,
     "metadata": {},
     "output_type": "execute_result"
    }
   ],
   "source": [
    "calcpc(standardisedX, pca.components_[0])"
   ]
  },
  {
   "cell_type": "markdown",
   "metadata": {},
   "source": [
    "In fact, the values of the first principal component are computed with the following, so we can compare those values to the ones that we calculated, and they should agree"
   ]
  },
  {
   "cell_type": "code",
   "execution_count": 102,
   "metadata": {
    "ExecuteTime": {
     "end_time": "2021-03-28T19:47:26.372792Z",
     "start_time": "2021-03-28T19:47:26.352844Z"
    }
   },
   "outputs": [
    {
     "data": {
      "text/plain": [
       "array([-0.31727878, -0.32866738, -0.32640297, -0.32728952, -0.32863238,\n",
       "       -0.11157022, -0.20911048, -0.23129087, -0.09724014, -0.1544144 ,\n",
       "       -0.30305761, -0.32781757, -0.22649202, -0.32639243, -0.32667544,\n",
       "       -0.32859252, -0.20908679, -0.09724014, -0.20911048, -0.32859435,\n",
       "       -0.32866738, -0.27363192, -0.32866738, -0.32063822, -0.32857931,\n",
       "       -0.20881166, -0.20899963, -0.13092757, -0.3280949 ,  0.        ,\n",
       "       -0.32863743, -0.32761291, -0.32813709,  0.        ,  0.        ,\n",
       "        0.        , -0.19736097,  0.        , -0.32289173, -0.32866738,\n",
       "       -0.04344037, -0.32866738, -0.32866738, -0.32866738, -0.32866738,\n",
       "       -0.23142723, -0.32866738, -0.28051834, -0.32866737, -0.30699851,\n",
       "       -0.20911048, -0.32866737, -0.32866738, -0.3286552 ,  0.        ,\n",
       "       -0.32866737, -0.3286033 , -0.32674488, -0.32863451, -0.15610772,\n",
       "       -0.32865895, -0.32866738, -0.29879801, -0.32866738, -0.32791818,\n",
       "        0.        , -0.27957627,  0.        , -0.32866738,  0.        ,\n",
       "       -0.32806894,  0.        , -0.32866738, -0.32862777, -0.32855267,\n",
       "       -0.32866738, -0.32866738, -0.32866738, -0.10981576,  0.81063346,\n",
       "       -0.32408948, -0.32866738, -0.32866738, -0.32699061, -0.22272977,\n",
       "       -0.32436571, -0.31776988, -0.29115661, -0.29086126, -0.32866738,\n",
       "       -0.32604717, -0.31398923, -0.32866738, -0.32866738, -0.32866738,\n",
       "       -0.32623217, -0.32801861, -0.30270921, -0.3275074 , -0.32622474,\n",
       "       -0.32866738, -0.32866738, -0.32866738, -0.32866738, -0.32866738,\n",
       "       -0.32715302, -0.32866738, -0.32866738, -0.32866738, -0.32866738,\n",
       "       -0.3272731 , -0.32866738, -0.32866738, -0.32866738, -0.32866738,\n",
       "       -0.32866738, -0.32866738, -0.32479529, -0.32866738, -0.30633259,\n",
       "       -0.32866738, -0.32866738, -0.32865115, -0.32866738, -0.32841319,\n",
       "       -0.05873201,  0.        ,  0.        ,  0.        ,  0.        ,\n",
       "       -0.32866738, -0.32866738, -0.32866738, -0.32866738, -0.32866738,\n",
       "       -0.32866738, -0.32866738, 17.67939907,  0.        , -0.32866738,\n",
       "       -0.32866738,  0.15340823, -0.3285376 , -0.32853977, -0.32863467,\n",
       "       -0.32866738, -0.32866738, -0.32866738, -0.32866738, -0.32863493,\n",
       "       -0.32863493, -0.3281807 , -0.32866738,  0.        ,  1.93979094,\n",
       "       -0.32596478, -0.32859819, -0.32866738, -0.32853675, -0.32866738,\n",
       "        0.        , -0.32866738, -0.32864866, -0.32866738, -0.32866738,\n",
       "       -0.32866738, -0.32825246, -0.32845243, -0.32866738, -0.32866738,\n",
       "        7.92748374, -0.32083088,  1.51822454,  4.67820213, -0.02096776,\n",
       "        0.        ,  0.        ,  6.48509444, -0.02096776, -0.03856582,\n",
       "       -0.32866738, -0.32866738, -0.32866738, -0.32866738, -0.32866738,\n",
       "       -0.32866738, -0.32866738, -0.32866738, -0.32866738, -0.32866738,\n",
       "       -0.32866738, -0.32866738, -0.32866738, -0.32866738, -0.32866738,\n",
       "       -0.32866738, -0.32866738,  0.        , -0.32866738, -0.32866738,\n",
       "       -0.20911048, -0.32327874, -0.28720577, -0.00605286, -0.23658304,\n",
       "       -0.06029598, -0.29940667, -0.231203  , -0.32539972, -0.32866738,\n",
       "       -0.32866738, -0.32866738, -0.32866738, -0.32719882, -0.32866738,\n",
       "       -0.32866738, -0.32866738, -0.32866738, -0.32797213, -0.32866737,\n",
       "        0.        ,  0.        , 13.15716201,  0.        ,  0.        ,\n",
       "        1.62097352,  0.        , -0.32866738,  1.8984218 ,  0.1720554 ,\n",
       "       -0.17697978, -0.27085884, -0.32555077, -0.32866738,  0.        ,\n",
       "       -0.32866738, -0.0747886 , -0.07435077,  0.4530508 ,  0.        ,\n",
       "       -0.32866738,  1.2693286 , -0.01706274])"
      ]
     },
     "execution_count": 102,
     "metadata": {},
     "output_type": "execute_result"
    }
   ],
   "source": [
    "pca.transform(standardisedX)[:, 0]"
   ]
  },
  {
   "cell_type": "markdown",
   "metadata": {},
   "source": [
    "They do agree.\n",
    "\n",
    "the first principal component has highest (in absolute value) loadings for V6 (0.557), V2 and V3 .The loadings are positive.\n",
    "Similarly, we can obtain the loadings for the second principal component by typing:"
   ]
  },
  {
   "cell_type": "code",
   "execution_count": 105,
   "metadata": {
    "ExecuteTime": {
     "end_time": "2021-03-28T19:49:30.940829Z",
     "start_time": "2021-03-28T19:49:30.932851Z"
    }
   },
   "outputs": [
    {
     "data": {
      "text/plain": [
       "array([-0.4202239 , -0.4096663 ,  0.57711678,  0.56730288,  0.02624993])"
      ]
     },
     "execution_count": 105,
     "metadata": {},
     "output_type": "execute_result"
    }
   ],
   "source": [
    "pca.components_[1]"
   ]
  },
  {
   "cell_type": "markdown",
   "metadata": {},
   "source": [
    "This means that the second principal component is a linear combination of the variables: \n",
    "\n",
    "```\n",
    "-0.42*Z2 -0.4096*Z3 + 0.577*Z4 + 0.567*Z5 + 0.026*Z6 \n",
    "```\n",
    "\n",
    "where Z2, Z3,Z4, Z5, Z6 are the standardised versions of variables V2, V3, V4, V5 , V6 that each have mean 0 and variance 1.\n",
    "\n",
    "Note that the square of the loadings sum to 1, as above:"
   ]
  },
  {
   "cell_type": "code",
   "execution_count": 104,
   "metadata": {
    "ExecuteTime": {
     "end_time": "2021-03-28T19:48:10.342883Z",
     "start_time": "2021-03-28T19:48:10.332936Z"
    }
   },
   "outputs": [
    {
     "data": {
      "text/plain": [
       "0.9999999999999992"
      ]
     },
     "execution_count": 104,
     "metadata": {},
     "output_type": "execute_result"
    }
   ],
   "source": [
    "np.sum(pca.components_[1]**2)"
   ]
  },
  {
   "cell_type": "markdown",
   "metadata": {},
   "source": [
    "The second principal component has highest loadings for V4, V5.The loadings for V2, V1 are negative, while the loading for V3, V4 V6are positive.Therefore, an interpretation of the second principal component is that it represents a contrast between the concentrations of V1, V2 and the concentration of V6, V4, V5. "
   ]
  },
  {
   "cell_type": "markdown",
   "metadata": {},
   "source": [
    "### Scatterplots of the Principal Components\n",
    "The values of the principal components can be computed by the `transform()` (or `fit_transform()`) method of the `PCA` class. It returns a matrix with the principal components, where the first column in the matrix contains the first principal component, the second column the second component, and so on.\n",
    "\n",
    "Thus, in our example, `pca.transform(standardisedX)[:, 0]` contains the first principal component, and `pca.transform(standardisedX)[:, 1]` contains the second principal component.\n",
    "\n",
    "We can make a scatterplot of the first two principal components, and label the data points with the cultivar that the wine samples come from, by typing:\n"
   ]
  },
  {
   "cell_type": "code",
   "execution_count": 107,
   "metadata": {
    "ExecuteTime": {
     "end_time": "2021-03-28T19:51:46.499290Z",
     "start_time": "2021-03-28T19:51:46.129308Z"
    }
   },
   "outputs": [
    {
     "data": {
      "image/png": "[encoded data removed]",
      "text/plain": [
       "<Figure size 507.625x360 with 1 Axes>"
      ]
     },
     "metadata": {
      "needs_background": "light"
     },
     "output_type": "display_data"
    }
   ],
   "source": [
    "def pca_scatter(pca, standardised_values, classifs):\n",
    "    foo = pca.transform(standardised_values)\n",
    "    bar = pd.DataFrame(zip(foo[:, 0], foo[:, 1], classifs), columns=[\"PC1\", \"PC2\", \"Class\"])\n",
    "    sns.lmplot(\"PC1\", \"PC2\", bar, hue=\"Class\", fit_reg=False)\n",
    "\n",
    "pca_scatter(pca, standardisedX, y)"
   ]
  },
  {
   "cell_type": "markdown",
   "metadata": {},
   "source": [
    "The scatterplot shows  the first principal component on the x-axis, and the second principal component on the y-axis.some have a higher value of pc2 and a lower of pc1, but a lot are are located near (0,0)\n",
    "\n",
    "Because of the way the data is distributed the first two principal components are reasonably useful for distinguishing samples of the different classes"
   ]
  },
  {
   "cell_type": "code",
   "execution_count": 108,
   "metadata": {
    "ExecuteTime": {
     "end_time": "2021-03-28T19:52:58.642376Z",
     "start_time": "2021-03-28T19:52:58.632400Z"
    }
   },
   "outputs": [],
   "source": [
    "def printMeanAndSdByGroup(variables, groupvariable):\n",
    "    data_groupby = variables.groupby(groupvariable)\n",
    "    print(\"## Means:\")\n",
    "    display(data_groupby.apply(np.mean))\n",
    "    print(\"\\n## Standard deviations:\")\n",
    "    display(data_groupby.apply(np.std))\n",
    "    print(\"\\n## Sample sizes:\")\n",
    "    display(pd.DataFrame(data_groupby.apply(len)))"
   ]
  },
  {
   "cell_type": "code",
   "execution_count": 109,
   "metadata": {
    "ExecuteTime": {
     "end_time": "2021-03-28T19:52:59.514703Z",
     "start_time": "2021-03-28T19:52:59.451901Z"
    }
   },
   "outputs": [
    {
     "name": "stdout",
     "output_type": "stream",
     "text": [
      "## Means:\n"
     ]
    },
    {
     "data": {
      "text/html": [
       "<div>\n",
       "<style scoped>\n",
       "    .dataframe tbody tr th:only-of-type {\n",
       "        vertical-align: middle;\n",
       "    }\n",
       "\n",
       "    .dataframe tbody tr th {\n",
       "        vertical-align: top;\n",
       "    }\n",
       "\n",
       "    .dataframe thead th {\n",
       "        text-align: right;\n",
       "    }\n",
       "</style>\n",
       "<table border=\"1\" class=\"dataframe\">\n",
       "  <thead>\n",
       "    <tr style=\"text-align: right;\">\n",
       "      <th></th>\n",
       "      <th>V109</th>\n",
       "      <th>V110</th>\n",
       "      <th>V115</th>\n",
       "      <th>V116</th>\n",
       "      <th>V121</th>\n",
       "    </tr>\n",
       "    <tr>\n",
       "      <th>V1</th>\n",
       "      <th></th>\n",
       "      <th></th>\n",
       "      <th></th>\n",
       "      <th></th>\n",
       "      <th></th>\n",
       "    </tr>\n",
       "  </thead>\n",
       "  <tbody>\n",
       "    <tr>\n",
       "      <th>0.000000</th>\n",
       "      <td>-0.053717</td>\n",
       "      <td>-0.055562</td>\n",
       "      <td>-0.025907</td>\n",
       "      <td>-0.025318</td>\n",
       "      <td>-0.000759</td>\n",
       "    </tr>\n",
       "    <tr>\n",
       "      <th>1.000000</th>\n",
       "      <td>0.678700</td>\n",
       "      <td>0.682161</td>\n",
       "      <td>1.083127</td>\n",
       "      <td>1.094154</td>\n",
       "      <td>1.278475</td>\n",
       "    </tr>\n",
       "    <tr>\n",
       "      <th>2.000000</th>\n",
       "      <td>-0.092817</td>\n",
       "      <td>-0.093341</td>\n",
       "      <td>-0.155421</td>\n",
       "      <td>-0.157245</td>\n",
       "      <td>-0.186898</td>\n",
       "    </tr>\n",
       "    <tr>\n",
       "      <th>2.113445</th>\n",
       "      <td>-0.020151</td>\n",
       "      <td>-0.020256</td>\n",
       "      <td>-0.033139</td>\n",
       "      <td>-0.033392</td>\n",
       "      <td>-0.042917</td>\n",
       "    </tr>\n",
       "    <tr>\n",
       "      <th>3.000000</th>\n",
       "      <td>-0.072249</td>\n",
       "      <td>-0.072894</td>\n",
       "      <td>-0.130220</td>\n",
       "      <td>-0.114804</td>\n",
       "      <td>-0.010228</td>\n",
       "    </tr>\n",
       "    <tr>\n",
       "      <th>4.000000</th>\n",
       "      <td>-0.048804</td>\n",
       "      <td>-0.050486</td>\n",
       "      <td>-0.049648</td>\n",
       "      <td>-0.050064</td>\n",
       "      <td>-0.050860</td>\n",
       "    </tr>\n",
       "    <tr>\n",
       "      <th>5.000000</th>\n",
       "      <td>-0.074239</td>\n",
       "      <td>-0.072351</td>\n",
       "      <td>-0.105239</td>\n",
       "      <td>-0.109263</td>\n",
       "      <td>-0.155122</td>\n",
       "    </tr>\n",
       "  </tbody>\n",
       "</table>\n",
       "</div>"
      ],
      "text/plain": [
       "              V109      V110      V115      V116      V121\n",
       "V1                                                        \n",
       "0.000000 -0.053717 -0.055562 -0.025907 -0.025318 -0.000759\n",
       "1.000000  0.678700  0.682161  1.083127  1.094154  1.278475\n",
       "2.000000 -0.092817 -0.093341 -0.155421 -0.157245 -0.186898\n",
       "2.113445 -0.020151 -0.020256 -0.033139 -0.033392 -0.042917\n",
       "3.000000 -0.072249 -0.072894 -0.130220 -0.114804 -0.010228\n",
       "4.000000 -0.048804 -0.050486 -0.049648 -0.050064 -0.050860\n",
       "5.000000 -0.074239 -0.072351 -0.105239 -0.109263 -0.155122"
      ]
     },
     "metadata": {},
     "output_type": "display_data"
    },
    {
     "name": "stdout",
     "output_type": "stream",
     "text": [
      "\n",
      "## Standard deviations:\n"
     ]
    },
    {
     "data": {
      "text/html": [
       "<div>\n",
       "<style scoped>\n",
       "    .dataframe tbody tr th:only-of-type {\n",
       "        vertical-align: middle;\n",
       "    }\n",
       "\n",
       "    .dataframe tbody tr th {\n",
       "        vertical-align: top;\n",
       "    }\n",
       "\n",
       "    .dataframe thead th {\n",
       "        text-align: right;\n",
       "    }\n",
       "</style>\n",
       "<table border=\"1\" class=\"dataframe\">\n",
       "  <thead>\n",
       "    <tr style=\"text-align: right;\">\n",
       "      <th></th>\n",
       "      <th>V109</th>\n",
       "      <th>V110</th>\n",
       "      <th>V115</th>\n",
       "      <th>V116</th>\n",
       "      <th>V121</th>\n",
       "    </tr>\n",
       "    <tr>\n",
       "      <th>V1</th>\n",
       "      <th></th>\n",
       "      <th></th>\n",
       "      <th></th>\n",
       "      <th></th>\n",
       "      <th></th>\n",
       "    </tr>\n",
       "  </thead>\n",
       "  <tbody>\n",
       "    <tr>\n",
       "      <th>0.000000</th>\n",
       "      <td>0.057915</td>\n",
       "      <td>0.051752</td>\n",
       "      <td>0.213218</td>\n",
       "      <td>0.218058</td>\n",
       "      <td>0.408657</td>\n",
       "    </tr>\n",
       "    <tr>\n",
       "      <th>1.000000</th>\n",
       "      <td>2.910516</td>\n",
       "      <td>2.909625</td>\n",
       "      <td>2.760822</td>\n",
       "      <td>2.755878</td>\n",
       "      <td>2.645685</td>\n",
       "    </tr>\n",
       "    <tr>\n",
       "      <th>2.000000</th>\n",
       "      <td>0.026309</td>\n",
       "      <td>0.026362</td>\n",
       "      <td>0.039518</td>\n",
       "      <td>0.037899</td>\n",
       "      <td>0.076755</td>\n",
       "    </tr>\n",
       "    <tr>\n",
       "      <th>2.113445</th>\n",
       "      <td>0.040302</td>\n",
       "      <td>0.040513</td>\n",
       "      <td>0.066277</td>\n",
       "      <td>0.066783</td>\n",
       "      <td>0.085834</td>\n",
       "    </tr>\n",
       "    <tr>\n",
       "      <th>3.000000</th>\n",
       "      <td>0.039266</td>\n",
       "      <td>0.039328</td>\n",
       "      <td>0.065147</td>\n",
       "      <td>0.063906</td>\n",
       "      <td>0.182455</td>\n",
       "    </tr>\n",
       "    <tr>\n",
       "      <th>4.000000</th>\n",
       "      <td>0.045468</td>\n",
       "      <td>0.046436</td>\n",
       "      <td>0.071223</td>\n",
       "      <td>0.071497</td>\n",
       "      <td>0.087285</td>\n",
       "    </tr>\n",
       "    <tr>\n",
       "      <th>5.000000</th>\n",
       "      <td>0.044467</td>\n",
       "      <td>0.047204</td>\n",
       "      <td>0.119658</td>\n",
       "      <td>0.117451</td>\n",
       "      <td>0.104938</td>\n",
       "    </tr>\n",
       "  </tbody>\n",
       "</table>\n",
       "</div>"
      ],
      "text/plain": [
       "              V109      V110      V115      V116      V121\n",
       "V1                                                        \n",
       "0.000000  0.057915  0.051752  0.213218  0.218058  0.408657\n",
       "1.000000  2.910516  2.909625  2.760822  2.755878  2.645685\n",
       "2.000000  0.026309  0.026362  0.039518  0.037899  0.076755\n",
       "2.113445  0.040302  0.040513  0.066277  0.066783  0.085834\n",
       "3.000000  0.039266  0.039328  0.065147  0.063906  0.182455\n",
       "4.000000  0.045468  0.046436  0.071223  0.071497  0.087285\n",
       "5.000000  0.044467  0.047204  0.119658  0.117451  0.104938"
      ]
     },
     "metadata": {},
     "output_type": "display_data"
    },
    {
     "name": "stdout",
     "output_type": "stream",
     "text": [
      "\n",
      "## Sample sizes:\n"
     ]
    },
    {
     "data": {
      "text/html": [
       "<div>\n",
       "<style scoped>\n",
       "    .dataframe tbody tr th:only-of-type {\n",
       "        vertical-align: middle;\n",
       "    }\n",
       "\n",
       "    .dataframe tbody tr th {\n",
       "        vertical-align: top;\n",
       "    }\n",
       "\n",
       "    .dataframe thead th {\n",
       "        text-align: right;\n",
       "    }\n",
       "</style>\n",
       "<table border=\"1\" class=\"dataframe\">\n",
       "  <thead>\n",
       "    <tr style=\"text-align: right;\">\n",
       "      <th></th>\n",
       "      <th>0</th>\n",
       "    </tr>\n",
       "    <tr>\n",
       "      <th>V1</th>\n",
       "      <th></th>\n",
       "    </tr>\n",
       "  </thead>\n",
       "  <tbody>\n",
       "    <tr>\n",
       "      <th>0.000000</th>\n",
       "      <td>13</td>\n",
       "    </tr>\n",
       "    <tr>\n",
       "      <th>1.000000</th>\n",
       "      <td>27</td>\n",
       "    </tr>\n",
       "    <tr>\n",
       "      <th>2.000000</th>\n",
       "      <td>165</td>\n",
       "    </tr>\n",
       "    <tr>\n",
       "      <th>2.113445</th>\n",
       "      <td>5</td>\n",
       "    </tr>\n",
       "    <tr>\n",
       "      <th>3.000000</th>\n",
       "      <td>5</td>\n",
       "    </tr>\n",
       "    <tr>\n",
       "      <th>4.000000</th>\n",
       "      <td>9</td>\n",
       "    </tr>\n",
       "    <tr>\n",
       "      <th>5.000000</th>\n",
       "      <td>19</td>\n",
       "    </tr>\n",
       "  </tbody>\n",
       "</table>\n",
       "</div>"
      ],
      "text/plain": [
       "            0\n",
       "V1           \n",
       "0.000000   13\n",
       "1.000000   27\n",
       "2.000000  165\n",
       "2.113445    5\n",
       "3.000000    5\n",
       "4.000000    9\n",
       "5.000000   19"
      ]
     },
     "metadata": {},
     "output_type": "display_data"
    }
   ],
   "source": [
    "printMeanAndSdByGroup(standardisedX, y);"
   ]
  },
  {
   "cell_type": "markdown",
   "metadata": {},
   "source": [
    "## Linear Discriminant Analysis\n",
    "\n",
    "The purpose of principal component analysis is to find the best low-dimensional representation of the variation in a multivariate data set. \n",
    "\n",
    "The purpose of linear discriminant analysis (LDA) is to find the linear combinations of the original variables (the 5 variables here) that gives the best possible separation between the groups (wine cultivars here) in our data set. *Linear discriminant analysis* is also known as *canonical discriminant analysis*, or simply *discriminant analysis*.\n",
    "\n",
    "\n",
    "You can carry out a linear discriminant analysis by using the `LinearDiscriminantAnalysis` class model from the module `sklearn.discriminant_analysis` and using its method `fit()` to fit our `X, y` data.\n",
    "\n",
    "For example, to carry out a linear discriminant analysis using 5 columns , we type:"
   ]
  },
  {
   "cell_type": "code",
   "execution_count": 110,
   "metadata": {
    "ExecuteTime": {
     "end_time": "2021-03-28T19:53:01.149823Z",
     "start_time": "2021-03-28T19:53:01.129879Z"
    }
   },
   "outputs": [],
   "source": [
    "y = data.V1.astype(str)\n",
    "lda = LinearDiscriminantAnalysis().fit(X, y)"
   ]
  },
  {
   "cell_type": "markdown",
   "metadata": {},
   "source": [
    "### Loadings for the Discriminant Functions\n",
    "\n",
    "The values of the loadings of the discriminant functions for the wine data are stored in the `scalings_` member of the `lda` object model. For a pretty print we can type:"
   ]
  },
  {
   "cell_type": "code",
   "execution_count": 115,
   "metadata": {
    "ExecuteTime": {
     "end_time": "2021-03-28T19:53:44.636807Z",
     "start_time": "2021-03-28T19:53:44.607885Z"
    }
   },
   "outputs": [
    {
     "name": "stdout",
     "output_type": "stream",
     "text": [
      "Coefficients of linear discriminants:\n"
     ]
    },
    {
     "data": {
      "text/html": [
       "<div>\n",
       "<style scoped>\n",
       "    .dataframe tbody tr th:only-of-type {\n",
       "        vertical-align: middle;\n",
       "    }\n",
       "\n",
       "    .dataframe tbody tr th {\n",
       "        vertical-align: top;\n",
       "    }\n",
       "\n",
       "    .dataframe thead th {\n",
       "        text-align: right;\n",
       "    }\n",
       "</style>\n",
       "<table border=\"1\" class=\"dataframe\">\n",
       "  <thead>\n",
       "    <tr style=\"text-align: right;\">\n",
       "      <th></th>\n",
       "      <th>LD1</th>\n",
       "      <th>LD2</th>\n",
       "      <th>LD3</th>\n",
       "      <th>LD4</th>\n",
       "      <th>LD5</th>\n",
       "    </tr>\n",
       "  </thead>\n",
       "  <tbody>\n",
       "    <tr>\n",
       "      <th>V109</th>\n",
       "      <td>9.000534e-06</td>\n",
       "      <td>-1.869860e-05</td>\n",
       "      <td>-1.033064e-05</td>\n",
       "      <td>-2.293220e-05</td>\n",
       "      <td>2.006157e-06</td>\n",
       "    </tr>\n",
       "    <tr>\n",
       "      <th>V110</th>\n",
       "      <td>-8.700702e-06</td>\n",
       "      <td>1.891131e-05</td>\n",
       "      <td>1.088808e-05</td>\n",
       "      <td>2.172245e-05</td>\n",
       "      <td>-2.232028e-06</td>\n",
       "    </tr>\n",
       "    <tr>\n",
       "      <th>V115</th>\n",
       "      <td>1.251810e-06</td>\n",
       "      <td>5.928233e-06</td>\n",
       "      <td>-2.655331e-06</td>\n",
       "      <td>1.896025e-06</td>\n",
       "      <td>-1.309872e-06</td>\n",
       "    </tr>\n",
       "    <tr>\n",
       "      <th>V116</th>\n",
       "      <td>-1.142303e-06</td>\n",
       "      <td>-6.223958e-06</td>\n",
       "      <td>2.861142e-06</td>\n",
       "      <td>-2.219866e-06</td>\n",
       "      <td>1.601245e-06</td>\n",
       "    </tr>\n",
       "    <tr>\n",
       "      <th>V121</th>\n",
       "      <td>5.488817e-07</td>\n",
       "      <td>1.131030e-07</td>\n",
       "      <td>-6.679490e-07</td>\n",
       "      <td>9.645288e-07</td>\n",
       "      <td>-5.169279e-07</td>\n",
       "    </tr>\n",
       "  </tbody>\n",
       "</table>\n",
       "</div>"
      ],
      "text/plain": [
       "               LD1           LD2           LD3           LD4           LD5\n",
       "V109  9.000534e-06 -1.869860e-05 -1.033064e-05 -2.293220e-05  2.006157e-06\n",
       "V110 -8.700702e-06  1.891131e-05  1.088808e-05  2.172245e-05 -2.232028e-06\n",
       "V115  1.251810e-06  5.928233e-06 -2.655331e-06  1.896025e-06 -1.309872e-06\n",
       "V116 -1.142303e-06 -6.223958e-06  2.861142e-06 -2.219866e-06  1.601245e-06\n",
       "V121  5.488817e-07  1.131030e-07 -6.679490e-07  9.645288e-07 -5.169279e-07"
      ]
     },
     "metadata": {},
     "output_type": "display_data"
    }
   ],
   "source": [
    "def pretty_scalings(lda, X, out=False):\n",
    "    ret = pd.DataFrame(lda.scalings_, index=X.columns, columns=[\"LD\"+str(i+1) for i in range(lda.scalings_.shape[1])])\n",
    "    if out:\n",
    "        print(\"Coefficients of linear discriminants:\")\n",
    "        display(ret)\n",
    "    return ret\n",
    "\n",
    "pretty_scalings_ = pretty_scalings(lda, X, out=True)"
   ]
  },
  {
   "cell_type": "markdown",
   "metadata": {},
   "source": []
  },
  {
   "cell_type": "code",
   "execution_count": 116,
   "metadata": {
    "ExecuteTime": {
     "end_time": "2021-03-28T19:53:51.928833Z",
     "start_time": "2021-03-28T19:53:51.914871Z"
    }
   },
   "outputs": [
    {
     "data": {
      "text/plain": [
       "array([ 0.000009  , -0.0000087 ,  0.00000125, -0.00000114,  0.00000055])"
      ]
     },
     "execution_count": 116,
     "metadata": {},
     "output_type": "execute_result"
    }
   ],
   "source": [
    "lda.scalings_[:, 0]"
   ]
  },
  {
   "cell_type": "markdown",
   "metadata": {},
   "source": [
    "Or for \"prettier\" print, use the dataframe variable created above:"
   ]
  },
  {
   "cell_type": "code",
   "execution_count": 117,
   "metadata": {
    "ExecuteTime": {
     "end_time": "2021-03-28T19:53:54.033868Z",
     "start_time": "2021-03-28T19:53:54.018869Z"
    }
   },
   "outputs": [
    {
     "data": {
      "text/plain": [
       "V109    9.000534e-06\n",
       "V110   -8.700702e-06\n",
       "V115    1.251810e-06\n",
       "V116   -1.142303e-06\n",
       "V121    5.488817e-07\n",
       "Name: LD1, dtype: float64"
      ]
     },
     "execution_count": 117,
     "metadata": {},
     "output_type": "execute_result"
    }
   ],
   "source": [
    "pretty_scalings_.LD1"
   ]
  },
  {
   "cell_type": "markdown",
   "metadata": {},
   "source": [
    "To calculate the values of the first discriminant function, we can define our own function `calclda()`:"
   ]
  },
  {
   "cell_type": "code",
   "execution_count": 118,
   "metadata": {
    "ExecuteTime": {
     "end_time": "2021-03-28T19:53:56.201821Z",
     "start_time": "2021-03-28T19:53:56.182902Z"
    }
   },
   "outputs": [],
   "source": [
    "def calclda(variables, loadings):\n",
    "    # find the number of samples in the data set and the number of variables\n",
    "    numsamples, numvariables = variables.shape\n",
    "    # make a vector to store the discriminant function\n",
    "    ld = np.zeros(numsamples)\n",
    "    # calculate the value of the discriminant function for each sample\n",
    "    for i in range(numsamples):\n",
    "        valuei = 0\n",
    "        for j in range(numvariables):\n",
    "            valueij = variables.iloc[i, j]\n",
    "            loadingj = loadings[j]\n",
    "            valuei = valuei + (valueij * loadingj)\n",
    "        ld[i] = valuei\n",
    "    # standardise the discriminant function so that its mean value is 0:\n",
    "    ld = scale(ld, with_std=False)\n",
    "    return ld"
   ]
  },
  {
   "cell_type": "markdown",
   "metadata": {},
   "source": [
    "The function `calclda()` simply calculates the value of a discriminant function for each sample in the data set, for example, for the first disriminant function, for each sample we calculate the value using the equation:\n",
    "\n",
    "```\n",
    "-0.403*V2 - 0.165*V3 - 0.369*V4 + 0.155*V5 - 0.002*V6 + 0.618*V7 - 1.661*V8 - 1.496*V9 + 0.134*V10 + 0.355*V11 - 0.818*V12 - 1.158*V13 - 0.003*V14\n",
    "```\n",
    "\n",
    "Furthermore, the `scale()` command is used within the `calclda()` function in order to standardise the value of a discriminant function (eg. the first discriminant function) so that its mean value (over all the wine samples) is 0.\n",
    "\n",
    "We can use the function `calclda()` to calculate the values of the first discriminant function for each sample in our wine data:"
   ]
  },
  {
   "cell_type": "code",
   "execution_count": 119,
   "metadata": {
    "ExecuteTime": {
     "end_time": "2021-03-28T19:54:05.679765Z",
     "start_time": "2021-03-28T19:54:05.635873Z"
    }
   },
   "outputs": [
    {
     "data": {
      "text/plain": [
       "array([-0.37341494, -0.28949217, -0.2871651 , -0.28707209, -0.28890697,\n",
       "       -0.1054567 , -0.11298627, -0.27761255, -0.0117561 ,  0.7934246 ,\n",
       "       -0.26189718, -0.28020918, -0.76616094, -0.28686076, -0.26806264,\n",
       "       -0.28824036, -0.11281254, -0.0117561 , -0.11298627, -0.28895568,\n",
       "       -0.28949217,  0.61213923, -0.28949217, -0.38325324, -0.28985313,\n",
       "       -0.1120679 , -0.11384268,  0.0024378 , -0.2809014 , -0.        ,\n",
       "       -0.28899144, -0.30434211, -0.28305199, -0.        , -0.        ,\n",
       "       -0.        , -0.17713153, -0.        , -0.27937708, -0.28949217,\n",
       "        0.13159812, -0.28949217, -0.28949217, -0.28949217, -0.28949217,\n",
       "       -0.27773607, -0.28949217,  0.75170468, -0.28949216, -0.25105103,\n",
       "       -0.11298627, -0.28949216, -0.28949217, -0.28928862, -0.        ,\n",
       "       -0.28949215, -0.29039459, -0.31656654, -0.28967396, -0.11667412,\n",
       "       -0.28961085, -0.28949217, -0.24539501, -0.28949217, -0.2732912 ,\n",
       "       -0.        , -1.31893292, -0.        , -0.28949217, -0.        ,\n",
       "       -0.28631848, -0.        , -0.28949217, -0.28882982, -0.28871277,\n",
       "       -0.28949217, -0.28949217, -0.28949217, -0.02223231,  2.13507844,\n",
       "       -0.38549058, -0.28949217, -0.28949217, -0.30402948, -0.12092297,\n",
       "       -0.37969817, -0.20435853, -0.49001807, -0.19634403, -0.28949217,\n",
       "       -0.32639235, -0.26782232, -0.28949217, -0.28949217, -0.28949217,\n",
       "       -0.28589699, -0.28853437, -0.25116925, -0.28777965, -0.28588601,\n",
       "       -0.28949217, -0.28949217, -0.28949217, -0.28949217, -0.28949217,\n",
       "       -0.3108187 , -0.28949217, -0.28949217, -0.28949217, -0.28949217,\n",
       "       -0.31873018, -0.28949217, -0.28949217, -0.28949217, -0.28949217,\n",
       "       -0.28949217, -0.28949217, -0.27257554, -0.28949217, -0.27715331,\n",
       "       -0.28949217, -0.28949217, -0.28972063, -0.28949217, -0.29168822,\n",
       "        0.05210573, -0.        , -0.        , -0.        , -0.        ,\n",
       "       -0.28949217, -0.28949217, -0.28949217, -0.28949217, -0.28949217,\n",
       "       -0.28949217, -0.28949217,  5.77642508, -0.        , -0.28949217,\n",
       "       -0.28949217,  0.13712967, -0.29131985, -0.29128924, -0.28995278,\n",
       "       -0.28949217, -0.28949217, -0.28949217, -0.28949217, -0.28994909,\n",
       "       -0.28994909, -0.29634598, -0.28949217, -0.        ,  1.64461545,\n",
       "       -0.31992562, -0.28954417, -0.28949217, -0.28730776, -0.28949217,\n",
       "       -0.        , -0.28949217, -0.28917921, -0.28949217, -0.28949217,\n",
       "       -0.28949217, -0.29819287, -0.28589752, -0.28949217, -0.28949217,\n",
       "        9.51018627, -0.27926655,  3.11464997,  5.95593749, -0.03095541,\n",
       "       -0.        , -0.        ,  8.12565812, -0.03095541,  0.01264292,\n",
       "       -0.28949217, -0.28949217, -0.28949217, -0.28949217, -0.28949217,\n",
       "       -0.28949217, -0.28949217, -0.28949217, -0.28949217, -0.28949217,\n",
       "       -0.28949217, -0.28949217, -0.28949217, -0.28949217, -0.28949217,\n",
       "       -0.28949217, -0.28949217, -0.        , -0.28949217, -0.28949217,\n",
       "       -0.11298627, -0.28650669, -0.85389646,  0.03767179, -0.14768537,\n",
       "       -0.31248287, -0.23597176, -0.16882645, -0.28719789, -0.28949217,\n",
       "       -0.28949217, -0.28949217, -0.28949217, -0.28732408, -0.28949217,\n",
       "       -0.28949217, -0.28949217, -0.28949217, -0.28846576, -0.28949218,\n",
       "       -0.        , -0.        ,  7.30333553, -0.        , -0.        ,\n",
       "        2.32840312, -0.        , -0.28949217,  3.02348032, -0.09303095,\n",
       "       -0.12825514, -0.33955829, -0.28590744, -0.28949217, -0.        ,\n",
       "       -0.28949217,  0.02317373,  0.07062147,  0.54223841, -0.        ,\n",
       "       -0.28949217,  1.89367195,  0.09736923])"
      ]
     },
     "execution_count": 119,
     "metadata": {},
     "output_type": "execute_result"
    }
   ],
   "source": [
    "calclda(X, lda.scalings_[:, 0])"
   ]
  },
  {
   "cell_type": "markdown",
   "metadata": {},
   "source": [
    "In fact, the values of the first linear discriminant function can be calculated using the `transform(X)` or `fit_transform(X, y)` methods of the LDA object, so we can compare those to the ones that we calculated, and they should agree:"
   ]
  },
  {
   "cell_type": "code",
   "execution_count": 120,
   "metadata": {
    "ExecuteTime": {
     "end_time": "2021-03-28T19:54:07.387814Z",
     "start_time": "2021-03-28T19:54:07.365874Z"
    }
   },
   "outputs": [
    {
     "data": {
      "text/plain": [
       "array([-0.37341494, -0.28949217, -0.2871651 , -0.28707209, -0.28890697,\n",
       "       -0.1054567 , -0.11298627, -0.27761255, -0.0117561 ,  0.7934246 ,\n",
       "       -0.26189718, -0.28020918, -0.76616094, -0.28686076, -0.26806264,\n",
       "       -0.28824036, -0.11281254, -0.0117561 , -0.11298627, -0.28895568,\n",
       "       -0.28949217,  0.61213923, -0.28949217, -0.38325324, -0.28985313,\n",
       "       -0.1120679 , -0.11384268,  0.0024378 , -0.2809014 , -0.        ,\n",
       "       -0.28899144, -0.30434211, -0.28305199, -0.        , -0.        ,\n",
       "       -0.        , -0.17713153, -0.        , -0.27937708, -0.28949217,\n",
       "        0.13159812, -0.28949217, -0.28949217, -0.28949217, -0.28949217,\n",
       "       -0.27773607, -0.28949217,  0.75170468, -0.28949216, -0.25105103,\n",
       "       -0.11298627, -0.28949216, -0.28949217, -0.28928862, -0.        ,\n",
       "       -0.28949215, -0.29039459, -0.31656654, -0.28967396, -0.11667412,\n",
       "       -0.28961085, -0.28949217, -0.24539501, -0.28949217, -0.2732912 ,\n",
       "       -0.        , -1.31893292, -0.        , -0.28949217, -0.        ,\n",
       "       -0.28631848, -0.        , -0.28949217, -0.28882982, -0.28871277,\n",
       "       -0.28949217, -0.28949217, -0.28949217, -0.02223231,  2.13507844,\n",
       "       -0.38549058, -0.28949217, -0.28949217, -0.30402948, -0.12092297,\n",
       "       -0.37969817, -0.20435853, -0.49001807, -0.19634403, -0.28949217,\n",
       "       -0.32639235, -0.26782232, -0.28949217, -0.28949217, -0.28949217,\n",
       "       -0.28589699, -0.28853437, -0.25116925, -0.28777965, -0.28588601,\n",
       "       -0.28949217, -0.28949217, -0.28949217, -0.28949217, -0.28949217,\n",
       "       -0.3108187 , -0.28949217, -0.28949217, -0.28949217, -0.28949217,\n",
       "       -0.31873018, -0.28949217, -0.28949217, -0.28949217, -0.28949217,\n",
       "       -0.28949217, -0.28949217, -0.27257554, -0.28949217, -0.27715331,\n",
       "       -0.28949217, -0.28949217, -0.28972063, -0.28949217, -0.29168822,\n",
       "        0.05210573, -0.        , -0.        , -0.        , -0.        ,\n",
       "       -0.28949217, -0.28949217, -0.28949217, -0.28949217, -0.28949217,\n",
       "       -0.28949217, -0.28949217,  5.77642508, -0.        , -0.28949217,\n",
       "       -0.28949217,  0.13712967, -0.29131985, -0.29128924, -0.28995278,\n",
       "       -0.28949217, -0.28949217, -0.28949217, -0.28949217, -0.28994909,\n",
       "       -0.28994909, -0.29634598, -0.28949217, -0.        ,  1.64461545,\n",
       "       -0.31992562, -0.28954417, -0.28949217, -0.28730776, -0.28949217,\n",
       "       -0.        , -0.28949217, -0.28917921, -0.28949217, -0.28949217,\n",
       "       -0.28949217, -0.29819287, -0.28589752, -0.28949217, -0.28949217,\n",
       "        9.51018627, -0.27926655,  3.11464997,  5.95593749, -0.03095541,\n",
       "       -0.        , -0.        ,  8.12565812, -0.03095541,  0.01264292,\n",
       "       -0.28949217, -0.28949217, -0.28949217, -0.28949217, -0.28949217,\n",
       "       -0.28949217, -0.28949217, -0.28949217, -0.28949217, -0.28949217,\n",
       "       -0.28949217, -0.28949217, -0.28949217, -0.28949217, -0.28949217,\n",
       "       -0.28949217, -0.28949217, -0.        , -0.28949217, -0.28949217,\n",
       "       -0.11298627, -0.28650669, -0.85389646,  0.03767179, -0.14768537,\n",
       "       -0.31248287, -0.23597176, -0.16882645, -0.28719789, -0.28949217,\n",
       "       -0.28949217, -0.28949217, -0.28949217, -0.28732408, -0.28949217,\n",
       "       -0.28949217, -0.28949217, -0.28949217, -0.28846576, -0.28949218,\n",
       "       -0.        , -0.        ,  7.30333553, -0.        , -0.        ,\n",
       "        2.32840312, -0.        , -0.28949217,  3.02348032, -0.09303095,\n",
       "       -0.12825514, -0.33955829, -0.28590744, -0.28949217, -0.        ,\n",
       "       -0.28949217,  0.02317373,  0.07062147,  0.54223841, -0.        ,\n",
       "       -0.28949217,  1.89367195,  0.09736923])"
      ]
     },
     "execution_count": 120,
     "metadata": {},
     "output_type": "execute_result"
    }
   ],
   "source": [
    "# Try either, they produce the same result, use help() for more info\n",
    "# lda.transform(X)[:, 0]\n",
    "lda.fit_transform(X, y)[:, 0]"
   ]
  },
  {
   "cell_type": "markdown",
   "metadata": {},
   "source": [
    "We see that they do agree.\n",
    "\n",
    "It doesn’t matter whether the input variables for linear discriminant analysis are standardised or not, unlike for principal components analysis in which it is often necessary to standardise the input variables. However, using standardised variables in linear discriminant analysis makes it easier to interpret the loadings in a linear discriminant function.\n",
    "\n",
    "In linear discriminant analysis, the standardised version of an input variable is defined so that it has mean zero and within-groups variance of 1. Thus, we can calculate the “group-standardised” variable by subtracting the mean from each value of the variable, and dividing by the within-groups standard deviation. To calculate the group-standardised version of a set of variables, we can use the function `groupStandardise()` below:"
   ]
  },
  {
   "cell_type": "code",
   "execution_count": 121,
   "metadata": {
    "ExecuteTime": {
     "end_time": "2021-03-28T19:54:09.742863Z",
     "start_time": "2021-03-28T19:54:09.729871Z"
    }
   },
   "outputs": [],
   "source": [
    "def calcWithinGroupsVariance(variable, groupvariable):\n",
    "    # find out how many values the group variable can take\n",
    "    levels = sorted(set(groupvariable))\n",
    "    numlevels = len(levels)\n",
    "    # get the mean and standard deviation for each group:\n",
    "    numtotal = 0\n",
    "    denomtotal = 0\n",
    "    for leveli in levels:\n",
    "        levelidata = variable[groupvariable==leveli]\n",
    "        levelilength = len(levelidata)\n",
    "        # get the standard deviation for group i:\n",
    "        sdi = np.std(levelidata)\n",
    "        numi = (levelilength)*sdi**2\n",
    "        denomi = levelilength\n",
    "        numtotal = numtotal + numi\n",
    "        denomtotal = denomtotal + denomi\n",
    "    # calculate the within-groups variance\n",
    "    Vw = numtotal / (denomtotal - numlevels)\n",
    "    return Vw"
   ]
  },
  {
   "cell_type": "code",
   "execution_count": 122,
   "metadata": {
    "ExecuteTime": {
     "end_time": "2021-03-28T19:54:10.042402Z",
     "start_time": "2021-03-28T19:54:10.034423Z"
    }
   },
   "outputs": [],
   "source": [
    "def groupStandardise(variables, groupvariable):\n",
    "    # find the number of samples in the data set and the number of variables\n",
    "    numsamples, numvariables = variables.shape\n",
    "    # find the variable names\n",
    "    variablenames = variables.columns\n",
    "    # calculate the group-standardised version of each variable\n",
    "    variables_new = pd.DataFrame()\n",
    "    for i in range(numvariables):\n",
    "        variable_name = variablenames[i]\n",
    "        variablei = variables[variable_name]\n",
    "        variablei_Vw = calcWithinGroupsVariance(variablei, groupvariable)\n",
    "        variablei_mean = np.mean(variablei)\n",
    "        variablei_new = (variablei - variablei_mean)/(np.sqrt(variablei_Vw))\n",
    "        variables_new[variable_name] = variablei_new\n",
    "    return variables_new"
   ]
  },
  {
   "cell_type": "markdown",
   "metadata": {},
   "source": [
    "For example, we can use the `groupStandardise()` function to calculate the group-standardised versions of the chemical concentrations in wine samples:"
   ]
  },
  {
   "cell_type": "code",
   "execution_count": 123,
   "metadata": {
    "ExecuteTime": {
     "end_time": "2021-03-28T19:54:11.875737Z",
     "start_time": "2021-03-28T19:54:11.804775Z"
    }
   },
   "outputs": [],
   "source": [
    "groupstandardisedX = groupStandardise(X, y)"
   ]
  },
  {
   "cell_type": "markdown",
   "metadata": {},
   "source": [
    "We can then use the LinearDiscriminantAnalysis().fit() method to perform linear disriminant analysis on the group-standardised variables:"
   ]
  },
  {
   "cell_type": "code",
   "execution_count": 124,
   "metadata": {
    "ExecuteTime": {
     "end_time": "2021-03-28T19:54:13.141821Z",
     "start_time": "2021-03-28T19:54:13.119881Z"
    }
   },
   "outputs": [
    {
     "data": {
      "text/html": [
       "<div>\n",
       "<style scoped>\n",
       "    .dataframe tbody tr th:only-of-type {\n",
       "        vertical-align: middle;\n",
       "    }\n",
       "\n",
       "    .dataframe tbody tr th {\n",
       "        vertical-align: top;\n",
       "    }\n",
       "\n",
       "    .dataframe thead th {\n",
       "        text-align: right;\n",
       "    }\n",
       "</style>\n",
       "<table border=\"1\" class=\"dataframe\">\n",
       "  <thead>\n",
       "    <tr style=\"text-align: right;\">\n",
       "      <th></th>\n",
       "      <th>LD1</th>\n",
       "      <th>LD2</th>\n",
       "      <th>LD3</th>\n",
       "      <th>LD4</th>\n",
       "      <th>LD5</th>\n",
       "    </tr>\n",
       "  </thead>\n",
       "  <tbody>\n",
       "    <tr>\n",
       "      <th>V109</th>\n",
       "      <td>10.178421</td>\n",
       "      <td>-21.145653</td>\n",
       "      <td>-11.682590</td>\n",
       "      <td>-25.933302</td>\n",
       "      <td>2.268700</td>\n",
       "    </tr>\n",
       "    <tr>\n",
       "      <th>V110</th>\n",
       "      <td>-10.008042</td>\n",
       "      <td>21.752861</td>\n",
       "      <td>12.524089</td>\n",
       "      <td>24.986400</td>\n",
       "      <td>-2.567405</td>\n",
       "    </tr>\n",
       "    <tr>\n",
       "      <th>V115</th>\n",
       "      <td>5.144799</td>\n",
       "      <td>24.364369</td>\n",
       "      <td>-10.913112</td>\n",
       "      <td>7.792450</td>\n",
       "      <td>-5.383424</td>\n",
       "    </tr>\n",
       "    <tr>\n",
       "      <th>V116</th>\n",
       "      <td>-4.529846</td>\n",
       "      <td>-24.681341</td>\n",
       "      <td>11.345966</td>\n",
       "      <td>-8.802963</td>\n",
       "      <td>6.349798</td>\n",
       "    </tr>\n",
       "    <tr>\n",
       "      <th>V121</th>\n",
       "      <td>0.743101</td>\n",
       "      <td>0.153124</td>\n",
       "      <td>-0.904300</td>\n",
       "      <td>1.305823</td>\n",
       "      <td>-0.699840</td>\n",
       "    </tr>\n",
       "  </tbody>\n",
       "</table>\n",
       "</div>"
      ],
      "text/plain": [
       "            LD1        LD2        LD3        LD4       LD5\n",
       "V109  10.178421 -21.145653 -11.682590 -25.933302  2.268700\n",
       "V110 -10.008042  21.752861  12.524089  24.986400 -2.567405\n",
       "V115   5.144799  24.364369 -10.913112   7.792450 -5.383424\n",
       "V116  -4.529846 -24.681341  11.345966  -8.802963  6.349798\n",
       "V121   0.743101   0.153124  -0.904300   1.305823 -0.699840"
      ]
     },
     "execution_count": 124,
     "metadata": {},
     "output_type": "execute_result"
    }
   ],
   "source": [
    "lda2 = LinearDiscriminantAnalysis().fit(groupstandardisedX, y)\n",
    "pretty_scalings(lda2, groupstandardisedX)"
   ]
  },
  {
   "cell_type": "markdown",
   "metadata": {},
   "source": []
  },
  {
   "cell_type": "code",
   "execution_count": 125,
   "metadata": {
    "ExecuteTime": {
     "end_time": "2021-03-28T19:54:14.030810Z",
     "start_time": "2021-03-28T19:54:14.007899Z"
    }
   },
   "outputs": [
    {
     "data": {
      "text/plain": [
       "array([-0.37341494, -0.28949217, -0.2871651 , -0.28707209, -0.28890697,\n",
       "       -0.1054567 , -0.11298627, -0.27761255, -0.0117561 ,  0.7934246 ,\n",
       "       -0.26189718, -0.28020918, -0.76616094, -0.28686076, -0.26806264,\n",
       "       -0.28824036, -0.11281254, -0.0117561 , -0.11298627, -0.28895568,\n",
       "       -0.28949217,  0.61213923, -0.28949217, -0.38325324, -0.28985313,\n",
       "       -0.1120679 , -0.11384268,  0.0024378 , -0.2809014 , -0.        ,\n",
       "       -0.28899144, -0.30434211, -0.28305199, -0.        , -0.        ,\n",
       "       -0.        , -0.17713153, -0.        , -0.27937708, -0.28949217,\n",
       "        0.13159812, -0.28949217, -0.28949217, -0.28949217, -0.28949217,\n",
       "       -0.27773607, -0.28949217,  0.75170468, -0.28949216, -0.25105103,\n",
       "       -0.11298627, -0.28949216, -0.28949217, -0.28928862, -0.        ,\n",
       "       -0.28949215, -0.29039459, -0.31656654, -0.28967396, -0.11667412,\n",
       "       -0.28961085, -0.28949217, -0.24539501, -0.28949217, -0.2732912 ,\n",
       "       -0.        , -1.31893292, -0.        , -0.28949217, -0.        ,\n",
       "       -0.28631848, -0.        , -0.28949217, -0.28882982, -0.28871277,\n",
       "       -0.28949217, -0.28949217, -0.28949217, -0.02223231,  2.13507844,\n",
       "       -0.38549058, -0.28949217, -0.28949217, -0.30402948, -0.12092297,\n",
       "       -0.37969817, -0.20435853, -0.49001807, -0.19634403, -0.28949217,\n",
       "       -0.32639235, -0.26782232, -0.28949217, -0.28949217, -0.28949217,\n",
       "       -0.28589699, -0.28853437, -0.25116925, -0.28777965, -0.28588601,\n",
       "       -0.28949217, -0.28949217, -0.28949217, -0.28949217, -0.28949217,\n",
       "       -0.3108187 , -0.28949217, -0.28949217, -0.28949217, -0.28949217,\n",
       "       -0.31873018, -0.28949217, -0.28949217, -0.28949217, -0.28949217,\n",
       "       -0.28949217, -0.28949217, -0.27257554, -0.28949217, -0.27715331,\n",
       "       -0.28949217, -0.28949217, -0.28972063, -0.28949217, -0.29168822,\n",
       "        0.05210573, -0.        , -0.        , -0.        , -0.        ,\n",
       "       -0.28949217, -0.28949217, -0.28949217, -0.28949217, -0.28949217,\n",
       "       -0.28949217, -0.28949217,  5.77642508, -0.        , -0.28949217,\n",
       "       -0.28949217,  0.13712967, -0.29131985, -0.29128924, -0.28995278,\n",
       "       -0.28949217, -0.28949217, -0.28949217, -0.28949217, -0.28994909,\n",
       "       -0.28994909, -0.29634598, -0.28949217, -0.        ,  1.64461545,\n",
       "       -0.31992562, -0.28954417, -0.28949217, -0.28730776, -0.28949217,\n",
       "       -0.        , -0.28949217, -0.28917921, -0.28949217, -0.28949217,\n",
       "       -0.28949217, -0.29819287, -0.28589752, -0.28949217, -0.28949217,\n",
       "        9.51018627, -0.27926655,  3.11464997,  5.95593749, -0.03095541,\n",
       "       -0.        , -0.        ,  8.12565812, -0.03095541,  0.01264292,\n",
       "       -0.28949217, -0.28949217, -0.28949217, -0.28949217, -0.28949217,\n",
       "       -0.28949217, -0.28949217, -0.28949217, -0.28949217, -0.28949217,\n",
       "       -0.28949217, -0.28949217, -0.28949217, -0.28949217, -0.28949217,\n",
       "       -0.28949217, -0.28949217, -0.        , -0.28949217, -0.28949217,\n",
       "       -0.11298627, -0.28650669, -0.85389646,  0.03767179, -0.14768537,\n",
       "       -0.31248287, -0.23597176, -0.16882645, -0.28719789, -0.28949217,\n",
       "       -0.28949217, -0.28949217, -0.28949217, -0.28732408, -0.28949217,\n",
       "       -0.28949217, -0.28949217, -0.28949217, -0.28846576, -0.28949218,\n",
       "       -0.        , -0.        ,  7.30333553, -0.        , -0.        ,\n",
       "        2.32840312, -0.        , -0.28949217,  3.02348032, -0.09303095,\n",
       "       -0.12825514, -0.33955829, -0.28590744, -0.28949217, -0.        ,\n",
       "       -0.28949217,  0.02317373,  0.07062147,  0.54223841, -0.        ,\n",
       "       -0.28949217,  1.89367195,  0.09736923])"
      ]
     },
     "execution_count": 125,
     "metadata": {},
     "output_type": "execute_result"
    }
   ],
   "source": [
    "lda.fit_transform(X, y)[:, 0]"
   ]
  },
  {
   "cell_type": "code",
   "execution_count": 126,
   "metadata": {
    "ExecuteTime": {
     "end_time": "2021-03-28T19:54:14.392660Z",
     "start_time": "2021-03-28T19:54:14.358744Z"
    }
   },
   "outputs": [
    {
     "data": {
      "text/plain": [
       "array([-0.37341494, -0.28949217, -0.2871651 , -0.28707209, -0.28890697,\n",
       "       -0.1054567 , -0.11298627, -0.27761255, -0.0117561 ,  0.7934246 ,\n",
       "       -0.26189718, -0.28020918, -0.76616094, -0.28686076, -0.26806264,\n",
       "       -0.28824036, -0.11281254, -0.0117561 , -0.11298627, -0.28895568,\n",
       "       -0.28949217,  0.61213923, -0.28949217, -0.38325324, -0.28985313,\n",
       "       -0.1120679 , -0.11384268,  0.0024378 , -0.2809014 ,  0.        ,\n",
       "       -0.28899144, -0.30434211, -0.28305199,  0.        ,  0.        ,\n",
       "        0.        , -0.17713153,  0.        , -0.27937708, -0.28949217,\n",
       "        0.13159812, -0.28949217, -0.28949217, -0.28949217, -0.28949217,\n",
       "       -0.27773607, -0.28949217,  0.75170468, -0.28949216, -0.25105103,\n",
       "       -0.11298627, -0.28949216, -0.28949217, -0.28928862,  0.        ,\n",
       "       -0.28949215, -0.29039459, -0.31656654, -0.28967396, -0.11667412,\n",
       "       -0.28961085, -0.28949217, -0.24539501, -0.28949217, -0.2732912 ,\n",
       "        0.        , -1.31893292,  0.        , -0.28949217,  0.        ,\n",
       "       -0.28631848,  0.        , -0.28949217, -0.28882982, -0.28871277,\n",
       "       -0.28949217, -0.28949217, -0.28949217, -0.02223231,  2.13507844,\n",
       "       -0.38549058, -0.28949217, -0.28949217, -0.30402948, -0.12092297,\n",
       "       -0.37969817, -0.20435853, -0.49001807, -0.19634403, -0.28949217,\n",
       "       -0.32639235, -0.26782232, -0.28949217, -0.28949217, -0.28949217,\n",
       "       -0.28589699, -0.28853437, -0.25116925, -0.28777965, -0.28588601,\n",
       "       -0.28949217, -0.28949217, -0.28949217, -0.28949217, -0.28949217,\n",
       "       -0.3108187 , -0.28949217, -0.28949217, -0.28949217, -0.28949217,\n",
       "       -0.31873018, -0.28949217, -0.28949217, -0.28949217, -0.28949217,\n",
       "       -0.28949217, -0.28949217, -0.27257554, -0.28949217, -0.27715331,\n",
       "       -0.28949217, -0.28949217, -0.28972063, -0.28949217, -0.29168822,\n",
       "        0.05210573,  0.        ,  0.        ,  0.        ,  0.        ,\n",
       "       -0.28949217, -0.28949217, -0.28949217, -0.28949217, -0.28949217,\n",
       "       -0.28949217, -0.28949217,  5.77642508,  0.        , -0.28949217,\n",
       "       -0.28949217,  0.13712967, -0.29131985, -0.29128924, -0.28995278,\n",
       "       -0.28949217, -0.28949217, -0.28949217, -0.28949217, -0.28994909,\n",
       "       -0.28994909, -0.29634598, -0.28949217,  0.        ,  1.64461545,\n",
       "       -0.31992562, -0.28954417, -0.28949217, -0.28730776, -0.28949217,\n",
       "        0.        , -0.28949217, -0.28917921, -0.28949217, -0.28949217,\n",
       "       -0.28949217, -0.29819287, -0.28589752, -0.28949217, -0.28949217,\n",
       "        9.51018627, -0.27926655,  3.11464997,  5.95593749, -0.03095541,\n",
       "        0.        ,  0.        ,  8.12565812, -0.03095541,  0.01264292,\n",
       "       -0.28949217, -0.28949217, -0.28949217, -0.28949217, -0.28949217,\n",
       "       -0.28949217, -0.28949217, -0.28949217, -0.28949217, -0.28949217,\n",
       "       -0.28949217, -0.28949217, -0.28949217, -0.28949217, -0.28949217,\n",
       "       -0.28949217, -0.28949217,  0.        , -0.28949217, -0.28949217,\n",
       "       -0.11298627, -0.28650669, -0.85389646,  0.03767179, -0.14768537,\n",
       "       -0.31248287, -0.23597176, -0.16882645, -0.28719789, -0.28949217,\n",
       "       -0.28949217, -0.28949217, -0.28949217, -0.28732408, -0.28949217,\n",
       "       -0.28949217, -0.28949217, -0.28949217, -0.28846576, -0.28949218,\n",
       "        0.        ,  0.        ,  7.30333553,  0.        ,  0.        ,\n",
       "        2.32840312,  0.        , -0.28949217,  3.02348032, -0.09303095,\n",
       "       -0.12825514, -0.33955829, -0.28590744, -0.28949217,  0.        ,\n",
       "       -0.28949217,  0.02317373,  0.07062147,  0.54223841,  0.        ,\n",
       "       -0.28949217,  1.89367195,  0.09736923])"
      ]
     },
     "execution_count": 126,
     "metadata": {},
     "output_type": "execute_result"
    }
   ],
   "source": [
    "lda2.fit_transform(groupstandardisedX, y)[:, 0]"
   ]
  },
  {
   "cell_type": "markdown",
   "metadata": {},
   "source": [
    "We can see that although the loadings are different for the first discriminant functions calculated using unstandardised and group-standardised data, the actual values of the first discriminant function are the same."
   ]
  },
  {
   "cell_type": "markdown",
   "metadata": {},
   "source": [
    "The results agree.\n",
    "\n",
    "It doesn’t matter whether the input variables for linear discriminant analysis are standardised or not, unlike for principal components analysis in which it is often necessary to standardise the input variables. However, using standardised variables in linear discriminant analysis makes it easier to interpret the loadings in a linear discriminant function.\n",
    "\n",
    "In linear discriminant analysis, the standardised version of an input variable is defined so that it has mean zero and within-groups variance of 1. Thus, we can calculate the “group-standardised” variable by subtracting the mean from each value of the variable, and dividing by the within-groups standard deviation. To calculate the group-standardised version of a set of variables, we can use the function `groupStandardise()` below:"
   ]
  },
  {
   "cell_type": "code",
   "execution_count": 127,
   "metadata": {
    "ExecuteTime": {
     "end_time": "2021-03-28T19:55:45.164669Z",
     "start_time": "2021-03-28T19:55:45.086848Z"
    }
   },
   "outputs": [],
   "source": [
    "def calcWithinGroupsVariance(variable, groupvariable):\n",
    "    # find out how many values the group variable can take\n",
    "    levels = sorted(set(groupvariable))\n",
    "    numlevels = len(levels)\n",
    "    # get the mean and standard deviation for each group:\n",
    "    numtotal = 0\n",
    "    denomtotal = 0\n",
    "    for leveli in levels:\n",
    "        levelidata = variable[groupvariable==leveli]\n",
    "        levelilength = len(levelidata)\n",
    "        # get the standard deviation for group i:\n",
    "        sdi = np.std(levelidata)\n",
    "        numi = (levelilength)*sdi**2\n",
    "        denomi = levelilength\n",
    "        numtotal = numtotal + numi\n",
    "        denomtotal = denomtotal + denomi\n",
    "    # calculate the within-groups variance\n",
    "    Vw = numtotal / (denomtotal - numlevels)\n",
    "    return Vw\n",
    "\n",
    "\n",
    "def groupStandardise(variables, groupvariable):\n",
    "    # find the number of samples in the data set and the number of variables\n",
    "    numsamples, numvariables = variables.shape\n",
    "    # find the variable names\n",
    "    variablenames = variables.columns\n",
    "    # calculate the group-standardised version of each variable\n",
    "    variables_new = pd.DataFrame()\n",
    "    for i in range(numvariables):\n",
    "        variable_name = variablenames[i]\n",
    "        variablei = variables[variable_name]\n",
    "        variablei_Vw = calcWithinGroupsVariance(variablei, groupvariable)\n",
    "        variablei_mean = np.mean(variablei)\n",
    "        variablei_new = (variablei - variablei_mean)/(np.sqrt(variablei_Vw))\n",
    "        variables_new[variable_name] = variablei_new\n",
    "    return variables_new\n",
    "\n",
    "\n",
    "\n",
    "groupstandardisedX = groupStandardise(X, y)"
   ]
  },
  {
   "cell_type": "code",
   "execution_count": 128,
   "metadata": {
    "ExecuteTime": {
     "end_time": "2021-03-28T19:55:55.707778Z",
     "start_time": "2021-03-28T19:55:55.677859Z"
    }
   },
   "outputs": [
    {
     "data": {
      "text/html": [
       "<div>\n",
       "<style scoped>\n",
       "    .dataframe tbody tr th:only-of-type {\n",
       "        vertical-align: middle;\n",
       "    }\n",
       "\n",
       "    .dataframe tbody tr th {\n",
       "        vertical-align: top;\n",
       "    }\n",
       "\n",
       "    .dataframe thead th {\n",
       "        text-align: right;\n",
       "    }\n",
       "</style>\n",
       "<table border=\"1\" class=\"dataframe\">\n",
       "  <thead>\n",
       "    <tr style=\"text-align: right;\">\n",
       "      <th></th>\n",
       "      <th>LD1</th>\n",
       "      <th>LD2</th>\n",
       "      <th>LD3</th>\n",
       "      <th>LD4</th>\n",
       "      <th>LD5</th>\n",
       "    </tr>\n",
       "  </thead>\n",
       "  <tbody>\n",
       "    <tr>\n",
       "      <th>V109</th>\n",
       "      <td>10.178421</td>\n",
       "      <td>-21.145653</td>\n",
       "      <td>-11.682590</td>\n",
       "      <td>-25.933302</td>\n",
       "      <td>2.268700</td>\n",
       "    </tr>\n",
       "    <tr>\n",
       "      <th>V110</th>\n",
       "      <td>-10.008042</td>\n",
       "      <td>21.752861</td>\n",
       "      <td>12.524089</td>\n",
       "      <td>24.986400</td>\n",
       "      <td>-2.567405</td>\n",
       "    </tr>\n",
       "    <tr>\n",
       "      <th>V115</th>\n",
       "      <td>5.144799</td>\n",
       "      <td>24.364369</td>\n",
       "      <td>-10.913112</td>\n",
       "      <td>7.792450</td>\n",
       "      <td>-5.383424</td>\n",
       "    </tr>\n",
       "    <tr>\n",
       "      <th>V116</th>\n",
       "      <td>-4.529846</td>\n",
       "      <td>-24.681341</td>\n",
       "      <td>11.345966</td>\n",
       "      <td>-8.802963</td>\n",
       "      <td>6.349798</td>\n",
       "    </tr>\n",
       "    <tr>\n",
       "      <th>V121</th>\n",
       "      <td>0.743101</td>\n",
       "      <td>0.153124</td>\n",
       "      <td>-0.904300</td>\n",
       "      <td>1.305823</td>\n",
       "      <td>-0.699840</td>\n",
       "    </tr>\n",
       "  </tbody>\n",
       "</table>\n",
       "</div>"
      ],
      "text/plain": [
       "            LD1        LD2        LD3        LD4       LD5\n",
       "V109  10.178421 -21.145653 -11.682590 -25.933302  2.268700\n",
       "V110 -10.008042  21.752861  12.524089  24.986400 -2.567405\n",
       "V115   5.144799  24.364369 -10.913112   7.792450 -5.383424\n",
       "V116  -4.529846 -24.681341  11.345966  -8.802963  6.349798\n",
       "V121   0.743101   0.153124  -0.904300   1.305823 -0.699840"
      ]
     },
     "execution_count": 128,
     "metadata": {},
     "output_type": "execute_result"
    }
   ],
   "source": [
    "lda2 = LinearDiscriminantAnalysis().fit(groupstandardisedX, y)\n",
    "pretty_scalings(lda2, groupstandardisedX)"
   ]
  },
  {
   "cell_type": "code",
   "execution_count": 129,
   "metadata": {
    "ExecuteTime": {
     "end_time": "2021-03-28T19:56:19.163916Z",
     "start_time": "2021-03-28T19:56:19.136954Z"
    }
   },
   "outputs": [],
   "source": [
    "def calcBetweenGroupsVariance(variable, groupvariable):\n",
    "    # find out how many values the group variable can take\n",
    "    levels = sorted(set((groupvariable)))\n",
    "    numlevels = len(levels)\n",
    "    # calculate the overall grand mean:\n",
    "    grandmean = np.mean(variable)\n",
    "    # get the mean and standard deviation for each group:\n",
    "    numtotal = 0\n",
    "    denomtotal = 0\n",
    "    for leveli in levels:\n",
    "        levelidata = variable[groupvariable==leveli]\n",
    "        levelilength = len(levelidata)\n",
    "        # get the mean and standard deviation for group i:\n",
    "        meani = np.mean(levelidata)\n",
    "        sdi = np.std(levelidata)\n",
    "        numi = levelilength * ((meani - grandmean)**2)\n",
    "        denomi = levelilength\n",
    "        numtotal = numtotal + numi\n",
    "        denomtotal = denomtotal + denomi\n",
    "    # calculate the between-groups variance\n",
    "    Vb = numtotal / (numlevels - 1)\n",
    "    return(Vb)\n",
    "\n",
    "\n",
    "def calcSeparations(variables, groupvariable):\n",
    "    # calculate the separation for each variable\n",
    "    for variablename in variables:\n",
    "        variablei = variables[variablename]\n",
    "        Vw = calcWithinGroupsVariance(variablei, groupvariable)\n",
    "        Vb = calcBetweenGroupsVariance(variablei, groupvariable)\n",
    "        sep = Vb/Vw\n",
    "        print(\"variable\", variablename, \"Vw=\", Vw, \"Vb=\", Vb, \"separation=\", sep)"
   ]
  },
  {
   "cell_type": "code",
   "execution_count": 130,
   "metadata": {
    "ExecuteTime": {
     "end_time": "2021-03-28T19:56:27.274650Z",
     "start_time": "2021-03-28T19:56:27.163945Z"
    }
   },
   "outputs": [
    {
     "name": "stdout",
     "output_type": "stream",
     "text": [
      "variable V109 Vw= 1278863643992.4465 Vb= 3086978247170.887 separation= 2.41384471415087\n",
      "variable V110 Vw= 1323090860464.9763 Vb= 3228160497961.2974 separation= 2.4398630467652227\n",
      "variable V115 Vw= 16891171438561.53 Vb= 115517979304980.45 separation= 6.838956062056172\n",
      "variable V116 Vw= 15725490897313.266 Vb= 110150709206486.62 separation= 7.0045959090095\n",
      "variable V121 Vw= 1832896722524.7397 Vb= 18858749553720.508 separation= 10.289041014675043\n"
     ]
    }
   ],
   "source": [
    "calcSeparations(X, y)"
   ]
  },
  {
   "cell_type": "code",
   "execution_count": 131,
   "metadata": {
    "ExecuteTime": {
     "end_time": "2021-03-28T19:57:42.740907Z",
     "start_time": "2021-03-28T19:57:42.715953Z"
    }
   },
   "outputs": [
    {
     "data": {
      "text/plain": [
       "array([-0.37341494, -0.28949217, -0.2871651 , -0.28707209, -0.28890697,\n",
       "       -0.1054567 , -0.11298627, -0.27761255, -0.0117561 ,  0.7934246 ,\n",
       "       -0.26189718, -0.28020918, -0.76616094, -0.28686076, -0.26806264,\n",
       "       -0.28824036, -0.11281254, -0.0117561 , -0.11298627, -0.28895568,\n",
       "       -0.28949217,  0.61213923, -0.28949217, -0.38325324, -0.28985313,\n",
       "       -0.1120679 , -0.11384268,  0.0024378 , -0.2809014 , -0.        ,\n",
       "       -0.28899144, -0.30434211, -0.28305199, -0.        , -0.        ,\n",
       "       -0.        , -0.17713153, -0.        , -0.27937708, -0.28949217,\n",
       "        0.13159812, -0.28949217, -0.28949217, -0.28949217, -0.28949217,\n",
       "       -0.27773607, -0.28949217,  0.75170468, -0.28949216, -0.25105103,\n",
       "       -0.11298627, -0.28949216, -0.28949217, -0.28928862, -0.        ,\n",
       "       -0.28949215, -0.29039459, -0.31656654, -0.28967396, -0.11667412,\n",
       "       -0.28961085, -0.28949217, -0.24539501, -0.28949217, -0.2732912 ,\n",
       "       -0.        , -1.31893292, -0.        , -0.28949217, -0.        ,\n",
       "       -0.28631848, -0.        , -0.28949217, -0.28882982, -0.28871277,\n",
       "       -0.28949217, -0.28949217, -0.28949217, -0.02223231,  2.13507844,\n",
       "       -0.38549058, -0.28949217, -0.28949217, -0.30402948, -0.12092297,\n",
       "       -0.37969817, -0.20435853, -0.49001807, -0.19634403, -0.28949217,\n",
       "       -0.32639235, -0.26782232, -0.28949217, -0.28949217, -0.28949217,\n",
       "       -0.28589699, -0.28853437, -0.25116925, -0.28777965, -0.28588601,\n",
       "       -0.28949217, -0.28949217, -0.28949217, -0.28949217, -0.28949217,\n",
       "       -0.3108187 , -0.28949217, -0.28949217, -0.28949217, -0.28949217,\n",
       "       -0.31873018, -0.28949217, -0.28949217, -0.28949217, -0.28949217,\n",
       "       -0.28949217, -0.28949217, -0.27257554, -0.28949217, -0.27715331,\n",
       "       -0.28949217, -0.28949217, -0.28972063, -0.28949217, -0.29168822,\n",
       "        0.05210573, -0.        , -0.        , -0.        , -0.        ,\n",
       "       -0.28949217, -0.28949217, -0.28949217, -0.28949217, -0.28949217,\n",
       "       -0.28949217, -0.28949217,  5.77642508, -0.        , -0.28949217,\n",
       "       -0.28949217,  0.13712967, -0.29131985, -0.29128924, -0.28995278,\n",
       "       -0.28949217, -0.28949217, -0.28949217, -0.28949217, -0.28994909,\n",
       "       -0.28994909, -0.29634598, -0.28949217, -0.        ,  1.64461545,\n",
       "       -0.31992562, -0.28954417, -0.28949217, -0.28730776, -0.28949217,\n",
       "       -0.        , -0.28949217, -0.28917921, -0.28949217, -0.28949217,\n",
       "       -0.28949217, -0.29819287, -0.28589752, -0.28949217, -0.28949217,\n",
       "        9.51018627, -0.27926655,  3.11464997,  5.95593749, -0.03095541,\n",
       "       -0.        , -0.        ,  8.12565812, -0.03095541,  0.01264292,\n",
       "       -0.28949217, -0.28949217, -0.28949217, -0.28949217, -0.28949217,\n",
       "       -0.28949217, -0.28949217, -0.28949217, -0.28949217, -0.28949217,\n",
       "       -0.28949217, -0.28949217, -0.28949217, -0.28949217, -0.28949217,\n",
       "       -0.28949217, -0.28949217, -0.        , -0.28949217, -0.28949217,\n",
       "       -0.11298627, -0.28650669, -0.85389646,  0.03767179, -0.14768537,\n",
       "       -0.31248287, -0.23597176, -0.16882645, -0.28719789, -0.28949217,\n",
       "       -0.28949217, -0.28949217, -0.28949217, -0.28732408, -0.28949217,\n",
       "       -0.28949217, -0.28949217, -0.28949217, -0.28846576, -0.28949218,\n",
       "       -0.        , -0.        ,  7.30333553, -0.        , -0.        ,\n",
       "        2.32840312, -0.        , -0.28949217,  3.02348032, -0.09303095,\n",
       "       -0.12825514, -0.33955829, -0.28590744, -0.28949217, -0.        ,\n",
       "       -0.28949217,  0.02317373,  0.07062147,  0.54223841, -0.        ,\n",
       "       -0.28949217,  1.89367195,  0.09736923])"
      ]
     },
     "execution_count": 131,
     "metadata": {},
     "output_type": "execute_result"
    }
   ],
   "source": [
    "lda.fit_transform(X, y)[:, 0]"
   ]
  },
  {
   "cell_type": "code",
   "execution_count": 132,
   "metadata": {
    "ExecuteTime": {
     "end_time": "2021-03-28T19:57:52.332869Z",
     "start_time": "2021-03-28T19:57:52.300956Z"
    }
   },
   "outputs": [
    {
     "data": {
      "text/plain": [
       "array([-0.37341494, -0.28949217, -0.2871651 , -0.28707209, -0.28890697,\n",
       "       -0.1054567 , -0.11298627, -0.27761255, -0.0117561 ,  0.7934246 ,\n",
       "       -0.26189718, -0.28020918, -0.76616094, -0.28686076, -0.26806264,\n",
       "       -0.28824036, -0.11281254, -0.0117561 , -0.11298627, -0.28895568,\n",
       "       -0.28949217,  0.61213923, -0.28949217, -0.38325324, -0.28985313,\n",
       "       -0.1120679 , -0.11384268,  0.0024378 , -0.2809014 ,  0.        ,\n",
       "       -0.28899144, -0.30434211, -0.28305199,  0.        ,  0.        ,\n",
       "        0.        , -0.17713153,  0.        , -0.27937708, -0.28949217,\n",
       "        0.13159812, -0.28949217, -0.28949217, -0.28949217, -0.28949217,\n",
       "       -0.27773607, -0.28949217,  0.75170468, -0.28949216, -0.25105103,\n",
       "       -0.11298627, -0.28949216, -0.28949217, -0.28928862,  0.        ,\n",
       "       -0.28949215, -0.29039459, -0.31656654, -0.28967396, -0.11667412,\n",
       "       -0.28961085, -0.28949217, -0.24539501, -0.28949217, -0.2732912 ,\n",
       "        0.        , -1.31893292,  0.        , -0.28949217,  0.        ,\n",
       "       -0.28631848,  0.        , -0.28949217, -0.28882982, -0.28871277,\n",
       "       -0.28949217, -0.28949217, -0.28949217, -0.02223231,  2.13507844,\n",
       "       -0.38549058, -0.28949217, -0.28949217, -0.30402948, -0.12092297,\n",
       "       -0.37969817, -0.20435853, -0.49001807, -0.19634403, -0.28949217,\n",
       "       -0.32639235, -0.26782232, -0.28949217, -0.28949217, -0.28949217,\n",
       "       -0.28589699, -0.28853437, -0.25116925, -0.28777965, -0.28588601,\n",
       "       -0.28949217, -0.28949217, -0.28949217, -0.28949217, -0.28949217,\n",
       "       -0.3108187 , -0.28949217, -0.28949217, -0.28949217, -0.28949217,\n",
       "       -0.31873018, -0.28949217, -0.28949217, -0.28949217, -0.28949217,\n",
       "       -0.28949217, -0.28949217, -0.27257554, -0.28949217, -0.27715331,\n",
       "       -0.28949217, -0.28949217, -0.28972063, -0.28949217, -0.29168822,\n",
       "        0.05210573,  0.        ,  0.        ,  0.        ,  0.        ,\n",
       "       -0.28949217, -0.28949217, -0.28949217, -0.28949217, -0.28949217,\n",
       "       -0.28949217, -0.28949217,  5.77642508,  0.        , -0.28949217,\n",
       "       -0.28949217,  0.13712967, -0.29131985, -0.29128924, -0.28995278,\n",
       "       -0.28949217, -0.28949217, -0.28949217, -0.28949217, -0.28994909,\n",
       "       -0.28994909, -0.29634598, -0.28949217,  0.        ,  1.64461545,\n",
       "       -0.31992562, -0.28954417, -0.28949217, -0.28730776, -0.28949217,\n",
       "        0.        , -0.28949217, -0.28917921, -0.28949217, -0.28949217,\n",
       "       -0.28949217, -0.29819287, -0.28589752, -0.28949217, -0.28949217,\n",
       "        9.51018627, -0.27926655,  3.11464997,  5.95593749, -0.03095541,\n",
       "        0.        ,  0.        ,  8.12565812, -0.03095541,  0.01264292,\n",
       "       -0.28949217, -0.28949217, -0.28949217, -0.28949217, -0.28949217,\n",
       "       -0.28949217, -0.28949217, -0.28949217, -0.28949217, -0.28949217,\n",
       "       -0.28949217, -0.28949217, -0.28949217, -0.28949217, -0.28949217,\n",
       "       -0.28949217, -0.28949217,  0.        , -0.28949217, -0.28949217,\n",
       "       -0.11298627, -0.28650669, -0.85389646,  0.03767179, -0.14768537,\n",
       "       -0.31248287, -0.23597176, -0.16882645, -0.28719789, -0.28949217,\n",
       "       -0.28949217, -0.28949217, -0.28949217, -0.28732408, -0.28949217,\n",
       "       -0.28949217, -0.28949217, -0.28949217, -0.28846576, -0.28949218,\n",
       "        0.        ,  0.        ,  7.30333553,  0.        ,  0.        ,\n",
       "        2.32840312,  0.        , -0.28949217,  3.02348032, -0.09303095,\n",
       "       -0.12825514, -0.33955829, -0.28590744, -0.28949217,  0.        ,\n",
       "       -0.28949217,  0.02317373,  0.07062147,  0.54223841,  0.        ,\n",
       "       -0.28949217,  1.89367195,  0.09736923])"
      ]
     },
     "execution_count": 132,
     "metadata": {},
     "output_type": "execute_result"
    }
   ],
   "source": [
    "lda2.fit_transform(groupstandardisedX, y)[:, 0]"
   ]
  },
  {
   "cell_type": "markdown",
   "metadata": {},
   "source": [
    "We can see that although the loadings are different for the first discriminant functions calculated using unstandardised and group-standardised data, the actual values of the first discriminant function are the same."
   ]
  },
  {
   "cell_type": "markdown",
   "metadata": {},
   "source": [
    "### Separation Achieved by the Discriminant Functions\n",
    "\n",
    "To calculate the separation achieved by each discriminant function, we first need to calculate the value of each discriminant function, by substituting the values of the variables into the linear combination for the discriminant function (eg. `0.007*V2 - 0.142*V3 + 0.511*V4 + 0.02*V5 + 0.145*V6 ` for the first discriminant function), and then scaling the values of the discriminant function so that their mean is zero.\n",
    "\n",
    "As mentioned above, we can do this using the `rpredict()` function which simulates the output of the `predict()` function in R. For example, to calculate the value of the discriminant functions for the wine data, we type:"
   ]
  },
  {
   "cell_type": "code",
   "execution_count": 133,
   "metadata": {
    "ExecuteTime": {
     "end_time": "2021-03-28T19:58:35.108746Z",
     "start_time": "2021-03-28T19:58:34.985083Z"
    }
   },
   "outputs": [
    {
     "name": "stdout",
     "output_type": "stream",
     "text": [
      "class\n",
      "['2.0' '2.0' '2.0' '2.0' '2.0' '2.0' '2.0' '2.0' '2.0' '2.0' '2.0' '2.0'\n",
      " '2.0' '2.0' '2.0' '2.0' '2.0' '2.0' '2.0' '2.0' '2.0' '2.0' '2.0' '2.0'\n",
      " '2.0' '2.0' '2.0' '2.0' '2.0' '2.0' '2.0' '2.0' '2.0' '2.0' '2.0' '2.0'\n",
      " '2.0' '2.0' '2.0' '2.0' '2.0' '2.0' '2.0' '2.0' '2.0' '2.0' '2.0' '2.0'\n",
      " '2.0' '2.0' '2.0' '2.0' '2.0' '2.0' '2.0' '2.0' '2.0' '2.0' '2.0' '2.0'\n",
      " '2.0' '2.0' '2.0' '2.0' '2.0' '2.0' '2.0' '2.0' '2.0' '2.0' '2.0' '2.0'\n",
      " '2.0' '2.0' '2.0' '2.0' '2.0' '2.0' '2.0' '2.0' '2.0' '2.0' '2.0' '2.0'\n",
      " '2.0' '2.0' '2.0' '2.0' '2.0' '2.0' '2.0' '2.0' '2.0' '2.0' '2.0' '2.0'\n",
      " '2.0' '2.0' '2.0' '2.0' '2.0' '2.0' '2.0' '2.0' '2.0' '2.0' '2.0' '2.0'\n",
      " '2.0' '2.0' '2.0' '2.0' '2.0' '2.0' '2.0' '2.0' '2.0' '2.0' '2.0' '2.0'\n",
      " '2.0' '2.0' '2.0' '2.0' '2.0' '2.0' '2.0' '2.0' '2.0' '2.0' '2.0' '2.0'\n",
      " '2.0' '2.0' '2.0' '2.0' '2.0' '2.0' '2.0' '2.0' '2.0' '2.0' '2.0' '2.0'\n",
      " '2.0' '2.0' '2.0' '2.0' '2.0' '2.0' '2.0' '2.0' '2.0' '2.0' '2.0' '2.0'\n",
      " '2.0' '2.0' '2.0' '2.0' '2.0' '2.0' '2.0' '2.0' '2.0' '2.0' '2.0' '2.0'\n",
      " '2.0' '2.0' '2.0' '2.0' '2.0' '2.0' '2.0' '2.0' '2.0' '2.0' '2.0' '2.0'\n",
      " '2.0' '2.0' '2.0' '2.0' '2.0' '2.0' '2.0' '2.0' '2.0' '2.0' '2.0' '2.0'\n",
      " '2.0' '2.0' '2.0' '2.0' '2.0' '2.0' '2.0' '2.0' '2.0' '2.0' '2.0' '2.0'\n",
      " '2.0' '2.0' '2.0' '2.0' '2.0' '2.0' '2.0' '2.0' '2.0' '2.0' '2.0' '2.0'\n",
      " '2.0' '2.0' '2.0' '2.0' '2.0' '2.0' '2.0' '2.0' '2.0' '2.0' '2.0' '2.0'\n",
      " '2.0' '2.0' '2.0' '2.0' '2.0' '2.0' '2.0' '2.0' '2.0' '2.0' '2.0' '2.0'\n",
      " '2.0' '2.0' '2.0']\n",
      "\n",
      "posterior\n",
      "          0.0       1.0       2.0  2.1134453781512605       3.0       4.0  \\\n",
      "0    0.057045  0.014588  0.758544            0.022396  0.021003  0.040264   \n",
      "1    0.057045  0.014588  0.758544            0.022396  0.021003  0.040264   \n",
      "2    0.057045  0.014588  0.758544            0.022396  0.021003  0.040264   \n",
      "3    0.057045  0.014588  0.758544            0.022396  0.021003  0.040264   \n",
      "4    0.057045  0.014588  0.758544            0.022396  0.021003  0.040264   \n",
      "..        ...       ...       ...                 ...       ...       ...   \n",
      "238  0.057045  0.014588  0.758544            0.022396  0.021003  0.040264   \n",
      "239  0.057045  0.014588  0.758544            0.022396  0.021003  0.040264   \n",
      "240  0.057045  0.014588  0.758544            0.022396  0.021003  0.040264   \n",
      "241  0.057045  0.014588  0.758544            0.022396  0.021003  0.040264   \n",
      "242  0.057045  0.014588  0.758544            0.022396  0.021003  0.040264   \n",
      "\n",
      "         5.0  \n",
      "0    0.08616  \n",
      "1    0.08616  \n",
      "2    0.08616  \n",
      "3    0.08616  \n",
      "4    0.08616  \n",
      "..       ...  \n",
      "238  0.08616  \n",
      "239  0.08616  \n",
      "240  0.08616  \n",
      "241  0.08616  \n",
      "242  0.08616  \n",
      "\n",
      "[243 rows x 7 columns]\n",
      "\n",
      "x\n",
      "              LD1           LD2           LD3           LD4           LD5\n",
      "0   -3.734149e-01 -5.992426e-01  2.666818e-01 -2.739259e-01  1.676586e-01\n",
      "1   -2.894922e-01 -1.351879e-02  2.608824e-02 -3.398931e-02  1.666995e-02\n",
      "2   -2.871651e-01 -1.786007e-02  2.444056e-02 -3.007114e-02  1.490134e-02\n",
      "3   -2.870721e-01 -1.725213e-02  2.470708e-02 -4.084590e-02  1.675598e-02\n",
      "4   -2.889070e-01 -1.074746e-02  2.484693e-02 -3.310296e-02  1.605761e-02\n",
      "..            ...           ...           ...           ...           ...\n",
      "238  5.422384e-01 -1.732481e-01 -2.663560e-01  3.165595e-01 -3.110275e-02\n",
      "239 -4.274093e-15 -4.591302e-17  6.375639e-15  6.206626e-15  3.873328e-16\n",
      "240 -2.894922e-01 -1.351879e-02  2.608824e-02 -3.398931e-02  1.666995e-02\n",
      "241  1.893672e+00 -1.297461e+00 -1.291605e+00  2.227503e-02 -1.788880e-01\n",
      "242  9.736923e-02 -3.397964e-02 -2.244784e-01  3.039000e-01 -7.963630e-02\n",
      "\n",
      "[243 rows x 5 columns]\n"
     ]
    }
   ],
   "source": [
    "def rpredict(lda, X, y, out=False):\n",
    "    ret = {\"class\": lda.predict(X),\n",
    "           \"posterior\": pd.DataFrame(lda.predict_proba(X), columns=lda.classes_)}\n",
    "    ret[\"x\"] = pd.DataFrame(lda.fit_transform(X, y))\n",
    "    ret[\"x\"].columns = [\"LD\"+str(i+1) for i in range(ret[\"x\"].shape[1])]\n",
    "    if out:\n",
    "        print(\"class\")\n",
    "        print(ret[\"class\"])\n",
    "        print()\n",
    "        print(\"posterior\")\n",
    "        print(ret[\"posterior\"])\n",
    "        print()\n",
    "        print(\"x\")\n",
    "        print(ret[\"x\"])\n",
    "    return ret\n",
    "\n",
    "lda_values = rpredict(lda, standardisedX, y, True)"
   ]
  },
  {
   "cell_type": "code",
   "execution_count": 134,
   "metadata": {
    "ExecuteTime": {
     "end_time": "2021-03-28T19:58:47.757847Z",
     "start_time": "2021-03-28T19:58:47.645148Z"
    }
   },
   "outputs": [
    {
     "name": "stdout",
     "output_type": "stream",
     "text": [
      "variable LD1 Vw= 0.9999999999999948 Vb= 16.232423379829665 separation= 16.23242337982975\n",
      "variable LD2 Vw= 0.9999999999999987 Vb= 0.20665983059623974 separation= 0.20665983059624002\n",
      "variable LD3 Vw= 1.0000000000000027 Vb= 0.01916840346478273 separation= 0.019168403464782678\n",
      "variable LD4 Vw= 0.9999999999999896 Vb= 0.01150047888141683 separation= 0.01150047888141695\n",
      "variable LD5 Vw= 1.0000000000000073 Vb= 4.007099261191066e-05 separation= 4.007099261191037e-05\n"
     ]
    }
   ],
   "source": [
    "calcSeparations(lda_values[\"x\"], y)"
   ]
  },
  {
   "cell_type": "markdown",
   "metadata": {},
   "source": []
  },
  {
   "cell_type": "code",
   "execution_count": 135,
   "metadata": {
    "ExecuteTime": {
     "end_time": "2021-03-28T19:59:11.163875Z",
     "start_time": "2021-03-28T19:59:11.133920Z"
    }
   },
   "outputs": [
    {
     "name": "stdout",
     "output_type": "stream",
     "text": [
      "Proportion of trace:\n",
      "    LD1     LD2     LD3     LD4\n",
      " 0.9856  0.0125  0.0012  0.0007\n"
     ]
    }
   ],
   "source": [
    "def proportion_of_trace(lda):\n",
    "    ret = pd.DataFrame([round(i, 4) for i in lda.explained_variance_ratio_ if round(i, 4) > 0], columns=[\"ExplainedVariance\"])\n",
    "    ret.index = [\"LD\"+str(i+1) for i in range(ret.shape[0])]\n",
    "    ret = ret.transpose()\n",
    "    print(\"Proportion of trace:\")\n",
    "    print(ret.to_string(index=False))\n",
    "    return ret\n",
    "\n",
    "proportion_of_trace(LinearDiscriminantAnalysis(solver=\"eigen\").fit(X, y));"
   ]
  },
  {
   "cell_type": "markdown",
   "metadata": {},
   "source": [
    "Therefore, the first discriminant function does achieve a good separation between groups , but the rest discriminant functions does not improve much the separation of the groups , so is it worth using the second discriminant function as well. Therefore, to achieve a good separation of the groups , it is necessary to use  the first discriminant.\n"
   ]
  },
  {
   "cell_type": "markdown",
   "metadata": {},
   "source": [
    "1.3  A Stacked Histogram of the LDA Values\n",
    "A nice way of displaying the results of a linear discriminant analysis (LDA) is to make a stacked histogram of the values of the discriminant function for the samples from different groups (different wine cultivars in our example).\n",
    "\n",
    "We can do this using the ldahist() function defined below."
   ]
  },
  {
   "cell_type": "code",
   "execution_count": 136,
   "metadata": {
    "ExecuteTime": {
     "end_time": "2021-03-28T19:59:55.311652Z",
     "start_time": "2021-03-28T19:59:55.297682Z"
    }
   },
   "outputs": [],
   "source": [
    "def ldahist(data, g, sep=False):\n",
    "    xmin = np.trunc(np.min(data)) - 1\n",
    "    xmax = np.trunc(np.max(data)) + 1\n",
    "    ncol = len(set(g))\n",
    "    binwidth = 0.5\n",
    "    bins=np.arange(xmin, xmax + binwidth, binwidth)\n",
    "    if sep:\n",
    "        fig, axl = plt.subplots(ncol, 1, sharey=True, sharex=True)\n",
    "    else:\n",
    "        fig, axl = plt.subplots(1, 1, sharey=True, sharex=True)\n",
    "        axl = [axl]*ncol\n",
    "    for ax, (group, gdata) in zip(axl, data.groupby(g)):\n",
    "        sns.distplot(gdata.values, bins, ax=ax, label=\"group \"+str(group))\n",
    "        ax.set_xlim([xmin, xmax])\n",
    "        if sep:\n",
    "            ax.set_xlabel(\"group\"+str(group))\n",
    "        else:\n",
    "            ax.legend(loc='center left', bbox_to_anchor=(1, 0.5))\n",
    "    plt.tight_layout()"
   ]
  },
  {
   "cell_type": "code",
   "execution_count": 137,
   "metadata": {
    "ExecuteTime": {
     "end_time": "2021-03-28T20:00:05.112356Z",
     "start_time": "2021-03-28T20:00:04.523963Z"
    }
   },
   "outputs": [
    {
     "name": "stderr",
     "output_type": "stream",
     "text": [
      "C:\\Users\\User\\anaconda3\\lib\\site-packages\\seaborn\\distributions.py:369: UserWarning: Default bandwidth for data is 0; skipping density estimation.\n",
      "  warnings.warn(msg, UserWarning)\n"
     ]
    },
    {
     "data": {
      "image/png": "[encoded data removed]",
      "text/plain": [
       "<Figure size 432x288 with 1 Axes>"
      ]
     },
     "metadata": {
      "needs_background": "light"
     },
     "output_type": "display_data"
    }
   ],
   "source": [
    "ldahist(lda_values[\"x\"].LD1, y)"
   ]
  },
  {
   "cell_type": "code",
   "execution_count": 138,
   "metadata": {
    "ExecuteTime": {
     "end_time": "2021-03-28T20:00:23.965894Z",
     "start_time": "2021-03-28T20:00:23.318946Z"
    }
   },
   "outputs": [
    {
     "name": "stderr",
     "output_type": "stream",
     "text": [
      "C:\\Users\\User\\anaconda3\\lib\\site-packages\\seaborn\\distributions.py:369: UserWarning: Default bandwidth for data is 0; skipping density estimation.\n",
      "  warnings.warn(msg, UserWarning)\n"
     ]
    },
    {
     "data": {
      "image/png": "[encoded data removed]",
      "text/plain": [
       "<Figure size 432x288 with 1 Axes>"
      ]
     },
     "metadata": {
      "needs_background": "light"
     },
     "output_type": "display_data"
    }
   ],
   "source": [
    "ldahist(lda_values[\"x\"].LD2, y)"
   ]
  },
  {
   "cell_type": "markdown",
   "metadata": {},
   "source": [
    "we see quite a bit of overlapping but not as much as with second discriminant function's histogram"
   ]
  },
  {
   "cell_type": "code",
   "execution_count": 139,
   "metadata": {
    "ExecuteTime": {
     "end_time": "2021-03-28T20:00:50.965669Z",
     "start_time": "2021-03-28T20:00:50.579703Z"
    }
   },
   "outputs": [
    {
     "data": {
      "image/png": "[encoded data removed]",
      "text/plain": [
       "<Figure size 507.625x360 with 1 Axes>"
      ]
     },
     "metadata": {
      "needs_background": "light"
     },
     "output_type": "display_data"
    }
   ],
   "source": [
    "sns.lmplot(\"LD1\", \"LD2\", lda_values[\"x\"].join(y), hue=\"V1\", fit_reg=False);"
   ]
  },
  {
   "cell_type": "code",
   "execution_count": null,
   "metadata": {},
   "outputs": [],
   "source": []
  }
 ],
 "metadata": {
  "kernelspec": {
   "display_name": "Python 3",
   "language": "python",
   "name": "python3"
  },
  "language_info": {
   "codemirror_mode": {
    "name": "ipython",
    "version": 3
   },
   "file_extension": ".py",
   "mimetype": "text/x-python",
   "name": "python",
   "nbconvert_exporter": "python",
   "pygments_lexer": "ipython3",
   "version": "3.8.3"
  },
  "toc": {
   "base_numbering": 1,
   "nav_menu": {},
   "number_sections": true,
   "sideBar": true,
   "skip_h1_title": false,
   "title_cell": "Table of Contents",
   "title_sidebar": "Contents",
   "toc_cell": false,
   "toc_position": {},
   "toc_section_display": true,
   "toc_window_display": false
  },
  "varInspector": {
   "cols": {
    "lenName": 16,
    "lenType": 16,
    "lenVar": 40
   },
   "kernels_config": {
    "python": {
     "delete_cmd_postfix": "",
     "delete_cmd_prefix": "del ",
     "library": "var_list.py",
     "varRefreshCmd": "print(var_dic_list())"
    },
    "r": {
     "delete_cmd_postfix": ") ",
     "delete_cmd_prefix": "rm(",
     "library": "var_list.r",
     "varRefreshCmd": "cat(var_dic_list()) "
    }
   },
   "types_to_exclude": [
    "module",
    "function",
    "builtin_function_or_method",
    "instance",
    "_Feature"
   ],
   "window_display": false
  }
 },
 "nbformat": 4,
 "nbformat_minor": 4
}
