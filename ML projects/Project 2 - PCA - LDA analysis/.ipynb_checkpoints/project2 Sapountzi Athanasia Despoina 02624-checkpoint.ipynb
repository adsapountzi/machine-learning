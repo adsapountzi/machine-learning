{
 "cells": [
  {
   "cell_type": "code",
   "execution_count": 80,
   "metadata": {
    "ExecuteTime": {
     "end_time": "2021-03-28T18:58:37.145267Z",
     "start_time": "2021-03-28T18:58:37.124051Z"
    }
   },
   "outputs": [],
   "source": [
    "from pydoc import help  # can type in the python console `help(name of function)` to get the documentation\n",
    "import pandas as pd\n",
    "import numpy as np\n",
    "import matplotlib.pyplot as plt\n",
    "import seaborn as sns\n",
    "from sklearn.preprocessing import scale\n",
    "from sklearn.decomposition import PCA\n",
    "from sklearn.discriminant_analysis import LinearDiscriminantAnalysis\n",
    "from scipy import stats\n",
    "from IPython.display import display, HTML\n",
    "\n",
    "# figures inline in notebook\n",
    "%matplotlib inline\n",
    "\n",
    "np.set_printoptions(suppress=True)\n",
    "\n",
    "DISPLAY_MAX_ROWS = 20  # number of max rows to print for a DataFrame\n",
    "pd.set_option('display.max_rows', DISPLAY_MAX_ROWS)"
   ]
  },
  {
   "cell_type": "code",
   "execution_count": 81,
   "metadata": {
    "ExecuteTime": {
     "end_time": "2021-03-28T18:58:38.020590Z",
     "start_time": "2021-03-28T18:58:37.551150Z"
    }
   },
   "outputs": [],
   "source": [
    "import pandas as pd\n",
    "import numpy as np\n",
    "from sklearn.preprocessing import LabelEncoder\n",
    "\n",
    "data = pd.read_excel('business_survey_results.xlsx', sheet_name='results', usecols=['2. Η Νομική μορφή της επιχείρησης είναι:', '6.1.1 Κύρια Δραστηριότητα', '7. Πόσο διαφοροποιημένα είναι τα προϊόντα που παράγει η επιχείρηση σε σχέση με τον ανταγωνισμό;', '1ος Στόχος', 'Πιστοποίηση των προϊόντων τους', 'Οι σχέσεις με τους πελάτες και η πιστωτική πολιτική έναντι των πελατών'])\n",
    "data.columns = [\"V\"+str(i) for i in range(1, len(data.columns)+1)]  # rename column names\n",
    "\n",
    "\n",
    "data.dtypes\n",
    "data = data.fillna(data.mean()) \n",
    "for col_name in data.columns:\n",
    "    if(data[col_name].dtype == 'object'):#convert object type to categorical\n",
    "        data[col_name]= data[col_name].astype('category')\n",
    "        data[col_name] = data[col_name].cat.codes #\n",
    "       \n",
    "    \n",
    "data = data.replace([-1],np.nan) #cat.codes replaces nan with -1, so reverse that.\n",
    "\n",
    "\n",
    "data = data.fillna(data.mean()) # replace nan values with the mean() of that column.\n",
    "\n",
    "data\n",
    "\n",
    "X = data.loc[:, \"V2\":]  # independent variables data\n",
    "\n",
    "y = data.V1  # dependant variable data"
   ]
  },
  {
   "cell_type": "code",
   "execution_count": 82,
   "metadata": {
    "ExecuteTime": {
     "end_time": "2021-03-28T18:58:38.270900Z",
     "start_time": "2021-03-28T18:58:38.256922Z"
    }
   },
   "outputs": [],
   "source": [
    "#standarize for better analysis\n",
    "standardisedX = scale(X)\n",
    "standardisedX = pd.DataFrame(standardisedX, index=X.index, columns=X.columns)"
   ]
  },
  {
   "cell_type": "code",
   "execution_count": 83,
   "metadata": {
    "ExecuteTime": {
     "end_time": "2021-03-28T18:58:38.603217Z",
     "start_time": "2021-03-28T18:58:38.584265Z"
    }
   },
   "outputs": [],
   "source": [
    "#perform pca\n",
    "\n",
    "pca = PCA().fit(standardisedX)"
   ]
  },
  {
   "cell_type": "code",
   "execution_count": 84,
   "metadata": {
    "ExecuteTime": {
     "end_time": "2021-03-28T18:58:47.336909Z",
     "start_time": "2021-03-28T18:58:47.327931Z"
    }
   },
   "outputs": [],
   "source": [
    "def pca_summary(pca, standardised_data, out=True):\n",
    "    names = [\"PC\"+str(i) for i in range(1, len(pca.explained_variance_ratio_)+1)]\n",
    "    a = list(np.std(pca.transform(standardised_data), axis=0))\n",
    "    b = list(pca.explained_variance_ratio_)\n",
    "    c = [np.sum(pca.explained_variance_ratio_[:i]) for i in range(1, len(pca.explained_variance_ratio_)+1)]\n",
    "    columns = pd.MultiIndex.from_tuples([(\"sdev\", \"Standard deviation\"), (\"varprop\", \"Proportion of Variance\"), (\"cumprop\", \"Cumulative Proportion\")])\n",
    "    summary = pd.DataFrame(zip(a, b, c), index=names, columns=columns)\n",
    "    if out:\n",
    "        print(\"Importance of components:\")\n",
    "        display(summary)\n",
    "    return summary"
   ]
  },
  {
   "cell_type": "code",
   "execution_count": 85,
   "metadata": {
    "ExecuteTime": {
     "end_time": "2021-03-28T18:58:47.714051Z",
     "start_time": "2021-03-28T18:58:47.681142Z"
    }
   },
   "outputs": [
    {
     "name": "stdout",
     "output_type": "stream",
     "text": [
      "Importance of components:\n"
     ]
    },
    {
     "data": {
      "text/html": [
       "<div>\n",
       "<style scoped>\n",
       "    .dataframe tbody tr th:only-of-type {\n",
       "        vertical-align: middle;\n",
       "    }\n",
       "\n",
       "    .dataframe tbody tr th {\n",
       "        vertical-align: top;\n",
       "    }\n",
       "\n",
       "    .dataframe thead tr th {\n",
       "        text-align: left;\n",
       "    }\n",
       "</style>\n",
       "<table border=\"1\" class=\"dataframe\">\n",
       "  <thead>\n",
       "    <tr>\n",
       "      <th></th>\n",
       "      <th>sdev</th>\n",
       "      <th>varprop</th>\n",
       "      <th>cumprop</th>\n",
       "    </tr>\n",
       "    <tr>\n",
       "      <th></th>\n",
       "      <th>Standard deviation</th>\n",
       "      <th>Proportion of Variance</th>\n",
       "      <th>Cumulative Proportion</th>\n",
       "    </tr>\n",
       "  </thead>\n",
       "  <tbody>\n",
       "    <tr>\n",
       "      <th>PC1</th>\n",
       "      <td>1.176474</td>\n",
       "      <td>0.276818</td>\n",
       "      <td>0.276818</td>\n",
       "    </tr>\n",
       "    <tr>\n",
       "      <th>PC2</th>\n",
       "      <td>1.025041</td>\n",
       "      <td>0.210142</td>\n",
       "      <td>0.486960</td>\n",
       "    </tr>\n",
       "    <tr>\n",
       "      <th>PC3</th>\n",
       "      <td>0.998168</td>\n",
       "      <td>0.199268</td>\n",
       "      <td>0.686228</td>\n",
       "    </tr>\n",
       "    <tr>\n",
       "      <th>PC4</th>\n",
       "      <td>0.937818</td>\n",
       "      <td>0.175900</td>\n",
       "      <td>0.862128</td>\n",
       "    </tr>\n",
       "    <tr>\n",
       "      <th>PC5</th>\n",
       "      <td>0.830276</td>\n",
       "      <td>0.137872</td>\n",
       "      <td>1.000000</td>\n",
       "    </tr>\n",
       "  </tbody>\n",
       "</table>\n",
       "</div>"
      ],
      "text/plain": [
       "                  sdev                varprop               cumprop\n",
       "    Standard deviation Proportion of Variance Cumulative Proportion\n",
       "PC1           1.176474               0.276818              0.276818\n",
       "PC2           1.025041               0.210142              0.486960\n",
       "PC3           0.998168               0.199268              0.686228\n",
       "PC4           0.937818               0.175900              0.862128\n",
       "PC5           0.830276               0.137872              1.000000"
      ]
     },
     "metadata": {},
     "output_type": "display_data"
    }
   ],
   "source": [
    "summary = pca_summary(pca, standardisedX)"
   ]
  },
  {
   "cell_type": "markdown",
   "metadata": {},
   "source": [
    "This gives us the standard deviation of each component, and the proportion of variance explained by each component. The standard deviation of the components is stored in a named row called sdev of the output variable made by the pca_summary function and stored in the summary variable:"
   ]
  },
  {
   "cell_type": "code",
   "execution_count": 86,
   "metadata": {
    "ExecuteTime": {
     "end_time": "2021-03-28T18:58:48.688610Z",
     "start_time": "2021-03-28T18:58:48.675641Z"
    }
   },
   "outputs": [
    {
     "data": {
      "text/html": [
       "<div>\n",
       "<style scoped>\n",
       "    .dataframe tbody tr th:only-of-type {\n",
       "        vertical-align: middle;\n",
       "    }\n",
       "\n",
       "    .dataframe tbody tr th {\n",
       "        vertical-align: top;\n",
       "    }\n",
       "\n",
       "    .dataframe thead th {\n",
       "        text-align: right;\n",
       "    }\n",
       "</style>\n",
       "<table border=\"1\" class=\"dataframe\">\n",
       "  <thead>\n",
       "    <tr style=\"text-align: right;\">\n",
       "      <th></th>\n",
       "      <th>Standard deviation</th>\n",
       "    </tr>\n",
       "  </thead>\n",
       "  <tbody>\n",
       "    <tr>\n",
       "      <th>PC1</th>\n",
       "      <td>1.176474</td>\n",
       "    </tr>\n",
       "    <tr>\n",
       "      <th>PC2</th>\n",
       "      <td>1.025041</td>\n",
       "    </tr>\n",
       "    <tr>\n",
       "      <th>PC3</th>\n",
       "      <td>0.998168</td>\n",
       "    </tr>\n",
       "    <tr>\n",
       "      <th>PC4</th>\n",
       "      <td>0.937818</td>\n",
       "    </tr>\n",
       "    <tr>\n",
       "      <th>PC5</th>\n",
       "      <td>0.830276</td>\n",
       "    </tr>\n",
       "  </tbody>\n",
       "</table>\n",
       "</div>"
      ],
      "text/plain": [
       "     Standard deviation\n",
       "PC1            1.176474\n",
       "PC2            1.025041\n",
       "PC3            0.998168\n",
       "PC4            0.937818\n",
       "PC5            0.830276"
      ]
     },
     "execution_count": 86,
     "metadata": {},
     "output_type": "execute_result"
    }
   ],
   "source": [
    "summary.sdev"
   ]
  },
  {
   "cell_type": "markdown",
   "metadata": {},
   "source": [
    "The total variance explained by the components is the sum of the variances of the components:"
   ]
  },
  {
   "cell_type": "code",
   "execution_count": 87,
   "metadata": {
    "ExecuteTime": {
     "end_time": "2021-03-28T18:58:49.410150Z",
     "start_time": "2021-03-28T18:58:49.397186Z"
    }
   },
   "outputs": [
    {
     "data": {
      "text/plain": [
       "Standard deviation    5.0\n",
       "dtype: float64"
      ]
     },
     "execution_count": 87,
     "metadata": {},
     "output_type": "execute_result"
    }
   ],
   "source": [
    "np.sum(summary.sdev**2)"
   ]
  },
  {
   "cell_type": "markdown",
   "metadata": {},
   "source": [
    "In this case, we see that the total variance is 5, which is equal to the number of standardised variables (5 variables). This is because for standardised data, the variance of each standardised variable is 1. The total variance is equal to the sum of the variances of the individual variables, and since the variance of each standardised variable is 1, the total variance should be equal to the number of variables (5 here)."
   ]
  },
  {
   "cell_type": "markdown",
   "metadata": {},
   "source": [
    "### Deciding How Many Principal Components to Retain\n",
    "In order to decide how many principal components should be retained, it is common to summarise the results of a principal components analysis by making a scree plot, which we can do using the `screeplot()` function below:"
   ]
  },
  {
   "cell_type": "code",
   "execution_count": 88,
   "metadata": {
    "ExecuteTime": {
     "end_time": "2021-03-28T18:58:50.148181Z",
     "start_time": "2021-03-28T18:58:49.994559Z"
    }
   },
   "outputs": [
    {
     "data": {
      "image/png": "[encoded data removed]",
      "text/plain": [
       "<Figure size 432x288 with 1 Axes>"
      ]
     },
     "metadata": {
      "needs_background": "light"
     },
     "output_type": "display_data"
    }
   ],
   "source": [
    "def screeplot(pca, standardised_values):\n",
    "    y = np.std(pca.transform(standardised_values), axis=0)**2\n",
    "    x = np.arange(len(y)) + 1\n",
    "    plt.plot(x, y, \"o-\")\n",
    "    plt.xticks(x, [\"Comp.\"+str(i) for i in x], rotation=60)\n",
    "    plt.ylabel(\"Variance\")\n",
    "    plt.show()\n",
    "\n",
    "screeplot(pca, standardisedX)"
   ]
  },
  {
   "cell_type": "markdown",
   "metadata": {},
   "source": [
    "In this example the location of the \"elbow\" is not very clear(it looks like it is in component 2, but it is above 1).Therefore,\n",
    " way of deciding how many components to retain is to use *Kaiser’s criterion*: that we should only retain principal components for which the variance is above 1 (when principal component analysis was applied to standardised data). We can check this by finding the variance of each of the principal components:"
   ]
  },
  {
   "cell_type": "code",
   "execution_count": 89,
   "metadata": {
    "ExecuteTime": {
     "end_time": "2021-03-28T18:58:50.385512Z",
     "start_time": "2021-03-28T18:58:50.376538Z"
    }
   },
   "outputs": [
    {
     "data": {
      "text/html": [
       "<div>\n",
       "<style scoped>\n",
       "    .dataframe tbody tr th:only-of-type {\n",
       "        vertical-align: middle;\n",
       "    }\n",
       "\n",
       "    .dataframe tbody tr th {\n",
       "        vertical-align: top;\n",
       "    }\n",
       "\n",
       "    .dataframe thead th {\n",
       "        text-align: right;\n",
       "    }\n",
       "</style>\n",
       "<table border=\"1\" class=\"dataframe\">\n",
       "  <thead>\n",
       "    <tr style=\"text-align: right;\">\n",
       "      <th></th>\n",
       "      <th>Standard deviation</th>\n",
       "    </tr>\n",
       "  </thead>\n",
       "  <tbody>\n",
       "    <tr>\n",
       "      <th>PC1</th>\n",
       "      <td>1.384090</td>\n",
       "    </tr>\n",
       "    <tr>\n",
       "      <th>PC2</th>\n",
       "      <td>1.050709</td>\n",
       "    </tr>\n",
       "    <tr>\n",
       "      <th>PC3</th>\n",
       "      <td>0.996339</td>\n",
       "    </tr>\n",
       "    <tr>\n",
       "      <th>PC4</th>\n",
       "      <td>0.879502</td>\n",
       "    </tr>\n",
       "    <tr>\n",
       "      <th>PC5</th>\n",
       "      <td>0.689359</td>\n",
       "    </tr>\n",
       "  </tbody>\n",
       "</table>\n",
       "</div>"
      ],
      "text/plain": [
       "     Standard deviation\n",
       "PC1            1.384090\n",
       "PC2            1.050709\n",
       "PC3            0.996339\n",
       "PC4            0.879502\n",
       "PC5            0.689359"
      ]
     },
     "execution_count": 89,
     "metadata": {},
     "output_type": "execute_result"
    }
   ],
   "source": [
    "summary.sdev**2"
   ]
  },
  {
   "cell_type": "markdown",
   "metadata": {},
   "source": [
    "We see that the variance is above 1 for principal components 1, 2,  (which have variances 1.38 and 1.05 respectively). Therefore, using Kaiser’s criterion, we would retain the first 2 principal components."
   ]
  },
  {
   "cell_type": "markdown",
   "metadata": {},
   "source": [
    "### Loadings for the Principal Components\n",
    "\n",
    "The loadings for the principal components are stored in a named element `components_` of the variable returned by `PCA().fit()`. This contains a matrix with the loadings of each principal component, where the first column in the matrix contains the loadings for the first principal component, the second column contains the loadings for the second principal component, and so on.\n",
    "\n",
    "Therefore, to obtain the loadings for the first principal component in our analysis of the 13 chemical concentrations in wine samples, we type:"
   ]
  },
  {
   "cell_type": "code",
   "execution_count": 90,
   "metadata": {
    "ExecuteTime": {
     "end_time": "2021-03-28T18:58:51.013143Z",
     "start_time": "2021-03-28T18:58:50.998182Z"
    },
    "scrolled": true
   },
   "outputs": [
    {
     "data": {
      "text/plain": [
       "array([ 0.63636162,  0.54888595, -0.31934848,  0.32153419, -0.29732208])"
      ]
     },
     "execution_count": 90,
     "metadata": {},
     "output_type": "execute_result"
    }
   ],
   "source": [
    "pca.components_[0]"
   ]
  },
  {
   "cell_type": "markdown",
   "metadata": {},
   "source": [
    "This means that the first principal component is a linear combination of the variables:\n",
    "```\n",
    "0.636*Z2 + 0.549*Z3 - 0.319*Z4 + 0.322*Z5 - 0.297*Z6\n",
    "\n",
    "```\n",
    "\n",
    "where Z2, Z3, Z4, Z5,Z6 are the standardised versions of the variables V2, V3, V4, V5, V6 (that each have mean of 0 and variance of 1).\n",
    "\n",
    "Note that the square of the loadings sum to 1, as this is a constraint used in calculating the loadings:"
   ]
  },
  {
   "cell_type": "code",
   "execution_count": 91,
   "metadata": {
    "ExecuteTime": {
     "end_time": "2021-03-28T18:58:51.466556Z",
     "start_time": "2021-03-28T18:58:51.445579Z"
    }
   },
   "outputs": [
    {
     "data": {
      "text/plain": [
       "0.9999999999999997"
      ]
     },
     "execution_count": 91,
     "metadata": {},
     "output_type": "execute_result"
    }
   ],
   "source": [
    "np.sum(pca.components_[0]**2)"
   ]
  },
  {
   "cell_type": "markdown",
   "metadata": {},
   "source": [
    "To calculate the values of the first principal component, we can define our own function to calculate a principal component given the loadings and the input variables' values:"
   ]
  },
  {
   "cell_type": "code",
   "execution_count": 92,
   "metadata": {
    "ExecuteTime": {
     "end_time": "2021-03-28T18:58:51.858140Z",
     "start_time": "2021-03-28T18:58:51.844180Z"
    }
   },
   "outputs": [],
   "source": [
    "def calcpc(variables, loadings):\n",
    "    # find the number of samples in the data set and the number of variables\n",
    "    numsamples, numvariables = variables.shape\n",
    "    # make a vector to store the component\n",
    "    pc = np.zeros(numsamples)\n",
    "    # calculate the value of the component for each sample\n",
    "    for i in range(numsamples):\n",
    "        valuei = 0\n",
    "        for j in range(numvariables):\n",
    "            valueij = variables.iloc[i, j]\n",
    "            loadingj = loadings[j]\n",
    "            valuei = valuei + (valueij * loadingj)\n",
    "        pc[i] = valuei\n",
    "    return pc"
   ]
  },
  {
   "cell_type": "markdown",
   "metadata": {},
   "source": [
    "We can then use the function to calculate the values of the first principal component for each sample in our wine data:"
   ]
  },
  {
   "cell_type": "code",
   "execution_count": 93,
   "metadata": {
    "ExecuteTime": {
     "end_time": "2021-03-28T18:58:52.265142Z",
     "start_time": "2021-03-28T18:58:52.232201Z"
    }
   },
   "outputs": [
    {
     "data": {
      "text/plain": [
       "array([-0.7629081 ,  0.14926285, -0.13712606,  0.45864291,  2.07919869,\n",
       "        0.3693447 ,  1.34955926, -0.92353109,  0.3496691 ,  1.16347914,\n",
       "        0.0019032 ,  0.10321481, -1.49185948,  0.0019032 ,  1.35002416,\n",
       "        0.8237448 ,  0.68130468,  0.73619227, -0.34082923, -0.0056951 ,\n",
       "       -1.12036496, -0.08181368, -0.22113   , -0.51498941, -0.12662379,\n",
       "        2.61050821,  0.06758673,  0.85403519,  0.02635213,  0.88093188,\n",
       "        2.78277921,  1.34829754,  0.46335376,  1.20493359,  2.15838588,\n",
       "        0.19475126, -1.23510124,  0.17851031,  1.81216876, -0.132749  ,\n",
       "       -0.01672805,  0.07014618,  0.81426394,  1.85968451,  0.88907407,\n",
       "       -0.92119149,  1.8547683 , -0.15312196, -0.69704815, -0.60647706,\n",
       "        0.76935437, -0.10777913,  1.35236376, -0.31476431, -0.65007818,\n",
       "        0.30337412, -1.11852913, -1.02139296, -0.9584033 ,  0.81840711,\n",
       "        0.24487073, -0.9852123 , -0.02097069,  0.50205044, -0.30590206,\n",
       "        1.5564884 , -0.8374746 , -0.77176387,  0.26535432,  1.64749606,\n",
       "       -0.04035924, -0.01648442,  0.43485039,  0.44949583, -0.61413926,\n",
       "       -0.8754944 ,  2.00777648, -0.00138856,  0.44570361, -0.68583736,\n",
       "        1.93119441,  0.21155847,  1.22357994, -1.84422228, -0.41599693,\n",
       "        1.12701143, -0.03745527,  0.47803145,  0.32863435,  0.14703719,\n",
       "        1.78605935,  1.63641638, -0.98337316,  2.70220991,  0.89809004,\n",
       "        0.07130844,  0.53229078,  1.25441959,  0.53229078, -1.03395752,\n",
       "       -1.00359992,  1.60642813,  0.18004192,  1.33697422,  0.5017396 ,\n",
       "        0.73967696,  2.44046825,  1.72085357, -1.89193635,  0.96986652,\n",
       "        1.13405857,  0.20236466,  0.45999809,  1.65018662,  1.2658858 ,\n",
       "        0.01319298,  1.54569908, -0.65007818,  2.05670777,  0.48991913,\n",
       "       -1.85391656, -1.85391656, -1.85391656, -1.85391656, -1.85391656,\n",
       "        1.21890278, -1.42512764, -1.80276784, -1.02839668, -0.53162019,\n",
       "        1.6731395 , -1.85391656, -1.85391656, -1.85391656, -1.85391656,\n",
       "       -1.85391656, -1.85391656, -0.640995  ,  0.54109472,  1.07292852,\n",
       "       -1.85391656,  0.24798275, -1.85391656, -1.85391656, -1.85391656,\n",
       "       -1.85391656, -1.85391656, -1.85391656, -1.85391656, -1.85391656,\n",
       "       -1.85391656, -1.85391656, -1.85391656,  0.        ,  0.58230889,\n",
       "       -1.85391656, -1.85391656, -1.85391656, -1.85391656, -1.85391656,\n",
       "       -0.07971771,  0.44030202, -0.26516768, -0.9438718 , -1.24324674,\n",
       "       -0.9438718 , -1.74947245, -1.89193635,  0.22120931, -0.75108764,\n",
       "        0.98649044,  1.57721563,  1.23828928,  0.54085444,  0.07740836,\n",
       "        1.77932203, -1.10078283, -0.27360023,  1.77712988, -0.09129786,\n",
       "        0.69528833, -0.9438718 ,  1.22357994,  0.0709976 ,  1.74129374,\n",
       "       -1.54484734, -0.97442298,  1.45972159,  1.74070891, -0.32573337,\n",
       "        1.18107387,  0.13565329, -1.59256141, -0.9438718 , -0.92929025,\n",
       "       -1.24324674, -0.9438718 ,  1.59839658,  1.00372266,  0.48801609,\n",
       "        0.89089273,  0.33358221, -0.23684215, -0.28455623,  0.26325835,\n",
       "       -0.06108646, -0.50095506, -0.18912808,  2.83778405, -1.20861486,\n",
       "       -0.9438718 ,  1.01687206, -1.64123942, -1.7909269 ,  1.93604673,\n",
       "       -0.32573337,  1.0770717 ,  0.98299544, -0.44864409, -0.62510831,\n",
       "        0.        ,  0.        , -0.20677492,  1.55913554,  0.00080484,\n",
       "       -0.95921129,  0.79572681,  0.        , -0.32170082, -0.41723818,\n",
       "       -0.77076324, -1.03211838,  1.35536185,  0.95804605,  0.23344794,\n",
       "        0.2582867 ,  0.70667223,  0.14046649,  0.50598224, -0.40467693,\n",
       "       -1.28084507,  1.05798609,  0.55705197])"
      ]
     },
     "execution_count": 93,
     "metadata": {},
     "output_type": "execute_result"
    }
   ],
   "source": [
    "calcpc(standardisedX, pca.components_[0])"
   ]
  },
  {
   "cell_type": "markdown",
   "metadata": {},
   "source": [
    "In fact, the values of the first principal component are computed with the following, so we can compare those values to the ones that we calculated, and they should agree"
   ]
  },
  {
   "cell_type": "code",
   "execution_count": 94,
   "metadata": {
    "ExecuteTime": {
     "end_time": "2021-03-28T18:58:52.653212Z",
     "start_time": "2021-03-28T18:58:52.636256Z"
    }
   },
   "outputs": [
    {
     "data": {
      "text/plain": [
       "array([-0.7629081 ,  0.14926285, -0.13712606,  0.45864291,  2.07919869,\n",
       "        0.3693447 ,  1.34955926, -0.92353109,  0.3496691 ,  1.16347914,\n",
       "        0.0019032 ,  0.10321481, -1.49185948,  0.0019032 ,  1.35002416,\n",
       "        0.8237448 ,  0.68130468,  0.73619227, -0.34082923, -0.0056951 ,\n",
       "       -1.12036496, -0.08181368, -0.22113   , -0.51498941, -0.12662379,\n",
       "        2.61050821,  0.06758673,  0.85403519,  0.02635213,  0.88093188,\n",
       "        2.78277921,  1.34829754,  0.46335376,  1.20493359,  2.15838588,\n",
       "        0.19475126, -1.23510124,  0.17851031,  1.81216876, -0.132749  ,\n",
       "       -0.01672805,  0.07014618,  0.81426394,  1.85968451,  0.88907407,\n",
       "       -0.92119149,  1.8547683 , -0.15312196, -0.69704815, -0.60647706,\n",
       "        0.76935437, -0.10777913,  1.35236376, -0.31476431, -0.65007818,\n",
       "        0.30337412, -1.11852913, -1.02139296, -0.9584033 ,  0.81840711,\n",
       "        0.24487073, -0.9852123 , -0.02097069,  0.50205044, -0.30590206,\n",
       "        1.5564884 , -0.8374746 , -0.77176387,  0.26535432,  1.64749606,\n",
       "       -0.04035924, -0.01648442,  0.43485039,  0.44949583, -0.61413926,\n",
       "       -0.8754944 ,  2.00777648, -0.00138856,  0.44570361, -0.68583736,\n",
       "        1.93119441,  0.21155847,  1.22357994, -1.84422228, -0.41599693,\n",
       "        1.12701143, -0.03745527,  0.47803145,  0.32863435,  0.14703719,\n",
       "        1.78605935,  1.63641638, -0.98337316,  2.70220991,  0.89809004,\n",
       "        0.07130844,  0.53229078,  1.25441959,  0.53229078, -1.03395752,\n",
       "       -1.00359992,  1.60642813,  0.18004192,  1.33697422,  0.5017396 ,\n",
       "        0.73967696,  2.44046825,  1.72085357, -1.89193635,  0.96986652,\n",
       "        1.13405857,  0.20236466,  0.45999809,  1.65018662,  1.2658858 ,\n",
       "        0.01319298,  1.54569908, -0.65007818,  2.05670777,  0.48991913,\n",
       "       -1.85391656, -1.85391656, -1.85391656, -1.85391656, -1.85391656,\n",
       "        1.21890278, -1.42512764, -1.80276784, -1.02839668, -0.53162019,\n",
       "        1.6731395 , -1.85391656, -1.85391656, -1.85391656, -1.85391656,\n",
       "       -1.85391656, -1.85391656, -0.640995  ,  0.54109472,  1.07292852,\n",
       "       -1.85391656,  0.24798275, -1.85391656, -1.85391656, -1.85391656,\n",
       "       -1.85391656, -1.85391656, -1.85391656, -1.85391656, -1.85391656,\n",
       "       -1.85391656, -1.85391656, -1.85391656,  0.        ,  0.58230889,\n",
       "       -1.85391656, -1.85391656, -1.85391656, -1.85391656, -1.85391656,\n",
       "       -0.07971771,  0.44030202, -0.26516768, -0.9438718 , -1.24324674,\n",
       "       -0.9438718 , -1.74947245, -1.89193635,  0.22120931, -0.75108764,\n",
       "        0.98649044,  1.57721563,  1.23828928,  0.54085444,  0.07740836,\n",
       "        1.77932203, -1.10078283, -0.27360023,  1.77712988, -0.09129786,\n",
       "        0.69528833, -0.9438718 ,  1.22357994,  0.0709976 ,  1.74129374,\n",
       "       -1.54484734, -0.97442298,  1.45972159,  1.74070891, -0.32573337,\n",
       "        1.18107387,  0.13565329, -1.59256141, -0.9438718 , -0.92929025,\n",
       "       -1.24324674, -0.9438718 ,  1.59839658,  1.00372266,  0.48801609,\n",
       "        0.89089273,  0.33358221, -0.23684215, -0.28455623,  0.26325835,\n",
       "       -0.06108646, -0.50095506, -0.18912808,  2.83778405, -1.20861486,\n",
       "       -0.9438718 ,  1.01687206, -1.64123942, -1.7909269 ,  1.93604673,\n",
       "       -0.32573337,  1.0770717 ,  0.98299544, -0.44864409, -0.62510831,\n",
       "        0.        ,  0.        , -0.20677492,  1.55913554,  0.00080484,\n",
       "       -0.95921129,  0.79572681,  0.        , -0.32170082, -0.41723818,\n",
       "       -0.77076324, -1.03211838,  1.35536185,  0.95804605,  0.23344794,\n",
       "        0.2582867 ,  0.70667223,  0.14046649,  0.50598224, -0.40467693,\n",
       "       -1.28084507,  1.05798609,  0.55705197])"
      ]
     },
     "execution_count": 94,
     "metadata": {},
     "output_type": "execute_result"
    }
   ],
   "source": [
    "pca.transform(standardisedX)[:, 0]"
   ]
  },
  {
   "cell_type": "markdown",
   "metadata": {},
   "source": [
    "They do agree.\n",
    "\n",
    "the first principal component has highest (in absolute value) loadings for V2 (0.636), V3 (0.549).The loadings for V4 and V6 are negative, while those for V2, V3, V5 are positive.Therefore, an interpretation of the first principal component is that it represents a contrast between the concentrations of V4 , V6 and the concentrations of V2, V3, V5.\n",
    "\n",
    "Similarly, we can obtain the loadings for the second principal component by typing:"
   ]
  },
  {
   "cell_type": "code",
   "execution_count": 95,
   "metadata": {
    "ExecuteTime": {
     "end_time": "2021-03-28T18:58:53.078329Z",
     "start_time": "2021-03-28T18:58:53.066366Z"
    }
   },
   "outputs": [
    {
     "data": {
      "text/plain": [
       "array([-0.02769643,  0.33671001,  0.45231624, -0.59739683, -0.56954923])"
      ]
     },
     "execution_count": 95,
     "metadata": {},
     "output_type": "execute_result"
    }
   ],
   "source": [
    "pca.components_[1]"
   ]
  },
  {
   "cell_type": "markdown",
   "metadata": {},
   "source": [
    "This means that the second principal component is a linear combination of the variables: \n",
    "\n",
    "```\n",
    "-0.028*Z2 + 0.337*Z3 + 0.452*Z4 - 0.597*Z5 - 0.57*Z6 \n",
    "```\n",
    "\n",
    "where Z2, Z3,Z4, Z5, Z6 are the standardised versions of variables V2, V3, V4, V5 , V6 that each have mean 0 and variance 1.\n",
    "\n",
    "Note that the square of the loadings sum to 1, as above:"
   ]
  },
  {
   "cell_type": "code",
   "execution_count": 96,
   "metadata": {
    "ExecuteTime": {
     "end_time": "2021-03-28T18:58:53.660265Z",
     "start_time": "2021-03-28T18:58:53.646273Z"
    }
   },
   "outputs": [
    {
     "data": {
      "text/plain": [
       "0.9999999999999998"
      ]
     },
     "execution_count": 96,
     "metadata": {},
     "output_type": "execute_result"
    }
   ],
   "source": [
    "np.sum(pca.components_[1]**2)"
   ]
  },
  {
   "cell_type": "markdown",
   "metadata": {},
   "source": [
    "The second principal component has highest loadings for V5 (-0.597), V6 (-0.57), V4 (0.452), V3 (0.337).The loadings for V2, V5, V6 are negative, while the loading for V3, V4 are positive.Therefore, an interpretation of the second principal component is that it represents a contrast between the concentrations of V2, V5, V6 and the concentration of V3, V4. "
   ]
  },
  {
   "cell_type": "markdown",
   "metadata": {},
   "source": [
    "### Scatterplots of the Principal Components\n",
    "The values of the principal components can be computed by the `transform()` (or `fit_transform()`) method of the `PCA` class. It returns a matrix with the principal components, where the first column in the matrix contains the first principal component, the second column the second component, and so on.\n",
    "\n",
    "Thus, in our example, `pca.transform(standardisedX)[:, 0]` contains the first principal component, and `pca.transform(standardisedX)[:, 1]` contains the second principal component.\n",
    "\n",
    "We can make a scatterplot of the first two principal components, and label the data points with the cultivar that the wine samples come from, by typing:\n"
   ]
  },
  {
   "cell_type": "code",
   "execution_count": 97,
   "metadata": {
    "ExecuteTime": {
     "end_time": "2021-03-28T18:58:55.257611Z",
     "start_time": "2021-03-28T18:58:54.840659Z"
    }
   },
   "outputs": [
    {
     "data": {
      "image/png": "[encoded data removed]",
      "text/plain": [
       "<Figure size 507.625x360 with 1 Axes>"
      ]
     },
     "metadata": {
      "needs_background": "light"
     },
     "output_type": "display_data"
    }
   ],
   "source": [
    "def pca_scatter(pca, standardised_values, classifs):\n",
    "    foo = pca.transform(standardised_values)\n",
    "    bar = pd.DataFrame(zip(foo[:, 0], foo[:, 1], classifs), columns=[\"PC1\", \"PC2\", \"Class\"])\n",
    "    sns.lmplot(\"PC1\", \"PC2\", bar, hue=\"Class\", fit_reg=False)\n",
    "\n",
    "pca_scatter(pca, standardisedX, y)"
   ]
  },
  {
   "cell_type": "markdown",
   "metadata": {},
   "source": [
    "The scatterplot shows  the first principal component on the x-axis, and the second principal component on the y-axis.We can see from the scatterplot that the classes are distributed everywhere.In addition most values seem to have pc2 value in the range of  [-1, 1] and most samples have a value of pc1 that ranges between [-1, 2]. \n",
    "\n",
    "Because of the way the data is distributed the first two principal components are not useful for distinguishing samples of the different classes."
   ]
  },
  {
   "cell_type": "code",
   "execution_count": 98,
   "metadata": {
    "ExecuteTime": {
     "end_time": "2021-03-28T18:58:55.778153Z",
     "start_time": "2021-03-28T18:58:55.763193Z"
    }
   },
   "outputs": [],
   "source": [
    "def printMeanAndSdByGroup(variables, groupvariable):\n",
    "    data_groupby = variables.groupby(groupvariable)\n",
    "    print(\"## Means:\")\n",
    "    display(data_groupby.apply(np.mean))\n",
    "    print(\"\\n## Standard deviations:\")\n",
    "    display(data_groupby.apply(np.std))\n",
    "    print(\"\\n## Sample sizes:\")\n",
    "    display(pd.DataFrame(data_groupby.apply(len)))"
   ]
  },
  {
   "cell_type": "code",
   "execution_count": 99,
   "metadata": {
    "ExecuteTime": {
     "end_time": "2021-03-28T18:58:56.559005Z",
     "start_time": "2021-03-28T18:58:56.491243Z"
    }
   },
   "outputs": [
    {
     "name": "stdout",
     "output_type": "stream",
     "text": [
      "## Means:\n"
     ]
    },
    {
     "data": {
      "text/html": [
       "<div>\n",
       "<style scoped>\n",
       "    .dataframe tbody tr th:only-of-type {\n",
       "        vertical-align: middle;\n",
       "    }\n",
       "\n",
       "    .dataframe tbody tr th {\n",
       "        vertical-align: top;\n",
       "    }\n",
       "\n",
       "    .dataframe thead th {\n",
       "        text-align: right;\n",
       "    }\n",
       "</style>\n",
       "<table border=\"1\" class=\"dataframe\">\n",
       "  <thead>\n",
       "    <tr style=\"text-align: right;\">\n",
       "      <th></th>\n",
       "      <th>V2</th>\n",
       "      <th>V3</th>\n",
       "      <th>V4</th>\n",
       "      <th>V5</th>\n",
       "      <th>V6</th>\n",
       "    </tr>\n",
       "    <tr>\n",
       "      <th>V1</th>\n",
       "      <th></th>\n",
       "      <th></th>\n",
       "      <th></th>\n",
       "      <th></th>\n",
       "      <th></th>\n",
       "    </tr>\n",
       "  </thead>\n",
       "  <tbody>\n",
       "    <tr>\n",
       "      <th>0.000000</th>\n",
       "      <td>-0.120379</td>\n",
       "      <td>4.384980e-03</td>\n",
       "      <td>-5.978902e-01</td>\n",
       "      <td>-0.243366</td>\n",
       "      <td>-0.474563</td>\n",
       "    </tr>\n",
       "    <tr>\n",
       "      <th>1.000000</th>\n",
       "      <td>-0.117410</td>\n",
       "      <td>2.353273e-01</td>\n",
       "      <td>-2.050272e-01</td>\n",
       "      <td>-0.067866</td>\n",
       "      <td>-0.214567</td>\n",
       "    </tr>\n",
       "    <tr>\n",
       "      <th>2.000000</th>\n",
       "      <td>0.040732</td>\n",
       "      <td>-5.232743e-02</td>\n",
       "      <td>2.599128e-01</td>\n",
       "      <td>-0.004374</td>\n",
       "      <td>0.056211</td>\n",
       "    </tr>\n",
       "    <tr>\n",
       "      <th>2.113445</th>\n",
       "      <td>-0.242555</td>\n",
       "      <td>1.153788e-16</td>\n",
       "      <td>-2.081569e-16</td>\n",
       "      <td>0.000000</td>\n",
       "      <td>0.000000</td>\n",
       "    </tr>\n",
       "    <tr>\n",
       "      <th>3.000000</th>\n",
       "      <td>0.050997</td>\n",
       "      <td>8.357772e-01</td>\n",
       "      <td>-1.507048e+00</td>\n",
       "      <td>0.056759</td>\n",
       "      <td>0.213535</td>\n",
       "    </tr>\n",
       "    <tr>\n",
       "      <th>4.000000</th>\n",
       "      <td>0.024940</td>\n",
       "      <td>4.384980e-03</td>\n",
       "      <td>-1.350806e+00</td>\n",
       "      <td>-0.021800</td>\n",
       "      <td>0.165567</td>\n",
       "    </tr>\n",
       "    <tr>\n",
       "      <th>5.000000</th>\n",
       "      <td>-0.065918</td>\n",
       "      <td>-1.050087e-01</td>\n",
       "      <td>-5.202534e-01</td>\n",
       "      <td>0.296332</td>\n",
       "      <td>0.006841</td>\n",
       "    </tr>\n",
       "  </tbody>\n",
       "</table>\n",
       "</div>"
      ],
      "text/plain": [
       "                V2            V3            V4        V5        V6\n",
       "V1                                                                \n",
       "0.000000 -0.120379  4.384980e-03 -5.978902e-01 -0.243366 -0.474563\n",
       "1.000000 -0.117410  2.353273e-01 -2.050272e-01 -0.067866 -0.214567\n",
       "2.000000  0.040732 -5.232743e-02  2.599128e-01 -0.004374  0.056211\n",
       "2.113445 -0.242555  1.153788e-16 -2.081569e-16  0.000000  0.000000\n",
       "3.000000  0.050997  8.357772e-01 -1.507048e+00  0.056759  0.213535\n",
       "4.000000  0.024940  4.384980e-03 -1.350806e+00 -0.021800  0.165567\n",
       "5.000000 -0.065918 -1.050087e-01 -5.202534e-01  0.296332  0.006841"
      ]
     },
     "metadata": {},
     "output_type": "display_data"
    },
    {
     "name": "stdout",
     "output_type": "stream",
     "text": [
      "\n",
      "## Standard deviations:\n"
     ]
    },
    {
     "data": {
      "text/html": [
       "<div>\n",
       "<style scoped>\n",
       "    .dataframe tbody tr th:only-of-type {\n",
       "        vertical-align: middle;\n",
       "    }\n",
       "\n",
       "    .dataframe tbody tr th {\n",
       "        vertical-align: top;\n",
       "    }\n",
       "\n",
       "    .dataframe thead th {\n",
       "        text-align: right;\n",
       "    }\n",
       "</style>\n",
       "<table border=\"1\" class=\"dataframe\">\n",
       "  <thead>\n",
       "    <tr style=\"text-align: right;\">\n",
       "      <th></th>\n",
       "      <th>V2</th>\n",
       "      <th>V3</th>\n",
       "      <th>V4</th>\n",
       "      <th>V5</th>\n",
       "      <th>V6</th>\n",
       "    </tr>\n",
       "    <tr>\n",
       "      <th>V1</th>\n",
       "      <th></th>\n",
       "      <th></th>\n",
       "      <th></th>\n",
       "      <th></th>\n",
       "      <th></th>\n",
       "    </tr>\n",
       "  </thead>\n",
       "  <tbody>\n",
       "    <tr>\n",
       "      <th>0.000000</th>\n",
       "      <td>0.759649</td>\n",
       "      <td>0.998470</td>\n",
       "      <td>0.985180</td>\n",
       "      <td>0.649789</td>\n",
       "      <td>1.061442</td>\n",
       "    </tr>\n",
       "    <tr>\n",
       "      <th>1.000000</th>\n",
       "      <td>0.606781</td>\n",
       "      <td>0.864107</td>\n",
       "      <td>1.099881</td>\n",
       "      <td>0.629137</td>\n",
       "      <td>1.111702</td>\n",
       "    </tr>\n",
       "    <tr>\n",
       "      <th>2.000000</th>\n",
       "      <td>1.097114</td>\n",
       "      <td>1.031365</td>\n",
       "      <td>0.864483</td>\n",
       "      <td>1.067156</td>\n",
       "      <td>1.016436</td>\n",
       "    </tr>\n",
       "    <tr>\n",
       "      <th>2.113445</th>\n",
       "      <td>0.485110</td>\n",
       "      <td>0.000000</td>\n",
       "      <td>0.000000</td>\n",
       "      <td>0.000000</td>\n",
       "      <td>0.000000</td>\n",
       "    </tr>\n",
       "    <tr>\n",
       "      <th>3.000000</th>\n",
       "      <td>0.780193</td>\n",
       "      <td>1.211952</td>\n",
       "      <td>0.000000</td>\n",
       "      <td>0.650270</td>\n",
       "      <td>0.872710</td>\n",
       "    </tr>\n",
       "    <tr>\n",
       "      <th>4.000000</th>\n",
       "      <td>0.971093</td>\n",
       "      <td>0.848536</td>\n",
       "      <td>0.312485</td>\n",
       "      <td>0.938616</td>\n",
       "      <td>0.501349</td>\n",
       "    </tr>\n",
       "    <tr>\n",
       "      <th>5.000000</th>\n",
       "      <td>0.827690</td>\n",
       "      <td>0.885346</td>\n",
       "      <td>1.116431</td>\n",
       "      <td>1.176281</td>\n",
       "      <td>0.835977</td>\n",
       "    </tr>\n",
       "  </tbody>\n",
       "</table>\n",
       "</div>"
      ],
      "text/plain": [
       "                V2        V3        V4        V5        V6\n",
       "V1                                                        \n",
       "0.000000  0.759649  0.998470  0.985180  0.649789  1.061442\n",
       "1.000000  0.606781  0.864107  1.099881  0.629137  1.111702\n",
       "2.000000  1.097114  1.031365  0.864483  1.067156  1.016436\n",
       "2.113445  0.485110  0.000000  0.000000  0.000000  0.000000\n",
       "3.000000  0.780193  1.211952  0.000000  0.650270  0.872710\n",
       "4.000000  0.971093  0.848536  0.312485  0.938616  0.501349\n",
       "5.000000  0.827690  0.885346  1.116431  1.176281  0.835977"
      ]
     },
     "metadata": {},
     "output_type": "display_data"
    },
    {
     "name": "stdout",
     "output_type": "stream",
     "text": [
      "\n",
      "## Sample sizes:\n"
     ]
    },
    {
     "data": {
      "text/html": [
       "<div>\n",
       "<style scoped>\n",
       "    .dataframe tbody tr th:only-of-type {\n",
       "        vertical-align: middle;\n",
       "    }\n",
       "\n",
       "    .dataframe tbody tr th {\n",
       "        vertical-align: top;\n",
       "    }\n",
       "\n",
       "    .dataframe thead th {\n",
       "        text-align: right;\n",
       "    }\n",
       "</style>\n",
       "<table border=\"1\" class=\"dataframe\">\n",
       "  <thead>\n",
       "    <tr style=\"text-align: right;\">\n",
       "      <th></th>\n",
       "      <th>0</th>\n",
       "    </tr>\n",
       "    <tr>\n",
       "      <th>V1</th>\n",
       "      <th></th>\n",
       "    </tr>\n",
       "  </thead>\n",
       "  <tbody>\n",
       "    <tr>\n",
       "      <th>0.000000</th>\n",
       "      <td>13</td>\n",
       "    </tr>\n",
       "    <tr>\n",
       "      <th>1.000000</th>\n",
       "      <td>27</td>\n",
       "    </tr>\n",
       "    <tr>\n",
       "      <th>2.000000</th>\n",
       "      <td>165</td>\n",
       "    </tr>\n",
       "    <tr>\n",
       "      <th>2.113445</th>\n",
       "      <td>5</td>\n",
       "    </tr>\n",
       "    <tr>\n",
       "      <th>3.000000</th>\n",
       "      <td>5</td>\n",
       "    </tr>\n",
       "    <tr>\n",
       "      <th>4.000000</th>\n",
       "      <td>9</td>\n",
       "    </tr>\n",
       "    <tr>\n",
       "      <th>5.000000</th>\n",
       "      <td>19</td>\n",
       "    </tr>\n",
       "  </tbody>\n",
       "</table>\n",
       "</div>"
      ],
      "text/plain": [
       "            0\n",
       "V1           \n",
       "0.000000   13\n",
       "1.000000   27\n",
       "2.000000  165\n",
       "2.113445    5\n",
       "3.000000    5\n",
       "4.000000    9\n",
       "5.000000   19"
      ]
     },
     "metadata": {},
     "output_type": "display_data"
    }
   ],
   "source": [
    "printMeanAndSdByGroup(standardisedX, y);"
   ]
  },
  {
   "cell_type": "markdown",
   "metadata": {},
   "source": [
    "## Linear Discriminant Analysis\n",
    "\n",
    "The purpose of principal component analysis is to find the best low-dimensional representation of the variation in a multivariate data set. \n",
    "\n",
    "The purpose of linear discriminant analysis (LDA) is to find the linear combinations of the original variables (the 5 variables here) that gives the best possible separation between the groups (wine cultivars here) in our data set. *Linear discriminant analysis* is also known as *canonical discriminant analysis*, or simply *discriminant analysis*.\n",
    "\n",
    "\n",
    "You can carry out a linear discriminant analysis by using the `LinearDiscriminantAnalysis` class model from the module `sklearn.discriminant_analysis` and using its method `fit()` to fit our `X, y` data.\n",
    "\n",
    "For example, to carry out a linear discriminant analysis using 5 columns , we type:"
   ]
  },
  {
   "cell_type": "code",
   "execution_count": 100,
   "metadata": {
    "ExecuteTime": {
     "end_time": "2021-03-28T18:58:58.071862Z",
     "start_time": "2021-03-28T18:58:58.062887Z"
    }
   },
   "outputs": [],
   "source": [
    "y = data.V1.astype(str)\n",
    "lda = LinearDiscriminantAnalysis().fit(X, y)"
   ]
  },
  {
   "cell_type": "markdown",
   "metadata": {},
   "source": [
    "### Loadings for the Discriminant Functions\n",
    "\n",
    "The values of the loadings of the discriminant functions for the wine data are stored in the `scalings_` member of the `lda` object model. For a pretty print we can type:"
   ]
  },
  {
   "cell_type": "code",
   "execution_count": 101,
   "metadata": {
    "ExecuteTime": {
     "end_time": "2021-03-28T18:59:01.087295Z",
     "start_time": "2021-03-28T18:59:01.065321Z"
    }
   },
   "outputs": [
    {
     "name": "stdout",
     "output_type": "stream",
     "text": [
      "Coefficients of linear discriminants:\n"
     ]
    },
    {
     "data": {
      "text/html": [
       "<div>\n",
       "<style scoped>\n",
       "    .dataframe tbody tr th:only-of-type {\n",
       "        vertical-align: middle;\n",
       "    }\n",
       "\n",
       "    .dataframe tbody tr th {\n",
       "        vertical-align: top;\n",
       "    }\n",
       "\n",
       "    .dataframe thead th {\n",
       "        text-align: right;\n",
       "    }\n",
       "</style>\n",
       "<table border=\"1\" class=\"dataframe\">\n",
       "  <thead>\n",
       "    <tr style=\"text-align: right;\">\n",
       "      <th></th>\n",
       "      <th>LD1</th>\n",
       "      <th>LD2</th>\n",
       "      <th>LD3</th>\n",
       "      <th>LD4</th>\n",
       "      <th>LD5</th>\n",
       "    </tr>\n",
       "  </thead>\n",
       "  <tbody>\n",
       "    <tr>\n",
       "      <th>V2</th>\n",
       "      <td>0.006986</td>\n",
       "      <td>0.010165</td>\n",
       "      <td>0.004263</td>\n",
       "      <td>0.019618</td>\n",
       "      <td>-0.024575</td>\n",
       "    </tr>\n",
       "    <tr>\n",
       "      <th>V3</th>\n",
       "      <td>-0.142208</td>\n",
       "      <td>-0.205175</td>\n",
       "      <td>-1.028566</td>\n",
       "      <td>-0.184438</td>\n",
       "      <td>-0.083673</td>\n",
       "    </tr>\n",
       "    <tr>\n",
       "      <th>V4</th>\n",
       "      <td>0.511493</td>\n",
       "      <td>-0.061841</td>\n",
       "      <td>-0.078181</td>\n",
       "      <td>-0.051085</td>\n",
       "      <td>0.001126</td>\n",
       "    </tr>\n",
       "    <tr>\n",
       "      <th>V5</th>\n",
       "      <td>0.020747</td>\n",
       "      <td>0.327514</td>\n",
       "      <td>0.021002</td>\n",
       "      <td>-0.714867</td>\n",
       "      <td>-0.231405</td>\n",
       "    </tr>\n",
       "    <tr>\n",
       "      <th>V6</th>\n",
       "      <td>0.144512</td>\n",
       "      <td>0.902031</td>\n",
       "      <td>-0.366720</td>\n",
       "      <td>0.245811</td>\n",
       "      <td>0.419125</td>\n",
       "    </tr>\n",
       "  </tbody>\n",
       "</table>\n",
       "</div>"
      ],
      "text/plain": [
       "         LD1       LD2       LD3       LD4       LD5\n",
       "V2  0.006986  0.010165  0.004263  0.019618 -0.024575\n",
       "V3 -0.142208 -0.205175 -1.028566 -0.184438 -0.083673\n",
       "V4  0.511493 -0.061841 -0.078181 -0.051085  0.001126\n",
       "V5  0.020747  0.327514  0.021002 -0.714867 -0.231405\n",
       "V6  0.144512  0.902031 -0.366720  0.245811  0.419125"
      ]
     },
     "metadata": {},
     "output_type": "display_data"
    }
   ],
   "source": [
    "def pretty_scalings(lda, X, out=False):\n",
    "    ret = pd.DataFrame(lda.scalings_, index=X.columns, columns=[\"LD\"+str(i+1) for i in range(lda.scalings_.shape[1])])\n",
    "    if out:\n",
    "        print(\"Coefficients of linear discriminants:\")\n",
    "        display(ret)\n",
    "    return ret\n",
    "\n",
    "pretty_scalings_ = pretty_scalings(lda, X, out=True)"
   ]
  },
  {
   "cell_type": "markdown",
   "metadata": {},
   "source": [
    "This means that the first discriminant function is a linear combination of the variables:\n",
    "```\n",
    "0.007*V2 - 0.142*V3 + 0.511*V4 + 0.02*V5 + 0.145*V6 \n",
    "```\n",
    " The value for each discriminant function (eg. the first discriminant function) are scaled so that their mean value is zero (see below).\n",
    "\n",
    "Note that these loadings are calculated so that the within-group variance of each discriminant function for each group  is equal to 1, as will be demonstrated below.\n",
    "\n",
    "As mentioned above, these scalings are stored in the named member `scalings_` of the object variable returned by `LinearDiscriminantAnalysis().fit(X, y)`. This element contains a numpy array, in which the first column contains the loadings for the first discriminant function, the second column contains the loadings for the second discriminant function and so on. For example, to extract the loadings for the first discriminant function, we can type:"
   ]
  },
  {
   "cell_type": "code",
   "execution_count": 102,
   "metadata": {
    "ExecuteTime": {
     "end_time": "2021-03-28T18:59:02.193806Z",
     "start_time": "2021-03-28T18:59:02.186824Z"
    }
   },
   "outputs": [
    {
     "data": {
      "text/plain": [
       "array([ 0.00698619, -0.14220789,  0.51149328,  0.02074679,  0.14451189])"
      ]
     },
     "execution_count": 102,
     "metadata": {},
     "output_type": "execute_result"
    }
   ],
   "source": [
    "lda.scalings_[:, 0]"
   ]
  },
  {
   "cell_type": "markdown",
   "metadata": {},
   "source": [
    "Or for \"prettier\" print, use the dataframe variable created above:"
   ]
  },
  {
   "cell_type": "code",
   "execution_count": 103,
   "metadata": {
    "ExecuteTime": {
     "end_time": "2021-03-28T18:59:03.518963Z",
     "start_time": "2021-03-28T18:59:03.510987Z"
    }
   },
   "outputs": [
    {
     "data": {
      "text/plain": [
       "V2    0.006986\n",
       "V3   -0.142208\n",
       "V4    0.511493\n",
       "V5    0.020747\n",
       "V6    0.144512\n",
       "Name: LD1, dtype: float64"
      ]
     },
     "execution_count": 103,
     "metadata": {},
     "output_type": "execute_result"
    }
   ],
   "source": [
    "pretty_scalings_.LD1"
   ]
  },
  {
   "cell_type": "markdown",
   "metadata": {},
   "source": [
    "To calculate the values of the first discriminant function, we can define our own function `calclda()`:"
   ]
  },
  {
   "cell_type": "code",
   "execution_count": 104,
   "metadata": {
    "ExecuteTime": {
     "end_time": "2021-03-28T18:59:05.659155Z",
     "start_time": "2021-03-28T18:59:05.645193Z"
    }
   },
   "outputs": [],
   "source": [
    "def calclda(variables, loadings):\n",
    "    # find the number of samples in the data set and the number of variables\n",
    "    numsamples, numvariables = variables.shape\n",
    "    # make a vector to store the discriminant function\n",
    "    ld = np.zeros(numsamples)\n",
    "    # calculate the value of the discriminant function for each sample\n",
    "    for i in range(numsamples):\n",
    "        valuei = 0\n",
    "        for j in range(numvariables):\n",
    "            valueij = variables.iloc[i, j]\n",
    "            loadingj = loadings[j]\n",
    "            valuei = valuei + (valueij * loadingj)\n",
    "        ld[i] = valuei\n",
    "    # standardise the discriminant function so that its mean value is 0:\n",
    "    ld = scale(ld, with_std=False)\n",
    "    return ld"
   ]
  },
  {
   "cell_type": "markdown",
   "metadata": {},
   "source": [
    "The function `calclda()` simply calculates the value of a discriminant function for each sample in the data set, for example, for the first disriminant function, for each sample we calculate the value using the equation:\n",
    "\n",
    "```\n",
    "0.007*V2 - 0.142*V3 + 0.511*V4 + 0.02*V5 + 0.145*V6 \n",
    "```\n",
    "\n",
    "Furthermore, the `scale()` command is used within the `calclda()` function in order to standardise the value of a discriminant function (eg. the first discriminant function) so that its mean value (over all the wine samples) is 0.\n",
    "\n",
    "We can use the function `calclda()` to calculate the values of the first discriminant function for each sample in our wine data:"
   ]
  },
  {
   "cell_type": "code",
   "execution_count": 105,
   "metadata": {
    "ExecuteTime": {
     "end_time": "2021-03-28T18:59:06.102153Z",
     "start_time": "2021-03-28T18:59:06.062261Z"
    }
   },
   "outputs": [
    {
     "data": {
      "text/plain": [
       "array([ 1.02308994,  0.01791083,  0.76352112, -1.09448988, -1.40618534,\n",
       "       -0.0946283 ,  0.63780145, -1.54729191, -0.81004237, -1.76663382,\n",
       "       -1.48920425,  1.7819314 ,  1.36569926, -1.48920425, -1.7037581 ,\n",
       "       -1.94848659, -0.6982633 , -2.15119203,  0.89689412,  0.42154716,\n",
       "        0.70149253, -1.33093175,  1.92644329,  1.2931415 ,  1.43733574,\n",
       "        0.68620705, -0.83777535,  0.99059863, -1.429162  ,  0.54719274,\n",
       "       -1.93054151, -0.42164912, -1.34696462, -1.75266144, -1.43129662,\n",
       "       -2.10644143,  1.94684267, -1.76414977, -2.05565761,  0.78053877,\n",
       "        1.27459285,  0.83338304,  0.17695632,  0.25994348,  0.13482738,\n",
       "        0.70128075, -1.27979854, -0.6583325 ,  1.57954362, -1.94809476,\n",
       "        0.2676709 ,  1.65901343,  0.54481456,  0.58450184, -0.06277233,\n",
       "        0.25859249, -0.24835625,  1.72405552,  1.55879683, -1.62910812,\n",
       "        0.77312902,  0.41257462,  0.40310438, -0.50484807,  0.87296253,\n",
       "       -1.44767892,  0.54300826, -0.26012602,  1.30232583, -1.34966046,\n",
       "       -1.31695937,  0.75238222,  1.89371047,  0.76146064,  1.60748839,\n",
       "        1.5867416 , -1.04150797, -0.35179612, -0.08195634, -0.61041193,\n",
       "       -1.69436199,  0.34679128,  0.96831882,  1.246934  ,  1.1533118 ,\n",
       "        0.54949675,  1.26760665,  0.62557387,  1.35001381, -1.92273996,\n",
       "       -1.33866108, -1.23177206,  0.68032217,  0.29008638,  0.35094402,\n",
       "       -0.7847193 ,  0.48148353, -1.24137995,  0.48148353,  0.14231128,\n",
       "        2.65416109,  0.30927039,  0.67064015,  0.2184499 ,  0.44459796,\n",
       "        0.85926732, -1.40356364,  0.01336629,  1.43063547, -1.44561844,\n",
       "        1.32799833,  1.46758451,  1.43527525, -1.75056922,  0.31363489,\n",
       "        0.1607858 , -1.11684386, -0.06277233,  0.23884539,  0.32146821,\n",
       "        0.38690212,  0.38690212,  0.38690212,  0.38690212,  0.38690212,\n",
       "       -1.29429059,  0.09110393,  1.26090638,  0.46311488, -1.25506641,\n",
       "        0.19706776,  0.38690212,  0.38690212,  0.38690212,  0.38690212,\n",
       "        0.38690212,  0.38690212, -0.2738911 , -1.70787199,  0.59861187,\n",
       "        0.38690212, -1.48690024,  0.38690212,  0.38690212,  0.38690212,\n",
       "        0.38690212,  0.38690212,  0.38690212,  0.38690212,  0.38690212,\n",
       "        0.38690212,  0.38690212,  0.38690212,  0.        , -1.77602993,\n",
       "        0.38690212,  0.38690212,  0.38690212,  0.38690212,  0.38690212,\n",
       "        1.43985153,  1.88225387,  0.18610887,  0.11862513,  1.14161168,\n",
       "        0.11862513,  0.23561582,  1.43063547,  1.68926221,  1.1462197 ,\n",
       "       -2.03518799, -1.44069273, -1.80876276, -1.79000232,  0.1312288 ,\n",
       "       -1.34708432, -0.05340796,  0.38552756, -1.19988637, -0.42308518,\n",
       "        1.76841432,  0.11862513,  0.96831882,  0.16472673,  1.02500216,\n",
       "        0.22394745,  0.08173956,  0.63280157,  1.85140149, -0.20728422,\n",
       "        1.66277431,  1.57978715,  0.40764891,  0.11862513,  0.63120705,\n",
       "        1.14161168,  0.11862513, -0.18803872,  0.47910535,  1.69855241,\n",
       "        1.56496763, -1.85986423, -1.71765635, -1.53395488, -1.46845745,\n",
       "       -1.32394556, -0.91025897, -1.90135782, -1.85795202, -0.2246701 ,\n",
       "        0.11862513,  1.23445026, -0.28984984,  0.22164344,  1.49021178,\n",
       "       -0.20728422, -1.20745257,  0.47211916, -1.65435705,  0.81570233,\n",
       "        0.        ,  0.        ,  0.5812468 , -1.36614863, -1.51593365,\n",
       "        1.74501409, -2.21176374,  0.        , -1.1036742 , -1.06853146,\n",
       "        0.43080562,  0.41005883, -2.02313657, -1.56874819, -1.26432487,\n",
       "        1.68621694, -1.73411278, -1.47820487,  1.31608643, -0.70438356,\n",
       "        0.32622453, -0.39724314, -1.64985491])"
      ]
     },
     "execution_count": 105,
     "metadata": {},
     "output_type": "execute_result"
    }
   ],
   "source": [
    "calclda(X, lda.scalings_[:, 0])"
   ]
  },
  {
   "cell_type": "markdown",
   "metadata": {},
   "source": [
    "In fact, the values of the first linear discriminant function can be calculated using the `transform(X)` or `fit_transform(X, y)` methods of the LDA object, so we can compare those to the ones that we calculated, and they should agree:"
   ]
  },
  {
   "cell_type": "code",
   "execution_count": 106,
   "metadata": {
    "ExecuteTime": {
     "end_time": "2021-03-28T18:59:06.631088Z",
     "start_time": "2021-03-28T18:59:06.593189Z"
    }
   },
   "outputs": [
    {
     "data": {
      "text/plain": [
       "array([ 1.02308994,  0.01791083,  0.76352112, -1.09448988, -1.40618534,\n",
       "       -0.0946283 ,  0.63780145, -1.54729191, -0.81004237, -1.76663382,\n",
       "       -1.48920425,  1.7819314 ,  1.36569926, -1.48920425, -1.7037581 ,\n",
       "       -1.94848659, -0.6982633 , -2.15119203,  0.89689412,  0.42154716,\n",
       "        0.70149253, -1.33093175,  1.92644329,  1.2931415 ,  1.43733574,\n",
       "        0.68620705, -0.83777535,  0.99059863, -1.429162  ,  0.54719274,\n",
       "       -1.93054151, -0.42164912, -1.34696462, -1.75266144, -1.43129662,\n",
       "       -2.10644143,  1.94684267, -1.76414977, -2.05565761,  0.78053877,\n",
       "        1.27459285,  0.83338304,  0.17695632,  0.25994348,  0.13482738,\n",
       "        0.70128075, -1.27979854, -0.6583325 ,  1.57954362, -1.94809476,\n",
       "        0.2676709 ,  1.65901343,  0.54481456,  0.58450184, -0.06277233,\n",
       "        0.25859249, -0.24835625,  1.72405552,  1.55879683, -1.62910812,\n",
       "        0.77312902,  0.41257462,  0.40310438, -0.50484807,  0.87296253,\n",
       "       -1.44767892,  0.54300826, -0.26012602,  1.30232583, -1.34966046,\n",
       "       -1.31695937,  0.75238222,  1.89371047,  0.76146064,  1.60748839,\n",
       "        1.5867416 , -1.04150797, -0.35179612, -0.08195634, -0.61041193,\n",
       "       -1.69436199,  0.34679128,  0.96831882,  1.246934  ,  1.1533118 ,\n",
       "        0.54949675,  1.26760665,  0.62557387,  1.35001381, -1.92273996,\n",
       "       -1.33866108, -1.23177206,  0.68032217,  0.29008638,  0.35094402,\n",
       "       -0.7847193 ,  0.48148353, -1.24137995,  0.48148353,  0.14231128,\n",
       "        2.65416109,  0.30927039,  0.67064015,  0.2184499 ,  0.44459796,\n",
       "        0.85926732, -1.40356364,  0.01336629,  1.43063547, -1.44561844,\n",
       "        1.32799833,  1.46758451,  1.43527525, -1.75056922,  0.31363489,\n",
       "        0.1607858 , -1.11684386, -0.06277233,  0.23884539,  0.32146821,\n",
       "        0.38690212,  0.38690212,  0.38690212,  0.38690212,  0.38690212,\n",
       "       -1.29429059,  0.09110393,  1.26090638,  0.46311488, -1.25506641,\n",
       "        0.19706776,  0.38690212,  0.38690212,  0.38690212,  0.38690212,\n",
       "        0.38690212,  0.38690212, -0.2738911 , -1.70787199,  0.59861187,\n",
       "        0.38690212, -1.48690024,  0.38690212,  0.38690212,  0.38690212,\n",
       "        0.38690212,  0.38690212,  0.38690212,  0.38690212,  0.38690212,\n",
       "        0.38690212,  0.38690212,  0.38690212, -0.        , -1.77602993,\n",
       "        0.38690212,  0.38690212,  0.38690212,  0.38690212,  0.38690212,\n",
       "        1.43985153,  1.88225387,  0.18610887,  0.11862513,  1.14161168,\n",
       "        0.11862513,  0.23561582,  1.43063547,  1.68926221,  1.1462197 ,\n",
       "       -2.03518799, -1.44069273, -1.80876276, -1.79000232,  0.1312288 ,\n",
       "       -1.34708432, -0.05340796,  0.38552756, -1.19988637, -0.42308518,\n",
       "        1.76841432,  0.11862513,  0.96831882,  0.16472673,  1.02500216,\n",
       "        0.22394745,  0.08173956,  0.63280157,  1.85140149, -0.20728422,\n",
       "        1.66277431,  1.57978715,  0.40764891,  0.11862513,  0.63120705,\n",
       "        1.14161168,  0.11862513, -0.18803872,  0.47910535,  1.69855241,\n",
       "        1.56496763, -1.85986423, -1.71765635, -1.53395488, -1.46845745,\n",
       "       -1.32394556, -0.91025897, -1.90135782, -1.85795202, -0.2246701 ,\n",
       "        0.11862513,  1.23445026, -0.28984984,  0.22164344,  1.49021178,\n",
       "       -0.20728422, -1.20745257,  0.47211916, -1.65435705,  0.81570233,\n",
       "       -0.        , -0.        ,  0.5812468 , -1.36614863, -1.51593365,\n",
       "        1.74501409, -2.21176374, -0.        , -1.1036742 , -1.06853146,\n",
       "        0.43080562,  0.41005883, -2.02313657, -1.56874819, -1.26432487,\n",
       "        1.68621694, -1.73411278, -1.47820487,  1.31608643, -0.70438356,\n",
       "        0.32622453, -0.39724314, -1.64985491])"
      ]
     },
     "execution_count": 106,
     "metadata": {},
     "output_type": "execute_result"
    }
   ],
   "source": [
    "# Try either, they produce the same result, use help() for more info\n",
    "# lda.transform(X)[:, 0]\n",
    "lda.fit_transform(X, y)[:, 0]"
   ]
  },
  {
   "cell_type": "markdown",
   "metadata": {},
   "source": [
    "The results agree.\n",
    "\n",
    "It doesn’t matter whether the input variables for linear discriminant analysis are standardised or not, unlike for principal components analysis in which it is often necessary to standardise the input variables. However, using standardised variables in linear discriminant analysis makes it easier to interpret the loadings in a linear discriminant function.\n",
    "\n",
    "In linear discriminant analysis, the standardised version of an input variable is defined so that it has mean zero and within-groups variance of 1. Thus, we can calculate the “group-standardised” variable by subtracting the mean from each value of the variable, and dividing by the within-groups standard deviation. To calculate the group-standardised version of a set of variables, we can use the function `groupStandardise()` below:"
   ]
  },
  {
   "cell_type": "code",
   "execution_count": 107,
   "metadata": {
    "ExecuteTime": {
     "end_time": "2021-03-28T18:59:07.013119Z",
     "start_time": "2021-03-28T18:59:07.001120Z"
    }
   },
   "outputs": [],
   "source": [
    "def calcWithinGroupsVariance(variable, groupvariable):\n",
    "    # find out how many values the group variable can take\n",
    "    levels = sorted(set(groupvariable))\n",
    "    numlevels = len(levels)\n",
    "    # get the mean and standard deviation for each group:\n",
    "    numtotal = 0\n",
    "    denomtotal = 0\n",
    "    for leveli in levels:\n",
    "        levelidata = variable[groupvariable==leveli]\n",
    "        levelilength = len(levelidata)\n",
    "        # get the standard deviation for group i:\n",
    "        sdi = np.std(levelidata)\n",
    "        numi = (levelilength)*sdi**2\n",
    "        denomi = levelilength\n",
    "        numtotal = numtotal + numi\n",
    "        denomtotal = denomtotal + denomi\n",
    "    # calculate the within-groups variance\n",
    "    Vw = numtotal / (denomtotal - numlevels)\n",
    "    return Vw"
   ]
  },
  {
   "cell_type": "code",
   "execution_count": 108,
   "metadata": {
    "ExecuteTime": {
     "end_time": "2021-03-28T18:59:07.527928Z",
     "start_time": "2021-03-28T18:59:07.515960Z"
    }
   },
   "outputs": [],
   "source": [
    "def groupStandardise(variables, groupvariable):\n",
    "    # find the number of samples in the data set and the number of variables\n",
    "    numsamples, numvariables = variables.shape\n",
    "    # find the variable names\n",
    "    variablenames = variables.columns\n",
    "    # calculate the group-standardised version of each variable\n",
    "    variables_new = pd.DataFrame()\n",
    "    for i in range(numvariables):\n",
    "        variable_name = variablenames[i]\n",
    "        variablei = variables[variable_name]\n",
    "        variablei_Vw = calcWithinGroupsVariance(variablei, groupvariable)\n",
    "        variablei_mean = np.mean(variablei)\n",
    "        variablei_new = (variablei - variablei_mean)/(np.sqrt(variablei_Vw))\n",
    "        variables_new[variable_name] = variablei_new\n",
    "    return variables_new"
   ]
  },
  {
   "cell_type": "markdown",
   "metadata": {},
   "source": [
    "For example, we can use the `groupStandardise()` function to calculate the group-standardised versions of the chemical concentrations in wine samples:"
   ]
  },
  {
   "cell_type": "code",
   "execution_count": 109,
   "metadata": {
    "ExecuteTime": {
     "end_time": "2021-03-28T18:59:08.250810Z",
     "start_time": "2021-03-28T18:59:08.181234Z"
    }
   },
   "outputs": [],
   "source": [
    "groupstandardisedX = groupStandardise(X, y)"
   ]
  },
  {
   "cell_type": "markdown",
   "metadata": {},
   "source": [
    "We can then use the LinearDiscriminantAnalysis().fit() method to perform linear disriminant analysis on the group-standardised variables:"
   ]
  },
  {
   "cell_type": "code",
   "execution_count": 110,
   "metadata": {
    "ExecuteTime": {
     "end_time": "2021-03-28T18:59:08.594314Z",
     "start_time": "2021-03-28T18:59:08.566387Z"
    }
   },
   "outputs": [
    {
     "data": {
      "text/html": [
       "<div>\n",
       "<style scoped>\n",
       "    .dataframe tbody tr th:only-of-type {\n",
       "        vertical-align: middle;\n",
       "    }\n",
       "\n",
       "    .dataframe tbody tr th {\n",
       "        vertical-align: top;\n",
       "    }\n",
       "\n",
       "    .dataframe thead th {\n",
       "        text-align: right;\n",
       "    }\n",
       "</style>\n",
       "<table border=\"1\" class=\"dataframe\">\n",
       "  <thead>\n",
       "    <tr style=\"text-align: right;\">\n",
       "      <th></th>\n",
       "      <th>LD1</th>\n",
       "      <th>LD2</th>\n",
       "      <th>LD3</th>\n",
       "      <th>LD4</th>\n",
       "      <th>LD5</th>\n",
       "    </tr>\n",
       "  </thead>\n",
       "  <tbody>\n",
       "    <tr>\n",
       "      <th>V2</th>\n",
       "      <td>0.217095</td>\n",
       "      <td>0.315864</td>\n",
       "      <td>0.132460</td>\n",
       "      <td>0.609631</td>\n",
       "      <td>-0.763669</td>\n",
       "    </tr>\n",
       "    <tr>\n",
       "      <th>V3</th>\n",
       "      <td>-0.137229</td>\n",
       "      <td>-0.197992</td>\n",
       "      <td>-0.992557</td>\n",
       "      <td>-0.177981</td>\n",
       "      <td>-0.080744</td>\n",
       "    </tr>\n",
       "    <tr>\n",
       "      <th>V4</th>\n",
       "      <td>0.987214</td>\n",
       "      <td>-0.119357</td>\n",
       "      <td>-0.150894</td>\n",
       "      <td>-0.098598</td>\n",
       "      <td>0.002173</td>\n",
       "    </tr>\n",
       "    <tr>\n",
       "      <th>V5</th>\n",
       "      <td>0.025761</td>\n",
       "      <td>0.406676</td>\n",
       "      <td>0.026079</td>\n",
       "      <td>-0.887656</td>\n",
       "      <td>-0.287337</td>\n",
       "    </tr>\n",
       "    <tr>\n",
       "      <th>V6</th>\n",
       "      <td>0.132985</td>\n",
       "      <td>0.830082</td>\n",
       "      <td>-0.337469</td>\n",
       "      <td>0.226205</td>\n",
       "      <td>0.385694</td>\n",
       "    </tr>\n",
       "  </tbody>\n",
       "</table>\n",
       "</div>"
      ],
      "text/plain": [
       "         LD1       LD2       LD3       LD4       LD5\n",
       "V2  0.217095  0.315864  0.132460  0.609631 -0.763669\n",
       "V3 -0.137229 -0.197992 -0.992557 -0.177981 -0.080744\n",
       "V4  0.987214 -0.119357 -0.150894 -0.098598  0.002173\n",
       "V5  0.025761  0.406676  0.026079 -0.887656 -0.287337\n",
       "V6  0.132985  0.830082 -0.337469  0.226205  0.385694"
      ]
     },
     "execution_count": 110,
     "metadata": {},
     "output_type": "execute_result"
    }
   ],
   "source": [
    "lda2 = LinearDiscriminantAnalysis().fit(groupstandardisedX, y)\n",
    "pretty_scalings(lda2, groupstandardisedX)"
   ]
  },
  {
   "cell_type": "code",
   "execution_count": 111,
   "metadata": {
    "ExecuteTime": {
     "end_time": "2021-03-28T18:59:08.940386Z",
     "start_time": "2021-03-28T18:59:08.927423Z"
    }
   },
   "outputs": [],
   "source": [
    "def calcBetweenGroupsVariance(variable, groupvariable):\n",
    "    # find out how many values the group variable can take\n",
    "    levels = sorted(set((groupvariable)))\n",
    "    numlevels = len(levels)\n",
    "    # calculate the overall grand mean:\n",
    "    grandmean = np.mean(variable)\n",
    "    # get the mean and standard deviation for each group:\n",
    "    numtotal = 0\n",
    "    denomtotal = 0\n",
    "    for leveli in levels:\n",
    "        levelidata = variable[groupvariable==leveli]\n",
    "        levelilength = len(levelidata)\n",
    "        # get the mean and standard deviation for group i:\n",
    "        meani = np.mean(levelidata)\n",
    "        sdi = np.std(levelidata)\n",
    "        numi = levelilength * ((meani - grandmean)**2)\n",
    "        denomi = levelilength\n",
    "        numtotal = numtotal + numi\n",
    "        denomtotal = denomtotal + denomi\n",
    "    # calculate the between-groups variance\n",
    "    Vb = numtotal / (numlevels - 1)\n",
    "    return(Vb)"
   ]
  },
  {
   "cell_type": "code",
   "execution_count": 112,
   "metadata": {
    "ExecuteTime": {
     "end_time": "2021-03-28T18:59:09.176787Z",
     "start_time": "2021-03-28T18:59:09.163798Z"
    }
   },
   "outputs": [],
   "source": [
    "def calcSeparations(variables, groupvariable):\n",
    "    # calculate the separation for each variable\n",
    "    for variablename in variables:\n",
    "        variablei = variables[variablename]\n",
    "        Vw = calcWithinGroupsVariance(variablei, groupvariable)\n",
    "        Vb = calcBetweenGroupsVariance(variablei, groupvariable)\n",
    "        sep = Vb/Vw\n",
    "        print(\"variable\", variablename, \"Vw=\", Vw, \"Vb=\", Vb, \"separation=\", sep)"
   ]
  },
  {
   "cell_type": "code",
   "execution_count": 113,
   "metadata": {
    "ExecuteTime": {
     "end_time": "2021-03-28T18:59:09.523825Z",
     "start_time": "2021-03-28T18:59:09.415133Z"
    }
   },
   "outputs": [
    {
     "name": "stdout",
     "output_type": "stream",
     "text": [
      "variable V2 Vw= 965.6432717456889 Vb= 193.17775485083646 separation= 0.20005084745385313\n",
      "variable V3 Vw= 0.9312067315944437 Vb= 0.8718319890714111 separation= 0.9362389247107684\n",
      "variable V4 Vw= 3.7251437823425237 Vb= 37.81523063714345 separation= 10.151347933572561\n",
      "variable V5 Vw= 1.5418404906576595 Vb= 0.6524062180401486 separation= 0.42313470296909256\n",
      "variable V6 Vw= 0.8468358063365367 Vb= 0.7237490642380687 separation= 0.8546509947058702\n"
     ]
    }
   ],
   "source": [
    "calcSeparations(X, y)"
   ]
  },
  {
   "cell_type": "markdown",
   "metadata": {},
   "source": [
    "It makes sense to interpret the loadings calculated using the group-standardised variables rather than the loadings for the original (unstandardised) variables.\n",
    "\n",
    "In the first discriminant function calculated for the group-standardised variables, the largest loadings (in absolute) value are given to V4 (0.987). The loadings for V2, V4, V5, V6 are positive, while V3 is negative. Therefore, the discriminant function seems to represent a contrast between the concentrations of V2, V4, V5, V6, and the concentrations of V3.\n",
    "\n",
    "The greatest seperation between the groups is V4 (10.15).These is the same variable that had the largest loadings in the linear discriminant function (loading for  V4 :0.987).\n",
    "\n",
    "Note that although the loadings for the group-standardised variables are easier to interpret than the loadings for the unstandardised variables, the values of the discriminant function are the same regardless of whether we standardise the input variables or not. For example, for wine data, we can calculate the value of the first discriminant function calculated using the unstandardised and group-standardised variables by typing:\n"
   ]
  },
  {
   "cell_type": "code",
   "execution_count": 114,
   "metadata": {
    "ExecuteTime": {
     "end_time": "2021-03-28T18:59:09.791117Z",
     "start_time": "2021-03-28T18:59:09.769172Z"
    }
   },
   "outputs": [
    {
     "data": {
      "text/plain": [
       "array([ 1.02308994,  0.01791083,  0.76352112, -1.09448988, -1.40618534,\n",
       "       -0.0946283 ,  0.63780145, -1.54729191, -0.81004237, -1.76663382,\n",
       "       -1.48920425,  1.7819314 ,  1.36569926, -1.48920425, -1.7037581 ,\n",
       "       -1.94848659, -0.6982633 , -2.15119203,  0.89689412,  0.42154716,\n",
       "        0.70149253, -1.33093175,  1.92644329,  1.2931415 ,  1.43733574,\n",
       "        0.68620705, -0.83777535,  0.99059863, -1.429162  ,  0.54719274,\n",
       "       -1.93054151, -0.42164912, -1.34696462, -1.75266144, -1.43129662,\n",
       "       -2.10644143,  1.94684267, -1.76414977, -2.05565761,  0.78053877,\n",
       "        1.27459285,  0.83338304,  0.17695632,  0.25994348,  0.13482738,\n",
       "        0.70128075, -1.27979854, -0.6583325 ,  1.57954362, -1.94809476,\n",
       "        0.2676709 ,  1.65901343,  0.54481456,  0.58450184, -0.06277233,\n",
       "        0.25859249, -0.24835625,  1.72405552,  1.55879683, -1.62910812,\n",
       "        0.77312902,  0.41257462,  0.40310438, -0.50484807,  0.87296253,\n",
       "       -1.44767892,  0.54300826, -0.26012602,  1.30232583, -1.34966046,\n",
       "       -1.31695937,  0.75238222,  1.89371047,  0.76146064,  1.60748839,\n",
       "        1.5867416 , -1.04150797, -0.35179612, -0.08195634, -0.61041193,\n",
       "       -1.69436199,  0.34679128,  0.96831882,  1.246934  ,  1.1533118 ,\n",
       "        0.54949675,  1.26760665,  0.62557387,  1.35001381, -1.92273996,\n",
       "       -1.33866108, -1.23177206,  0.68032217,  0.29008638,  0.35094402,\n",
       "       -0.7847193 ,  0.48148353, -1.24137995,  0.48148353,  0.14231128,\n",
       "        2.65416109,  0.30927039,  0.67064015,  0.2184499 ,  0.44459796,\n",
       "        0.85926732, -1.40356364,  0.01336629,  1.43063547, -1.44561844,\n",
       "        1.32799833,  1.46758451,  1.43527525, -1.75056922,  0.31363489,\n",
       "        0.1607858 , -1.11684386, -0.06277233,  0.23884539,  0.32146821,\n",
       "        0.38690212,  0.38690212,  0.38690212,  0.38690212,  0.38690212,\n",
       "       -1.29429059,  0.09110393,  1.26090638,  0.46311488, -1.25506641,\n",
       "        0.19706776,  0.38690212,  0.38690212,  0.38690212,  0.38690212,\n",
       "        0.38690212,  0.38690212, -0.2738911 , -1.70787199,  0.59861187,\n",
       "        0.38690212, -1.48690024,  0.38690212,  0.38690212,  0.38690212,\n",
       "        0.38690212,  0.38690212,  0.38690212,  0.38690212,  0.38690212,\n",
       "        0.38690212,  0.38690212,  0.38690212, -0.        , -1.77602993,\n",
       "        0.38690212,  0.38690212,  0.38690212,  0.38690212,  0.38690212,\n",
       "        1.43985153,  1.88225387,  0.18610887,  0.11862513,  1.14161168,\n",
       "        0.11862513,  0.23561582,  1.43063547,  1.68926221,  1.1462197 ,\n",
       "       -2.03518799, -1.44069273, -1.80876276, -1.79000232,  0.1312288 ,\n",
       "       -1.34708432, -0.05340796,  0.38552756, -1.19988637, -0.42308518,\n",
       "        1.76841432,  0.11862513,  0.96831882,  0.16472673,  1.02500216,\n",
       "        0.22394745,  0.08173956,  0.63280157,  1.85140149, -0.20728422,\n",
       "        1.66277431,  1.57978715,  0.40764891,  0.11862513,  0.63120705,\n",
       "        1.14161168,  0.11862513, -0.18803872,  0.47910535,  1.69855241,\n",
       "        1.56496763, -1.85986423, -1.71765635, -1.53395488, -1.46845745,\n",
       "       -1.32394556, -0.91025897, -1.90135782, -1.85795202, -0.2246701 ,\n",
       "        0.11862513,  1.23445026, -0.28984984,  0.22164344,  1.49021178,\n",
       "       -0.20728422, -1.20745257,  0.47211916, -1.65435705,  0.81570233,\n",
       "       -0.        , -0.        ,  0.5812468 , -1.36614863, -1.51593365,\n",
       "        1.74501409, -2.21176374, -0.        , -1.1036742 , -1.06853146,\n",
       "        0.43080562,  0.41005883, -2.02313657, -1.56874819, -1.26432487,\n",
       "        1.68621694, -1.73411278, -1.47820487,  1.31608643, -0.70438356,\n",
       "        0.32622453, -0.39724314, -1.64985491])"
      ]
     },
     "execution_count": 114,
     "metadata": {},
     "output_type": "execute_result"
    }
   ],
   "source": [
    "lda.fit_transform(X, y)[:, 0]"
   ]
  },
  {
   "cell_type": "code",
   "execution_count": 115,
   "metadata": {
    "ExecuteTime": {
     "end_time": "2021-03-28T18:59:10.337042Z",
     "start_time": "2021-03-28T18:59:10.308117Z"
    }
   },
   "outputs": [
    {
     "data": {
      "text/plain": [
       "array([ 1.02308994,  0.01791083,  0.76352112, -1.09448988, -1.40618534,\n",
       "       -0.0946283 ,  0.63780145, -1.54729191, -0.81004237, -1.76663382,\n",
       "       -1.48920425,  1.7819314 ,  1.36569926, -1.48920425, -1.7037581 ,\n",
       "       -1.94848659, -0.6982633 , -2.15119203,  0.89689412,  0.42154716,\n",
       "        0.70149253, -1.33093175,  1.92644329,  1.2931415 ,  1.43733574,\n",
       "        0.68620705, -0.83777535,  0.99059863, -1.429162  ,  0.54719274,\n",
       "       -1.93054151, -0.42164912, -1.34696462, -1.75266144, -1.43129662,\n",
       "       -2.10644143,  1.94684267, -1.76414977, -2.05565761,  0.78053877,\n",
       "        1.27459285,  0.83338304,  0.17695632,  0.25994348,  0.13482738,\n",
       "        0.70128075, -1.27979854, -0.6583325 ,  1.57954362, -1.94809476,\n",
       "        0.2676709 ,  1.65901343,  0.54481456,  0.58450184, -0.06277233,\n",
       "        0.25859249, -0.24835625,  1.72405552,  1.55879683, -1.62910812,\n",
       "        0.77312902,  0.41257462,  0.40310438, -0.50484807,  0.87296253,\n",
       "       -1.44767892,  0.54300826, -0.26012602,  1.30232583, -1.34966046,\n",
       "       -1.31695937,  0.75238222,  1.89371047,  0.76146064,  1.60748839,\n",
       "        1.5867416 , -1.04150797, -0.35179612, -0.08195634, -0.61041193,\n",
       "       -1.69436199,  0.34679128,  0.96831882,  1.246934  ,  1.1533118 ,\n",
       "        0.54949675,  1.26760665,  0.62557387,  1.35001381, -1.92273996,\n",
       "       -1.33866108, -1.23177206,  0.68032217,  0.29008638,  0.35094402,\n",
       "       -0.7847193 ,  0.48148353, -1.24137995,  0.48148353,  0.14231128,\n",
       "        2.65416109,  0.30927039,  0.67064015,  0.2184499 ,  0.44459796,\n",
       "        0.85926732, -1.40356364,  0.01336629,  1.43063547, -1.44561844,\n",
       "        1.32799833,  1.46758451,  1.43527525, -1.75056922,  0.31363489,\n",
       "        0.1607858 , -1.11684386, -0.06277233,  0.23884539,  0.32146821,\n",
       "        0.38690212,  0.38690212,  0.38690212,  0.38690212,  0.38690212,\n",
       "       -1.29429059,  0.09110393,  1.26090638,  0.46311488, -1.25506641,\n",
       "        0.19706776,  0.38690212,  0.38690212,  0.38690212,  0.38690212,\n",
       "        0.38690212,  0.38690212, -0.2738911 , -1.70787199,  0.59861187,\n",
       "        0.38690212, -1.48690024,  0.38690212,  0.38690212,  0.38690212,\n",
       "        0.38690212,  0.38690212,  0.38690212,  0.38690212,  0.38690212,\n",
       "        0.38690212,  0.38690212,  0.38690212, -0.        , -1.77602993,\n",
       "        0.38690212,  0.38690212,  0.38690212,  0.38690212,  0.38690212,\n",
       "        1.43985153,  1.88225387,  0.18610887,  0.11862513,  1.14161168,\n",
       "        0.11862513,  0.23561582,  1.43063547,  1.68926221,  1.1462197 ,\n",
       "       -2.03518799, -1.44069273, -1.80876276, -1.79000232,  0.1312288 ,\n",
       "       -1.34708432, -0.05340796,  0.38552756, -1.19988637, -0.42308518,\n",
       "        1.76841432,  0.11862513,  0.96831882,  0.16472673,  1.02500216,\n",
       "        0.22394745,  0.08173956,  0.63280157,  1.85140149, -0.20728422,\n",
       "        1.66277431,  1.57978715,  0.40764891,  0.11862513,  0.63120705,\n",
       "        1.14161168,  0.11862513, -0.18803872,  0.47910535,  1.69855241,\n",
       "        1.56496763, -1.85986423, -1.71765635, -1.53395488, -1.46845745,\n",
       "       -1.32394556, -0.91025897, -1.90135782, -1.85795202, -0.2246701 ,\n",
       "        0.11862513,  1.23445026, -0.28984984,  0.22164344,  1.49021178,\n",
       "       -0.20728422, -1.20745257,  0.47211916, -1.65435705,  0.81570233,\n",
       "       -0.        , -0.        ,  0.5812468 , -1.36614863, -1.51593365,\n",
       "        1.74501409, -2.21176374, -0.        , -1.1036742 , -1.06853146,\n",
       "        0.43080562,  0.41005883, -2.02313657, -1.56874819, -1.26432487,\n",
       "        1.68621694, -1.73411278, -1.47820487,  1.31608643, -0.70438356,\n",
       "        0.32622453, -0.39724314, -1.64985491])"
      ]
     },
     "execution_count": 115,
     "metadata": {},
     "output_type": "execute_result"
    }
   ],
   "source": [
    "lda2.fit_transform(groupstandardisedX, y)[:, 0]"
   ]
  },
  {
   "cell_type": "markdown",
   "metadata": {},
   "source": [
    "We can see that although the loadings are different for the first discriminant functions calculated using unstandardised and group-standardised data, the actual values of the first discriminant function are the same."
   ]
  },
  {
   "cell_type": "markdown",
   "metadata": {},
   "source": [
    "### Separation Achieved by the Discriminant Functions\n",
    "\n",
    "To calculate the separation achieved by each discriminant function, we first need to calculate the value of each discriminant function, by substituting the values of the variables into the linear combination for the discriminant function (eg. `0.007*V2 - 0.142*V3 + 0.511*V4 + 0.02*V5 + 0.145*V6 ` for the first discriminant function), and then scaling the values of the discriminant function so that their mean is zero.\n",
    "\n",
    "As mentioned above, we can do this using the `rpredict()` function which simulates the output of the `predict()` function in R. For example, to calculate the value of the discriminant functions for the wine data, we type:"
   ]
  },
  {
   "cell_type": "code",
   "execution_count": 116,
   "metadata": {
    "ExecuteTime": {
     "end_time": "2021-03-28T18:59:11.650060Z",
     "start_time": "2021-03-28T18:59:11.603185Z"
    }
   },
   "outputs": [
    {
     "name": "stdout",
     "output_type": "stream",
     "text": [
      "class\n",
      "['0.0' '0.0' '2.0' '0.0' '0.0' '0.0' '0.0' '0.0' '0.0' '0.0' '0.0' '0.0'\n",
      " '2.0' '0.0' '0.0' '0.0' '0.0' '0.0' '0.0' '0.0' '0.0' '0.0' '2.0' '2.0'\n",
      " '0.0' '1.0' '0.0' '2.0' '0.0' '0.0' '0.0' '0.0' '0.0' '0.0' '0.0' '0.0'\n",
      " '2.0' '0.0' '0.0' '0.0' '0.0' '2.0' '0.0' '0.0' '0.0' '0.0' '0.0' '0.0'\n",
      " '0.0' '0.0' '0.0' '0.0' '0.0' '0.0' '0.0' '0.0' '0.0' '2.0' '0.0' '0.0'\n",
      " '0.0' '0.0' '0.0' '0.0' '0.0' '0.0' '0.0' '0.0' '0.0' '0.0' '0.0' '0.0'\n",
      " '0.0' '0.0' '0.0' '0.0' '0.0' '0.0' '0.0' '0.0' '0.0' '0.0' '0.0' '2.0'\n",
      " '0.0' '0.0' '0.0' '0.0' '0.0' '0.0' '0.0' '0.0' '0.0' '0.0' '0.0' '0.0'\n",
      " '0.0' '0.0' '0.0' '0.0' '2.0' '0.0' '0.0' '0.0' '0.0' '0.0' '0.0' '0.0'\n",
      " '2.0' '0.0' '0.0' '2.0' '0.0' '0.0' '0.0' '0.0' '0.0' '0.0' '0.0' '0.0'\n",
      " '0.0' '0.0' '0.0' '0.0' '0.0' '0.0' '0.0' '2.0' '2.0' '0.0' '0.0' '0.0'\n",
      " '0.0' '0.0' '0.0' '0.0' '0.0' '0.0' '0.0' '0.0' '0.0' '0.0' '0.0' '0.0'\n",
      " '0.0' '0.0' '0.0' '0.0' '0.0' '0.0' '0.0' '0.0' '0.0' '0.0' '0.0' '0.0'\n",
      " '0.0' '0.0' '0.0' '0.0' '2.0' '2.0' '0.0' '0.0' '0.0' '0.0' '0.0' '2.0'\n",
      " '0.0' '2.0' '0.0' '0.0' '0.0' '0.0' '0.0' '0.0' '0.0' '0.0' '0.0' '0.0'\n",
      " '2.0' '0.0' '0.0' '2.0' '0.0' '0.0' '0.0' '2.0' '2.0' '0.0' '2.0' '2.0'\n",
      " '0.0' '0.0' '0.0' '0.0' '0.0' '0.0' '2.0' '2.0' '2.0' '0.0' '0.0' '0.0'\n",
      " '0.0' '0.0' '0.0' '0.0' '0.0' '0.0' '0.0' '0.0' '0.0' '0.0' '0.0' '0.0'\n",
      " '0.0' '2.0' '0.0' '0.0' '0.0' '0.0' '0.0' '0.0' '0.0' '2.0' '0.0' '0.0'\n",
      " '0.0' '0.0' '0.0' '0.0' '0.0' '0.0' '0.0' '2.0' '0.0' '0.0' '0.0' '0.0'\n",
      " '0.0' '0.0' '0.0']\n",
      "\n",
      "posterior\n",
      "          0.0       1.0       2.0  2.1134453781512605       3.0       4.0  \\\n",
      "0    0.446078  0.217942  0.218735            0.017177  0.010753  0.039094   \n",
      "1    0.489370  0.170292  0.145042            0.014774  0.006481  0.047326   \n",
      "2    0.235534  0.123881  0.299855            0.021214  0.006781  0.100672   \n",
      "3    0.663899  0.086693  0.064884            0.006886  0.004518  0.093832   \n",
      "4    0.237590  0.150882  0.114213            0.013919  0.107354  0.209874   \n",
      "..        ...       ...       ...                 ...       ...       ...   \n",
      "238  0.356188  0.234181  0.254703            0.020831  0.012498  0.038865   \n",
      "239  0.404679  0.116220  0.149373            0.014055  0.007688  0.121293   \n",
      "240  0.517268  0.120105  0.182031            0.013464  0.003577  0.076767   \n",
      "241  0.383921  0.253200  0.137353            0.015865  0.063673  0.069693   \n",
      "242  0.391501  0.137108  0.089811            0.009906  0.082973  0.224233   \n",
      "\n",
      "          5.0  \n",
      "0    0.050221  \n",
      "1    0.126715  \n",
      "2    0.212064  \n",
      "3    0.079288  \n",
      "4    0.166168  \n",
      "..        ...  \n",
      "238  0.082734  \n",
      "239  0.186693  \n",
      "240  0.086788  \n",
      "241  0.076295  \n",
      "242  0.064468  \n",
      "\n",
      "[243 rows x 7 columns]\n",
      "\n",
      "x\n",
      "          LD1       LD2       LD3       LD4       LD5\n",
      "0    1.023090 -1.350645 -1.328209  0.162277  0.881453\n",
      "1    0.017911 -0.705246  0.269083 -2.832957 -0.160693\n",
      "2    0.763521  1.761400  0.756028 -1.274079 -0.344653\n",
      "3   -1.094490 -0.502002  1.686268 -0.163094 -0.748046\n",
      "4   -1.406185  1.832200 -0.890342 -0.987395 -1.081733\n",
      "..        ...       ...       ...       ...       ...\n",
      "238  1.316086 -0.329690 -1.132750 -0.561203 -0.466063\n",
      "239 -0.704384  0.545971  1.095816 -2.261301  0.290704\n",
      "240  0.326225 -0.458605  0.919075 -0.022689  0.741418\n",
      "241 -0.397243 -0.576108 -2.033114 -1.015359 -0.036793\n",
      "242 -1.649855  0.288359 -1.072390  1.420855  0.409116\n",
      "\n",
      "[243 rows x 5 columns]\n"
     ]
    }
   ],
   "source": [
    "def rpredict(lda, X, y, out=False):\n",
    "    ret = {\"class\": lda.predict(X),\n",
    "           \"posterior\": pd.DataFrame(lda.predict_proba(X), columns=lda.classes_)}\n",
    "    ret[\"x\"] = pd.DataFrame(lda.fit_transform(X, y))\n",
    "    ret[\"x\"].columns = [\"LD\"+str(i+1) for i in range(ret[\"x\"].shape[1])]\n",
    "    if out:\n",
    "        print(\"class\")\n",
    "        print(ret[\"class\"])\n",
    "        print()\n",
    "        print(\"posterior\")\n",
    "        print(ret[\"posterior\"])\n",
    "        print()\n",
    "        print(\"x\")\n",
    "        print(ret[\"x\"])\n",
    "    return ret\n",
    "\n",
    "lda_values = rpredict(lda, standardisedX, y, True)"
   ]
  },
  {
   "cell_type": "markdown",
   "metadata": {},
   "source": [
    "The returned variable has a named element `x` which is a matrix containing the linear discriminant functions: the first column of `x` contains the first discriminant function, the second column of `x` contains the second discriminant function, and so on (if there are more discriminant functions).\n",
    "\n",
    "We can therefore calculate the separations achieved by the two linear discriminant functions for the wine data by using the `calcSeparations()` function (see above), which calculates the separation as the ratio of the between-groups variance to the within-groups variance:"
   ]
  },
  {
   "cell_type": "code",
   "execution_count": 117,
   "metadata": {
    "ExecuteTime": {
     "end_time": "2021-03-28T18:59:12.896895Z",
     "start_time": "2021-03-28T18:59:12.773183Z"
    }
   },
   "outputs": [
    {
     "name": "stdout",
     "output_type": "stream",
     "text": [
      "variable LD1 Vw= 1.0000000000000009 Vb= 10.834393187350171 separation= 10.834393187350162\n",
      "variable LD2 Vw= 1.0000000000000004 Vb= 1.0984079552761967 separation= 1.0984079552761963\n",
      "variable LD3 Vw= 1.0000000000000002 Vb= 0.7063797205653558 separation= 0.7063797205653557\n",
      "variable LD4 Vw= 0.9999999999999998 Vb= 0.3112916105495471 separation= 0.3112916105495472\n",
      "variable LD5 Vw= 1.0000000000000007 Vb= 0.036473366389307184 separation= 0.036473366389307156\n"
     ]
    }
   ],
   "source": [
    "calcSeparations(lda_values[\"x\"], y)"
   ]
  },
  {
   "cell_type": "code",
   "execution_count": 118,
   "metadata": {
    "ExecuteTime": {
     "end_time": "2021-03-28T18:59:13.164138Z",
     "start_time": "2021-03-28T18:59:13.150171Z"
    },
    "scrolled": true
   },
   "outputs": [
    {
     "data": {
      "text/plain": [
       "11.932801142626367"
      ]
     },
     "execution_count": 118,
     "metadata": {},
     "output_type": "execute_result"
    }
   ],
   "source": [
    "10.834393187350171+1.0984079552761967"
   ]
  },
  {
   "cell_type": "code",
   "execution_count": 119,
   "metadata": {
    "ExecuteTime": {
     "end_time": "2021-03-28T18:59:13.430376Z",
     "start_time": "2021-03-28T18:59:13.402448Z"
    }
   },
   "outputs": [
    {
     "data": {
      "text/plain": [
       "0.9079505354905764"
      ]
     },
     "execution_count": 119,
     "metadata": {},
     "output_type": "execute_result"
    }
   ],
   "source": [
    "10.834393187350171/11.932801142626367"
   ]
  },
  {
   "cell_type": "code",
   "execution_count": 120,
   "metadata": {
    "ExecuteTime": {
     "end_time": "2021-03-28T18:59:13.728576Z",
     "start_time": "2021-03-28T18:59:13.709627Z"
    }
   },
   "outputs": [
    {
     "data": {
      "text/plain": [
       "0.09204946450942374"
      ]
     },
     "execution_count": 120,
     "metadata": {},
     "output_type": "execute_result"
    }
   ],
   "source": [
    "1.0984079552761967/11.932801142626367"
   ]
  },
  {
   "cell_type": "markdown",
   "metadata": {},
   "source": [
    "As mentioned above, the loadings for each discriminant function are calculated in such a way that the within-group variance (`Vw`) for each group (wine cultivar here) is equal to 1, as we see in the output from `calcSeparations()` above.\n",
    "\n",
    "The output from `calcSeparations()` tells us that the separation achieved by the first (best) discriminant function is 10.834, and the separation achieved by the second (second best) discriminant function is 1.098.\n",
    "\n",
    "\n",
    "Therefore, the total separation is the sum of these, which is (`10.834393187350171+1.0984079552761967=11.932801142626367`) 11.93, rounded to two decimal places. Therefore, the *percentage separation* achieved by the first discriminant function is (`10.834393187350171*100/11.932801142626367=`) 90.7%, and the percentage separation achieved by the second discriminant function is (`1.0984079552761967*100/11.932801142626367=`) 9.2%.\n",
    "\n",
    "\n",
    "The *proportion of trace* (as reported in R by the `lda()` model) is the percentage separation achieved by each discriminant function. For example, for the wine data we get the same values as just calculated (90.7% and 9.2%). Note that in `sklearn` the proportion of trace is reported as `explained_variance_ratio_` in a `LinearDiscriminantAnalysis` model and is computed only for an \"eigen\" solver, while so far we have been using the default one, which is \"svd\" (Singular Value Decomposition):"
   ]
  },
  {
   "cell_type": "code",
   "execution_count": 121,
   "metadata": {
    "ExecuteTime": {
     "end_time": "2021-03-28T18:59:14.375022Z",
     "start_time": "2021-03-28T18:59:14.349091Z"
    }
   },
   "outputs": [
    {
     "name": "stdout",
     "output_type": "stream",
     "text": [
      "Proportion of trace:\n",
      "    LD1     LD2     LD3    LD4     LD5\n",
      " 0.8343  0.0846  0.0544  0.024  0.0028\n"
     ]
    }
   ],
   "source": [
    "def proportion_of_trace(lda):\n",
    "    ret = pd.DataFrame([round(i, 4) for i in lda.explained_variance_ratio_ if round(i, 4) > 0], columns=[\"ExplainedVariance\"])\n",
    "    ret.index = [\"LD\"+str(i+1) for i in range(ret.shape[0])]\n",
    "    ret = ret.transpose()\n",
    "    print(\"Proportion of trace:\")\n",
    "    print(ret.to_string(index=False))\n",
    "    return ret\n",
    "\n",
    "proportion_of_trace(LinearDiscriminantAnalysis(solver=\"eigen\").fit(X, y));"
   ]
  },
  {
   "cell_type": "markdown",
   "metadata": {},
   "source": [
    "Therefore, the first discriminant function does achieve a good separation between groups , but the rest discriminant functions does not improve much the separation of the groups , so is it worth using the second discriminant function as well. Therefore, to achieve a good separation of the groups , it is necessary to use  the first discriminant.\n"
   ]
  },
  {
   "cell_type": "markdown",
   "metadata": {},
   "source": [
    "### A Stacked Histogram of the LDA Values\n",
    "\n",
    "A nice way of displaying the results of a linear discriminant analysis (LDA) is to make a stacked histogram of the values of the discriminant function for the samples from different groups (different wine cultivars in our example).\n",
    "\n",
    "We can do this using the `ldahist()` function defined below."
   ]
  },
  {
   "cell_type": "code",
   "execution_count": 122,
   "metadata": {
    "ExecuteTime": {
     "end_time": "2021-03-28T18:59:14.925319Z",
     "start_time": "2021-03-28T18:59:14.906389Z"
    }
   },
   "outputs": [],
   "source": [
    "def ldahist(data, g, sep=False):\n",
    "    xmin = np.trunc(np.min(data)) - 1\n",
    "    xmax = np.trunc(np.max(data)) + 1\n",
    "    ncol = len(set(g))\n",
    "    binwidth = 0.5\n",
    "    bins=np.arange(xmin, xmax + binwidth, binwidth)\n",
    "    if sep:\n",
    "        fig, axl = plt.subplots(ncol, 1, sharey=True, sharex=True)\n",
    "    else:\n",
    "        fig, axl = plt.subplots(1, 1, sharey=True, sharex=True)\n",
    "        axl = [axl]*ncol\n",
    "    for ax, (group, gdata) in zip(axl, data.groupby(g)):\n",
    "        sns.distplot(gdata.values, bins, ax=ax, label=\"group \"+str(group))\n",
    "        ax.set_xlim([xmin, xmax])\n",
    "        if sep:\n",
    "            ax.set_xlabel(\"group\"+str(group))\n",
    "        else:\n",
    "            ax.legend(loc='center left', bbox_to_anchor=(1, 0.5))\n",
    "    plt.tight_layout()"
   ]
  },
  {
   "cell_type": "markdown",
   "metadata": {},
   "source": [
    "For example, to make a stacked histogram of the first discriminant function’s values for samples of the different groups, we type:"
   ]
  },
  {
   "cell_type": "code",
   "execution_count": 123,
   "metadata": {
    "ExecuteTime": {
     "end_time": "2021-03-28T18:59:16.239644Z",
     "start_time": "2021-03-28T18:59:15.774189Z"
    }
   },
   "outputs": [
    {
     "name": "stderr",
     "output_type": "stream",
     "text": [
      "C:\\Users\\User\\anaconda3\\lib\\site-packages\\seaborn\\distributions.py:369: UserWarning: Default bandwidth for data is 0; skipping density estimation.\n",
      "  warnings.warn(msg, UserWarning)\n"
     ]
    },
    {
     "data": {
      "image/png": "[encoded data removed]",
      "text/plain": [
       "<Figure size 432x288 with 1 Axes>"
      ]
     },
     "metadata": {
      "needs_background": "light"
     },
     "output_type": "display_data"
    }
   ],
   "source": [
    "ldahist(lda_values[\"x\"].LD1, y)"
   ]
  },
  {
   "cell_type": "code",
   "execution_count": 124,
   "metadata": {
    "ExecuteTime": {
     "end_time": "2021-03-28T18:59:17.477086Z",
     "start_time": "2021-03-28T18:59:17.067185Z"
    }
   },
   "outputs": [
    {
     "name": "stderr",
     "output_type": "stream",
     "text": [
      "C:\\Users\\User\\anaconda3\\lib\\site-packages\\seaborn\\distributions.py:369: UserWarning: Default bandwidth for data is 0; skipping density estimation.\n",
      "  warnings.warn(msg, UserWarning)\n"
     ]
    },
    {
     "data": {
      "image/png": "[encoded data removed]",
      "text/plain": [
       "<Figure size 432x288 with 1 Axes>"
      ]
     },
     "metadata": {
      "needs_background": "light"
     },
     "output_type": "display_data"
    }
   ],
   "source": [
    "ldahist(lda_values[\"x\"].LD2, y)"
   ]
  },
  {
   "cell_type": "markdown",
   "metadata": {},
   "source": [
    "we see quite a bit of overlapping but not as much as with second discriminant function's histogram"
   ]
  },
  {
   "cell_type": "markdown",
   "metadata": {},
   "source": [
    "### Scatterplots of the Discriminant Functions\n",
    "\n",
    "We can obtain a scatterplot of the best two discriminant functions, with the data points labelled by cultivar, by typing:"
   ]
  },
  {
   "cell_type": "code",
   "execution_count": 125,
   "metadata": {
    "ExecuteTime": {
     "end_time": "2021-03-28T18:59:21.396049Z",
     "start_time": "2021-03-28T18:59:21.005097Z"
    }
   },
   "outputs": [
    {
     "data": {
      "image/png": "[encoded data removed]",
      "text/plain": [
       "<Figure size 507.625x360 with 1 Axes>"
      ]
     },
     "metadata": {
      "needs_background": "light"
     },
     "output_type": "display_data"
    }
   ],
   "source": [
    "sns.lmplot(\"LD1\", \"LD2\", lda_values[\"x\"].join(y), hue=\"V1\", fit_reg=False);"
   ]
  },
  {
   "cell_type": "code",
   "execution_count": null,
   "metadata": {},
   "outputs": [],
   "source": []
  }
 ],
 "metadata": {
  "kernelspec": {
   "display_name": "Python 3",
   "language": "python",
   "name": "python3"
  },
  "language_info": {
   "codemirror_mode": {
    "name": "ipython",
    "version": 3
   },
   "file_extension": ".py",
   "mimetype": "text/x-python",
   "name": "python",
   "nbconvert_exporter": "python",
   "pygments_lexer": "ipython3",
   "version": "3.8.3"
  },
  "toc": {
   "base_numbering": 1,
   "nav_menu": {},
   "number_sections": true,
   "sideBar": true,
   "skip_h1_title": false,
   "title_cell": "Table of Contents",
   "title_sidebar": "Contents",
   "toc_cell": false,
   "toc_position": {},
   "toc_section_display": true,
   "toc_window_display": false
  },
  "varInspector": {
   "cols": {
    "lenName": 16,
    "lenType": 16,
    "lenVar": 40
   },
   "kernels_config": {
    "python": {
     "delete_cmd_postfix": "",
     "delete_cmd_prefix": "del ",
     "library": "var_list.py",
     "varRefreshCmd": "print(var_dic_list())"
    },
    "r": {
     "delete_cmd_postfix": ") ",
     "delete_cmd_prefix": "rm(",
     "library": "var_list.r",
     "varRefreshCmd": "cat(var_dic_list()) "
    }
   },
   "types_to_exclude": [
    "module",
    "function",
    "builtin_function_or_method",
    "instance",
    "_Feature"
   ],
   "window_display": false
  }
 },
 "nbformat": 4,
 "nbformat_minor": 4
}
