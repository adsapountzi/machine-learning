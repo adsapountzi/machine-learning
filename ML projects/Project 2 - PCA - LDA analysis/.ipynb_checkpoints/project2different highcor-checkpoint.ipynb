{
 "cells": [
  {
   "cell_type": "code",
   "execution_count": 50,
   "metadata": {
    "ExecuteTime": {
     "end_time": "2021-03-28T20:24:27.560532Z",
     "start_time": "2021-03-28T20:24:27.126784Z"
    }
   },
   "outputs": [
    {
     "data": {
      "text/html": [
       "<div>\n",
       "<style scoped>\n",
       "    .dataframe tbody tr th:only-of-type {\n",
       "        vertical-align: middle;\n",
       "    }\n",
       "\n",
       "    .dataframe tbody tr th {\n",
       "        vertical-align: top;\n",
       "    }\n",
       "\n",
       "    .dataframe thead th {\n",
       "        text-align: right;\n",
       "    }\n",
       "</style>\n",
       "<table border=\"1\" class=\"dataframe\">\n",
       "  <thead>\n",
       "    <tr style=\"text-align: right;\">\n",
       "      <th></th>\n",
       "      <th>V107</th>\n",
       "      <th>V108</th>\n",
       "      <th>V109</th>\n",
       "      <th>V110</th>\n",
       "      <th>V126</th>\n",
       "    </tr>\n",
       "  </thead>\n",
       "  <tbody>\n",
       "    <tr>\n",
       "      <th>0</th>\n",
       "      <td>0.000000</td>\n",
       "      <td>0.000000</td>\n",
       "      <td>1702.000000</td>\n",
       "      <td>101.680000</td>\n",
       "      <td>144521.423807</td>\n",
       "    </tr>\n",
       "    <tr>\n",
       "      <th>1</th>\n",
       "      <td>4073.660000</td>\n",
       "      <td>3689.630000</td>\n",
       "      <td>0.000000</td>\n",
       "      <td>0.000000</td>\n",
       "      <td>0.000000</td>\n",
       "    </tr>\n",
       "    <tr>\n",
       "      <th>2</th>\n",
       "      <td>0.000000</td>\n",
       "      <td>0.000000</td>\n",
       "      <td>0.000000</td>\n",
       "      <td>0.000000</td>\n",
       "      <td>144521.423807</td>\n",
       "    </tr>\n",
       "    <tr>\n",
       "      <th>3</th>\n",
       "      <td>0.000000</td>\n",
       "      <td>1640.540000</td>\n",
       "      <td>1766.270000</td>\n",
       "      <td>1548.990000</td>\n",
       "      <td>0.000000</td>\n",
       "    </tr>\n",
       "    <tr>\n",
       "      <th>4</th>\n",
       "      <td>0.000000</td>\n",
       "      <td>0.000000</td>\n",
       "      <td>0.000000</td>\n",
       "      <td>0.000000</td>\n",
       "      <td>0.000000</td>\n",
       "    </tr>\n",
       "    <tr>\n",
       "      <th>...</th>\n",
       "      <td>...</td>\n",
       "      <td>...</td>\n",
       "      <td>...</td>\n",
       "      <td>...</td>\n",
       "      <td>...</td>\n",
       "    </tr>\n",
       "    <tr>\n",
       "      <th>238</th>\n",
       "      <td>142295.072287</td>\n",
       "      <td>121995.154683</td>\n",
       "      <td>115681.674067</td>\n",
       "      <td>118316.975407</td>\n",
       "      <td>500218.130000</td>\n",
       "    </tr>\n",
       "    <tr>\n",
       "      <th>239</th>\n",
       "      <td>142295.072287</td>\n",
       "      <td>121995.154683</td>\n",
       "      <td>115681.674067</td>\n",
       "      <td>118316.975407</td>\n",
       "      <td>144521.423807</td>\n",
       "    </tr>\n",
       "    <tr>\n",
       "      <th>240</th>\n",
       "      <td>0.000000</td>\n",
       "      <td>0.000000</td>\n",
       "      <td>0.000000</td>\n",
       "      <td>0.000000</td>\n",
       "      <td>0.000000</td>\n",
       "    </tr>\n",
       "    <tr>\n",
       "      <th>241</th>\n",
       "      <td>251696.040000</td>\n",
       "      <td>230269.080000</td>\n",
       "      <td>202312.130000</td>\n",
       "      <td>160036.850000</td>\n",
       "      <td>235540.360000</td>\n",
       "    </tr>\n",
       "    <tr>\n",
       "      <th>242</th>\n",
       "      <td>142295.072287</td>\n",
       "      <td>121995.154683</td>\n",
       "      <td>1345.750000</td>\n",
       "      <td>2204.260000</td>\n",
       "      <td>60171.490000</td>\n",
       "    </tr>\n",
       "  </tbody>\n",
       "</table>\n",
       "<p>243 rows × 5 columns</p>\n",
       "</div>"
      ],
      "text/plain": [
       "              V107           V108           V109           V110           V126\n",
       "0         0.000000       0.000000    1702.000000     101.680000  144521.423807\n",
       "1      4073.660000    3689.630000       0.000000       0.000000       0.000000\n",
       "2         0.000000       0.000000       0.000000       0.000000  144521.423807\n",
       "3         0.000000    1640.540000    1766.270000    1548.990000       0.000000\n",
       "4         0.000000       0.000000       0.000000       0.000000       0.000000\n",
       "..             ...            ...            ...            ...            ...\n",
       "238  142295.072287  121995.154683  115681.674067  118316.975407  500218.130000\n",
       "239  142295.072287  121995.154683  115681.674067  118316.975407  144521.423807\n",
       "240       0.000000       0.000000       0.000000       0.000000       0.000000\n",
       "241  251696.040000  230269.080000  202312.130000  160036.850000  235540.360000\n",
       "242  142295.072287  121995.154683    1345.750000    2204.260000   60171.490000\n",
       "\n",
       "[243 rows x 5 columns]"
      ]
     },
     "execution_count": 50,
     "metadata": {},
     "output_type": "execute_result"
    }
   ],
   "source": [
    "from pydoc import help  # can type in the python console `help(name of function)` to get the documentation\n",
    "import pandas as pd\n",
    "import numpy as np\n",
    "import matplotlib.pyplot as plt\n",
    "import seaborn as sns\n",
    "from sklearn.preprocessing import scale\n",
    "from sklearn.decomposition import PCA\n",
    "from sklearn.discriminant_analysis import LinearDiscriminantAnalysis\n",
    "from scipy import stats\n",
    "from IPython.display import display, HTML\n",
    "\n",
    "# figures inline in notebook\n",
    "%matplotlib inline\n",
    "\n",
    "np.set_printoptions(suppress=True)\n",
    "\n",
    "DISPLAY_MAX_ROWS = 210  # number of max rows to print for a DataFrame\n",
    "pd.set_option('display.max_rows', DISPLAY_MAX_ROWS)\n",
    "data = pd.read_excel('business_survey_results.xlsx', sheet_name='results',usecols=['2. Η Νομική μορφή της επιχείρησης είναι:','6.1.1 Κύρια Δραστηριότητα' ,'6.1 Κύρια Δραστηριότητα', '7. Πόσο διαφοροποιημένα είναι τα προϊόντα που παράγει η επιχείρηση σε σχέση με τον ανταγωνισμό;', '8.1 Σε τι είναι διαφοροποιημένα τα προϊόντα της επιχείρησης; (Στην εμφάνιση)', 'Ποσοστό συμμετοχής της εργασίας '])\n",
    "data.columns = [\"V\"+str(i) for i in range(1, len(data.columns)+1)]\n",
    "data.dtypes\n",
    "data = data.fillna(data.mean()) \n",
    "for col_name in data.columns:\n",
    "    if(data[col_name].dtype == 'object'):#convert object type to categorical\n",
    "        data[col_name]= data[col_name].astype('category')\n",
    "        data[col_name] = data[col_name].cat.codes #\n",
    "       \n",
    "    \n",
    "data = data.replace([-1],np.nan) #cat.codes replaces nan with -1, so reverse that.\n",
    "\n",
    "\n",
    "data = data.fillna(data.mean()) # replace nan values with the mean() of that column.\n",
    "\n"
   ]
  },
  {
   "cell_type": "code",
   "execution_count": 2,
   "metadata": {
    "ExecuteTime": {
     "end_time": "2021-03-28T20:19:31.730467Z",
     "start_time": "2021-03-28T20:19:31.043268Z"
    }
   },
   "outputs": [],
   "source": [
    "data = pd.read_excel('business_survey_results.xlsx', sheet_name='results')\n",
    "data.columns = [\"V\"+str(i) for i in range(1, len(data.columns)+1)]\n",
    "data.dtypes\n",
    "data = data.fillna(data.mean()) \n",
    "for col_name in data.columns:\n",
    "    if(data[col_name].dtype == 'object'):#convert object type to categorical\n",
    "        data[col_name]= data[col_name].astype('category')\n",
    "        data[col_name] = data[col_name].cat.codes #\n",
    "       \n",
    "    \n",
    "data = data.replace([-1],np.nan) #cat.codes replaces nan with -1, so reverse that.\n",
    "\n",
    "\n",
    "data = data.fillna(data.mean()) # replace nan values with the mean() of that column.\n",
    "#X = data.loc[:, \"V2\":]  # independent variables data\n",
    "\n",
    "y = data.V1  # dependant variable data\n",
    "X = data[['V107', 'V108', 'V109', 'V110', 'V126']]\n",
    "\n",
    "\n"
   ]
  },
  {
   "cell_type": "code",
   "execution_count": 3,
   "metadata": {
    "ExecuteTime": {
     "end_time": "2021-03-28T20:19:31.948135Z",
     "start_time": "2021-03-28T20:19:31.872650Z"
    }
   },
   "outputs": [
    {
     "data": {
      "text/html": [
       "<div>\n",
       "<style scoped>\n",
       "    .dataframe tbody tr th:only-of-type {\n",
       "        vertical-align: middle;\n",
       "    }\n",
       "\n",
       "    .dataframe tbody tr th {\n",
       "        vertical-align: top;\n",
       "    }\n",
       "\n",
       "    .dataframe thead th {\n",
       "        text-align: right;\n",
       "    }\n",
       "</style>\n",
       "<table border=\"1\" class=\"dataframe\">\n",
       "  <thead>\n",
       "    <tr style=\"text-align: right;\">\n",
       "      <th></th>\n",
       "      <th>FirstVariable</th>\n",
       "      <th>SecondVariable</th>\n",
       "      <th>Correlation</th>\n",
       "    </tr>\n",
       "  </thead>\n",
       "  <tbody>\n",
       "    <tr>\n",
       "      <th>0</th>\n",
       "      <td>V109</td>\n",
       "      <td>V110</td>\n",
       "      <td>0.999312</td>\n",
       "    </tr>\n",
       "    <tr>\n",
       "      <th>1</th>\n",
       "      <td>V115</td>\n",
       "      <td>V116</td>\n",
       "      <td>0.998694</td>\n",
       "    </tr>\n",
       "    <tr>\n",
       "      <th>2</th>\n",
       "      <td>V121</td>\n",
       "      <td>V122</td>\n",
       "      <td>0.997612</td>\n",
       "    </tr>\n",
       "    <tr>\n",
       "      <th>3</th>\n",
       "      <td>V103</td>\n",
       "      <td>V104</td>\n",
       "      <td>0.997318</td>\n",
       "    </tr>\n",
       "    <tr>\n",
       "      <th>4</th>\n",
       "      <td>V120</td>\n",
       "      <td>V121</td>\n",
       "      <td>0.997245</td>\n",
       "    </tr>\n",
       "    <tr>\n",
       "      <th>5</th>\n",
       "      <td>V2</td>\n",
       "      <td>V3</td>\n",
       "      <td>0.996574</td>\n",
       "    </tr>\n",
       "    <tr>\n",
       "      <th>6</th>\n",
       "      <td>V99</td>\n",
       "      <td>V100</td>\n",
       "      <td>0.996287</td>\n",
       "    </tr>\n",
       "    <tr>\n",
       "      <th>7</th>\n",
       "      <td>V120</td>\n",
       "      <td>V122</td>\n",
       "      <td>0.995357</td>\n",
       "    </tr>\n",
       "    <tr>\n",
       "      <th>8</th>\n",
       "      <td>V100</td>\n",
       "      <td>V104</td>\n",
       "      <td>0.993922</td>\n",
       "    </tr>\n",
       "    <tr>\n",
       "      <th>9</th>\n",
       "      <td>V99</td>\n",
       "      <td>V103</td>\n",
       "      <td>0.993656</td>\n",
       "    </tr>\n",
       "    <tr>\n",
       "      <th>10</th>\n",
       "      <td>V108</td>\n",
       "      <td>V110</td>\n",
       "      <td>0.993277</td>\n",
       "    </tr>\n",
       "    <tr>\n",
       "      <th>11</th>\n",
       "      <td>V123</td>\n",
       "      <td>V124</td>\n",
       "      <td>0.993202</td>\n",
       "    </tr>\n",
       "    <tr>\n",
       "      <th>12</th>\n",
       "      <td>V100</td>\n",
       "      <td>V103</td>\n",
       "      <td>0.992769</td>\n",
       "    </tr>\n",
       "    <tr>\n",
       "      <th>13</th>\n",
       "      <td>V108</td>\n",
       "      <td>V109</td>\n",
       "      <td>0.992330</td>\n",
       "    </tr>\n",
       "    <tr>\n",
       "      <th>14</th>\n",
       "      <td>V119</td>\n",
       "      <td>V121</td>\n",
       "      <td>0.990524</td>\n",
       "    </tr>\n",
       "    <tr>\n",
       "      <th>15</th>\n",
       "      <td>V99</td>\n",
       "      <td>V104</td>\n",
       "      <td>0.989167</td>\n",
       "    </tr>\n",
       "    <tr>\n",
       "      <th>16</th>\n",
       "      <td>V119</td>\n",
       "      <td>V120</td>\n",
       "      <td>0.988891</td>\n",
       "    </tr>\n",
       "    <tr>\n",
       "      <th>17</th>\n",
       "      <td>V125</td>\n",
       "      <td>V126</td>\n",
       "      <td>0.984816</td>\n",
       "    </tr>\n",
       "    <tr>\n",
       "      <th>18</th>\n",
       "      <td>V107</td>\n",
       "      <td>V109</td>\n",
       "      <td>0.984700</td>\n",
       "    </tr>\n",
       "    <tr>\n",
       "      <th>19</th>\n",
       "      <td>V119</td>\n",
       "      <td>V122</td>\n",
       "      <td>0.983609</td>\n",
       "    </tr>\n",
       "    <tr>\n",
       "      <th>20</th>\n",
       "      <td>V116</td>\n",
       "      <td>V117</td>\n",
       "      <td>0.979894</td>\n",
       "    </tr>\n",
       "    <tr>\n",
       "      <th>21</th>\n",
       "      <td>V107</td>\n",
       "      <td>V110</td>\n",
       "      <td>0.979635</td>\n",
       "    </tr>\n",
       "    <tr>\n",
       "      <th>22</th>\n",
       "      <td>V115</td>\n",
       "      <td>V117</td>\n",
       "      <td>0.971826</td>\n",
       "    </tr>\n",
       "    <tr>\n",
       "      <th>23</th>\n",
       "      <td>V107</td>\n",
       "      <td>V108</td>\n",
       "      <td>0.962252</td>\n",
       "    </tr>\n",
       "    <tr>\n",
       "      <th>24</th>\n",
       "      <td>V124</td>\n",
       "      <td>V125</td>\n",
       "      <td>0.957752</td>\n",
       "    </tr>\n",
       "    <tr>\n",
       "      <th>25</th>\n",
       "      <td>V123</td>\n",
       "      <td>V125</td>\n",
       "      <td>0.942330</td>\n",
       "    </tr>\n",
       "    <tr>\n",
       "      <th>26</th>\n",
       "      <td>V107</td>\n",
       "      <td>V126</td>\n",
       "      <td>0.937257</td>\n",
       "    </tr>\n",
       "    <tr>\n",
       "      <th>27</th>\n",
       "      <td>V124</td>\n",
       "      <td>V126</td>\n",
       "      <td>0.931384</td>\n",
       "    </tr>\n",
       "    <tr>\n",
       "      <th>28</th>\n",
       "      <td>V110</td>\n",
       "      <td>V126</td>\n",
       "      <td>0.926672</td>\n",
       "    </tr>\n",
       "    <tr>\n",
       "      <th>29</th>\n",
       "      <td>V109</td>\n",
       "      <td>V126</td>\n",
       "      <td>0.926245</td>\n",
       "    </tr>\n",
       "    <tr>\n",
       "      <th>30</th>\n",
       "      <td>V107</td>\n",
       "      <td>V125</td>\n",
       "      <td>0.923482</td>\n",
       "    </tr>\n",
       "    <tr>\n",
       "      <th>31</th>\n",
       "      <td>V123</td>\n",
       "      <td>V126</td>\n",
       "      <td>0.919752</td>\n",
       "    </tr>\n",
       "    <tr>\n",
       "      <th>32</th>\n",
       "      <td>V105</td>\n",
       "      <td>V106</td>\n",
       "      <td>0.914955</td>\n",
       "    </tr>\n",
       "    <tr>\n",
       "      <th>33</th>\n",
       "      <td>V111</td>\n",
       "      <td>V112</td>\n",
       "      <td>0.911331</td>\n",
       "    </tr>\n",
       "    <tr>\n",
       "      <th>34</th>\n",
       "      <td>V101</td>\n",
       "      <td>V102</td>\n",
       "      <td>0.900223</td>\n",
       "    </tr>\n",
       "    <tr>\n",
       "      <th>35</th>\n",
       "      <td>V109</td>\n",
       "      <td>V125</td>\n",
       "      <td>0.896777</td>\n",
       "    </tr>\n",
       "    <tr>\n",
       "      <th>36</th>\n",
       "      <td>V108</td>\n",
       "      <td>V126</td>\n",
       "      <td>0.892860</td>\n",
       "    </tr>\n",
       "    <tr>\n",
       "      <th>37</th>\n",
       "      <td>V110</td>\n",
       "      <td>V125</td>\n",
       "      <td>0.892715</td>\n",
       "    </tr>\n",
       "    <tr>\n",
       "      <th>38</th>\n",
       "      <td>V99</td>\n",
       "      <td>V117</td>\n",
       "      <td>0.889541</td>\n",
       "    </tr>\n",
       "    <tr>\n",
       "      <th>39</th>\n",
       "      <td>V103</td>\n",
       "      <td>V117</td>\n",
       "      <td>0.887792</td>\n",
       "    </tr>\n",
       "    <tr>\n",
       "      <th>40</th>\n",
       "      <td>V100</td>\n",
       "      <td>V117</td>\n",
       "      <td>0.873163</td>\n",
       "    </tr>\n",
       "    <tr>\n",
       "      <th>41</th>\n",
       "      <td>V102</td>\n",
       "      <td>V106</td>\n",
       "      <td>0.867155</td>\n",
       "    </tr>\n",
       "    <tr>\n",
       "      <th>42</th>\n",
       "      <td>V104</td>\n",
       "      <td>V117</td>\n",
       "      <td>0.867077</td>\n",
       "    </tr>\n",
       "    <tr>\n",
       "      <th>43</th>\n",
       "      <td>V107</td>\n",
       "      <td>V124</td>\n",
       "      <td>0.863335</td>\n",
       "    </tr>\n",
       "    <tr>\n",
       "      <th>44</th>\n",
       "      <td>V108</td>\n",
       "      <td>V125</td>\n",
       "      <td>0.862071</td>\n",
       "    </tr>\n",
       "    <tr>\n",
       "      <th>45</th>\n",
       "      <td>V46</td>\n",
       "      <td>V47</td>\n",
       "      <td>-0.857273</td>\n",
       "    </tr>\n",
       "    <tr>\n",
       "      <th>46</th>\n",
       "      <td>V99</td>\n",
       "      <td>V122</td>\n",
       "      <td>0.853759</td>\n",
       "    </tr>\n",
       "    <tr>\n",
       "      <th>47</th>\n",
       "      <td>V101</td>\n",
       "      <td>V106</td>\n",
       "      <td>0.849677</td>\n",
       "    </tr>\n",
       "    <tr>\n",
       "      <th>48</th>\n",
       "      <td>V100</td>\n",
       "      <td>V122</td>\n",
       "      <td>0.843475</td>\n",
       "    </tr>\n",
       "    <tr>\n",
       "      <th>49</th>\n",
       "      <td>V101</td>\n",
       "      <td>V105</td>\n",
       "      <td>0.837595</td>\n",
       "    </tr>\n",
       "  </tbody>\n",
       "</table>\n",
       "</div>"
      ],
      "text/plain": [
       "   FirstVariable SecondVariable  Correlation\n",
       "0           V109           V110     0.999312\n",
       "1           V115           V116     0.998694\n",
       "2           V121           V122     0.997612\n",
       "3           V103           V104     0.997318\n",
       "4           V120           V121     0.997245\n",
       "5             V2             V3     0.996574\n",
       "6            V99           V100     0.996287\n",
       "7           V120           V122     0.995357\n",
       "8           V100           V104     0.993922\n",
       "9            V99           V103     0.993656\n",
       "10          V108           V110     0.993277\n",
       "11          V123           V124     0.993202\n",
       "12          V100           V103     0.992769\n",
       "13          V108           V109     0.992330\n",
       "14          V119           V121     0.990524\n",
       "15           V99           V104     0.989167\n",
       "16          V119           V120     0.988891\n",
       "17          V125           V126     0.984816\n",
       "18          V107           V109     0.984700\n",
       "19          V119           V122     0.983609\n",
       "20          V116           V117     0.979894\n",
       "21          V107           V110     0.979635\n",
       "22          V115           V117     0.971826\n",
       "23          V107           V108     0.962252\n",
       "24          V124           V125     0.957752\n",
       "25          V123           V125     0.942330\n",
       "26          V107           V126     0.937257\n",
       "27          V124           V126     0.931384\n",
       "28          V110           V126     0.926672\n",
       "29          V109           V126     0.926245\n",
       "30          V107           V125     0.923482\n",
       "31          V123           V126     0.919752\n",
       "32          V105           V106     0.914955\n",
       "33          V111           V112     0.911331\n",
       "34          V101           V102     0.900223\n",
       "35          V109           V125     0.896777\n",
       "36          V108           V126     0.892860\n",
       "37          V110           V125     0.892715\n",
       "38           V99           V117     0.889541\n",
       "39          V103           V117     0.887792\n",
       "40          V100           V117     0.873163\n",
       "41          V102           V106     0.867155\n",
       "42          V104           V117     0.867077\n",
       "43          V107           V124     0.863335\n",
       "44          V108           V125     0.862071\n",
       "45           V46            V47    -0.857273\n",
       "46           V99           V122     0.853759\n",
       "47          V101           V106     0.849677\n",
       "48          V100           V122     0.843475\n",
       "49          V101           V105     0.837595"
      ]
     },
     "execution_count": 3,
     "metadata": {},
     "output_type": "execute_result"
    }
   ],
   "source": [
    "def mosthighlycorrelated(mydataframe, numtoreport):\n",
    "    # find the correlations\n",
    "    cormatrix = mydataframe.corr()\n",
    "    # set the correlations on the diagonal or lower triangle to zero,\n",
    "    # so they will not be reported as the highest ones:\n",
    "    cormatrix *= np.tri(*cormatrix.values.shape, k=-1).T\n",
    "    # find the top n correlations\n",
    "    cormatrix = cormatrix.stack()\n",
    "    cormatrix = cormatrix.reindex(cormatrix.abs().sort_values(ascending=False).index).reset_index()\n",
    "    # assign human-friendly names\n",
    "    cormatrix.columns = [\"FirstVariable\", \"SecondVariable\", \"Correlation\"]\n",
    "    return cormatrix.head(numtoreport)\n",
    "a = data.loc[:, \"V2\":]\n",
    "mosthighlycorrelated(a, 50)\n"
   ]
  },
  {
   "cell_type": "code",
   "execution_count": 4,
   "metadata": {
    "ExecuteTime": {
     "end_time": "2021-03-28T20:19:32.179613Z",
     "start_time": "2021-03-28T20:19:32.135954Z"
    }
   },
   "outputs": [
    {
     "data": {
      "text/html": [
       "<div>\n",
       "<style scoped>\n",
       "    .dataframe tbody tr th:only-of-type {\n",
       "        vertical-align: middle;\n",
       "    }\n",
       "\n",
       "    .dataframe tbody tr th {\n",
       "        vertical-align: top;\n",
       "    }\n",
       "\n",
       "    .dataframe thead th {\n",
       "        text-align: right;\n",
       "    }\n",
       "</style>\n",
       "<table border=\"1\" class=\"dataframe\">\n",
       "  <thead>\n",
       "    <tr style=\"text-align: right;\">\n",
       "      <th></th>\n",
       "      <th>V1</th>\n",
       "      <th>V2</th>\n",
       "      <th>V3</th>\n",
       "      <th>V4</th>\n",
       "      <th>V5</th>\n",
       "      <th>V6</th>\n",
       "      <th>V7</th>\n",
       "      <th>V8</th>\n",
       "      <th>V9</th>\n",
       "      <th>V10</th>\n",
       "      <th>...</th>\n",
       "      <th>V121</th>\n",
       "      <th>V122</th>\n",
       "      <th>V123</th>\n",
       "      <th>V124</th>\n",
       "      <th>V125</th>\n",
       "      <th>V126</th>\n",
       "      <th>V127</th>\n",
       "      <th>V128</th>\n",
       "      <th>V129</th>\n",
       "      <th>V130</th>\n",
       "    </tr>\n",
       "  </thead>\n",
       "  <tbody>\n",
       "    <tr>\n",
       "      <th>0</th>\n",
       "      <td>2.0</td>\n",
       "      <td>10.0</td>\n",
       "      <td>2.0</td>\n",
       "      <td>2.0</td>\n",
       "      <td>2.0</td>\n",
       "      <td>4.0</td>\n",
       "      <td>4.0</td>\n",
       "      <td>27.0</td>\n",
       "      <td>55.00000</td>\n",
       "      <td>3.000000</td>\n",
       "      <td>...</td>\n",
       "      <td>0.000000e+00</td>\n",
       "      <td>0.000000e+00</td>\n",
       "      <td>125665.156941</td>\n",
       "      <td>118458.51211</td>\n",
       "      <td>119674.745371</td>\n",
       "      <td>144521.423807</td>\n",
       "      <td>-15600.11000</td>\n",
       "      <td>-24803.130000</td>\n",
       "      <td>16.00000</td>\n",
       "      <td>120.000000</td>\n",
       "    </tr>\n",
       "    <tr>\n",
       "      <th>1</th>\n",
       "      <td>2.0</td>\n",
       "      <td>1.0</td>\n",
       "      <td>0.0</td>\n",
       "      <td>1.0</td>\n",
       "      <td>1.0</td>\n",
       "      <td>4.0</td>\n",
       "      <td>4.0</td>\n",
       "      <td>20.0</td>\n",
       "      <td>74.00000</td>\n",
       "      <td>0.000000</td>\n",
       "      <td>...</td>\n",
       "      <td>0.000000e+00</td>\n",
       "      <td>0.000000e+00</td>\n",
       "      <td>125665.156941</td>\n",
       "      <td>118458.51211</td>\n",
       "      <td>119674.745371</td>\n",
       "      <td>0.000000</td>\n",
       "      <td>4890.63000</td>\n",
       "      <td>845.970000</td>\n",
       "      <td>71.00000</td>\n",
       "      <td>36.000000</td>\n",
       "    </tr>\n",
       "    <tr>\n",
       "      <th>2</th>\n",
       "      <td>2.0</td>\n",
       "      <td>46.0</td>\n",
       "      <td>18.0</td>\n",
       "      <td>0.0</td>\n",
       "      <td>0.0</td>\n",
       "      <td>1.0</td>\n",
       "      <td>2.0</td>\n",
       "      <td>3.0</td>\n",
       "      <td>82.00000</td>\n",
       "      <td>0.000000</td>\n",
       "      <td>...</td>\n",
       "      <td>5.914970e+03</td>\n",
       "      <td>2.716370e+03</td>\n",
       "      <td>125665.156941</td>\n",
       "      <td>118458.51211</td>\n",
       "      <td>119674.745371</td>\n",
       "      <td>144521.423807</td>\n",
       "      <td>5753.44000</td>\n",
       "      <td>-1508.880000</td>\n",
       "      <td>124.00000</td>\n",
       "      <td>129.000000</td>\n",
       "    </tr>\n",
       "    <tr>\n",
       "      <th>3</th>\n",
       "      <td>5.0</td>\n",
       "      <td>47.0</td>\n",
       "      <td>19.0</td>\n",
       "      <td>0.0</td>\n",
       "      <td>1.0</td>\n",
       "      <td>3.0</td>\n",
       "      <td>4.0</td>\n",
       "      <td>2.0</td>\n",
       "      <td>25.00000</td>\n",
       "      <td>47.000000</td>\n",
       "      <td>...</td>\n",
       "      <td>0.000000e+00</td>\n",
       "      <td>0.000000e+00</td>\n",
       "      <td>1913.960000</td>\n",
       "      <td>4364.04000</td>\n",
       "      <td>3868.040000</td>\n",
       "      <td>0.000000</td>\n",
       "      <td>19728.35000</td>\n",
       "      <td>16688.950000</td>\n",
       "      <td>152.00000</td>\n",
       "      <td>18.000000</td>\n",
       "    </tr>\n",
       "    <tr>\n",
       "      <th>4</th>\n",
       "      <td>5.0</td>\n",
       "      <td>69.0</td>\n",
       "      <td>26.0</td>\n",
       "      <td>2.0</td>\n",
       "      <td>0.0</td>\n",
       "      <td>4.0</td>\n",
       "      <td>2.0</td>\n",
       "      <td>43.0</td>\n",
       "      <td>30.95099</td>\n",
       "      <td>8.000000</td>\n",
       "      <td>...</td>\n",
       "      <td>0.000000e+00</td>\n",
       "      <td>0.000000e+00</td>\n",
       "      <td>0.000000</td>\n",
       "      <td>0.00000</td>\n",
       "      <td>0.000000</td>\n",
       "      <td>0.000000</td>\n",
       "      <td>-3886.56000</td>\n",
       "      <td>-11548.360000</td>\n",
       "      <td>193.00000</td>\n",
       "      <td>197.000000</td>\n",
       "    </tr>\n",
       "    <tr>\n",
       "      <th>...</th>\n",
       "      <td>...</td>\n",
       "      <td>...</td>\n",
       "      <td>...</td>\n",
       "      <td>...</td>\n",
       "      <td>...</td>\n",
       "      <td>...</td>\n",
       "      <td>...</td>\n",
       "      <td>...</td>\n",
       "      <td>...</td>\n",
       "      <td>...</td>\n",
       "      <td>...</td>\n",
       "      <td>...</td>\n",
       "      <td>...</td>\n",
       "      <td>...</td>\n",
       "      <td>...</td>\n",
       "      <td>...</td>\n",
       "      <td>...</td>\n",
       "      <td>...</td>\n",
       "      <td>...</td>\n",
       "      <td>...</td>\n",
       "      <td>...</td>\n",
       "    </tr>\n",
       "    <tr>\n",
       "      <th>238</th>\n",
       "      <td>1.0</td>\n",
       "      <td>46.0</td>\n",
       "      <td>18.0</td>\n",
       "      <td>2.0</td>\n",
       "      <td>1.0</td>\n",
       "      <td>2.0</td>\n",
       "      <td>3.0</td>\n",
       "      <td>10.0</td>\n",
       "      <td>80.00000</td>\n",
       "      <td>15.712745</td>\n",
       "      <td>...</td>\n",
       "      <td>1.023951e+06</td>\n",
       "      <td>9.755742e+05</td>\n",
       "      <td>382068.070000</td>\n",
       "      <td>432830.12300</td>\n",
       "      <td>470206.920000</td>\n",
       "      <td>500218.130000</td>\n",
       "      <td>-155831.89000</td>\n",
       "      <td>-150692.580000</td>\n",
       "      <td>2.00000</td>\n",
       "      <td>1.000000</td>\n",
       "    </tr>\n",
       "    <tr>\n",
       "      <th>239</th>\n",
       "      <td>4.0</td>\n",
       "      <td>3.0</td>\n",
       "      <td>1.0</td>\n",
       "      <td>0.0</td>\n",
       "      <td>0.0</td>\n",
       "      <td>4.0</td>\n",
       "      <td>4.0</td>\n",
       "      <td>25.0</td>\n",
       "      <td>50.00000</td>\n",
       "      <td>10.000000</td>\n",
       "      <td>...</td>\n",
       "      <td>3.215737e+05</td>\n",
       "      <td>3.374795e+05</td>\n",
       "      <td>125665.156941</td>\n",
       "      <td>118458.51211</td>\n",
       "      <td>119674.745371</td>\n",
       "      <td>144521.423807</td>\n",
       "      <td>103584.60881</td>\n",
       "      <td>72438.973868</td>\n",
       "      <td>92.40553</td>\n",
       "      <td>94.870968</td>\n",
       "    </tr>\n",
       "    <tr>\n",
       "      <th>240</th>\n",
       "      <td>5.0</td>\n",
       "      <td>13.0</td>\n",
       "      <td>3.0</td>\n",
       "      <td>0.0</td>\n",
       "      <td>0.0</td>\n",
       "      <td>1.0</td>\n",
       "      <td>3.0</td>\n",
       "      <td>20.0</td>\n",
       "      <td>50.00000</td>\n",
       "      <td>0.000000</td>\n",
       "      <td>...</td>\n",
       "      <td>0.000000e+00</td>\n",
       "      <td>0.000000e+00</td>\n",
       "      <td>0.000000</td>\n",
       "      <td>0.00000</td>\n",
       "      <td>0.000000</td>\n",
       "      <td>0.000000</td>\n",
       "      <td>0.00000</td>\n",
       "      <td>0.000000</td>\n",
       "      <td>54.00000</td>\n",
       "      <td>52.000000</td>\n",
       "    </tr>\n",
       "    <tr>\n",
       "      <th>241</th>\n",
       "      <td>0.0</td>\n",
       "      <td>25.0</td>\n",
       "      <td>9.0</td>\n",
       "      <td>3.0</td>\n",
       "      <td>2.0</td>\n",
       "      <td>2.0</td>\n",
       "      <td>4.0</td>\n",
       "      <td>20.0</td>\n",
       "      <td>20.00000</td>\n",
       "      <td>20.000000</td>\n",
       "      <td>...</td>\n",
       "      <td>2.380375e+06</td>\n",
       "      <td>1.943503e+06</td>\n",
       "      <td>129535.780000</td>\n",
       "      <td>119149.75000</td>\n",
       "      <td>58872.890000</td>\n",
       "      <td>235540.360000</td>\n",
       "      <td>53254.42000</td>\n",
       "      <td>-37260.050000</td>\n",
       "      <td>182.00000</td>\n",
       "      <td>186.000000</td>\n",
       "    </tr>\n",
       "    <tr>\n",
       "      <th>242</th>\n",
       "      <td>1.0</td>\n",
       "      <td>46.0</td>\n",
       "      <td>18.0</td>\n",
       "      <td>2.0</td>\n",
       "      <td>2.0</td>\n",
       "      <td>4.0</td>\n",
       "      <td>4.0</td>\n",
       "      <td>30.0</td>\n",
       "      <td>30.00000</td>\n",
       "      <td>20.000000</td>\n",
       "      <td>...</td>\n",
       "      <td>5.332613e+05</td>\n",
       "      <td>4.527204e+05</td>\n",
       "      <td>125665.156941</td>\n",
       "      <td>118458.51211</td>\n",
       "      <td>73153.260000</td>\n",
       "      <td>60171.490000</td>\n",
       "      <td>103584.60881</td>\n",
       "      <td>72438.973868</td>\n",
       "      <td>183.00000</td>\n",
       "      <td>185.000000</td>\n",
       "    </tr>\n",
       "  </tbody>\n",
       "</table>\n",
       "<p>243 rows × 130 columns</p>\n",
       "</div>"
      ],
      "text/plain": [
       "      V1    V2    V3   V4   V5   V6   V7    V8        V9        V10  ...  \\\n",
       "0    2.0  10.0   2.0  2.0  2.0  4.0  4.0  27.0  55.00000   3.000000  ...   \n",
       "1    2.0   1.0   0.0  1.0  1.0  4.0  4.0  20.0  74.00000   0.000000  ...   \n",
       "2    2.0  46.0  18.0  0.0  0.0  1.0  2.0   3.0  82.00000   0.000000  ...   \n",
       "3    5.0  47.0  19.0  0.0  1.0  3.0  4.0   2.0  25.00000  47.000000  ...   \n",
       "4    5.0  69.0  26.0  2.0  0.0  4.0  2.0  43.0  30.95099   8.000000  ...   \n",
       "..   ...   ...   ...  ...  ...  ...  ...   ...       ...        ...  ...   \n",
       "238  1.0  46.0  18.0  2.0  1.0  2.0  3.0  10.0  80.00000  15.712745  ...   \n",
       "239  4.0   3.0   1.0  0.0  0.0  4.0  4.0  25.0  50.00000  10.000000  ...   \n",
       "240  5.0  13.0   3.0  0.0  0.0  1.0  3.0  20.0  50.00000   0.000000  ...   \n",
       "241  0.0  25.0   9.0  3.0  2.0  2.0  4.0  20.0  20.00000  20.000000  ...   \n",
       "242  1.0  46.0  18.0  2.0  2.0  4.0  4.0  30.0  30.00000  20.000000  ...   \n",
       "\n",
       "             V121          V122           V123          V124           V125  \\\n",
       "0    0.000000e+00  0.000000e+00  125665.156941  118458.51211  119674.745371   \n",
       "1    0.000000e+00  0.000000e+00  125665.156941  118458.51211  119674.745371   \n",
       "2    5.914970e+03  2.716370e+03  125665.156941  118458.51211  119674.745371   \n",
       "3    0.000000e+00  0.000000e+00    1913.960000    4364.04000    3868.040000   \n",
       "4    0.000000e+00  0.000000e+00       0.000000       0.00000       0.000000   \n",
       "..            ...           ...            ...           ...            ...   \n",
       "238  1.023951e+06  9.755742e+05  382068.070000  432830.12300  470206.920000   \n",
       "239  3.215737e+05  3.374795e+05  125665.156941  118458.51211  119674.745371   \n",
       "240  0.000000e+00  0.000000e+00       0.000000       0.00000       0.000000   \n",
       "241  2.380375e+06  1.943503e+06  129535.780000  119149.75000   58872.890000   \n",
       "242  5.332613e+05  4.527204e+05  125665.156941  118458.51211   73153.260000   \n",
       "\n",
       "              V126          V127           V128       V129        V130  \n",
       "0    144521.423807  -15600.11000  -24803.130000   16.00000  120.000000  \n",
       "1         0.000000    4890.63000     845.970000   71.00000   36.000000  \n",
       "2    144521.423807    5753.44000   -1508.880000  124.00000  129.000000  \n",
       "3         0.000000   19728.35000   16688.950000  152.00000   18.000000  \n",
       "4         0.000000   -3886.56000  -11548.360000  193.00000  197.000000  \n",
       "..             ...           ...            ...        ...         ...  \n",
       "238  500218.130000 -155831.89000 -150692.580000    2.00000    1.000000  \n",
       "239  144521.423807  103584.60881   72438.973868   92.40553   94.870968  \n",
       "240       0.000000       0.00000       0.000000   54.00000   52.000000  \n",
       "241  235540.360000   53254.42000  -37260.050000  182.00000  186.000000  \n",
       "242   60171.490000  103584.60881   72438.973868  183.00000  185.000000  \n",
       "\n",
       "[243 rows x 130 columns]"
      ]
     },
     "execution_count": 4,
     "metadata": {},
     "output_type": "execute_result"
    }
   ],
   "source": [
    "data\n"
   ]
  },
  {
   "cell_type": "code",
   "execution_count": null,
   "metadata": {},
   "outputs": [],
   "source": []
  },
  {
   "cell_type": "code",
   "execution_count": 5,
   "metadata": {
    "ExecuteTime": {
     "end_time": "2021-03-28T20:19:32.386055Z",
     "start_time": "2021-03-28T20:19:32.373090Z"
    }
   },
   "outputs": [],
   "source": [
    "#standarize for better analysis\n",
    "standardisedX = scale(X)\n",
    "standardisedX = pd.DataFrame(standardisedX, index=X.index, columns=X.columns)"
   ]
  },
  {
   "cell_type": "code",
   "execution_count": 6,
   "metadata": {
    "ExecuteTime": {
     "end_time": "2021-03-28T20:19:33.491969Z",
     "start_time": "2021-03-28T20:19:33.458060Z"
    }
   },
   "outputs": [],
   "source": [
    "#perform pca\n",
    "\n",
    "pca = PCA().fit(standardisedX)"
   ]
  },
  {
   "cell_type": "code",
   "execution_count": 7,
   "metadata": {
    "ExecuteTime": {
     "end_time": "2021-03-28T20:19:33.957800Z",
     "start_time": "2021-03-28T20:19:33.941842Z"
    }
   },
   "outputs": [],
   "source": [
    "def pca_summary(pca, standardised_data, out=True):\n",
    "    names = [\"PC\"+str(i) for i in range(1, len(pca.explained_variance_ratio_)+1)]\n",
    "    a = list(np.std(pca.transform(standardised_data), axis=0))\n",
    "    b = list(pca.explained_variance_ratio_)\n",
    "    c = [np.sum(pca.explained_variance_ratio_[:i]) for i in range(1, len(pca.explained_variance_ratio_)+1)]\n",
    "    columns = pd.MultiIndex.from_tuples([(\"sdev\", \"Standard deviation\"), (\"varprop\", \"Proportion of Variance\"), (\"cumprop\", \"Cumulative Proportion\")])\n",
    "    summary = pd.DataFrame(zip(a, b, c), index=names, columns=columns)\n",
    "    if out:\n",
    "        print(\"Importance of components:\")\n",
    "        display(summary)\n",
    "    return summary"
   ]
  },
  {
   "cell_type": "code",
   "execution_count": 8,
   "metadata": {
    "ExecuteTime": {
     "end_time": "2021-03-28T20:19:34.645485Z",
     "start_time": "2021-03-28T20:19:34.607588Z"
    }
   },
   "outputs": [
    {
     "name": "stdout",
     "output_type": "stream",
     "text": [
      "Importance of components:\n"
     ]
    },
    {
     "data": {
      "text/html": [
       "<div>\n",
       "<style scoped>\n",
       "    .dataframe tbody tr th:only-of-type {\n",
       "        vertical-align: middle;\n",
       "    }\n",
       "\n",
       "    .dataframe tbody tr th {\n",
       "        vertical-align: top;\n",
       "    }\n",
       "\n",
       "    .dataframe thead tr th {\n",
       "        text-align: left;\n",
       "    }\n",
       "</style>\n",
       "<table border=\"1\" class=\"dataframe\">\n",
       "  <thead>\n",
       "    <tr>\n",
       "      <th></th>\n",
       "      <th>sdev</th>\n",
       "      <th>varprop</th>\n",
       "      <th>cumprop</th>\n",
       "    </tr>\n",
       "    <tr>\n",
       "      <th></th>\n",
       "      <th>Standard deviation</th>\n",
       "      <th>Proportion of Variance</th>\n",
       "      <th>Cumulative Proportion</th>\n",
       "    </tr>\n",
       "  </thead>\n",
       "  <tbody>\n",
       "    <tr>\n",
       "      <th>PC1</th>\n",
       "      <td>2.199816</td>\n",
       "      <td>0.967838</td>\n",
       "      <td>0.967838</td>\n",
       "    </tr>\n",
       "    <tr>\n",
       "      <th>PC2</th>\n",
       "      <td>0.357402</td>\n",
       "      <td>0.025547</td>\n",
       "      <td>0.993386</td>\n",
       "    </tr>\n",
       "    <tr>\n",
       "      <th>PC3</th>\n",
       "      <td>0.172360</td>\n",
       "      <td>0.005942</td>\n",
       "      <td>0.999327</td>\n",
       "    </tr>\n",
       "    <tr>\n",
       "      <th>PC4</th>\n",
       "      <td>0.056012</td>\n",
       "      <td>0.000627</td>\n",
       "      <td>0.999955</td>\n",
       "    </tr>\n",
       "    <tr>\n",
       "      <th>PC5</th>\n",
       "      <td>0.015070</td>\n",
       "      <td>0.000045</td>\n",
       "      <td>1.000000</td>\n",
       "    </tr>\n",
       "  </tbody>\n",
       "</table>\n",
       "</div>"
      ],
      "text/plain": [
       "                  sdev                varprop               cumprop\n",
       "    Standard deviation Proportion of Variance Cumulative Proportion\n",
       "PC1           2.199816               0.967838              0.967838\n",
       "PC2           0.357402               0.025547              0.993386\n",
       "PC3           0.172360               0.005942              0.999327\n",
       "PC4           0.056012               0.000627              0.999955\n",
       "PC5           0.015070               0.000045              1.000000"
      ]
     },
     "metadata": {},
     "output_type": "display_data"
    }
   ],
   "source": [
    "summary = pca_summary(pca, standardisedX)"
   ]
  },
  {
   "cell_type": "markdown",
   "metadata": {},
   "source": [
    "This gives us the standard deviation of each component, and the proportion of variance explained by each component. The standard deviation of the components is stored in a named row called sdev of the output variable made by the pca_summary function and stored in the summary variable:"
   ]
  },
  {
   "cell_type": "code",
   "execution_count": 9,
   "metadata": {
    "ExecuteTime": {
     "end_time": "2021-03-28T20:19:35.359621Z",
     "start_time": "2021-03-28T20:19:35.336681Z"
    }
   },
   "outputs": [
    {
     "data": {
      "text/html": [
       "<div>\n",
       "<style scoped>\n",
       "    .dataframe tbody tr th:only-of-type {\n",
       "        vertical-align: middle;\n",
       "    }\n",
       "\n",
       "    .dataframe tbody tr th {\n",
       "        vertical-align: top;\n",
       "    }\n",
       "\n",
       "    .dataframe thead th {\n",
       "        text-align: right;\n",
       "    }\n",
       "</style>\n",
       "<table border=\"1\" class=\"dataframe\">\n",
       "  <thead>\n",
       "    <tr style=\"text-align: right;\">\n",
       "      <th></th>\n",
       "      <th>Standard deviation</th>\n",
       "    </tr>\n",
       "  </thead>\n",
       "  <tbody>\n",
       "    <tr>\n",
       "      <th>PC1</th>\n",
       "      <td>2.199816</td>\n",
       "    </tr>\n",
       "    <tr>\n",
       "      <th>PC2</th>\n",
       "      <td>0.357402</td>\n",
       "    </tr>\n",
       "    <tr>\n",
       "      <th>PC3</th>\n",
       "      <td>0.172360</td>\n",
       "    </tr>\n",
       "    <tr>\n",
       "      <th>PC4</th>\n",
       "      <td>0.056012</td>\n",
       "    </tr>\n",
       "    <tr>\n",
       "      <th>PC5</th>\n",
       "      <td>0.015070</td>\n",
       "    </tr>\n",
       "  </tbody>\n",
       "</table>\n",
       "</div>"
      ],
      "text/plain": [
       "     Standard deviation\n",
       "PC1            2.199816\n",
       "PC2            0.357402\n",
       "PC3            0.172360\n",
       "PC4            0.056012\n",
       "PC5            0.015070"
      ]
     },
     "execution_count": 9,
     "metadata": {},
     "output_type": "execute_result"
    }
   ],
   "source": [
    "summary.sdev"
   ]
  },
  {
   "cell_type": "markdown",
   "metadata": {},
   "source": [
    "The total variance explained by the components is the sum of the variances of the components:"
   ]
  },
  {
   "cell_type": "code",
   "execution_count": 10,
   "metadata": {
    "ExecuteTime": {
     "end_time": "2021-03-28T20:19:36.172701Z",
     "start_time": "2021-03-28T20:19:36.153721Z"
    }
   },
   "outputs": [
    {
     "data": {
      "text/plain": [
       "Standard deviation    5.0\n",
       "dtype: float64"
      ]
     },
     "execution_count": 10,
     "metadata": {},
     "output_type": "execute_result"
    }
   ],
   "source": [
    "np.sum(summary.sdev**2)"
   ]
  },
  {
   "cell_type": "markdown",
   "metadata": {},
   "source": [
    "In this case, we see that the total variance is 5, which is equal to the number of standardised variables (5 variables). This is because for standardised data, the variance of each standardised variable is 1. The total variance is equal to the sum of the variances of the individual variables, and since the variance of each standardised variable is 1, the total variance should be equal to the number of variables (5 here)."
   ]
  },
  {
   "cell_type": "markdown",
   "metadata": {},
   "source": [
    "### Deciding How Many Principal Components to Retain\n",
    "In order to decide how many principal components should be retained, it is common to summarise the results of a principal components analysis by making a scree plot, which we can do using the `screeplot()` function below:"
   ]
  },
  {
   "cell_type": "code",
   "execution_count": 11,
   "metadata": {
    "ExecuteTime": {
     "end_time": "2021-03-28T20:19:37.252417Z",
     "start_time": "2021-03-28T20:19:37.096697Z"
    }
   },
   "outputs": [
    {
     "data": {
      "image/png": "[encoded data removed]",
      "text/plain": [
       "<Figure size 432x288 with 1 Axes>"
      ]
     },
     "metadata": {
      "needs_background": "light"
     },
     "output_type": "display_data"
    }
   ],
   "source": [
    "def screeplot(pca, standardised_values):\n",
    "    y = np.std(pca.transform(standardised_values), axis=0)**2\n",
    "    x = np.arange(len(y)) + 1\n",
    "    plt.plot(x, y, \"o-\")\n",
    "    plt.xticks(x, [\"Comp.\"+str(i) for i in x], rotation=60)\n",
    "    plt.ylabel(\"Variance\")\n",
    "    plt.show()\n",
    "\n",
    "screeplot(pca, standardisedX)"
   ]
  },
  {
   "cell_type": "markdown",
   "metadata": {},
   "source": [
    "In this example the location of the \"elbow\" is at comp 2.Therefore,\n",
    " way of deciding how many components to retain is to use *Kaiser’s criterion*: that we should only retain principal components for which the variance is above 1 (when principal component analysis was applied to standardised data). We can check this by finding the variance of each of the principal components:"
   ]
  },
  {
   "cell_type": "code",
   "execution_count": 12,
   "metadata": {
    "ExecuteTime": {
     "end_time": "2021-03-28T20:19:40.284710Z",
     "start_time": "2021-03-28T20:19:40.273746Z"
    }
   },
   "outputs": [
    {
     "data": {
      "text/html": [
       "<div>\n",
       "<style scoped>\n",
       "    .dataframe tbody tr th:only-of-type {\n",
       "        vertical-align: middle;\n",
       "    }\n",
       "\n",
       "    .dataframe tbody tr th {\n",
       "        vertical-align: top;\n",
       "    }\n",
       "\n",
       "    .dataframe thead th {\n",
       "        text-align: right;\n",
       "    }\n",
       "</style>\n",
       "<table border=\"1\" class=\"dataframe\">\n",
       "  <thead>\n",
       "    <tr style=\"text-align: right;\">\n",
       "      <th></th>\n",
       "      <th>Standard deviation</th>\n",
       "    </tr>\n",
       "  </thead>\n",
       "  <tbody>\n",
       "    <tr>\n",
       "      <th>PC1</th>\n",
       "      <td>4.839192</td>\n",
       "    </tr>\n",
       "    <tr>\n",
       "      <th>PC2</th>\n",
       "      <td>0.127736</td>\n",
       "    </tr>\n",
       "    <tr>\n",
       "      <th>PC3</th>\n",
       "      <td>0.029708</td>\n",
       "    </tr>\n",
       "    <tr>\n",
       "      <th>PC4</th>\n",
       "      <td>0.003137</td>\n",
       "    </tr>\n",
       "    <tr>\n",
       "      <th>PC5</th>\n",
       "      <td>0.000227</td>\n",
       "    </tr>\n",
       "  </tbody>\n",
       "</table>\n",
       "</div>"
      ],
      "text/plain": [
       "     Standard deviation\n",
       "PC1            4.839192\n",
       "PC2            0.127736\n",
       "PC3            0.029708\n",
       "PC4            0.003137\n",
       "PC5            0.000227"
      ]
     },
     "execution_count": 12,
     "metadata": {},
     "output_type": "execute_result"
    }
   ],
   "source": [
    "summary.sdev**2"
   ]
  },
  {
   "cell_type": "markdown",
   "metadata": {},
   "source": [
    "We see that the variance is above 1 for principal components 1,   (which have variances 4.84 ). Therefore, using Kaiser’s criterion, we would retain the first  principal components."
   ]
  },
  {
   "cell_type": "markdown",
   "metadata": {},
   "source": [
    "### Loadings for the Principal Components\n",
    "\n",
    "The loadings for the principal components are stored in a named element `components_` of the variable returned by `PCA().fit()`. This contains a matrix with the loadings of each principal component, where the first column in the matrix contains the loadings for the first principal component, the second column contains the loadings for the second principal component, and so on.\n",
    "\n",
    "Therefore, to obtain the loadings for the first principal component in our analysis of the 13 chemical concentrations in wine samples, we type:"
   ]
  },
  {
   "cell_type": "code",
   "execution_count": 49,
   "metadata": {
    "ExecuteTime": {
     "end_time": "2021-03-28T20:21:57.779754Z",
     "start_time": "2021-03-28T20:21:57.758812Z"
    },
    "scrolled": true
   },
   "outputs": [
    {
     "data": {
      "text/plain": [
       "array([0.44956992, 0.4475777 , 0.45322063, 0.45287585, 0.43249927])"
      ]
     },
     "execution_count": 49,
     "metadata": {},
     "output_type": "execute_result"
    }
   ],
   "source": [
    "pca.components_[0]"
   ]
  },
  {
   "cell_type": "markdown",
   "metadata": {},
   "source": [
    "This means that the first principal component is a linear combination of the variables:\n",
    "```\n",
    "0.477*Z2 + 0.484*Z3 +  0.328*Z4 + 0.344*Z5 + 0.557*Z6\n",
    "\n",
    "```\n",
    "\n",
    "where Z2, Z3, Z4, Z5,Z6 are the standardised versions of the variables V2, V3, V4, V5, V6 (that each have mean of 0 and variance of 1).\n",
    "\n",
    "Note that the square of the loadings sum to 1, as this is a constraint used in calculating the loadings:"
   ]
  },
  {
   "cell_type": "code",
   "execution_count": 14,
   "metadata": {
    "ExecuteTime": {
     "end_time": "2021-03-28T20:19:46.790693Z",
     "start_time": "2021-03-28T20:19:46.784710Z"
    }
   },
   "outputs": [
    {
     "data": {
      "text/plain": [
       "0.9999999999999993"
      ]
     },
     "execution_count": 14,
     "metadata": {},
     "output_type": "execute_result"
    }
   ],
   "source": [
    "np.sum(pca.components_[0]**2)"
   ]
  },
  {
   "cell_type": "markdown",
   "metadata": {},
   "source": [
    "To calculate the values of the first principal component, we can define our own function to calculate a principal component given the loadings and the input variables' values:"
   ]
  },
  {
   "cell_type": "code",
   "execution_count": 15,
   "metadata": {
    "ExecuteTime": {
     "end_time": "2021-03-28T20:19:47.680790Z",
     "start_time": "2021-03-28T20:19:47.672811Z"
    }
   },
   "outputs": [],
   "source": [
    "def calcpc(variables, loadings):\n",
    "    # find the number of samples in the data set and the number of variables\n",
    "    numsamples, numvariables = variables.shape\n",
    "    # make a vector to store the component\n",
    "    pc = np.zeros(numsamples)\n",
    "    # calculate the value of the component for each sample\n",
    "    for i in range(numsamples):\n",
    "        valuei = 0\n",
    "        for j in range(numvariables):\n",
    "            valueij = variables.iloc[i, j]\n",
    "            loadingj = loadings[j]\n",
    "            valuei = valuei + (valueij * loadingj)\n",
    "        pc[i] = valuei\n",
    "    return pc"
   ]
  },
  {
   "cell_type": "markdown",
   "metadata": {},
   "source": [
    "We can then use the function to calculate the values of the first principal component for each sample in our wine data:"
   ]
  },
  {
   "cell_type": "code",
   "execution_count": 16,
   "metadata": {
    "ExecuteTime": {
     "end_time": "2021-03-28T20:19:48.555678Z",
     "start_time": "2021-03-28T20:19:48.524728Z"
    }
   },
   "outputs": [
    {
     "data": {
      "text/plain": [
       "array([-0.17605981, -0.25176357, -0.17677108, -0.25242931, -0.25426892,\n",
       "        0.        , -0.17677108, -0.07206683, -0.16655565, -0.13182902,\n",
       "       -0.17677108, -0.25157947, -0.09653959, -0.25379262, -0.25426892,\n",
       "       -0.17677108, -0.17677108, -0.16762767, -0.17677108, -0.25331055,\n",
       "       -0.25426892, -0.20932686, -0.25426892, -0.25426892, -0.17677108,\n",
       "       -0.17677108, -0.17677108, -0.17458803, -0.24545312,  0.        ,\n",
       "       -0.25426892, -0.17677108, -0.17578136,  0.        ,  0.        ,\n",
       "        0.        , -0.22761221,  0.        , -0.17667989, -0.17677108,\n",
       "       -0.17677108, -0.17677108, -0.17677108, -0.17677108, -0.17677108,\n",
       "        0.        , -0.17677108, -0.04586803, -0.25426892, -0.23998748,\n",
       "       -0.17677108, -0.25426892, -0.25426892, -0.25372978,  0.        ,\n",
       "       -0.25426892, -0.17677108, -0.25426892, -0.25426892, -0.24359627,\n",
       "       -0.17599941, -0.25426892, -0.25426892, -0.25301961, -0.25355839,\n",
       "        0.        , -0.13090305,  0.        , -0.17677108,  0.        ,\n",
       "       -0.17677108,  0.        , -0.17677108, -0.17677108, -0.17677108,\n",
       "       -0.17677108, -0.17677108, -0.25426892, -0.25426892, -0.03687255,\n",
       "       -0.24999159, -0.25426892, -0.25349998, -0.25269544, -0.07599163,\n",
       "       -0.25024968, -0.23455805, -0.22147854, -0.19347073, -0.25376656,\n",
       "       -0.25426892, -0.25426892, -0.25426892, -0.25426892, -0.25351724,\n",
       "       -0.25426892, -0.25426892, -0.25426892, -0.25426892, -0.25426892,\n",
       "       -0.25426892, -0.25426892, -0.25426892, -0.25426892, -0.25426892,\n",
       "       -0.25426892, -0.25426892, -0.25309846, -0.25426892, -0.25426892,\n",
       "       -0.25296618, -0.25426892, -0.25426892, -0.25426892, -0.25426892,\n",
       "       -0.25426892, -0.25426892, -0.24954822, -0.25426892, -0.21810417,\n",
       "       -0.25426892, -0.25426892, -0.25368327, -0.25398259, -0.25406753,\n",
       "       -0.05526498,  0.        ,  0.        ,  0.        ,  0.        ,\n",
       "       -0.25426892, -0.25426892, -0.25426892, -0.25426892, -0.25426892,\n",
       "       -0.25417226, -0.25398259, 31.71881419,  0.        , -0.25385045,\n",
       "       -0.25426892,  0.14655844, -0.25426892, -0.25409527, -0.25426892,\n",
       "       -0.25426892, -0.25426892, -0.25426892, -0.25426892, -0.24459167,\n",
       "       -0.25426892, -0.25426892, -0.25302617,  0.        ,  1.89393422,\n",
       "       -0.24441505, -0.25339458, -0.25424083, -0.25426892, -0.25386269,\n",
       "        0.        , -0.25426892, -0.25426892, -0.25426892, -0.25426892,\n",
       "       -0.25426892, -0.25388125, -0.25426892, -0.25426892, -0.25426892,\n",
       "       11.05573398, -0.17580177, -0.19552389,  0.23463181,  0.        ,\n",
       "        0.        ,  0.        , -3.82516274,  0.        , -0.14876002,\n",
       "       -0.25426892, -0.25426892, -0.25426892, -0.25426892, -0.25426892,\n",
       "       -0.25426892, -0.25426892, -0.25426892, -0.25426892, -0.25426892,\n",
       "       -0.25426892, -0.25426892, -0.25426892, -0.25426892, -0.25426892,\n",
       "       -0.25426892, -0.25426892,  0.        , -0.25426892, -0.25426892,\n",
       "       -0.25426892, -0.25426892, -0.25315979, -0.25424608, -0.24168249,\n",
       "       -0.19072222, -0.24927187, -0.25154487, -0.25426892, -0.25338666,\n",
       "       -0.25426892, -0.25426892, -0.25426892, -0.25426892, -0.25426892,\n",
       "       -0.25372683, -0.25426892, -0.25426892, -0.25426892, -0.25426892,\n",
       "        0.        ,  0.        ,  4.27946852,  0.        ,  0.        ,\n",
       "        0.10425937,  0.        , -0.25426892, -0.13184216, -0.00091837,\n",
       "       -0.17319742, -0.17272185, -0.25363847, -0.25426892,  0.        ,\n",
       "       -0.25426892, -0.25054889, -0.13094362,  0.190738  ,  0.        ,\n",
       "       -0.25426892,  0.16949523, -0.13537812])"
      ]
     },
     "execution_count": 16,
     "metadata": {},
     "output_type": "execute_result"
    }
   ],
   "source": [
    "calcpc(standardisedX, pca.components_[0])"
   ]
  },
  {
   "cell_type": "markdown",
   "metadata": {},
   "source": [
    "In fact, the values of the first principal component are computed with the following, so we can compare those values to the ones that we calculated, and they should agree"
   ]
  },
  {
   "cell_type": "code",
   "execution_count": 17,
   "metadata": {
    "ExecuteTime": {
     "end_time": "2021-03-28T20:19:49.289596Z",
     "start_time": "2021-03-28T20:19:49.263696Z"
    }
   },
   "outputs": [
    {
     "data": {
      "text/plain": [
       "array([-0.17605981, -0.25176357, -0.17677108, -0.25242931, -0.25426892,\n",
       "        0.        , -0.17677108, -0.07206683, -0.16655565, -0.13182902,\n",
       "       -0.17677108, -0.25157947, -0.09653959, -0.25379262, -0.25426892,\n",
       "       -0.17677108, -0.17677108, -0.16762767, -0.17677108, -0.25331055,\n",
       "       -0.25426892, -0.20932686, -0.25426892, -0.25426892, -0.17677108,\n",
       "       -0.17677108, -0.17677108, -0.17458803, -0.24545312,  0.        ,\n",
       "       -0.25426892, -0.17677108, -0.17578136,  0.        ,  0.        ,\n",
       "        0.        , -0.22761221,  0.        , -0.17667989, -0.17677108,\n",
       "       -0.17677108, -0.17677108, -0.17677108, -0.17677108, -0.17677108,\n",
       "        0.        , -0.17677108, -0.04586803, -0.25426892, -0.23998748,\n",
       "       -0.17677108, -0.25426892, -0.25426892, -0.25372978,  0.        ,\n",
       "       -0.25426892, -0.17677108, -0.25426892, -0.25426892, -0.24359627,\n",
       "       -0.17599941, -0.25426892, -0.25426892, -0.25301961, -0.25355839,\n",
       "        0.        , -0.13090305,  0.        , -0.17677108,  0.        ,\n",
       "       -0.17677108,  0.        , -0.17677108, -0.17677108, -0.17677108,\n",
       "       -0.17677108, -0.17677108, -0.25426892, -0.25426892, -0.03687255,\n",
       "       -0.24999159, -0.25426892, -0.25349998, -0.25269544, -0.07599163,\n",
       "       -0.25024968, -0.23455805, -0.22147854, -0.19347073, -0.25376656,\n",
       "       -0.25426892, -0.25426892, -0.25426892, -0.25426892, -0.25351724,\n",
       "       -0.25426892, -0.25426892, -0.25426892, -0.25426892, -0.25426892,\n",
       "       -0.25426892, -0.25426892, -0.25426892, -0.25426892, -0.25426892,\n",
       "       -0.25426892, -0.25426892, -0.25309846, -0.25426892, -0.25426892,\n",
       "       -0.25296618, -0.25426892, -0.25426892, -0.25426892, -0.25426892,\n",
       "       -0.25426892, -0.25426892, -0.24954822, -0.25426892, -0.21810417,\n",
       "       -0.25426892, -0.25426892, -0.25368327, -0.25398259, -0.25406753,\n",
       "       -0.05526498,  0.        ,  0.        ,  0.        ,  0.        ,\n",
       "       -0.25426892, -0.25426892, -0.25426892, -0.25426892, -0.25426892,\n",
       "       -0.25417226, -0.25398259, 31.71881419,  0.        , -0.25385045,\n",
       "       -0.25426892,  0.14655844, -0.25426892, -0.25409527, -0.25426892,\n",
       "       -0.25426892, -0.25426892, -0.25426892, -0.25426892, -0.24459167,\n",
       "       -0.25426892, -0.25426892, -0.25302617,  0.        ,  1.89393422,\n",
       "       -0.24441505, -0.25339458, -0.25424083, -0.25426892, -0.25386269,\n",
       "        0.        , -0.25426892, -0.25426892, -0.25426892, -0.25426892,\n",
       "       -0.25426892, -0.25388125, -0.25426892, -0.25426892, -0.25426892,\n",
       "       11.05573398, -0.17580177, -0.19552389,  0.23463181,  0.        ,\n",
       "        0.        ,  0.        , -3.82516274,  0.        , -0.14876002,\n",
       "       -0.25426892, -0.25426892, -0.25426892, -0.25426892, -0.25426892,\n",
       "       -0.25426892, -0.25426892, -0.25426892, -0.25426892, -0.25426892,\n",
       "       -0.25426892, -0.25426892, -0.25426892, -0.25426892, -0.25426892,\n",
       "       -0.25426892, -0.25426892,  0.        , -0.25426892, -0.25426892,\n",
       "       -0.25426892, -0.25426892, -0.25315979, -0.25424608, -0.24168249,\n",
       "       -0.19072222, -0.24927187, -0.25154487, -0.25426892, -0.25338666,\n",
       "       -0.25426892, -0.25426892, -0.25426892, -0.25426892, -0.25426892,\n",
       "       -0.25372683, -0.25426892, -0.25426892, -0.25426892, -0.25426892,\n",
       "        0.        ,  0.        ,  4.27946852,  0.        ,  0.        ,\n",
       "        0.10425937,  0.        , -0.25426892, -0.13184216, -0.00091837,\n",
       "       -0.17319742, -0.17272185, -0.25363847, -0.25426892,  0.        ,\n",
       "       -0.25426892, -0.25054889, -0.13094362,  0.190738  ,  0.        ,\n",
       "       -0.25426892,  0.16949523, -0.13537812])"
      ]
     },
     "execution_count": 17,
     "metadata": {},
     "output_type": "execute_result"
    }
   ],
   "source": [
    "pca.transform(standardisedX)[:, 0]"
   ]
  },
  {
   "cell_type": "markdown",
   "metadata": {},
   "source": [
    "They do agree.\n",
    "\n",
    "the first principal component has highest (in absolute value) loadings for V6 (0.557), V2 and V3 .The loadings are positive.\n",
    "Similarly, we can obtain the loadings for the second principal component by typing:"
   ]
  },
  {
   "cell_type": "code",
   "execution_count": 18,
   "metadata": {
    "ExecuteTime": {
     "end_time": "2021-03-28T20:19:49.980576Z",
     "start_time": "2021-03-28T20:19:49.959632Z"
    }
   },
   "outputs": [
    {
     "data": {
      "text/plain": [
       "array([ 0.03141218, -0.43691838, -0.20493061, -0.20657567,  0.85055602])"
      ]
     },
     "execution_count": 18,
     "metadata": {},
     "output_type": "execute_result"
    }
   ],
   "source": [
    "pca.components_[1]"
   ]
  },
  {
   "cell_type": "markdown",
   "metadata": {},
   "source": [
    "This means that the second principal component is a linear combination of the variables: \n",
    "\n",
    "```\n",
    "-0.42*Z2 -0.4096*Z3 + 0.577*Z4 + 0.567*Z5 + 0.026*Z6 \n",
    "```\n",
    "\n",
    "where Z2, Z3,Z4, Z5, Z6 are the standardised versions of variables V2, V3, V4, V5 , V6 that each have mean 0 and variance 1.\n",
    "\n",
    "Note that the square of the loadings sum to 1, as above:"
   ]
  },
  {
   "cell_type": "code",
   "execution_count": 19,
   "metadata": {
    "ExecuteTime": {
     "end_time": "2021-03-28T20:19:50.655694Z",
     "start_time": "2021-03-28T20:19:50.638710Z"
    }
   },
   "outputs": [
    {
     "data": {
      "text/plain": [
       "0.9999999999999996"
      ]
     },
     "execution_count": 19,
     "metadata": {},
     "output_type": "execute_result"
    }
   ],
   "source": [
    "np.sum(pca.components_[1]**2)"
   ]
  },
  {
   "cell_type": "markdown",
   "metadata": {},
   "source": [
    "The second principal component has highest loadings for V4, V5.The loadings for V2, V1 are negative, while the loading for V3, V4 V6are positive.Therefore, an interpretation of the second principal component is that it represents a contrast between the concentrations of V1, V2 and the concentration of V6, V4, V5. "
   ]
  },
  {
   "cell_type": "markdown",
   "metadata": {},
   "source": [
    "### Scatterplots of the Principal Components\n",
    "The values of the principal components can be computed by the `transform()` (or `fit_transform()`) method of the `PCA` class. It returns a matrix with the principal components, where the first column in the matrix contains the first principal component, the second column the second component, and so on.\n",
    "\n",
    "Thus, in our example, `pca.transform(standardisedX)[:, 0]` contains the first principal component, and `pca.transform(standardisedX)[:, 1]` contains the second principal component.\n",
    "\n",
    "We can make a scatterplot of the first two principal components, and label the data points with the cultivar that the wine samples come from, by typing:\n"
   ]
  },
  {
   "cell_type": "code",
   "execution_count": 20,
   "metadata": {
    "ExecuteTime": {
     "end_time": "2021-03-28T20:19:52.044854Z",
     "start_time": "2021-03-28T20:19:51.706760Z"
    }
   },
   "outputs": [
    {
     "data": {
      "image/png": "[encoded data removed]",
      "text/plain": [
       "<Figure size 507.625x360 with 1 Axes>"
      ]
     },
     "metadata": {
      "needs_background": "light"
     },
     "output_type": "display_data"
    }
   ],
   "source": [
    "def pca_scatter(pca, standardised_values, classifs):\n",
    "    foo = pca.transform(standardised_values)\n",
    "    bar = pd.DataFrame(zip(foo[:, 0], foo[:, 1], classifs), columns=[\"PC1\", \"PC2\", \"Class\"])\n",
    "    sns.lmplot(\"PC1\", \"PC2\", bar, hue=\"Class\", fit_reg=False)\n",
    "\n",
    "pca_scatter(pca, standardisedX, y)"
   ]
  },
  {
   "cell_type": "markdown",
   "metadata": {},
   "source": [
    "The scatterplot shows  the first principal component on the x-axis, and the second principal component on the y-axis.some have a higher value of pc2 and a lower of pc1, but a lot are are located near (0,0)\n",
    "\n",
    "Because of the way the data is distributed the first two principal components are reasonably useful for distinguishing samples of the different classes"
   ]
  },
  {
   "cell_type": "code",
   "execution_count": 21,
   "metadata": {
    "ExecuteTime": {
     "end_time": "2021-03-28T20:20:14.150663Z",
     "start_time": "2021-03-28T20:20:14.131715Z"
    }
   },
   "outputs": [],
   "source": [
    "def printMeanAndSdByGroup(variables, groupvariable):\n",
    "    data_groupby = variables.groupby(groupvariable)\n",
    "    print(\"## Means:\")\n",
    "    display(data_groupby.apply(np.mean))\n",
    "    print(\"\\n## Standard deviations:\")\n",
    "    display(data_groupby.apply(np.std))\n",
    "    print(\"\\n## Sample sizes:\")\n",
    "    display(pd.DataFrame(data_groupby.apply(len)))"
   ]
  },
  {
   "cell_type": "code",
   "execution_count": 22,
   "metadata": {
    "ExecuteTime": {
     "end_time": "2021-03-28T20:20:14.825487Z",
     "start_time": "2021-03-28T20:20:14.752679Z"
    }
   },
   "outputs": [
    {
     "name": "stdout",
     "output_type": "stream",
     "text": [
      "## Means:\n"
     ]
    },
    {
     "data": {
      "text/html": [
       "<div>\n",
       "<style scoped>\n",
       "    .dataframe tbody tr th:only-of-type {\n",
       "        vertical-align: middle;\n",
       "    }\n",
       "\n",
       "    .dataframe tbody tr th {\n",
       "        vertical-align: top;\n",
       "    }\n",
       "\n",
       "    .dataframe thead th {\n",
       "        text-align: right;\n",
       "    }\n",
       "</style>\n",
       "<table border=\"1\" class=\"dataframe\">\n",
       "  <thead>\n",
       "    <tr style=\"text-align: right;\">\n",
       "      <th></th>\n",
       "      <th>V107</th>\n",
       "      <th>V108</th>\n",
       "      <th>V109</th>\n",
       "      <th>V110</th>\n",
       "      <th>V126</th>\n",
       "    </tr>\n",
       "    <tr>\n",
       "      <th>V1</th>\n",
       "      <th></th>\n",
       "      <th></th>\n",
       "      <th></th>\n",
       "      <th></th>\n",
       "      <th></th>\n",
       "    </tr>\n",
       "  </thead>\n",
       "  <tbody>\n",
       "    <tr>\n",
       "      <th>0.000000</th>\n",
       "      <td>-0.039767</td>\n",
       "      <td>-0.034977</td>\n",
       "      <td>-0.053717</td>\n",
       "      <td>-0.055562</td>\n",
       "      <td>-0.112982</td>\n",
       "    </tr>\n",
       "    <tr>\n",
       "      <th>1.000000</th>\n",
       "      <td>0.662191</td>\n",
       "      <td>0.599290</td>\n",
       "      <td>0.678700</td>\n",
       "      <td>0.682161</td>\n",
       "      <td>1.002922</td>\n",
       "    </tr>\n",
       "    <tr>\n",
       "      <th>2.000000</th>\n",
       "      <td>-0.091554</td>\n",
       "      <td>-0.082997</td>\n",
       "      <td>-0.092817</td>\n",
       "      <td>-0.093341</td>\n",
       "      <td>-0.131216</td>\n",
       "    </tr>\n",
       "    <tr>\n",
       "      <th>2.113445</th>\n",
       "      <td>-0.019993</td>\n",
       "      <td>-0.018007</td>\n",
       "      <td>-0.020151</td>\n",
       "      <td>-0.020256</td>\n",
       "      <td>-0.035837</td>\n",
       "    </tr>\n",
       "    <tr>\n",
       "      <th>3.000000</th>\n",
       "      <td>-0.079662</td>\n",
       "      <td>-0.061329</td>\n",
       "      <td>-0.072249</td>\n",
       "      <td>-0.072894</td>\n",
       "      <td>-0.140907</td>\n",
       "    </tr>\n",
       "    <tr>\n",
       "      <th>4.000000</th>\n",
       "      <td>-0.042981</td>\n",
       "      <td>-0.038686</td>\n",
       "      <td>-0.048804</td>\n",
       "      <td>-0.050486</td>\n",
       "      <td>-0.053104</td>\n",
       "    </tr>\n",
       "    <tr>\n",
       "      <th>5.000000</th>\n",
       "      <td>-0.072144</td>\n",
       "      <td>-0.067726</td>\n",
       "      <td>-0.074239</td>\n",
       "      <td>-0.072351</td>\n",
       "      <td>-0.136731</td>\n",
       "    </tr>\n",
       "  </tbody>\n",
       "</table>\n",
       "</div>"
      ],
      "text/plain": [
       "              V107      V108      V109      V110      V126\n",
       "V1                                                        \n",
       "0.000000 -0.039767 -0.034977 -0.053717 -0.055562 -0.112982\n",
       "1.000000  0.662191  0.599290  0.678700  0.682161  1.002922\n",
       "2.000000 -0.091554 -0.082997 -0.092817 -0.093341 -0.131216\n",
       "2.113445 -0.019993 -0.018007 -0.020151 -0.020256 -0.035837\n",
       "3.000000 -0.079662 -0.061329 -0.072249 -0.072894 -0.140907\n",
       "4.000000 -0.042981 -0.038686 -0.048804 -0.050486 -0.053104\n",
       "5.000000 -0.072144 -0.067726 -0.074239 -0.072351 -0.136731"
      ]
     },
     "metadata": {},
     "output_type": "display_data"
    },
    {
     "name": "stdout",
     "output_type": "stream",
     "text": [
      "\n",
      "## Standard deviations:\n"
     ]
    },
    {
     "data": {
      "text/html": [
       "<div>\n",
       "<style scoped>\n",
       "    .dataframe tbody tr th:only-of-type {\n",
       "        vertical-align: middle;\n",
       "    }\n",
       "\n",
       "    .dataframe tbody tr th {\n",
       "        vertical-align: top;\n",
       "    }\n",
       "\n",
       "    .dataframe thead th {\n",
       "        text-align: right;\n",
       "    }\n",
       "</style>\n",
       "<table border=\"1\" class=\"dataframe\">\n",
       "  <thead>\n",
       "    <tr style=\"text-align: right;\">\n",
       "      <th></th>\n",
       "      <th>V107</th>\n",
       "      <th>V108</th>\n",
       "      <th>V109</th>\n",
       "      <th>V110</th>\n",
       "      <th>V126</th>\n",
       "    </tr>\n",
       "    <tr>\n",
       "      <th>V1</th>\n",
       "      <th></th>\n",
       "      <th></th>\n",
       "      <th></th>\n",
       "      <th></th>\n",
       "      <th></th>\n",
       "    </tr>\n",
       "  </thead>\n",
       "  <tbody>\n",
       "    <tr>\n",
       "      <th>0.000000</th>\n",
       "      <td>0.058277</td>\n",
       "      <td>0.054166</td>\n",
       "      <td>0.057915</td>\n",
       "      <td>0.051752</td>\n",
       "      <td>0.098009</td>\n",
       "    </tr>\n",
       "    <tr>\n",
       "      <th>1.000000</th>\n",
       "      <td>2.914675</td>\n",
       "      <td>2.930333</td>\n",
       "      <td>2.910516</td>\n",
       "      <td>2.909625</td>\n",
       "      <td>2.795346</td>\n",
       "    </tr>\n",
       "    <tr>\n",
       "      <th>2.000000</th>\n",
       "      <td>0.026930</td>\n",
       "      <td>0.023383</td>\n",
       "      <td>0.026309</td>\n",
       "      <td>0.026362</td>\n",
       "      <td>0.079131</td>\n",
       "    </tr>\n",
       "    <tr>\n",
       "      <th>2.113445</th>\n",
       "      <td>0.039987</td>\n",
       "      <td>0.036013</td>\n",
       "      <td>0.040302</td>\n",
       "      <td>0.040513</td>\n",
       "      <td>0.071674</td>\n",
       "    </tr>\n",
       "    <tr>\n",
       "      <th>3.000000</th>\n",
       "      <td>0.039835</td>\n",
       "      <td>0.036542</td>\n",
       "      <td>0.039266</td>\n",
       "      <td>0.039328</td>\n",
       "      <td>0.070530</td>\n",
       "    </tr>\n",
       "    <tr>\n",
       "      <th>4.000000</th>\n",
       "      <td>0.048201</td>\n",
       "      <td>0.043380</td>\n",
       "      <td>0.045468</td>\n",
       "      <td>0.046436</td>\n",
       "      <td>0.086227</td>\n",
       "    </tr>\n",
       "    <tr>\n",
       "      <th>5.000000</th>\n",
       "      <td>0.041771</td>\n",
       "      <td>0.036944</td>\n",
       "      <td>0.044467</td>\n",
       "      <td>0.047204</td>\n",
       "      <td>0.071238</td>\n",
       "    </tr>\n",
       "  </tbody>\n",
       "</table>\n",
       "</div>"
      ],
      "text/plain": [
       "              V107      V108      V109      V110      V126\n",
       "V1                                                        \n",
       "0.000000  0.058277  0.054166  0.057915  0.051752  0.098009\n",
       "1.000000  2.914675  2.930333  2.910516  2.909625  2.795346\n",
       "2.000000  0.026930  0.023383  0.026309  0.026362  0.079131\n",
       "2.113445  0.039987  0.036013  0.040302  0.040513  0.071674\n",
       "3.000000  0.039835  0.036542  0.039266  0.039328  0.070530\n",
       "4.000000  0.048201  0.043380  0.045468  0.046436  0.086227\n",
       "5.000000  0.041771  0.036944  0.044467  0.047204  0.071238"
      ]
     },
     "metadata": {},
     "output_type": "display_data"
    },
    {
     "name": "stdout",
     "output_type": "stream",
     "text": [
      "\n",
      "## Sample sizes:\n"
     ]
    },
    {
     "data": {
      "text/html": [
       "<div>\n",
       "<style scoped>\n",
       "    .dataframe tbody tr th:only-of-type {\n",
       "        vertical-align: middle;\n",
       "    }\n",
       "\n",
       "    .dataframe tbody tr th {\n",
       "        vertical-align: top;\n",
       "    }\n",
       "\n",
       "    .dataframe thead th {\n",
       "        text-align: right;\n",
       "    }\n",
       "</style>\n",
       "<table border=\"1\" class=\"dataframe\">\n",
       "  <thead>\n",
       "    <tr style=\"text-align: right;\">\n",
       "      <th></th>\n",
       "      <th>0</th>\n",
       "    </tr>\n",
       "    <tr>\n",
       "      <th>V1</th>\n",
       "      <th></th>\n",
       "    </tr>\n",
       "  </thead>\n",
       "  <tbody>\n",
       "    <tr>\n",
       "      <th>0.000000</th>\n",
       "      <td>13</td>\n",
       "    </tr>\n",
       "    <tr>\n",
       "      <th>1.000000</th>\n",
       "      <td>27</td>\n",
       "    </tr>\n",
       "    <tr>\n",
       "      <th>2.000000</th>\n",
       "      <td>165</td>\n",
       "    </tr>\n",
       "    <tr>\n",
       "      <th>2.113445</th>\n",
       "      <td>5</td>\n",
       "    </tr>\n",
       "    <tr>\n",
       "      <th>3.000000</th>\n",
       "      <td>5</td>\n",
       "    </tr>\n",
       "    <tr>\n",
       "      <th>4.000000</th>\n",
       "      <td>9</td>\n",
       "    </tr>\n",
       "    <tr>\n",
       "      <th>5.000000</th>\n",
       "      <td>19</td>\n",
       "    </tr>\n",
       "  </tbody>\n",
       "</table>\n",
       "</div>"
      ],
      "text/plain": [
       "            0\n",
       "V1           \n",
       "0.000000   13\n",
       "1.000000   27\n",
       "2.000000  165\n",
       "2.113445    5\n",
       "3.000000    5\n",
       "4.000000    9\n",
       "5.000000   19"
      ]
     },
     "metadata": {},
     "output_type": "display_data"
    }
   ],
   "source": [
    "printMeanAndSdByGroup(standardisedX, y);"
   ]
  },
  {
   "cell_type": "markdown",
   "metadata": {},
   "source": [
    "## Linear Discriminant Analysis\n",
    "\n",
    "The purpose of principal component analysis is to find the best low-dimensional representation of the variation in a multivariate data set. \n",
    "\n",
    "The purpose of linear discriminant analysis (LDA) is to find the linear combinations of the original variables (the 5 variables here) that gives the best possible separation between the groups (wine cultivars here) in our data set. *Linear discriminant analysis* is also known as *canonical discriminant analysis*, or simply *discriminant analysis*.\n",
    "\n",
    "\n",
    "You can carry out a linear discriminant analysis by using the `LinearDiscriminantAnalysis` class model from the module `sklearn.discriminant_analysis` and using its method `fit()` to fit our `X, y` data.\n",
    "\n",
    "For example, to carry out a linear discriminant analysis using 5 columns , we type:"
   ]
  },
  {
   "cell_type": "code",
   "execution_count": 23,
   "metadata": {
    "ExecuteTime": {
     "end_time": "2021-03-28T20:20:16.367656Z",
     "start_time": "2021-03-28T20:20:16.348708Z"
    }
   },
   "outputs": [],
   "source": [
    "y = data.V1.astype(str)\n",
    "lda = LinearDiscriminantAnalysis().fit(X, y)"
   ]
  },
  {
   "cell_type": "markdown",
   "metadata": {},
   "source": [
    "### Loadings for the Discriminant Functions\n",
    "\n",
    "The values of the loadings of the discriminant functions for the wine data are stored in the `scalings_` member of the `lda` object model. For a pretty print we can type:"
   ]
  },
  {
   "cell_type": "code",
   "execution_count": 24,
   "metadata": {
    "ExecuteTime": {
     "end_time": "2021-03-28T20:20:17.321650Z",
     "start_time": "2021-03-28T20:20:17.292726Z"
    }
   },
   "outputs": [
    {
     "name": "stdout",
     "output_type": "stream",
     "text": [
      "Coefficients of linear discriminants:\n"
     ]
    },
    {
     "data": {
      "text/html": [
       "<div>\n",
       "<style scoped>\n",
       "    .dataframe tbody tr th:only-of-type {\n",
       "        vertical-align: middle;\n",
       "    }\n",
       "\n",
       "    .dataframe tbody tr th {\n",
       "        vertical-align: top;\n",
       "    }\n",
       "\n",
       "    .dataframe thead th {\n",
       "        text-align: right;\n",
       "    }\n",
       "</style>\n",
       "<table border=\"1\" class=\"dataframe\">\n",
       "  <thead>\n",
       "    <tr style=\"text-align: right;\">\n",
       "      <th></th>\n",
       "      <th>LD1</th>\n",
       "      <th>LD2</th>\n",
       "      <th>LD3</th>\n",
       "      <th>LD4</th>\n",
       "      <th>LD5</th>\n",
       "    </tr>\n",
       "  </thead>\n",
       "  <tbody>\n",
       "    <tr>\n",
       "      <th>V107</th>\n",
       "      <td>-0.000005</td>\n",
       "      <td>-0.000001</td>\n",
       "      <td>5.692793e-06</td>\n",
       "      <td>-2.233117e-06</td>\n",
       "      <td>1.103307e-06</td>\n",
       "    </tr>\n",
       "    <tr>\n",
       "      <th>V108</th>\n",
       "      <td>-0.000003</td>\n",
       "      <td>-0.000008</td>\n",
       "      <td>2.447706e-06</td>\n",
       "      <td>-6.148294e-07</td>\n",
       "      <td>-3.227070e-06</td>\n",
       "    </tr>\n",
       "    <tr>\n",
       "      <th>V109</th>\n",
       "      <td>0.000022</td>\n",
       "      <td>-0.000005</td>\n",
       "      <td>-3.176031e-05</td>\n",
       "      <td>2.029180e-05</td>\n",
       "      <td>1.273637e-05</td>\n",
       "    </tr>\n",
       "    <tr>\n",
       "      <th>V110</th>\n",
       "      <td>-0.000014</td>\n",
       "      <td>0.000017</td>\n",
       "      <td>2.254669e-05</td>\n",
       "      <td>-1.512387e-05</td>\n",
       "      <td>-9.796220e-06</td>\n",
       "    </tr>\n",
       "    <tr>\n",
       "      <th>V126</th>\n",
       "      <td>0.000003</td>\n",
       "      <td>-0.000003</td>\n",
       "      <td>-6.989703e-07</td>\n",
       "      <td>-1.428447e-06</td>\n",
       "      <td>-6.645983e-07</td>\n",
       "    </tr>\n",
       "  </tbody>\n",
       "</table>\n",
       "</div>"
      ],
      "text/plain": [
       "           LD1       LD2           LD3           LD4           LD5\n",
       "V107 -0.000005 -0.000001  5.692793e-06 -2.233117e-06  1.103307e-06\n",
       "V108 -0.000003 -0.000008  2.447706e-06 -6.148294e-07 -3.227070e-06\n",
       "V109  0.000022 -0.000005 -3.176031e-05  2.029180e-05  1.273637e-05\n",
       "V110 -0.000014  0.000017  2.254669e-05 -1.512387e-05 -9.796220e-06\n",
       "V126  0.000003 -0.000003 -6.989703e-07 -1.428447e-06 -6.645983e-07"
      ]
     },
     "metadata": {},
     "output_type": "display_data"
    }
   ],
   "source": [
    "def pretty_scalings(lda, X, out=False):\n",
    "    ret = pd.DataFrame(lda.scalings_, index=X.columns, columns=[\"LD\"+str(i+1) for i in range(lda.scalings_.shape[1])])\n",
    "    if out:\n",
    "        print(\"Coefficients of linear discriminants:\")\n",
    "        display(ret)\n",
    "    return ret\n",
    "\n",
    "pretty_scalings_ = pretty_scalings(lda, X, out=True)"
   ]
  },
  {
   "cell_type": "markdown",
   "metadata": {},
   "source": []
  },
  {
   "cell_type": "code",
   "execution_count": 25,
   "metadata": {
    "ExecuteTime": {
     "end_time": "2021-03-28T20:20:18.243430Z",
     "start_time": "2021-03-28T20:20:18.234428Z"
    }
   },
   "outputs": [
    {
     "data": {
      "text/plain": [
       "array([-0.0000048 , -0.00000306,  0.00002233, -0.00001432,  0.00000331])"
      ]
     },
     "execution_count": 25,
     "metadata": {},
     "output_type": "execute_result"
    }
   ],
   "source": [
    "lda.scalings_[:, 0]"
   ]
  },
  {
   "cell_type": "markdown",
   "metadata": {},
   "source": [
    "Or for \"prettier\" print, use the dataframe variable created above:"
   ]
  },
  {
   "cell_type": "code",
   "execution_count": 26,
   "metadata": {
    "ExecuteTime": {
     "end_time": "2021-03-28T20:20:18.979791Z",
     "start_time": "2021-03-28T20:20:18.957644Z"
    }
   },
   "outputs": [
    {
     "data": {
      "text/plain": [
       "V107   -0.000005\n",
       "V108   -0.000003\n",
       "V109    0.000022\n",
       "V110   -0.000014\n",
       "V126    0.000003\n",
       "Name: LD1, dtype: float64"
      ]
     },
     "execution_count": 26,
     "metadata": {},
     "output_type": "execute_result"
    }
   ],
   "source": [
    "pretty_scalings_.LD1"
   ]
  },
  {
   "cell_type": "markdown",
   "metadata": {},
   "source": [
    "To calculate the values of the first discriminant function, we can define our own function `calclda()`:"
   ]
  },
  {
   "cell_type": "code",
   "execution_count": 27,
   "metadata": {
    "ExecuteTime": {
     "end_time": "2021-03-28T20:20:19.584655Z",
     "start_time": "2021-03-28T20:20:19.566717Z"
    }
   },
   "outputs": [],
   "source": [
    "def calclda(variables, loadings):\n",
    "    # find the number of samples in the data set and the number of variables\n",
    "    numsamples, numvariables = variables.shape\n",
    "    # make a vector to store the discriminant function\n",
    "    ld = np.zeros(numsamples)\n",
    "    # calculate the value of the discriminant function for each sample\n",
    "    for i in range(numsamples):\n",
    "        valuei = 0\n",
    "        for j in range(numvariables):\n",
    "            valueij = variables.iloc[i, j]\n",
    "            loadingj = loadings[j]\n",
    "            valuei = valuei + (valueij * loadingj)\n",
    "        ld[i] = valuei\n",
    "    # standardise the discriminant function so that its mean value is 0:\n",
    "    ld = scale(ld, with_std=False)\n",
    "    return ld"
   ]
  },
  {
   "cell_type": "markdown",
   "metadata": {},
   "source": [
    "The function `calclda()` simply calculates the value of a discriminant function for each sample in the data set, for example, for the first disriminant function, for each sample we calculate the value using the equation:\n",
    "\n",
    "```\n",
    "-0.403*V2 - 0.165*V3 - 0.369*V4 + 0.155*V5 - 0.002*V6 + 0.618*V7 - 1.661*V8 - 1.496*V9 + 0.134*V10 + 0.355*V11 - 0.818*V12 - 1.158*V13 - 0.003*V14\n",
    "```\n",
    "\n",
    "Furthermore, the `scale()` command is used within the `calclda()` function in order to standardise the value of a discriminant function (eg. the first discriminant function) so that its mean value (over all the wine samples) is 0.\n",
    "\n",
    "We can use the function `calclda()` to calculate the values of the first discriminant function for each sample in our wine data:"
   ]
  },
  {
   "cell_type": "code",
   "execution_count": 28,
   "metadata": {
    "ExecuteTime": {
     "end_time": "2021-03-28T20:20:20.244650Z",
     "start_time": "2021-03-28T20:20:20.206749Z"
    }
   },
   "outputs": [
    {
     "data": {
      "text/plain": [
       "array([ 0.20529732, -0.34027179,  0.16875173, -0.29718786, -0.30941344,\n",
       "       -0.        ,  0.16875173, -0.44465559, -1.35096382, -0.51457113,\n",
       "        0.16875173, -0.29281944, -1.06844422, -0.30647464, -0.30941344,\n",
       "        0.16875173,  0.16875173, -1.35757823,  0.16875173, -0.30350026,\n",
       "       -0.30941344, -0.9927363 , -0.30941344, -0.30941344,  0.16875173,\n",
       "        0.16875173,  0.16875173,  0.1414423 , -0.25501958, -0.        ,\n",
       "       -0.30941344,  0.16875173,  0.17942346, -0.        , -0.        ,\n",
       "       -0.        , -0.28521818, -0.        ,  0.17390948,  0.16875173,\n",
       "        0.16875173,  0.16875173,  0.16875173,  0.16875173,  0.16875173,\n",
       "       -0.        ,  0.16875173,  1.69486621, -0.30941344, -0.30493373,\n",
       "        0.16875173, -0.30941344, -0.30941344, -0.3060869 , -0.        ,\n",
       "       -0.30941344,  0.16875173, -0.30941344, -0.30941344, -0.30744437,\n",
       "        0.16159948, -0.30941344, -0.30941344, -0.30170517, -0.26922317,\n",
       "       -0.        , -1.52611448, -0.        ,  0.16875173, -0.        ,\n",
       "        0.16875173, -0.        ,  0.16875173,  0.16875173,  0.16875173,\n",
       "        0.16875173,  0.16875173, -0.30941344, -0.30941344,  1.01497886,\n",
       "       -0.46746476, -0.30941344, -0.30466906, -0.32461151,  0.30108039,\n",
       "       -0.45792817, -0.12933811, -0.42237903, -0.09483622, -0.30631384,\n",
       "       -0.30941344, -0.30941344, -0.30941344, -0.30941344, -0.30477553,\n",
       "       -0.30941344, -0.30941344, -0.30941344, -0.30941344, -0.30941344,\n",
       "       -0.30941344, -0.30941344, -0.30941344, -0.30941344, -0.30941344,\n",
       "       -0.30941344, -0.30941344, -0.30219164, -0.30941344, -0.30941344,\n",
       "       -0.35755077, -0.30941344, -0.30941344, -0.30941344, -0.30941344,\n",
       "       -0.30941344, -0.30941344, -0.24992471, -0.30941344, -0.21908107,\n",
       "       -0.30941344, -0.30941344, -0.31831798, -0.31376703, -0.31128007,\n",
       "       -0.41382698, -0.        , -0.        , -0.        , -0.        ,\n",
       "       -0.30941344, -0.30941344, -0.30941344, -0.30941344, -0.30941344,\n",
       "       -0.31088309, -0.31376703,  6.93967588, -0.        , -0.30683147,\n",
       "       -0.30941344,  1.30783046, -0.30941344, -0.3110229 , -0.30941344,\n",
       "       -0.30941344, -0.30941344, -0.30941344, -0.30941344, -0.36381051,\n",
       "       -0.30941344, -0.30941344, -0.32459173, -0.        ,  7.47395398,\n",
       "       -0.47837691, -0.30401875, -0.30984059, -0.30941344, -0.31559002,\n",
       "       -0.        , -0.30941344, -0.30941344, -0.30941344, -0.30941344,\n",
       "       -0.30941344, -0.32373824, -0.30941344, -0.30941344, -0.30941344,\n",
       "        6.56775354,  0.13647285, -0.34231071,  6.42928994, -0.        ,\n",
       "       -0.        , -0.        ,  8.1434595 , -0.        , -0.00825733,\n",
       "       -0.30941344, -0.30941344, -0.30941344, -0.30941344, -0.30941344,\n",
       "       -0.30941344, -0.30941344, -0.30941344, -0.30941344, -0.30941344,\n",
       "       -0.30941344, -0.30941344, -0.30941344, -0.30941344, -0.30941344,\n",
       "       -0.30941344, -0.30941344, -0.        , -0.30941344, -0.30941344,\n",
       "       -0.30941344, -0.30941344, -0.35039668, -0.30965918, -0.23493349,\n",
       "       -0.1281234 , -0.27858142, -0.29349809, -0.30941344, -0.30396988,\n",
       "       -0.30941344, -0.30941344, -0.30941344, -0.30941344, -0.30941344,\n",
       "       -0.31765572, -0.30941344, -0.30941344, -0.30941344, -0.30941344,\n",
       "       -0.        , -0.        ,  4.9345748 , -0.        , -0.        ,\n",
       "        1.98432049, -0.        , -0.30941344,  0.44596514,  1.23483242,\n",
       "        0.15689471, -0.73291245, -0.30996676, -0.30941344, -0.        ,\n",
       "       -0.30941344, -0.30008932,  0.45189954,  1.17686203, -0.        ,\n",
       "       -0.30941344,  0.78094947, -1.16867495])"
      ]
     },
     "execution_count": 28,
     "metadata": {},
     "output_type": "execute_result"
    }
   ],
   "source": [
    "calclda(X, lda.scalings_[:, 0])"
   ]
  },
  {
   "cell_type": "markdown",
   "metadata": {},
   "source": [
    "In fact, the values of the first linear discriminant function can be calculated using the `transform(X)` or `fit_transform(X, y)` methods of the LDA object, so we can compare those to the ones that we calculated, and they should agree:"
   ]
  },
  {
   "cell_type": "code",
   "execution_count": 29,
   "metadata": {
    "ExecuteTime": {
     "end_time": "2021-03-28T20:20:20.868677Z",
     "start_time": "2021-03-28T20:20:20.844740Z"
    }
   },
   "outputs": [
    {
     "data": {
      "text/plain": [
       "array([ 0.20529732, -0.34027179,  0.16875173, -0.29718786, -0.30941344,\n",
       "       -0.        ,  0.16875173, -0.44465559, -1.35096382, -0.51457113,\n",
       "        0.16875173, -0.29281944, -1.06844422, -0.30647464, -0.30941344,\n",
       "        0.16875173,  0.16875173, -1.35757823,  0.16875173, -0.30350026,\n",
       "       -0.30941344, -0.9927363 , -0.30941344, -0.30941344,  0.16875173,\n",
       "        0.16875173,  0.16875173,  0.1414423 , -0.25501958, -0.        ,\n",
       "       -0.30941344,  0.16875173,  0.17942346, -0.        , -0.        ,\n",
       "       -0.        , -0.28521818, -0.        ,  0.17390948,  0.16875173,\n",
       "        0.16875173,  0.16875173,  0.16875173,  0.16875173,  0.16875173,\n",
       "       -0.        ,  0.16875173,  1.69486621, -0.30941344, -0.30493373,\n",
       "        0.16875173, -0.30941344, -0.30941344, -0.3060869 , -0.        ,\n",
       "       -0.30941344,  0.16875173, -0.30941344, -0.30941344, -0.30744437,\n",
       "        0.16159948, -0.30941344, -0.30941344, -0.30170517, -0.26922317,\n",
       "       -0.        , -1.52611448, -0.        ,  0.16875173, -0.        ,\n",
       "        0.16875173, -0.        ,  0.16875173,  0.16875173,  0.16875173,\n",
       "        0.16875173,  0.16875173, -0.30941344, -0.30941344,  1.01497886,\n",
       "       -0.46746476, -0.30941344, -0.30466906, -0.32461151,  0.30108039,\n",
       "       -0.45792817, -0.12933811, -0.42237903, -0.09483622, -0.30631384,\n",
       "       -0.30941344, -0.30941344, -0.30941344, -0.30941344, -0.30477553,\n",
       "       -0.30941344, -0.30941344, -0.30941344, -0.30941344, -0.30941344,\n",
       "       -0.30941344, -0.30941344, -0.30941344, -0.30941344, -0.30941344,\n",
       "       -0.30941344, -0.30941344, -0.30219164, -0.30941344, -0.30941344,\n",
       "       -0.35755077, -0.30941344, -0.30941344, -0.30941344, -0.30941344,\n",
       "       -0.30941344, -0.30941344, -0.24992471, -0.30941344, -0.21908107,\n",
       "       -0.30941344, -0.30941344, -0.31831798, -0.31376703, -0.31128007,\n",
       "       -0.41382698, -0.        , -0.        , -0.        , -0.        ,\n",
       "       -0.30941344, -0.30941344, -0.30941344, -0.30941344, -0.30941344,\n",
       "       -0.31088309, -0.31376703,  6.93967588, -0.        , -0.30683147,\n",
       "       -0.30941344,  1.30783046, -0.30941344, -0.3110229 , -0.30941344,\n",
       "       -0.30941344, -0.30941344, -0.30941344, -0.30941344, -0.36381051,\n",
       "       -0.30941344, -0.30941344, -0.32459173, -0.        ,  7.47395398,\n",
       "       -0.47837691, -0.30401875, -0.30984059, -0.30941344, -0.31559002,\n",
       "       -0.        , -0.30941344, -0.30941344, -0.30941344, -0.30941344,\n",
       "       -0.30941344, -0.32373824, -0.30941344, -0.30941344, -0.30941344,\n",
       "        6.56775354,  0.13647285, -0.34231071,  6.42928994, -0.        ,\n",
       "       -0.        , -0.        ,  8.1434595 , -0.        , -0.00825733,\n",
       "       -0.30941344, -0.30941344, -0.30941344, -0.30941344, -0.30941344,\n",
       "       -0.30941344, -0.30941344, -0.30941344, -0.30941344, -0.30941344,\n",
       "       -0.30941344, -0.30941344, -0.30941344, -0.30941344, -0.30941344,\n",
       "       -0.30941344, -0.30941344, -0.        , -0.30941344, -0.30941344,\n",
       "       -0.30941344, -0.30941344, -0.35039668, -0.30965918, -0.23493349,\n",
       "       -0.1281234 , -0.27858142, -0.29349809, -0.30941344, -0.30396988,\n",
       "       -0.30941344, -0.30941344, -0.30941344, -0.30941344, -0.30941344,\n",
       "       -0.31765572, -0.30941344, -0.30941344, -0.30941344, -0.30941344,\n",
       "       -0.        , -0.        ,  4.9345748 , -0.        , -0.        ,\n",
       "        1.98432049, -0.        , -0.30941344,  0.44596514,  1.23483242,\n",
       "        0.15689471, -0.73291245, -0.30996676, -0.30941344, -0.        ,\n",
       "       -0.30941344, -0.30008932,  0.45189954,  1.17686203, -0.        ,\n",
       "       -0.30941344,  0.78094947, -1.16867495])"
      ]
     },
     "execution_count": 29,
     "metadata": {},
     "output_type": "execute_result"
    }
   ],
   "source": [
    "# Try either, they produce the same result, use help() for more info\n",
    "# lda.transform(X)[:, 0]\n",
    "lda.fit_transform(X, y)[:, 0]"
   ]
  },
  {
   "cell_type": "markdown",
   "metadata": {},
   "source": [
    "We see that they do agree.\n",
    "\n",
    "It doesn’t matter whether the input variables for linear discriminant analysis are standardised or not, unlike for principal components analysis in which it is often necessary to standardise the input variables. However, using standardised variables in linear discriminant analysis makes it easier to interpret the loadings in a linear discriminant function.\n",
    "\n",
    "In linear discriminant analysis, the standardised version of an input variable is defined so that it has mean zero and within-groups variance of 1. Thus, we can calculate the “group-standardised” variable by subtracting the mean from each value of the variable, and dividing by the within-groups standard deviation. To calculate the group-standardised version of a set of variables, we can use the function `groupStandardise()` below:"
   ]
  },
  {
   "cell_type": "code",
   "execution_count": 30,
   "metadata": {
    "ExecuteTime": {
     "end_time": "2021-03-28T20:20:21.867689Z",
     "start_time": "2021-03-28T20:20:21.848724Z"
    }
   },
   "outputs": [],
   "source": [
    "def calcWithinGroupsVariance(variable, groupvariable):\n",
    "    # find out how many values the group variable can take\n",
    "    levels = sorted(set(groupvariable))\n",
    "    numlevels = len(levels)\n",
    "    # get the mean and standard deviation for each group:\n",
    "    numtotal = 0\n",
    "    denomtotal = 0\n",
    "    for leveli in levels:\n",
    "        levelidata = variable[groupvariable==leveli]\n",
    "        levelilength = len(levelidata)\n",
    "        # get the standard deviation for group i:\n",
    "        sdi = np.std(levelidata)\n",
    "        numi = (levelilength)*sdi**2\n",
    "        denomi = levelilength\n",
    "        numtotal = numtotal + numi\n",
    "        denomtotal = denomtotal + denomi\n",
    "    # calculate the within-groups variance\n",
    "    Vw = numtotal / (denomtotal - numlevels)\n",
    "    return Vw"
   ]
  },
  {
   "cell_type": "code",
   "execution_count": 31,
   "metadata": {
    "ExecuteTime": {
     "end_time": "2021-03-28T20:20:22.298908Z",
     "start_time": "2021-03-28T20:20:22.280900Z"
    }
   },
   "outputs": [],
   "source": [
    "def groupStandardise(variables, groupvariable):\n",
    "    # find the number of samples in the data set and the number of variables\n",
    "    numsamples, numvariables = variables.shape\n",
    "    # find the variable names\n",
    "    variablenames = variables.columns\n",
    "    # calculate the group-standardised version of each variable\n",
    "    variables_new = pd.DataFrame()\n",
    "    for i in range(numvariables):\n",
    "        variable_name = variablenames[i]\n",
    "        variablei = variables[variable_name]\n",
    "        variablei_Vw = calcWithinGroupsVariance(variablei, groupvariable)\n",
    "        variablei_mean = np.mean(variablei)\n",
    "        variablei_new = (variablei - variablei_mean)/(np.sqrt(variablei_Vw))\n",
    "        variables_new[variable_name] = variablei_new\n",
    "    return variables_new"
   ]
  },
  {
   "cell_type": "markdown",
   "metadata": {},
   "source": [
    "For example, we can use the `groupStandardise()` function to calculate the group-standardised versions of the chemical concentrations in wine samples:"
   ]
  },
  {
   "cell_type": "code",
   "execution_count": 32,
   "metadata": {
    "ExecuteTime": {
     "end_time": "2021-03-28T20:20:23.314363Z",
     "start_time": "2021-03-28T20:20:23.241743Z"
    }
   },
   "outputs": [],
   "source": [
    "groupstandardisedX = groupStandardise(X, y)"
   ]
  },
  {
   "cell_type": "markdown",
   "metadata": {},
   "source": [
    "We can then use the LinearDiscriminantAnalysis().fit() method to perform linear disriminant analysis on the group-standardised variables:"
   ]
  },
  {
   "cell_type": "code",
   "execution_count": 33,
   "metadata": {
    "ExecuteTime": {
     "end_time": "2021-03-28T20:20:23.689648Z",
     "start_time": "2021-03-28T20:20:23.660759Z"
    }
   },
   "outputs": [
    {
     "data": {
      "text/html": [
       "<div>\n",
       "<style scoped>\n",
       "    .dataframe tbody tr th:only-of-type {\n",
       "        vertical-align: middle;\n",
       "    }\n",
       "\n",
       "    .dataframe tbody tr th {\n",
       "        vertical-align: top;\n",
       "    }\n",
       "\n",
       "    .dataframe thead th {\n",
       "        text-align: right;\n",
       "    }\n",
       "</style>\n",
       "<table border=\"1\" class=\"dataframe\">\n",
       "  <thead>\n",
       "    <tr style=\"text-align: right;\">\n",
       "      <th></th>\n",
       "      <th>LD1</th>\n",
       "      <th>LD2</th>\n",
       "      <th>LD3</th>\n",
       "      <th>LD4</th>\n",
       "      <th>LD5</th>\n",
       "    </tr>\n",
       "  </thead>\n",
       "  <tbody>\n",
       "    <tr>\n",
       "      <th>V107</th>\n",
       "      <td>-6.742291</td>\n",
       "      <td>-1.494255</td>\n",
       "      <td>7.992761</td>\n",
       "      <td>-3.135328</td>\n",
       "      <td>1.549058</td>\n",
       "    </tr>\n",
       "    <tr>\n",
       "      <th>V108</th>\n",
       "      <td>-4.113376</td>\n",
       "      <td>-10.358709</td>\n",
       "      <td>3.288634</td>\n",
       "      <td>-0.826059</td>\n",
       "      <td>-4.335754</td>\n",
       "    </tr>\n",
       "    <tr>\n",
       "      <th>V109</th>\n",
       "      <td>25.249953</td>\n",
       "      <td>-5.813021</td>\n",
       "      <td>-35.916733</td>\n",
       "      <td>22.947358</td>\n",
       "      <td>14.403158</td>\n",
       "    </tr>\n",
       "    <tr>\n",
       "      <th>V110</th>\n",
       "      <td>-16.477192</td>\n",
       "      <td>19.667937</td>\n",
       "      <td>25.934488</td>\n",
       "      <td>-17.396337</td>\n",
       "      <td>-11.268169</td>\n",
       "    </tr>\n",
       "    <tr>\n",
       "      <th>V126</th>\n",
       "      <td>2.531294</td>\n",
       "      <td>-2.225984</td>\n",
       "      <td>-0.534756</td>\n",
       "      <td>-1.092851</td>\n",
       "      <td>-0.508459</td>\n",
       "    </tr>\n",
       "  </tbody>\n",
       "</table>\n",
       "</div>"
      ],
      "text/plain": [
       "            LD1        LD2        LD3        LD4        LD5\n",
       "V107  -6.742291  -1.494255   7.992761  -3.135328   1.549058\n",
       "V108  -4.113376 -10.358709   3.288634  -0.826059  -4.335754\n",
       "V109  25.249953  -5.813021 -35.916733  22.947358  14.403158\n",
       "V110 -16.477192  19.667937  25.934488 -17.396337 -11.268169\n",
       "V126   2.531294  -2.225984  -0.534756  -1.092851  -0.508459"
      ]
     },
     "execution_count": 33,
     "metadata": {},
     "output_type": "execute_result"
    }
   ],
   "source": [
    "lda2 = LinearDiscriminantAnalysis().fit(groupstandardisedX, y)\n",
    "pretty_scalings(lda2, groupstandardisedX)"
   ]
  },
  {
   "cell_type": "markdown",
   "metadata": {},
   "source": []
  },
  {
   "cell_type": "code",
   "execution_count": 34,
   "metadata": {
    "ExecuteTime": {
     "end_time": "2021-03-28T20:20:24.577683Z",
     "start_time": "2021-03-28T20:20:24.550725Z"
    }
   },
   "outputs": [
    {
     "data": {
      "text/plain": [
       "array([ 0.20529732, -0.34027179,  0.16875173, -0.29718786, -0.30941344,\n",
       "       -0.        ,  0.16875173, -0.44465559, -1.35096382, -0.51457113,\n",
       "        0.16875173, -0.29281944, -1.06844422, -0.30647464, -0.30941344,\n",
       "        0.16875173,  0.16875173, -1.35757823,  0.16875173, -0.30350026,\n",
       "       -0.30941344, -0.9927363 , -0.30941344, -0.30941344,  0.16875173,\n",
       "        0.16875173,  0.16875173,  0.1414423 , -0.25501958, -0.        ,\n",
       "       -0.30941344,  0.16875173,  0.17942346, -0.        , -0.        ,\n",
       "       -0.        , -0.28521818, -0.        ,  0.17390948,  0.16875173,\n",
       "        0.16875173,  0.16875173,  0.16875173,  0.16875173,  0.16875173,\n",
       "       -0.        ,  0.16875173,  1.69486621, -0.30941344, -0.30493373,\n",
       "        0.16875173, -0.30941344, -0.30941344, -0.3060869 , -0.        ,\n",
       "       -0.30941344,  0.16875173, -0.30941344, -0.30941344, -0.30744437,\n",
       "        0.16159948, -0.30941344, -0.30941344, -0.30170517, -0.26922317,\n",
       "       -0.        , -1.52611448, -0.        ,  0.16875173, -0.        ,\n",
       "        0.16875173, -0.        ,  0.16875173,  0.16875173,  0.16875173,\n",
       "        0.16875173,  0.16875173, -0.30941344, -0.30941344,  1.01497886,\n",
       "       -0.46746476, -0.30941344, -0.30466906, -0.32461151,  0.30108039,\n",
       "       -0.45792817, -0.12933811, -0.42237903, -0.09483622, -0.30631384,\n",
       "       -0.30941344, -0.30941344, -0.30941344, -0.30941344, -0.30477553,\n",
       "       -0.30941344, -0.30941344, -0.30941344, -0.30941344, -0.30941344,\n",
       "       -0.30941344, -0.30941344, -0.30941344, -0.30941344, -0.30941344,\n",
       "       -0.30941344, -0.30941344, -0.30219164, -0.30941344, -0.30941344,\n",
       "       -0.35755077, -0.30941344, -0.30941344, -0.30941344, -0.30941344,\n",
       "       -0.30941344, -0.30941344, -0.24992471, -0.30941344, -0.21908107,\n",
       "       -0.30941344, -0.30941344, -0.31831798, -0.31376703, -0.31128007,\n",
       "       -0.41382698, -0.        , -0.        , -0.        , -0.        ,\n",
       "       -0.30941344, -0.30941344, -0.30941344, -0.30941344, -0.30941344,\n",
       "       -0.31088309, -0.31376703,  6.93967588, -0.        , -0.30683147,\n",
       "       -0.30941344,  1.30783046, -0.30941344, -0.3110229 , -0.30941344,\n",
       "       -0.30941344, -0.30941344, -0.30941344, -0.30941344, -0.36381051,\n",
       "       -0.30941344, -0.30941344, -0.32459173, -0.        ,  7.47395398,\n",
       "       -0.47837691, -0.30401875, -0.30984059, -0.30941344, -0.31559002,\n",
       "       -0.        , -0.30941344, -0.30941344, -0.30941344, -0.30941344,\n",
       "       -0.30941344, -0.32373824, -0.30941344, -0.30941344, -0.30941344,\n",
       "        6.56775354,  0.13647285, -0.34231071,  6.42928994, -0.        ,\n",
       "       -0.        , -0.        ,  8.1434595 , -0.        , -0.00825733,\n",
       "       -0.30941344, -0.30941344, -0.30941344, -0.30941344, -0.30941344,\n",
       "       -0.30941344, -0.30941344, -0.30941344, -0.30941344, -0.30941344,\n",
       "       -0.30941344, -0.30941344, -0.30941344, -0.30941344, -0.30941344,\n",
       "       -0.30941344, -0.30941344, -0.        , -0.30941344, -0.30941344,\n",
       "       -0.30941344, -0.30941344, -0.35039668, -0.30965918, -0.23493349,\n",
       "       -0.1281234 , -0.27858142, -0.29349809, -0.30941344, -0.30396988,\n",
       "       -0.30941344, -0.30941344, -0.30941344, -0.30941344, -0.30941344,\n",
       "       -0.31765572, -0.30941344, -0.30941344, -0.30941344, -0.30941344,\n",
       "       -0.        , -0.        ,  4.9345748 , -0.        , -0.        ,\n",
       "        1.98432049, -0.        , -0.30941344,  0.44596514,  1.23483242,\n",
       "        0.15689471, -0.73291245, -0.30996676, -0.30941344, -0.        ,\n",
       "       -0.30941344, -0.30008932,  0.45189954,  1.17686203, -0.        ,\n",
       "       -0.30941344,  0.78094947, -1.16867495])"
      ]
     },
     "execution_count": 34,
     "metadata": {},
     "output_type": "execute_result"
    }
   ],
   "source": [
    "lda.fit_transform(X, y)[:, 0]"
   ]
  },
  {
   "cell_type": "code",
   "execution_count": 35,
   "metadata": {
    "ExecuteTime": {
     "end_time": "2021-03-28T20:20:24.902989Z",
     "start_time": "2021-03-28T20:20:24.879055Z"
    }
   },
   "outputs": [
    {
     "data": {
      "text/plain": [
       "array([ 0.20529732, -0.34027179,  0.16875173, -0.29718786, -0.30941344,\n",
       "       -0.        ,  0.16875173, -0.44465559, -1.35096382, -0.51457113,\n",
       "        0.16875173, -0.29281944, -1.06844422, -0.30647464, -0.30941344,\n",
       "        0.16875173,  0.16875173, -1.35757823,  0.16875173, -0.30350026,\n",
       "       -0.30941344, -0.9927363 , -0.30941344, -0.30941344,  0.16875173,\n",
       "        0.16875173,  0.16875173,  0.1414423 , -0.25501958, -0.        ,\n",
       "       -0.30941344,  0.16875173,  0.17942346, -0.        , -0.        ,\n",
       "       -0.        , -0.28521818, -0.        ,  0.17390948,  0.16875173,\n",
       "        0.16875173,  0.16875173,  0.16875173,  0.16875173,  0.16875173,\n",
       "       -0.        ,  0.16875173,  1.69486621, -0.30941344, -0.30493373,\n",
       "        0.16875173, -0.30941344, -0.30941344, -0.3060869 , -0.        ,\n",
       "       -0.30941344,  0.16875173, -0.30941344, -0.30941344, -0.30744437,\n",
       "        0.16159948, -0.30941344, -0.30941344, -0.30170517, -0.26922317,\n",
       "       -0.        , -1.52611448, -0.        ,  0.16875173, -0.        ,\n",
       "        0.16875173, -0.        ,  0.16875173,  0.16875173,  0.16875173,\n",
       "        0.16875173,  0.16875173, -0.30941344, -0.30941344,  1.01497886,\n",
       "       -0.46746476, -0.30941344, -0.30466906, -0.32461151,  0.30108039,\n",
       "       -0.45792817, -0.12933811, -0.42237903, -0.09483622, -0.30631384,\n",
       "       -0.30941344, -0.30941344, -0.30941344, -0.30941344, -0.30477553,\n",
       "       -0.30941344, -0.30941344, -0.30941344, -0.30941344, -0.30941344,\n",
       "       -0.30941344, -0.30941344, -0.30941344, -0.30941344, -0.30941344,\n",
       "       -0.30941344, -0.30941344, -0.30219164, -0.30941344, -0.30941344,\n",
       "       -0.35755077, -0.30941344, -0.30941344, -0.30941344, -0.30941344,\n",
       "       -0.30941344, -0.30941344, -0.24992471, -0.30941344, -0.21908107,\n",
       "       -0.30941344, -0.30941344, -0.31831798, -0.31376703, -0.31128007,\n",
       "       -0.41382698, -0.        , -0.        , -0.        , -0.        ,\n",
       "       -0.30941344, -0.30941344, -0.30941344, -0.30941344, -0.30941344,\n",
       "       -0.31088309, -0.31376703,  6.93967588, -0.        , -0.30683147,\n",
       "       -0.30941344,  1.30783046, -0.30941344, -0.3110229 , -0.30941344,\n",
       "       -0.30941344, -0.30941344, -0.30941344, -0.30941344, -0.36381051,\n",
       "       -0.30941344, -0.30941344, -0.32459173, -0.        ,  7.47395398,\n",
       "       -0.47837691, -0.30401875, -0.30984059, -0.30941344, -0.31559002,\n",
       "       -0.        , -0.30941344, -0.30941344, -0.30941344, -0.30941344,\n",
       "       -0.30941344, -0.32373824, -0.30941344, -0.30941344, -0.30941344,\n",
       "        6.56775354,  0.13647285, -0.34231071,  6.42928994, -0.        ,\n",
       "       -0.        , -0.        ,  8.1434595 , -0.        , -0.00825733,\n",
       "       -0.30941344, -0.30941344, -0.30941344, -0.30941344, -0.30941344,\n",
       "       -0.30941344, -0.30941344, -0.30941344, -0.30941344, -0.30941344,\n",
       "       -0.30941344, -0.30941344, -0.30941344, -0.30941344, -0.30941344,\n",
       "       -0.30941344, -0.30941344, -0.        , -0.30941344, -0.30941344,\n",
       "       -0.30941344, -0.30941344, -0.35039668, -0.30965918, -0.23493349,\n",
       "       -0.1281234 , -0.27858142, -0.29349809, -0.30941344, -0.30396988,\n",
       "       -0.30941344, -0.30941344, -0.30941344, -0.30941344, -0.30941344,\n",
       "       -0.31765572, -0.30941344, -0.30941344, -0.30941344, -0.30941344,\n",
       "       -0.        , -0.        ,  4.9345748 , -0.        , -0.        ,\n",
       "        1.98432049, -0.        , -0.30941344,  0.44596514,  1.23483242,\n",
       "        0.15689471, -0.73291245, -0.30996676, -0.30941344, -0.        ,\n",
       "       -0.30941344, -0.30008932,  0.45189954,  1.17686203, -0.        ,\n",
       "       -0.30941344,  0.78094947, -1.16867495])"
      ]
     },
     "execution_count": 35,
     "metadata": {},
     "output_type": "execute_result"
    }
   ],
   "source": [
    "lda2.fit_transform(groupstandardisedX, y)[:, 0]"
   ]
  },
  {
   "cell_type": "markdown",
   "metadata": {},
   "source": [
    "We can see that although the loadings are different for the first discriminant functions calculated using unstandardised and group-standardised data, the actual values of the first discriminant function are the same."
   ]
  },
  {
   "cell_type": "markdown",
   "metadata": {},
   "source": [
    "The results agree.\n",
    "\n",
    "It doesn’t matter whether the input variables for linear discriminant analysis are standardised or not, unlike for principal components analysis in which it is often necessary to standardise the input variables. However, using standardised variables in linear discriminant analysis makes it easier to interpret the loadings in a linear discriminant function.\n",
    "\n",
    "In linear discriminant analysis, the standardised version of an input variable is defined so that it has mean zero and within-groups variance of 1. Thus, we can calculate the “group-standardised” variable by subtracting the mean from each value of the variable, and dividing by the within-groups standard deviation. To calculate the group-standardised version of a set of variables, we can use the function `groupStandardise()` below:"
   ]
  },
  {
   "cell_type": "code",
   "execution_count": 36,
   "metadata": {
    "ExecuteTime": {
     "end_time": "2021-03-28T20:20:25.875838Z",
     "start_time": "2021-03-28T20:20:25.775106Z"
    }
   },
   "outputs": [],
   "source": [
    "def calcWithinGroupsVariance(variable, groupvariable):\n",
    "    # find out how many values the group variable can take\n",
    "    levels = sorted(set(groupvariable))\n",
    "    numlevels = len(levels)\n",
    "    # get the mean and standard deviation for each group:\n",
    "    numtotal = 0\n",
    "    denomtotal = 0\n",
    "    for leveli in levels:\n",
    "        levelidata = variable[groupvariable==leveli]\n",
    "        levelilength = len(levelidata)\n",
    "        # get the standard deviation for group i:\n",
    "        sdi = np.std(levelidata)\n",
    "        numi = (levelilength)*sdi**2\n",
    "        denomi = levelilength\n",
    "        numtotal = numtotal + numi\n",
    "        denomtotal = denomtotal + denomi\n",
    "    # calculate the within-groups variance\n",
    "    Vw = numtotal / (denomtotal - numlevels)\n",
    "    return Vw\n",
    "\n",
    "\n",
    "def groupStandardise(variables, groupvariable):\n",
    "    # find the number of samples in the data set and the number of variables\n",
    "    numsamples, numvariables = variables.shape\n",
    "    # find the variable names\n",
    "    variablenames = variables.columns\n",
    "    # calculate the group-standardised version of each variable\n",
    "    variables_new = pd.DataFrame()\n",
    "    for i in range(numvariables):\n",
    "        variable_name = variablenames[i]\n",
    "        variablei = variables[variable_name]\n",
    "        variablei_Vw = calcWithinGroupsVariance(variablei, groupvariable)\n",
    "        variablei_mean = np.mean(variablei)\n",
    "        variablei_new = (variablei - variablei_mean)/(np.sqrt(variablei_Vw))\n",
    "        variables_new[variable_name] = variablei_new\n",
    "    return variables_new\n",
    "\n",
    "\n",
    "\n",
    "groupstandardisedX = groupStandardise(X, y)"
   ]
  },
  {
   "cell_type": "code",
   "execution_count": 37,
   "metadata": {
    "ExecuteTime": {
     "end_time": "2021-03-28T20:20:26.232882Z",
     "start_time": "2021-03-28T20:20:26.194001Z"
    }
   },
   "outputs": [
    {
     "data": {
      "text/html": [
       "<div>\n",
       "<style scoped>\n",
       "    .dataframe tbody tr th:only-of-type {\n",
       "        vertical-align: middle;\n",
       "    }\n",
       "\n",
       "    .dataframe tbody tr th {\n",
       "        vertical-align: top;\n",
       "    }\n",
       "\n",
       "    .dataframe thead th {\n",
       "        text-align: right;\n",
       "    }\n",
       "</style>\n",
       "<table border=\"1\" class=\"dataframe\">\n",
       "  <thead>\n",
       "    <tr style=\"text-align: right;\">\n",
       "      <th></th>\n",
       "      <th>LD1</th>\n",
       "      <th>LD2</th>\n",
       "      <th>LD3</th>\n",
       "      <th>LD4</th>\n",
       "      <th>LD5</th>\n",
       "    </tr>\n",
       "  </thead>\n",
       "  <tbody>\n",
       "    <tr>\n",
       "      <th>V107</th>\n",
       "      <td>-6.742291</td>\n",
       "      <td>-1.494255</td>\n",
       "      <td>7.992761</td>\n",
       "      <td>-3.135328</td>\n",
       "      <td>1.549058</td>\n",
       "    </tr>\n",
       "    <tr>\n",
       "      <th>V108</th>\n",
       "      <td>-4.113376</td>\n",
       "      <td>-10.358709</td>\n",
       "      <td>3.288634</td>\n",
       "      <td>-0.826059</td>\n",
       "      <td>-4.335754</td>\n",
       "    </tr>\n",
       "    <tr>\n",
       "      <th>V109</th>\n",
       "      <td>25.249953</td>\n",
       "      <td>-5.813021</td>\n",
       "      <td>-35.916733</td>\n",
       "      <td>22.947358</td>\n",
       "      <td>14.403158</td>\n",
       "    </tr>\n",
       "    <tr>\n",
       "      <th>V110</th>\n",
       "      <td>-16.477192</td>\n",
       "      <td>19.667937</td>\n",
       "      <td>25.934488</td>\n",
       "      <td>-17.396337</td>\n",
       "      <td>-11.268169</td>\n",
       "    </tr>\n",
       "    <tr>\n",
       "      <th>V126</th>\n",
       "      <td>2.531294</td>\n",
       "      <td>-2.225984</td>\n",
       "      <td>-0.534756</td>\n",
       "      <td>-1.092851</td>\n",
       "      <td>-0.508459</td>\n",
       "    </tr>\n",
       "  </tbody>\n",
       "</table>\n",
       "</div>"
      ],
      "text/plain": [
       "            LD1        LD2        LD3        LD4        LD5\n",
       "V107  -6.742291  -1.494255   7.992761  -3.135328   1.549058\n",
       "V108  -4.113376 -10.358709   3.288634  -0.826059  -4.335754\n",
       "V109  25.249953  -5.813021 -35.916733  22.947358  14.403158\n",
       "V110 -16.477192  19.667937  25.934488 -17.396337 -11.268169\n",
       "V126   2.531294  -2.225984  -0.534756  -1.092851  -0.508459"
      ]
     },
     "execution_count": 37,
     "metadata": {},
     "output_type": "execute_result"
    }
   ],
   "source": [
    "lda2 = LinearDiscriminantAnalysis().fit(groupstandardisedX, y)\n",
    "pretty_scalings(lda2, groupstandardisedX)"
   ]
  },
  {
   "cell_type": "code",
   "execution_count": 38,
   "metadata": {
    "ExecuteTime": {
     "end_time": "2021-03-28T20:20:26.621666Z",
     "start_time": "2021-03-28T20:20:26.596701Z"
    }
   },
   "outputs": [],
   "source": [
    "def calcBetweenGroupsVariance(variable, groupvariable):\n",
    "    # find out how many values the group variable can take\n",
    "    levels = sorted(set((groupvariable)))\n",
    "    numlevels = len(levels)\n",
    "    # calculate the overall grand mean:\n",
    "    grandmean = np.mean(variable)\n",
    "    # get the mean and standard deviation for each group:\n",
    "    numtotal = 0\n",
    "    denomtotal = 0\n",
    "    for leveli in levels:\n",
    "        levelidata = variable[groupvariable==leveli]\n",
    "        levelilength = len(levelidata)\n",
    "        # get the mean and standard deviation for group i:\n",
    "        meani = np.mean(levelidata)\n",
    "        sdi = np.std(levelidata)\n",
    "        numi = levelilength * ((meani - grandmean)**2)\n",
    "        denomi = levelilength\n",
    "        numtotal = numtotal + numi\n",
    "        denomtotal = denomtotal + denomi\n",
    "    # calculate the between-groups variance\n",
    "    Vb = numtotal / (numlevels - 1)\n",
    "    return(Vb)\n",
    "\n",
    "\n",
    "def calcSeparations(variables, groupvariable):\n",
    "    # calculate the separation for each variable\n",
    "    for variablename in variables:\n",
    "        variablei = variables[variablename]\n",
    "        Vw = calcWithinGroupsVariance(variablei, groupvariable)\n",
    "        Vb = calcBetweenGroupsVariance(variablei, groupvariable)\n",
    "        sep = Vb/Vw\n",
    "        print(\"variable\", variablename, \"Vw=\", Vw, \"Vb=\", Vb, \"separation=\", sep)"
   ]
  },
  {
   "cell_type": "code",
   "execution_count": 39,
   "metadata": {
    "ExecuteTime": {
     "end_time": "2021-03-28T20:20:27.176459Z",
     "start_time": "2021-03-28T20:20:27.050799Z"
    }
   },
   "outputs": [
    {
     "name": "stdout",
     "output_type": "stream",
     "text": [
      "variable V107 Vw= 1971255096981.0732 Vb= 4522418300288.786 separation= 2.2941821721677496\n",
      "variable V108 Vw= 1805147031344.0173 Vb= 3357064183462.642 separation= 1.8597178651775246\n",
      "variable V109 Vw= 1278863643992.4465 Vb= 3086978247170.887 separation= 2.41384471415087\n",
      "variable V110 Vw= 1323090860464.9763 Vb= 3228160497961.2974 separation= 2.4398630467652227\n",
      "variable V126 Vw= 585320680953.1779 Vb= 3323164367516.347 separation= 5.677510594883936\n"
     ]
    }
   ],
   "source": [
    "calcSeparations(X, y)"
   ]
  },
  {
   "cell_type": "code",
   "execution_count": 40,
   "metadata": {
    "ExecuteTime": {
     "end_time": "2021-03-28T20:20:27.489712Z",
     "start_time": "2021-03-28T20:20:27.457831Z"
    }
   },
   "outputs": [
    {
     "data": {
      "text/plain": [
       "array([ 0.20529732, -0.34027179,  0.16875173, -0.29718786, -0.30941344,\n",
       "       -0.        ,  0.16875173, -0.44465559, -1.35096382, -0.51457113,\n",
       "        0.16875173, -0.29281944, -1.06844422, -0.30647464, -0.30941344,\n",
       "        0.16875173,  0.16875173, -1.35757823,  0.16875173, -0.30350026,\n",
       "       -0.30941344, -0.9927363 , -0.30941344, -0.30941344,  0.16875173,\n",
       "        0.16875173,  0.16875173,  0.1414423 , -0.25501958, -0.        ,\n",
       "       -0.30941344,  0.16875173,  0.17942346, -0.        , -0.        ,\n",
       "       -0.        , -0.28521818, -0.        ,  0.17390948,  0.16875173,\n",
       "        0.16875173,  0.16875173,  0.16875173,  0.16875173,  0.16875173,\n",
       "       -0.        ,  0.16875173,  1.69486621, -0.30941344, -0.30493373,\n",
       "        0.16875173, -0.30941344, -0.30941344, -0.3060869 , -0.        ,\n",
       "       -0.30941344,  0.16875173, -0.30941344, -0.30941344, -0.30744437,\n",
       "        0.16159948, -0.30941344, -0.30941344, -0.30170517, -0.26922317,\n",
       "       -0.        , -1.52611448, -0.        ,  0.16875173, -0.        ,\n",
       "        0.16875173, -0.        ,  0.16875173,  0.16875173,  0.16875173,\n",
       "        0.16875173,  0.16875173, -0.30941344, -0.30941344,  1.01497886,\n",
       "       -0.46746476, -0.30941344, -0.30466906, -0.32461151,  0.30108039,\n",
       "       -0.45792817, -0.12933811, -0.42237903, -0.09483622, -0.30631384,\n",
       "       -0.30941344, -0.30941344, -0.30941344, -0.30941344, -0.30477553,\n",
       "       -0.30941344, -0.30941344, -0.30941344, -0.30941344, -0.30941344,\n",
       "       -0.30941344, -0.30941344, -0.30941344, -0.30941344, -0.30941344,\n",
       "       -0.30941344, -0.30941344, -0.30219164, -0.30941344, -0.30941344,\n",
       "       -0.35755077, -0.30941344, -0.30941344, -0.30941344, -0.30941344,\n",
       "       -0.30941344, -0.30941344, -0.24992471, -0.30941344, -0.21908107,\n",
       "       -0.30941344, -0.30941344, -0.31831798, -0.31376703, -0.31128007,\n",
       "       -0.41382698, -0.        , -0.        , -0.        , -0.        ,\n",
       "       -0.30941344, -0.30941344, -0.30941344, -0.30941344, -0.30941344,\n",
       "       -0.31088309, -0.31376703,  6.93967588, -0.        , -0.30683147,\n",
       "       -0.30941344,  1.30783046, -0.30941344, -0.3110229 , -0.30941344,\n",
       "       -0.30941344, -0.30941344, -0.30941344, -0.30941344, -0.36381051,\n",
       "       -0.30941344, -0.30941344, -0.32459173, -0.        ,  7.47395398,\n",
       "       -0.47837691, -0.30401875, -0.30984059, -0.30941344, -0.31559002,\n",
       "       -0.        , -0.30941344, -0.30941344, -0.30941344, -0.30941344,\n",
       "       -0.30941344, -0.32373824, -0.30941344, -0.30941344, -0.30941344,\n",
       "        6.56775354,  0.13647285, -0.34231071,  6.42928994, -0.        ,\n",
       "       -0.        , -0.        ,  8.1434595 , -0.        , -0.00825733,\n",
       "       -0.30941344, -0.30941344, -0.30941344, -0.30941344, -0.30941344,\n",
       "       -0.30941344, -0.30941344, -0.30941344, -0.30941344, -0.30941344,\n",
       "       -0.30941344, -0.30941344, -0.30941344, -0.30941344, -0.30941344,\n",
       "       -0.30941344, -0.30941344, -0.        , -0.30941344, -0.30941344,\n",
       "       -0.30941344, -0.30941344, -0.35039668, -0.30965918, -0.23493349,\n",
       "       -0.1281234 , -0.27858142, -0.29349809, -0.30941344, -0.30396988,\n",
       "       -0.30941344, -0.30941344, -0.30941344, -0.30941344, -0.30941344,\n",
       "       -0.31765572, -0.30941344, -0.30941344, -0.30941344, -0.30941344,\n",
       "       -0.        , -0.        ,  4.9345748 , -0.        , -0.        ,\n",
       "        1.98432049, -0.        , -0.30941344,  0.44596514,  1.23483242,\n",
       "        0.15689471, -0.73291245, -0.30996676, -0.30941344, -0.        ,\n",
       "       -0.30941344, -0.30008932,  0.45189954,  1.17686203, -0.        ,\n",
       "       -0.30941344,  0.78094947, -1.16867495])"
      ]
     },
     "execution_count": 40,
     "metadata": {},
     "output_type": "execute_result"
    }
   ],
   "source": [
    "lda.fit_transform(X, y)[:, 0]"
   ]
  },
  {
   "cell_type": "code",
   "execution_count": 41,
   "metadata": {
    "ExecuteTime": {
     "end_time": "2021-03-28T20:20:27.815165Z",
     "start_time": "2021-03-28T20:20:27.786238Z"
    }
   },
   "outputs": [
    {
     "data": {
      "text/plain": [
       "array([ 0.20529732, -0.34027179,  0.16875173, -0.29718786, -0.30941344,\n",
       "       -0.        ,  0.16875173, -0.44465559, -1.35096382, -0.51457113,\n",
       "        0.16875173, -0.29281944, -1.06844422, -0.30647464, -0.30941344,\n",
       "        0.16875173,  0.16875173, -1.35757823,  0.16875173, -0.30350026,\n",
       "       -0.30941344, -0.9927363 , -0.30941344, -0.30941344,  0.16875173,\n",
       "        0.16875173,  0.16875173,  0.1414423 , -0.25501958, -0.        ,\n",
       "       -0.30941344,  0.16875173,  0.17942346, -0.        , -0.        ,\n",
       "       -0.        , -0.28521818, -0.        ,  0.17390948,  0.16875173,\n",
       "        0.16875173,  0.16875173,  0.16875173,  0.16875173,  0.16875173,\n",
       "       -0.        ,  0.16875173,  1.69486621, -0.30941344, -0.30493373,\n",
       "        0.16875173, -0.30941344, -0.30941344, -0.3060869 , -0.        ,\n",
       "       -0.30941344,  0.16875173, -0.30941344, -0.30941344, -0.30744437,\n",
       "        0.16159948, -0.30941344, -0.30941344, -0.30170517, -0.26922317,\n",
       "       -0.        , -1.52611448, -0.        ,  0.16875173, -0.        ,\n",
       "        0.16875173, -0.        ,  0.16875173,  0.16875173,  0.16875173,\n",
       "        0.16875173,  0.16875173, -0.30941344, -0.30941344,  1.01497886,\n",
       "       -0.46746476, -0.30941344, -0.30466906, -0.32461151,  0.30108039,\n",
       "       -0.45792817, -0.12933811, -0.42237903, -0.09483622, -0.30631384,\n",
       "       -0.30941344, -0.30941344, -0.30941344, -0.30941344, -0.30477553,\n",
       "       -0.30941344, -0.30941344, -0.30941344, -0.30941344, -0.30941344,\n",
       "       -0.30941344, -0.30941344, -0.30941344, -0.30941344, -0.30941344,\n",
       "       -0.30941344, -0.30941344, -0.30219164, -0.30941344, -0.30941344,\n",
       "       -0.35755077, -0.30941344, -0.30941344, -0.30941344, -0.30941344,\n",
       "       -0.30941344, -0.30941344, -0.24992471, -0.30941344, -0.21908107,\n",
       "       -0.30941344, -0.30941344, -0.31831798, -0.31376703, -0.31128007,\n",
       "       -0.41382698, -0.        , -0.        , -0.        , -0.        ,\n",
       "       -0.30941344, -0.30941344, -0.30941344, -0.30941344, -0.30941344,\n",
       "       -0.31088309, -0.31376703,  6.93967588, -0.        , -0.30683147,\n",
       "       -0.30941344,  1.30783046, -0.30941344, -0.3110229 , -0.30941344,\n",
       "       -0.30941344, -0.30941344, -0.30941344, -0.30941344, -0.36381051,\n",
       "       -0.30941344, -0.30941344, -0.32459173, -0.        ,  7.47395398,\n",
       "       -0.47837691, -0.30401875, -0.30984059, -0.30941344, -0.31559002,\n",
       "       -0.        , -0.30941344, -0.30941344, -0.30941344, -0.30941344,\n",
       "       -0.30941344, -0.32373824, -0.30941344, -0.30941344, -0.30941344,\n",
       "        6.56775354,  0.13647285, -0.34231071,  6.42928994, -0.        ,\n",
       "       -0.        , -0.        ,  8.1434595 , -0.        , -0.00825733,\n",
       "       -0.30941344, -0.30941344, -0.30941344, -0.30941344, -0.30941344,\n",
       "       -0.30941344, -0.30941344, -0.30941344, -0.30941344, -0.30941344,\n",
       "       -0.30941344, -0.30941344, -0.30941344, -0.30941344, -0.30941344,\n",
       "       -0.30941344, -0.30941344, -0.        , -0.30941344, -0.30941344,\n",
       "       -0.30941344, -0.30941344, -0.35039668, -0.30965918, -0.23493349,\n",
       "       -0.1281234 , -0.27858142, -0.29349809, -0.30941344, -0.30396988,\n",
       "       -0.30941344, -0.30941344, -0.30941344, -0.30941344, -0.30941344,\n",
       "       -0.31765572, -0.30941344, -0.30941344, -0.30941344, -0.30941344,\n",
       "       -0.        , -0.        ,  4.9345748 , -0.        , -0.        ,\n",
       "        1.98432049, -0.        , -0.30941344,  0.44596514,  1.23483242,\n",
       "        0.15689471, -0.73291245, -0.30996676, -0.30941344, -0.        ,\n",
       "       -0.30941344, -0.30008932,  0.45189954,  1.17686203, -0.        ,\n",
       "       -0.30941344,  0.78094947, -1.16867495])"
      ]
     },
     "execution_count": 41,
     "metadata": {},
     "output_type": "execute_result"
    }
   ],
   "source": [
    "lda2.fit_transform(groupstandardisedX, y)[:, 0]"
   ]
  },
  {
   "cell_type": "markdown",
   "metadata": {},
   "source": [
    "We can see that although the loadings are different for the first discriminant functions calculated using unstandardised and group-standardised data, the actual values of the first discriminant function are the same."
   ]
  },
  {
   "cell_type": "markdown",
   "metadata": {},
   "source": [
    "### Separation Achieved by the Discriminant Functions\n",
    "\n",
    "To calculate the separation achieved by each discriminant function, we first need to calculate the value of each discriminant function, by substituting the values of the variables into the linear combination for the discriminant function (eg. `0.007*V2 - 0.142*V3 + 0.511*V4 + 0.02*V5 + 0.145*V6 ` for the first discriminant function), and then scaling the values of the discriminant function so that their mean is zero.\n",
    "\n",
    "As mentioned above, we can do this using the `rpredict()` function which simulates the output of the `predict()` function in R. For example, to calculate the value of the discriminant functions for the wine data, we type:"
   ]
  },
  {
   "cell_type": "code",
   "execution_count": 42,
   "metadata": {
    "ExecuteTime": {
     "end_time": "2021-03-28T20:20:28.271642Z",
     "start_time": "2021-03-28T20:20:28.222771Z"
    }
   },
   "outputs": [
    {
     "name": "stdout",
     "output_type": "stream",
     "text": [
      "class\n",
      "['2.0' '2.0' '2.0' '2.0' '2.0' '2.0' '2.0' '2.0' '2.0' '2.0' '2.0' '2.0'\n",
      " '2.0' '2.0' '2.0' '2.0' '2.0' '2.0' '2.0' '2.0' '2.0' '2.0' '2.0' '2.0'\n",
      " '2.0' '2.0' '2.0' '2.0' '2.0' '2.0' '2.0' '2.0' '2.0' '2.0' '2.0' '2.0'\n",
      " '2.0' '2.0' '2.0' '2.0' '2.0' '2.0' '2.0' '2.0' '2.0' '2.0' '2.0' '2.0'\n",
      " '2.0' '2.0' '2.0' '2.0' '2.0' '2.0' '2.0' '2.0' '2.0' '2.0' '2.0' '2.0'\n",
      " '2.0' '2.0' '2.0' '2.0' '2.0' '2.0' '2.0' '2.0' '2.0' '2.0' '2.0' '2.0'\n",
      " '2.0' '2.0' '2.0' '2.0' '2.0' '2.0' '2.0' '2.0' '2.0' '2.0' '2.0' '2.0'\n",
      " '2.0' '2.0' '2.0' '2.0' '2.0' '2.0' '2.0' '2.0' '2.0' '2.0' '2.0' '2.0'\n",
      " '2.0' '2.0' '2.0' '2.0' '2.0' '2.0' '2.0' '2.0' '2.0' '2.0' '2.0' '2.0'\n",
      " '2.0' '2.0' '2.0' '2.0' '2.0' '2.0' '2.0' '2.0' '2.0' '2.0' '2.0' '2.0'\n",
      " '2.0' '2.0' '2.0' '2.0' '2.0' '2.0' '2.0' '2.0' '2.0' '2.0' '2.0' '2.0'\n",
      " '2.0' '2.0' '2.0' '2.0' '2.0' '2.0' '2.0' '2.0' '2.0' '2.0' '2.0' '2.0'\n",
      " '2.0' '2.0' '2.0' '2.0' '2.0' '2.0' '2.0' '2.0' '2.0' '2.0' '2.0' '2.0'\n",
      " '2.0' '2.0' '2.0' '2.0' '2.0' '2.0' '2.0' '2.0' '2.0' '2.0' '2.0' '2.0'\n",
      " '2.0' '2.0' '2.0' '2.0' '2.0' '2.0' '2.0' '2.0' '2.0' '2.0' '2.0' '2.0'\n",
      " '2.0' '2.0' '2.0' '2.0' '2.0' '2.0' '2.0' '2.0' '2.0' '2.0' '2.0' '2.0'\n",
      " '2.0' '2.0' '2.0' '2.0' '2.0' '2.0' '2.0' '2.0' '2.0' '2.0' '2.0' '2.0'\n",
      " '2.0' '2.0' '2.0' '2.0' '2.0' '2.0' '2.0' '2.0' '2.0' '2.0' '2.0' '2.0'\n",
      " '2.0' '2.0' '2.0' '2.0' '2.0' '2.0' '2.0' '2.0' '2.0' '2.0' '2.0' '2.0'\n",
      " '2.0' '2.0' '2.0' '2.0' '2.0' '2.0' '2.0' '2.0' '2.0' '2.0' '2.0' '2.0'\n",
      " '2.0' '2.0' '2.0']\n",
      "\n",
      "posterior\n",
      "          0.0       1.0       2.0  2.1134453781512605       3.0       4.0  \\\n",
      "0    0.058383  0.018255  0.751612            0.022274  0.022865  0.039545   \n",
      "1    0.058383  0.018255  0.751612            0.022274  0.022865  0.039545   \n",
      "2    0.058383  0.018255  0.751612            0.022274  0.022865  0.039545   \n",
      "3    0.058383  0.018255  0.751612            0.022274  0.022865  0.039545   \n",
      "4    0.058383  0.018255  0.751612            0.022274  0.022865  0.039545   \n",
      "..        ...       ...       ...                 ...       ...       ...   \n",
      "238  0.058383  0.018255  0.751612            0.022274  0.022865  0.039545   \n",
      "239  0.058383  0.018255  0.751612            0.022274  0.022865  0.039545   \n",
      "240  0.058383  0.018255  0.751612            0.022274  0.022865  0.039545   \n",
      "241  0.058383  0.018255  0.751612            0.022274  0.022865  0.039545   \n",
      "242  0.058383  0.018255  0.751612            0.022274  0.022865  0.039545   \n",
      "\n",
      "          5.0  \n",
      "0    0.087065  \n",
      "1    0.087065  \n",
      "2    0.087065  \n",
      "3    0.087065  \n",
      "4    0.087065  \n",
      "..        ...  \n",
      "238  0.087065  \n",
      "239  0.087065  \n",
      "240  0.087065  \n",
      "241  0.087065  \n",
      "242  0.087065  \n",
      "\n",
      "[243 rows x 7 columns]\n",
      "\n",
      "x\n",
      "              LD1           LD2           LD3           LD4           LD5\n",
      "0    2.052973e-01 -3.434279e-01 -1.539991e-01 -1.322121e-01 -5.693235e-02\n",
      "1   -3.402718e-01  5.129164e-02  3.100222e-02  2.986479e-02  1.102293e-02\n",
      "2    1.687517e-01 -3.364177e-01 -1.022356e-01 -1.652110e-01 -7.761357e-02\n",
      "3   -2.971879e-01  8.883201e-02 -1.837653e-02  5.263566e-02  2.046261e-02\n",
      "4   -3.094134e-01  8.407385e-02 -1.219409e-03  4.123024e-02  1.843512e-02\n",
      "..            ...           ...           ...           ...           ...\n",
      "238  1.176862e+00 -1.034915e+00 -2.486214e-01 -5.080939e-01 -2.363954e-01\n",
      "239 -6.577636e-15  4.801761e-15  9.939256e-15 -6.399930e-15 -3.350693e-15\n",
      "240 -3.094134e-01  8.407385e-02 -1.219409e-03  4.123024e-02  1.843512e-02\n",
      "241  7.809495e-01 -9.479893e-01 -9.865645e-01  6.860310e-01  4.054646e-01\n",
      "242 -1.168675e+00 -1.152238e+00  1.072345e+00 -4.435186e-01 -2.626999e-01\n",
      "\n",
      "[243 rows x 5 columns]\n"
     ]
    }
   ],
   "source": [
    "def rpredict(lda, X, y, out=False):\n",
    "    ret = {\"class\": lda.predict(X),\n",
    "           \"posterior\": pd.DataFrame(lda.predict_proba(X), columns=lda.classes_)}\n",
    "    ret[\"x\"] = pd.DataFrame(lda.fit_transform(X, y))\n",
    "    ret[\"x\"].columns = [\"LD\"+str(i+1) for i in range(ret[\"x\"].shape[1])]\n",
    "    if out:\n",
    "        print(\"class\")\n",
    "        print(ret[\"class\"])\n",
    "        print()\n",
    "        print(\"posterior\")\n",
    "        print(ret[\"posterior\"])\n",
    "        print()\n",
    "        print(\"x\")\n",
    "        print(ret[\"x\"])\n",
    "    return ret\n",
    "\n",
    "lda_values = rpredict(lda, standardisedX, y, True)"
   ]
  },
  {
   "cell_type": "code",
   "execution_count": 43,
   "metadata": {
    "ExecuteTime": {
     "end_time": "2021-03-28T20:20:28.706799Z",
     "start_time": "2021-03-28T20:20:28.600054Z"
    }
   },
   "outputs": [
    {
     "name": "stdout",
     "output_type": "stream",
     "text": [
      "variable LD1 Vw= 1.0000000000000016 Vb= 13.831235686404147 separation= 13.831235686404126\n",
      "variable LD2 Vw= 0.9999999999999999 Vb= 0.10438553647880884 separation= 0.10438553647880885\n",
      "variable LD3 Vw= 0.9999999999999827 Vb= 0.05757837216030626 separation= 0.057578372160307256\n",
      "variable LD4 Vw= 1.0000000000000089 Vb= 0.005489758978328642 separation= 0.0054897589783285934\n",
      "variable LD5 Vw= 1.000000000000003 Vb= 8.81675866007226e-05 separation= 8.816758660072233e-05\n"
     ]
    }
   ],
   "source": [
    "calcSeparations(lda_values[\"x\"], y)"
   ]
  },
  {
   "cell_type": "markdown",
   "metadata": {},
   "source": []
  },
  {
   "cell_type": "code",
   "execution_count": 44,
   "metadata": {
    "ExecuteTime": {
     "end_time": "2021-03-28T20:20:29.095729Z",
     "start_time": "2021-03-28T20:20:29.051845Z"
    }
   },
   "outputs": [
    {
     "name": "stdout",
     "output_type": "stream",
     "text": [
      "Proportion of trace:\n",
      "   LD1     LD2     LD3     LD4\n",
      " 0.988  0.0075  0.0041  0.0004\n"
     ]
    }
   ],
   "source": [
    "def proportion_of_trace(lda):\n",
    "    ret = pd.DataFrame([round(i, 4) for i in lda.explained_variance_ratio_ if round(i, 4) > 0], columns=[\"ExplainedVariance\"])\n",
    "    ret.index = [\"LD\"+str(i+1) for i in range(ret.shape[0])]\n",
    "    ret = ret.transpose()\n",
    "    print(\"Proportion of trace:\")\n",
    "    print(ret.to_string(index=False))\n",
    "    return ret\n",
    "\n",
    "proportion_of_trace(LinearDiscriminantAnalysis(solver=\"eigen\").fit(X, y));"
   ]
  },
  {
   "cell_type": "markdown",
   "metadata": {},
   "source": [
    "Therefore, the first discriminant function does achieve a good separation between groups , but the rest discriminant functions does not improve much the separation of the groups , so is it worth using the second discriminant function as well. Therefore, to achieve a good separation of the groups , it is necessary to use  the first discriminant.\n"
   ]
  },
  {
   "cell_type": "markdown",
   "metadata": {},
   "source": [
    "1.3  A Stacked Histogram of the LDA Values\n",
    "A nice way of displaying the results of a linear discriminant analysis (LDA) is to make a stacked histogram of the values of the discriminant function for the samples from different groups (different wine cultivars in our example).\n",
    "\n",
    "We can do this using the ldahist() function defined below."
   ]
  },
  {
   "cell_type": "code",
   "execution_count": 45,
   "metadata": {
    "ExecuteTime": {
     "end_time": "2021-03-28T20:20:29.410837Z",
     "start_time": "2021-03-28T20:20:29.387899Z"
    }
   },
   "outputs": [],
   "source": [
    "def ldahist(data, g, sep=False):\n",
    "    xmin = np.trunc(np.min(data)) - 1\n",
    "    xmax = np.trunc(np.max(data)) + 1\n",
    "    ncol = len(set(g))\n",
    "    binwidth = 0.5\n",
    "    bins=np.arange(xmin, xmax + binwidth, binwidth)\n",
    "    if sep:\n",
    "        fig, axl = plt.subplots(ncol, 1, sharey=True, sharex=True)\n",
    "    else:\n",
    "        fig, axl = plt.subplots(1, 1, sharey=True, sharex=True)\n",
    "        axl = [axl]*ncol\n",
    "    for ax, (group, gdata) in zip(axl, data.groupby(g)):\n",
    "        sns.distplot(gdata.values, bins, ax=ax, label=\"group \"+str(group))\n",
    "        ax.set_xlim([xmin, xmax])\n",
    "        if sep:\n",
    "            ax.set_xlabel(\"group\"+str(group))\n",
    "        else:\n",
    "            ax.legend(loc='center left', bbox_to_anchor=(1, 0.5))\n",
    "    plt.tight_layout()"
   ]
  },
  {
   "cell_type": "code",
   "execution_count": 46,
   "metadata": {
    "ExecuteTime": {
     "end_time": "2021-03-28T20:20:30.278418Z",
     "start_time": "2021-03-28T20:20:29.714650Z"
    }
   },
   "outputs": [
    {
     "name": "stderr",
     "output_type": "stream",
     "text": [
      "C:\\Users\\User\\anaconda3\\lib\\site-packages\\seaborn\\distributions.py:369: UserWarning: Default bandwidth for data is 0; skipping density estimation.\n",
      "  warnings.warn(msg, UserWarning)\n"
     ]
    },
    {
     "data": {
      "image/png": "[encoded data removed]",
      "text/plain": [
       "<Figure size 432x288 with 1 Axes>"
      ]
     },
     "metadata": {
      "needs_background": "light"
     },
     "output_type": "display_data"
    }
   ],
   "source": [
    "ldahist(lda_values[\"x\"].LD1, y)"
   ]
  },
  {
   "cell_type": "code",
   "execution_count": 47,
   "metadata": {
    "ExecuteTime": {
     "end_time": "2021-03-28T20:20:31.283342Z",
     "start_time": "2021-03-28T20:20:30.531039Z"
    }
   },
   "outputs": [
    {
     "name": "stderr",
     "output_type": "stream",
     "text": [
      "C:\\Users\\User\\anaconda3\\lib\\site-packages\\seaborn\\distributions.py:369: UserWarning: Default bandwidth for data is 0; skipping density estimation.\n",
      "  warnings.warn(msg, UserWarning)\n"
     ]
    },
    {
     "data": {
      "image/png": "[encoded data removed]",
      "text/plain": [
       "<Figure size 432x288 with 1 Axes>"
      ]
     },
     "metadata": {
      "needs_background": "light"
     },
     "output_type": "display_data"
    }
   ],
   "source": [
    "ldahist(lda_values[\"x\"].LD2, y)"
   ]
  },
  {
   "cell_type": "markdown",
   "metadata": {},
   "source": [
    "we see quite a bit of overlapping but not as much as with second discriminant function's histogram"
   ]
  },
  {
   "cell_type": "code",
   "execution_count": 48,
   "metadata": {
    "ExecuteTime": {
     "end_time": "2021-03-28T20:20:36.083778Z",
     "start_time": "2021-03-28T20:20:35.719724Z"
    }
   },
   "outputs": [
    {
     "data": {
      "image/png": "[encoded data removed]",
      "text/plain": [
       "<Figure size 507.625x360 with 1 Axes>"
      ]
     },
     "metadata": {
      "needs_background": "light"
     },
     "output_type": "display_data"
    }
   ],
   "source": [
    "sns.lmplot(\"LD1\", \"LD2\", lda_values[\"x\"].join(y), hue=\"V1\", fit_reg=False);"
   ]
  },
  {
   "cell_type": "code",
   "execution_count": null,
   "metadata": {},
   "outputs": [],
   "source": []
  },
  {
   "cell_type": "code",
   "execution_count": null,
   "metadata": {},
   "outputs": [],
   "source": []
  },
  {
   "cell_type": "code",
   "execution_count": null,
   "metadata": {},
   "outputs": [],
   "source": []
  }
 ],
 "metadata": {
  "kernelspec": {
   "display_name": "Python 3",
   "language": "python",
   "name": "python3"
  },
  "language_info": {
   "codemirror_mode": {
    "name": "ipython",
    "version": 3
   },
   "file_extension": ".py",
   "mimetype": "text/x-python",
   "name": "python",
   "nbconvert_exporter": "python",
   "pygments_lexer": "ipython3",
   "version": "3.8.3"
  },
  "toc": {
   "base_numbering": 1,
   "nav_menu": {},
   "number_sections": true,
   "sideBar": true,
   "skip_h1_title": false,
   "title_cell": "Table of Contents",
   "title_sidebar": "Contents",
   "toc_cell": false,
   "toc_position": {},
   "toc_section_display": true,
   "toc_window_display": false
  },
  "varInspector": {
   "cols": {
    "lenName": 16,
    "lenType": 16,
    "lenVar": 40
   },
   "kernels_config": {
    "python": {
     "delete_cmd_postfix": "",
     "delete_cmd_prefix": "del ",
     "library": "var_list.py",
     "varRefreshCmd": "print(var_dic_list())"
    },
    "r": {
     "delete_cmd_postfix": ") ",
     "delete_cmd_prefix": "rm(",
     "library": "var_list.r",
     "varRefreshCmd": "cat(var_dic_list()) "
    }
   },
   "types_to_exclude": [
    "module",
    "function",
    "builtin_function_or_method",
    "instance",
    "_Feature"
   ],
   "window_display": false
  }
 },
 "nbformat": 4,
 "nbformat_minor": 4
}
