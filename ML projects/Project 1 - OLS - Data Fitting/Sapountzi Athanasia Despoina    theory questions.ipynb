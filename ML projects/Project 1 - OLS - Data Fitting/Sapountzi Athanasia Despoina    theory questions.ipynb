{
 "cells": [
  {
   "cell_type": "markdown",
   "metadata": {},
   "source": [
    "Chapter 4   \n",
    "\n",
    "1.\n",
    "(a)The norm of a vector in vector space is a real non-negative value representing intuitively the length, size, or magnitude of the vector.  \n",
    "\n",
    "(b)Using associativity, P transpose and P yields the identity\n",
    " $\\lVert \\mathbf{Qx} \\rVert_2=(Qx)^{T}(Qx)=x^{T}Q^{T} Qx=x^{T}x=\\lVert \\mathbf{x} \\rVert_2.$"
   ]
  },
  {
   "cell_type": "markdown",
   "metadata": {},
   "source": [
    "2  \n",
    "\n",
    "(a) $\\lVert \\mathbf{x} \\rVert_2 = \\sqrt{1^{2}+2^{2} + 3^{2} + 4^{2}} = \\sqrt{30}$\n",
    "\n",
    "(b) Using associativity, P transpose and P yields the identity\n",
    " $\\lVert \\mathbf{Qx} \\rVert_2=(Qx)^{T}(Qx)=x^{T}Q^{T} Qx=x^{T}x=\\lVert \\mathbf{x} \\rVert_2.$   \n",
    " \n",
    " \n",
    " (c) $x = (U^{T}U)^{-1}U^{T}z$ \n",
    " \n",
    " \n",
    " \n",
    " (d)rewrite least squares solution using QR factorization A =QR\n",
    " $\\hat{x}=(A^{T}A)^{-1}A^{T}b=((QR)^{T}(QR)){-1}(QR)^{T}b=(R^{T}R)^{-1}R^{T}Q^{T}b=R^{−1}R^{−T}R^{T}Q^{T}b=R^{−1}Q^{T}b$"
   ]
  },
  {
   "cell_type": "markdown",
   "metadata": {},
   "source": [
    "CHAPTER 5  \n",
    "2.\n",
    "\n",
    "\n",
    "(a)a QR decomposition, also known as a QR factorization or QU factorization is a decomposition of a matrix A into a product A = QR of an orthogonal matrix Q and an upper triangular matrix R.\n",
    "\n",
    "\n",
    "(c)using QR factorization A =QR\n",
    " $\\hat{x}=(A^{T}A)^{-1}A^{T}b=((QR)^{T}(QR)){-1}(QR)^{T}b=(R^{T}R)^{-1}R^{T}Q^{T}b=R^{−1}R^{−T}R^{T}Q^{T}b=R^{−1}Q^{T}b$\n",
    "    \n",
    "    "
   ]
  },
  {
   "cell_type": "code",
   "execution_count": null,
   "metadata": {},
   "outputs": [],
   "source": []
  }
 ],
 "metadata": {
  "kernelspec": {
   "display_name": "Python 3",
   "language": "python",
   "name": "python3"
  },
  "language_info": {
   "codemirror_mode": {
    "name": "ipython",
    "version": 3
   },
   "file_extension": ".py",
   "mimetype": "text/x-python",
   "name": "python",
   "nbconvert_exporter": "python",
   "pygments_lexer": "ipython3",
   "version": "3.8.3"
  },
  "toc": {
   "base_numbering": 1,
   "nav_menu": {},
   "number_sections": true,
   "sideBar": true,
   "skip_h1_title": false,
   "title_cell": "Table of Contents",
   "title_sidebar": "Contents",
   "toc_cell": false,
   "toc_position": {},
   "toc_section_display": true,
   "toc_window_display": false
  },
  "varInspector": {
   "cols": {
    "lenName": 16,
    "lenType": 16,
    "lenVar": 40
   },
   "kernels_config": {
    "python": {
     "delete_cmd_postfix": "",
     "delete_cmd_prefix": "del ",
     "library": "var_list.py",
     "varRefreshCmd": "print(var_dic_list())"
    },
    "r": {
     "delete_cmd_postfix": ") ",
     "delete_cmd_prefix": "rm(",
     "library": "var_list.r",
     "varRefreshCmd": "cat(var_dic_list()) "
    }
   },
   "types_to_exclude": [
    "module",
    "function",
    "builtin_function_or_method",
    "instance",
    "_Feature"
   ],
   "window_display": false
  }
 },
 "nbformat": 4,
 "nbformat_minor": 4
}
