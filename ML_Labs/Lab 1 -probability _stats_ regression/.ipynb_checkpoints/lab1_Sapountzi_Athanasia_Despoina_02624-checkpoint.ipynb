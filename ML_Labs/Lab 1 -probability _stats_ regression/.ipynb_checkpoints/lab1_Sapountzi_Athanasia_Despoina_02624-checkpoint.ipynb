{
 "cells": [
  {
   "cell_type": "code",
   "execution_count": 2,
   "metadata": {
    "ExecuteTime": {
     "end_time": "2021-03-11T18:52:05.589453Z",
     "start_time": "2021-03-11T18:52:05.572470Z"
    }
   },
   "outputs": [],
   "source": [
    "#show all output\n",
    "from IPython.core.interactiveshell import InteractiveShell\n",
    "InteractiveShell.ast_node_interactivity = \"all\""
   ]
  },
  {
   "cell_type": "markdown",
   "metadata": {},
   "source": [
    "**1.0.5 example 1**  \n",
    "The number of disk I/O’s and processor times of seven programs were measured as {(14, 2), (16,\n",
    "5), (27, 7 (42, 9), (39, 10), (50, 13), (83, 20)}. Develop a linear regression model to predict CPU\n",
    "time as a function of disk I/O’s.\n"
   ]
  },
  {
   "cell_type": "code",
   "execution_count": 4,
   "metadata": {
    "ExecuteTime": {
     "end_time": "2021-03-11T19:10:58.441372Z",
     "start_time": "2021-03-11T19:10:58.425378Z"
    }
   },
   "outputs": [
    {
     "ename": "ModuleNotFoundError",
     "evalue": "No module named 'matplotlib'",
     "output_type": "error",
     "traceback": [
      "\u001b[1;31m---------------------------------------------------------------------------\u001b[0m",
      "\u001b[1;31mModuleNotFoundError\u001b[0m                       Traceback (most recent call last)",
      "\u001b[1;32m<ipython-input-4-4a97f7225ae3>\u001b[0m in \u001b[0;36m<module>\u001b[1;34m\u001b[0m\n\u001b[0;32m      1\u001b[0m \u001b[1;31m# library imports\u001b[0m\u001b[1;33m\u001b[0m\u001b[1;33m\u001b[0m\u001b[1;33m\u001b[0m\u001b[0m\n\u001b[0;32m      2\u001b[0m \u001b[1;32mimport\u001b[0m \u001b[0mmath\u001b[0m\u001b[1;33m\u001b[0m\u001b[1;33m\u001b[0m\u001b[0m\n\u001b[1;32m----> 3\u001b[1;33m \u001b[1;32mimport\u001b[0m \u001b[0mmatplotlib\u001b[0m\u001b[1;33m.\u001b[0m\u001b[0mpyplot\u001b[0m \u001b[1;32mas\u001b[0m \u001b[0mplt\u001b[0m\u001b[1;33m\u001b[0m\u001b[1;33m\u001b[0m\u001b[0m\n\u001b[0m\u001b[0;32m      4\u001b[0m \u001b[1;32mimport\u001b[0m \u001b[0mnumpy\u001b[0m \u001b[1;32mas\u001b[0m \u001b[0mnp\u001b[0m\u001b[1;33m\u001b[0m\u001b[1;33m\u001b[0m\u001b[0m\n\u001b[0;32m      5\u001b[0m \u001b[1;32mimport\u001b[0m \u001b[0mpandas\u001b[0m \u001b[1;32mas\u001b[0m \u001b[0mpd\u001b[0m\u001b[1;33m\u001b[0m\u001b[1;33m\u001b[0m\u001b[0m\n",
      "\u001b[1;31mModuleNotFoundError\u001b[0m: No module named 'matplotlib'"
     ]
    }
   ],
   "source": [
    "# library imports\n",
    "import math\n",
    "import matplotlib.pyplot as plt\n",
    "import numpy as np\n",
    "import pandas as pd\n",
    "import seaborn as sns\n",
    "import statsmodels.api as sm\n",
    "import statsmodels.formula.api as smf\n",
    "import statsmodels.stats.api as sms"
   ]
  },
  {
   "cell_type": "markdown",
   "metadata": {},
   "source": [
    "**2 INTRO TO STATS EXAMPLES**"
   ]
  },
  {
   "cell_type": "code",
   "execution_count": 4,
   "metadata": {
    "ExecuteTime": {
     "end_time": "2021-03-11T18:52:22.819766Z",
     "start_time": "2021-03-11T18:52:22.793112Z"
    }
   },
   "outputs": [
    {
     "ename": "NameError",
     "evalue": "name 'np' is not defined",
     "output_type": "error",
     "traceback": [
      "\u001b[1;31m---------------------------------------------------------------------------\u001b[0m",
      "\u001b[1;31mNameError\u001b[0m                                 Traceback (most recent call last)",
      "\u001b[1;32m<ipython-input-4-2ea57100aa3c>\u001b[0m in \u001b[0;36m<module>\u001b[1;34m\u001b[0m\n\u001b[0;32m      3\u001b[0m \u001b[1;33m\u001b[0m\u001b[0m\n\u001b[0;32m      4\u001b[0m \u001b[0mmu\u001b[0m\u001b[1;33m,\u001b[0m \u001b[0msigma\u001b[0m \u001b[1;33m=\u001b[0m \u001b[1;36m0\u001b[0m\u001b[1;33m,\u001b[0m \u001b[1;36m0.1\u001b[0m \u001b[1;31m# mean and standard deviation\u001b[0m\u001b[1;33m\u001b[0m\u001b[1;33m\u001b[0m\u001b[0m\n\u001b[1;32m----> 5\u001b[1;33m \u001b[0ms\u001b[0m \u001b[1;33m=\u001b[0m \u001b[0mnp\u001b[0m\u001b[1;33m.\u001b[0m\u001b[0mrandom\u001b[0m\u001b[1;33m.\u001b[0m\u001b[0mnormal\u001b[0m\u001b[1;33m(\u001b[0m\u001b[0mmu\u001b[0m\u001b[1;33m,\u001b[0m \u001b[0msigma\u001b[0m\u001b[1;33m,\u001b[0m \u001b[1;36m1000\u001b[0m\u001b[1;33m)\u001b[0m\u001b[1;33m\u001b[0m\u001b[1;33m\u001b[0m\u001b[0m\n\u001b[0m\u001b[0;32m      6\u001b[0m \u001b[1;31m#Verify the mean and the variance:\u001b[0m\u001b[1;33m\u001b[0m\u001b[1;33m\u001b[0m\u001b[1;33m\u001b[0m\u001b[0m\n\u001b[0;32m      7\u001b[0m \u001b[0mabs\u001b[0m\u001b[1;33m(\u001b[0m\u001b[0mmu\u001b[0m \u001b[1;33m-\u001b[0m \u001b[0mnp\u001b[0m\u001b[1;33m.\u001b[0m\u001b[0mmean\u001b[0m\u001b[1;33m(\u001b[0m\u001b[0ms\u001b[0m\u001b[1;33m)\u001b[0m\u001b[1;33m)\u001b[0m \u001b[1;33m<\u001b[0m \u001b[1;36m0.01\u001b[0m\u001b[1;33m\u001b[0m\u001b[1;33m\u001b[0m\u001b[0m\n",
      "\u001b[1;31mNameError\u001b[0m: name 'np' is not defined"
     ]
    }
   ],
   "source": [
    "\n",
    "#Draw samples from the distribution:\n",
    "\n",
    "\n",
    "mu, sigma = 0, 0.1 # mean and standard deviation\n",
    "s = np.random.normal(mu, sigma, 1000)\n",
    "#Verify the mean and the variance:\n",
    "abs(mu - np.mean(s)) < 0.01\n",
    "\n",
    "abs(sigma - np.std(s, ddof=1)) < 0.01\n",
    "#Display the histogram of the samples, along with the probability density function:\n",
    "\n",
    "\n",
    "import matplotlib.pyplot as plt\n",
    "count, bins, ignored = plt.hist(s, 30, density=True)\n",
    "plt.plot(bins, 1/(sigma * np.sqrt(2 * np.pi)) *\n",
    "               np.exp( - (bins - mu)**2 / (2 * sigma**2) ),\n",
    "         linewidth=2, color='r')\n",
    "plt.show()\n"
   ]
  },
  {
   "cell_type": "code",
   "execution_count": 5,
   "metadata": {
    "ExecuteTime": {
     "end_time": "2021-03-11T18:52:29.121183Z",
     "start_time": "2021-03-11T18:52:29.102279Z"
    }
   },
   "outputs": [
    {
     "ename": "NameError",
     "evalue": "name 'n' is not defined",
     "output_type": "error",
     "traceback": [
      "\u001b[1;31m---------------------------------------------------------------------------\u001b[0m",
      "\u001b[1;31mNameError\u001b[0m                                 Traceback (most recent call last)",
      "\u001b[1;32m<ipython-input-5-3a79633a8a0d>\u001b[0m in \u001b[0;36m<module>\u001b[1;34m\u001b[0m\n\u001b[1;32m----> 1\u001b[1;33m \u001b[0mn\u001b[0m\u001b[1;33m<\u001b[0m\u001b[1;33m-\u001b[0m\u001b[0mlength\u001b[0m\u001b[1;33m(\u001b[0m\u001b[0mL1\u001b[0m\u001b[1;33m)\u001b[0m \u001b[1;31m# find the number of items\u001b[0m\u001b[1;33m\u001b[0m\u001b[1;33m\u001b[0m\u001b[0m\n\u001b[0m\u001b[0;32m      2\u001b[0m \u001b[0mq\u001b[0m \u001b[1;33m<\u001b[0m\u001b[1;33m-\u001b[0m \u001b[1;36m2\u001b[0m\u001b[1;33m*\u001b[0m\u001b[0mn\u001b[0m \u001b[1;31m# make q be twice that number\u001b[0m\u001b[1;33m\u001b[0m\u001b[1;33m\u001b[0m\u001b[0m\n\u001b[0;32m      3\u001b[0m \u001b[0mp\u001b[0m \u001b[1;33m<\u001b[0m\u001b[1;33m-\u001b[0m \u001b[0mseq\u001b[0m\u001b[1;33m(\u001b[0m\u001b[1;36m1\u001b[0m\u001b[1;33m,\u001b[0m \u001b[0mq\u001b[0m\u001b[1;33m-\u001b[0m\u001b[1;36m1\u001b[0m\u001b[1;33m,\u001b[0m \u001b[1;36m2\u001b[0m \u001b[1;33m)\u001b[0m \u001b[1;31m# make a sequence of the numerators\u001b[0m\u001b[1;33m\u001b[0m\u001b[1;33m\u001b[0m\u001b[0m\n\u001b[0;32m      4\u001b[0m \u001b[0mL2\u001b[0m \u001b[1;33m<\u001b[0m\u001b[1;33m-\u001b[0m \u001b[0mp\u001b[0m\u001b[1;33m/\u001b[0m\u001b[0mq\u001b[0m \u001b[1;31m# make a list of the values\u001b[0m\u001b[1;33m\u001b[0m\u001b[1;33m\u001b[0m\u001b[0m\n\u001b[0;32m      5\u001b[0m \u001b[0mL3\u001b[0m \u001b[1;33m<\u001b[0m\u001b[1;33m-\u001b[0m \u001b[0mqnorm\u001b[0m\u001b[1;33m(\u001b[0m \u001b[0mL2\u001b[0m \u001b[1;33m)\u001b[0m \u001b[1;31m# get a list of z-scores\u001b[0m\u001b[1;33m\u001b[0m\u001b[1;33m\u001b[0m\u001b[0m\n",
      "\u001b[1;31mNameError\u001b[0m: name 'n' is not defined"
     ]
    }
   ],
   "source": [
    "n<-length(L1) # find the number of items\n",
    "q <- 2*n # make q be twice that number\n",
    "p <- seq(1, q-1, 2 ) # make a sequence of the numerators\n",
    "L2 <- p/q # make a list of the values\n",
    "L3 <- qnorm( L2 ) # get a list of z-scores\n",
    "sorted_data <- sort(L1) # get a sorted version of L1\n",
    "plot(sorted_data, L3) # make the plot\n"
   ]
  },
  {
   "cell_type": "markdown",
   "metadata": {},
   "source": [
    "**Exercise 1**  \n",
    "A distributed system has three file servers, which are chosen independently and\n",
    "with equal probabilities whenever a new file is created. The servers are named A, B, and C.Determine the probabilities of the following events: a. Server A is selected b. Server A or B is\n",
    "selected c. Servers A and B are selected d. Server A is not selected e. Server A is selected\n",
    "twice in a row f. Server selection sequence ABCABCABC is observed (in nine successive file\n",
    "creations)"
   ]
  },
  {
   "cell_type": "code",
   "execution_count": 6,
   "metadata": {
    "ExecuteTime": {
     "end_time": "2021-03-11T18:52:31.614653Z",
     "start_time": "2021-03-11T18:52:31.591710Z"
    }
   },
   "outputs": [
    {
     "name": "stdout",
     "output_type": "stream",
     "text": [
      "P(A) = 0.330000\n",
      "P(A∨B) = 0.660000\n",
      "P(A∨B) = 0, because they are never selected at the same time\n",
      "P(¬A) = 1 - P(A) = 0.66 \n",
      "P(AA) = 0.108900 \n",
      "P(ABCABCABC) = 0.000046\n"
     ]
    }
   ],
   "source": [
    "# P(A)= P(B) = P(C) = 1/3 = 0.33\n",
    "#a\n",
    "p_a= 0.33\n",
    "print(\"P(A) = %f\" % (p_a))\n",
    "#b\n",
    "p_b= 0.33\n",
    "pa_b=p_a + p_b\n",
    "print(\"P(A∨B) = %f\" % (pa_b))\n",
    "#c\n",
    "print(\"P(A∨B) = 0, because they are never selected at the same time\")\n",
    "#d\n",
    "print(\"P(¬A) = 1 - P(A) = 0.66 \") \n",
    "#e\n",
    "paa = p_a*p_a\n",
    "print(\"P(AA) = %f \" %(paa)) \n",
    "#f\n",
    "p_c = 0.33\n",
    "p = p_a*p_b*p_c*p_a*p_b*p_c*p_a*p_b*p_c\n",
    "\n",
    "print(\"P(ABCABCABC) = %f\" %p)\n"
   ]
  },
  {
   "cell_type": "markdown",
   "metadata": {
    "ExecuteTime": {
     "end_time": "2021-03-11T12:10:52.759695Z",
     "start_time": "2021-03-11T12:10:52.731765Z"
    }
   },
   "source": [
    "**Exercise 2**\n",
    "\n",
    "Compute the mean, variance, standard deviation, and coefficient of variation of the burst size.\n",
    "Plot the pmf and CDF for P = 0.2."
   ]
  },
  {
   "cell_type": "markdown",
   "metadata": {},
   "source": [
    "The burst size x is geometrically distributed.  \n",
    "The mean of a geometric distribution with $pmf = (1-p)^{x-1}p$ is $\\mu = \\frac{1}{p}$.  \n",
    "The variance is $\\sigma^{2} = \\frac{1-p}{p}$.  \n",
    "The standard deviation is $\\sigma = \\frac{\\sqrt{1- p}}{p}$.  \n",
    "The Coefficient of variation $COV = \\frac{\\sigma}{\\mu} = \\sqrt{1- p} $."
   ]
  },
  {
   "cell_type": "code",
   "execution_count": 7,
   "metadata": {
    "ExecuteTime": {
     "end_time": "2021-03-11T20:21:42.477772Z",
     "start_time": "2021-03-11T20:21:42.276Z"
    }
   },
   "outputs": [
    {
     "data": {
      "image/png": "[encoded data removed]",
      "text/plain": [
       "Plot with title \"Probability mass function \""
      ]
     },
     "metadata": {
      "image/png": {
       "height": 420,
       "width": 420
      }
     },
     "output_type": "display_data"
    },
    {
     "data": {
      "image/png": "[encoded data removed]",
      "text/plain": [
       "Plot with title \"Cumulative distribution function \""
      ]
     },
     "metadata": {
      "image/png": {
       "height": 420,
       "width": 420
      }
     },
     "output_type": "display_data"
    }
   ],
   "source": [
    "x <- 0:10\n",
    "plot(x, dgeom(x, 0.2, log = FALSE), main = \"Probability mass function \")\n",
    "plot(x, pgeom(x, 0.2), type=\"s\", main = \"Cumulative distribution function \")"
   ]
  },
  {
   "cell_type": "markdown",
   "metadata": {},
   "source": [
    "**Exercise 3**Here , $\\lambda$ is a parameter. Determine the mean, variance, and coefficient of variation of the\n",
    "number. Plot the pmf and CDF for $\\lambda= 8$."
   ]
  },
  {
   "cell_type": "markdown",
   "metadata": {},
   "source": [
    "The mean of Poisson distribution with $pmf = \\lambda^{x}\\cdot \\frac{e^{-\\lambda x}}{x!} is \\mu = \\lambda$.  \n",
    "The variance is $\\sigma^{2} = \\lambda$.  \n",
    "The $COV = \\frac{\\sigma}{\\mu} = \\sqrt{\\lambda}$\n"
   ]
  },
  {
   "cell_type": "code",
   "execution_count": 3,
   "metadata": {
    "ExecuteTime": {
     "end_time": "2021-03-11T19:48:44.255022Z",
     "start_time": "2021-03-11T19:48:44.141Z"
    }
   },
   "outputs": [
    {
     "data": {
      "image/png": "[encoded data removed]",
      "text/plain": [
       "Plot with title \"Probability mass function for Po(8)\""
      ]
     },
     "metadata": {
      "image/png": {
       "height": 420,
       "width": 420
      }
     },
     "output_type": "display_data"
    }
   ],
   "source": [
    "x <- 0:10 # with no upper limit we need to decide on an upper limit\n",
    "\n",
    "plot(x, dpois(x, lambda = 8), main = \"Probability mass function for Po(8)\") \n",
    "\n"
   ]
  },
  {
   "cell_type": "code",
   "execution_count": 4,
   "metadata": {
    "ExecuteTime": {
     "end_time": "2021-03-11T19:49:21.525591Z",
     "start_time": "2021-03-11T19:49:21.430Z"
    }
   },
   "outputs": [
    {
     "data": {
      "image/png": "[encoded data removed]",
      "text/plain": [
       "Plot with title \"Cumulative distribution function for Po(8)\""
      ]
     },
     "metadata": {
      "image/png": {
       "height": 420,
       "width": 420
      }
     },
     "output_type": "display_data"
    }
   ],
   "source": [
    "plot(x, ppois(x, lambda = 8), type=\"s\", main = \"Cumulative distribution function for Po(8)\")"
   ]
  },
  {
   "cell_type": "markdown",
   "metadata": {
    "ExecuteTime": {
     "end_time": "2021-03-11T12:12:03.455789Z",
     "start_time": "2021-03-11T12:12:03.432097Z"
    }
   },
   "source": [
    "**Exercise 4**\n",
    "Determine the following: a. Mean of x + y b. Variance of x+y c. Mean of x - y d. Variance of x - y\n",
    "e. Mean of 3x - 4y f. Coefficient of variation of 3x - 4y."
   ]
  },
  {
   "cell_type": "markdown",
   "metadata": {},
   "source": [
    "From Exercise 3 the mean and variance of a Poisson distribution with $pmf = \\lambda^{x}\\cdot \\frac{e^{-\\lambda x}}{x!}$ is $ \\mu = \\sigma^{2}= \\lambda $ \n",
    "\n",
    "a. $Mean(x + y) = Mean(x) + Mean(y) = 2\\lambda$\n",
    "\n",
    "b. $Var(x + y) = Var(x) + Var(y) = 2\\lambda$\n",
    "\n",
    "c. $Mean(x - y) = Mean(x) - Mean(y) = 0$\n",
    "\n",
    "d. $Var(x - y) = Var(x) + Var(y) = 2\\lambda$\n",
    "\n",
    "e. $Mean(3x - 4y) = 3Mean(x)  4Mean(y) = -\\lambda$\n",
    "\n",
    "f. $Var(3x - 4y) = 3^{2}Var(x) + 4^{2}Var(y)= 9Var(x) + 16Var(y) = 25\\lambda$, thus  \n",
    "  Coefficient of Variation $= \\frac{\\sqrt{Var}}{Mean} = 5\\sqrt{\\lambda}$\n",
    " "
   ]
  },
  {
   "cell_type": "markdown",
   "metadata": {},
   "source": [
    "**Exercise 5**  \n",
    "Find expressions for the pdf, mean, variance, mode, and coefficient of variation of the response\n",
    "time."
   ]
  },
  {
   "cell_type": "markdown",
   "metadata": {},
   "source": [
    "pdf = f(x) = $\\frac{dF(x)}{dx} = \\frac{e^{-\\frac{x}{a}}}{a}[\\sum_{i= 0}^{m-1}\\frac{(\\frac{x}{a})^{i}}{i!}] - e^{-\\frac{x}{a}}[\\sum_{i= 0}^{m-2}\\frac{(\\frac{x}{a})^{i}}{a \\cdot i!}] = \\frac{x^{m-1}e^{-\\frac{x}{a}}}{(m-1)!a^{m}} $  \n",
    "the Mean $\\mu = \\int_{0}^{+\\infty}xf(x)dx =  \\int_{0}^{+\\infty}\\frac{x^{m}e^{-\\frac{x}{a}}}{(m -1)!a^m}dx = \\frac{1}{(m -1)!a^m}\\int_{0}^{+\\infty}x^{m}e^{-\\frac{x}{a}}dx$  \n",
    "Intergrate by parts:  \n",
    "$\\mu = \\frac{1}{(m -1)!a^m}[ -ax^{m}e^{-\\frac{x}{a}} ]_{0}^{+\\infty} + \\frac{am}{(m -1)!a^m}\\int_{0}^{+\\infty}x^{m-1}e^{-\\frac{x}{a}}dx = \\frac{a^{m}m!}{(m -1)!a^m} \\int_{0}^{+\\infty}e^{-\\frac{x}{a}}dx = m\\int_{0}^{+\\infty}e^{-\\frac{x}{a}}dx = am[0-(-1)] = am$\n",
    "\n",
    "the Variance $\\sigma^{2} = \\int_{0}^{+\\infty}(x - \\mu)^{2}f(x)dx = \\frac{1}{(m -1)!a^m}\\int_{0}^{+\\infty}(x -am)^{2}x^{m-1}e^{-\\frac{x}{a}}dx = a^{2}m$\n",
    "\n",
    "the Mode (maximum probability) is :  \n",
    "f(x) is max when $\\frac{df(x)}{dx} = 0$ ,\n",
    "\n",
    "$\\frac{df(x)}{dx} = \\frac{1}{(m -1)!a^{m}}((m-1)x^{m-2}e-\\frac{x}{a} - x^{m-1} e^{-\\frac{x}{a}}) = 0 \\Leftrightarrow x = a(m-1)$,   \n",
    "Thus the mode is at $x = a(m-1)$\n",
    "\n",
    "The coefficient of variation is $\\frac{\\sigma}{\\mu}= \\frac{\\sqrt{a^{2}m}{am}}= \\frac{1}{\\sqrt{m}}$"
   ]
  },
  {
   "cell_type": "markdown",
   "metadata": {},
   "source": [
    "**Exercise 6**"
   ]
  },
  {
   "cell_type": "markdown",
   "metadata": {},
   "source": [
    "a. $CDF(-3\\sigma) = 1 - CDF(3\\sigma) = 1 - \\frac{1}{2}(1 + erf(\\frac{3}{\\sqrt{2}})) = 0.00135 = 0.135% $ \n",
    "b. $CDF(1\\sigma) = \\frac{1}{2}(1 + erf(\\frac{1}{\\sqrt{2}})) =0.84 = 84%$ \n",
    "\n",
    "c. $CDF(2\\sigma) - CDF(-1\\sigma)= \\frac{1}{2}(1 + erf(\\frac{2}{\\sqrt{2}}) - \\frac{1}{2}(1 + erf(\\frac{-1}{\\sqrt{2}})) = 0.819 = 81.9%  $  \n",
    "\n",
    "d.$ erf(\\frac{x}{\\sqrt{2}}) = 0.95 \\Longrightarrow x = 1.96$\n",
    "Thus $95%$ of the execution times are between 3.04 sec and 6.96 sec"
   ]
  },
  {
   "cell_type": "markdown",
   "metadata": {},
   "source": [
    "**Exercise 7**"
   ]
  },
  {
   "cell_type": "code",
   "execution_count": 1,
   "metadata": {
    "ExecuteTime": {
     "end_time": "2021-03-11T19:30:31.493627Z",
     "start_time": "2021-03-11T19:30:31.297Z"
    }
   },
   "outputs": [
    {
     "data": {
      "image/png": "[encoded data removed]",
      "text/plain": [
       "Plot with title \"Normal Q-Q Plot\""
      ]
     },
     "metadata": {
      "image/png": {
       "height": 420,
       "width": 420
      }
     },
     "output_type": "display_data"
    }
   ],
   "source": [
    "data_points <- c(-0.04444, -0.04439,-0.04165, -0.03268, -0.03235, -0.03182, 0.02771, 0.02650,\n",
    "-0.02569, -0.02358, 0.02330, 0.02305, 0.02213, 0.02128, 0.01793, 0.01668,\n",
    "-0.01565, -0.01509, 0.01432, 0.00978, 0.00889, 0.00687, 0.00543, 0.00084,\n",
    "-0.00083, -0.00048, 0.00024, 0.00079, 0.00082, 0.00106, 0.00110, 0.00132)\n",
    "qqnorm(data_points, pch = 1, frame = FALSE)\n",
    "qqline(data_points, col = \"steelblue\", lwd = 2)"
   ]
  },
  {
   "cell_type": "markdown",
   "metadata": {},
   "source": [
    "**Exercise 8**"
   ]
  },
  {
   "cell_type": "code",
   "execution_count": 11,
   "metadata": {
    "ExecuteTime": {
     "end_time": "2021-03-11T17:24:43.541838Z",
     "start_time": "2021-03-11T17:24:43.308Z"
    }
   },
   "outputs": [
    {
     "name": "stderr",
     "output_type": "stream",
     "text": [
      "Warning message:\n",
      "\"package 'readxl' is in use and will not be installed\"\n"
     ]
    },
    {
     "data": {
      "text/html": [
       "<table>\n",
       "<caption>A tibble: 13 × 4</caption>\n",
       "<thead>\n",
       "\t<tr><th scope=col>A</th><th scope=col>B</th><th scope=col>C</th><th scope=col>D</th></tr>\n",
       "\t<tr><th scope=col>&lt;dbl&gt;</th><th scope=col>&lt;chr&gt;</th><th scope=col>&lt;dbl&gt;</th><th scope=col>&lt;chr&gt;</th></tr>\n",
       "</thead>\n",
       "<tbody>\n",
       "\t<tr><td>  64</td><td>26.4</td><td>  92</td><td>32.8</td></tr>\n",
       "\t<tr><td>  64</td><td>26.4</td><td>  92</td><td>34.2</td></tr>\n",
       "\t<tr><td>  64</td><td>26.4</td><td>  92</td><td>32.4</td></tr>\n",
       "\t<tr><td>  64</td><td>26.2</td><td>  92</td><td>34.4</td></tr>\n",
       "\t<tr><td> 234</td><td>33.8</td><td> 348</td><td>41.4</td></tr>\n",
       "\t<tr><td> 590</td><td>41.6</td><td> 604</td><td>51.2</td></tr>\n",
       "\t<tr><td> 846</td><td>50  </td><td> 860</td><td>76  </td></tr>\n",
       "\t<tr><td>1060</td><td>48.4</td><td>1074</td><td>80.8</td></tr>\n",
       "\t<tr><td>1082</td><td>49  </td><td>1074</td><td>79.8</td></tr>\n",
       "\t<tr><td>1088</td><td>42  </td><td>1088</td><td>58.6</td></tr>\n",
       "\t<tr><td>1088</td><td>41.8</td><td>1088</td><td>57.6</td></tr>\n",
       "\t<tr><td>1088</td><td>41.8</td><td>1088</td><td>59.8</td></tr>\n",
       "\t<tr><td>1088</td><td>42  </td><td>1088</td><td>57.4</td></tr>\n",
       "</tbody>\n",
       "</table>\n"
      ],
      "text/latex": [
       "A tibble: 13 × 4\n",
       "\\begin{tabular}{llll}\n",
       " A & B & C & D\\\\\n",
       " <dbl> & <chr> & <dbl> & <chr>\\\\\n",
       "\\hline\n",
       "\t   64 & 26.4 &   92 & 32.8\\\\\n",
       "\t   64 & 26.4 &   92 & 34.2\\\\\n",
       "\t   64 & 26.4 &   92 & 32.4\\\\\n",
       "\t   64 & 26.2 &   92 & 34.4\\\\\n",
       "\t  234 & 33.8 &  348 & 41.4\\\\\n",
       "\t  590 & 41.6 &  604 & 51.2\\\\\n",
       "\t  846 & 50   &  860 & 76  \\\\\n",
       "\t 1060 & 48.4 & 1074 & 80.8\\\\\n",
       "\t 1082 & 49   & 1074 & 79.8\\\\\n",
       "\t 1088 & 42   & 1088 & 58.6\\\\\n",
       "\t 1088 & 41.8 & 1088 & 57.6\\\\\n",
       "\t 1088 & 41.8 & 1088 & 59.8\\\\\n",
       "\t 1088 & 42   & 1088 & 57.4\\\\\n",
       "\\end{tabular}\n"
      ],
      "text/markdown": [
       "\n",
       "A tibble: 13 × 4\n",
       "\n",
       "| A &lt;dbl&gt; | B &lt;chr&gt; | C &lt;dbl&gt; | D &lt;chr&gt; |\n",
       "|---|---|---|---|\n",
       "|   64 | 26.4 |   92 | 32.8 |\n",
       "|   64 | 26.4 |   92 | 34.2 |\n",
       "|   64 | 26.4 |   92 | 32.4 |\n",
       "|   64 | 26.2 |   92 | 34.4 |\n",
       "|  234 | 33.8 |  348 | 41.4 |\n",
       "|  590 | 41.6 |  604 | 51.2 |\n",
       "|  846 | 50   |  860 | 76   |\n",
       "| 1060 | 48.4 | 1074 | 80.8 |\n",
       "| 1082 | 49   | 1074 | 79.8 |\n",
       "| 1088 | 42   | 1088 | 58.6 |\n",
       "| 1088 | 41.8 | 1088 | 57.6 |\n",
       "| 1088 | 41.8 | 1088 | 59.8 |\n",
       "| 1088 | 42   | 1088 | 57.4 |\n",
       "\n"
      ],
      "text/plain": [
       "   A    B    C    D   \n",
       "1    64 26.4   92 32.8\n",
       "2    64 26.4   92 34.2\n",
       "3    64 26.4   92 32.4\n",
       "4    64 26.2   92 34.4\n",
       "5   234 33.8  348 41.4\n",
       "6   590 41.6  604 51.2\n",
       "7   846 50    860 76  \n",
       "8  1060 48.4 1074 80.8\n",
       "9  1082 49   1074 79.8\n",
       "10 1088 42   1088 58.6\n",
       "11 1088 41.8 1088 57.6\n",
       "12 1088 41.8 1088 59.8\n",
       "13 1088 42   1088 57.4"
      ]
     },
     "metadata": {},
     "output_type": "display_data"
    },
    {
     "data": {
      "image/png": "[encoded data removed]",
      "text/plain": [
       "plot without title"
      ]
     },
     "metadata": {
      "image/png": {
       "height": 420,
       "width": 420
      }
     },
     "output_type": "display_data"
    },
    {
     "data": {
      "image/png": "[encoded data removed]",
      "text/plain": [
       "plot without title"
      ]
     },
     "metadata": {
      "image/png": {
       "height": 420,
       "width": 420
      }
     },
     "output_type": "display_data"
    }
   ],
   "source": [
    "#unixb= c(64,64,64,64,234,590,846,1060,1082,1088,1088,1088,1088)\n",
    "#argusb = c(92,92,92,92,348,604,860,1074,1074,1088,1088,1088,1088)\n",
    "#unixt = c(26.4,26.4,26.4,26.2,33.8,41.6, 50,48.4,49,42,41.8,41.8,42)\n",
    "#argust =c(32.8,34.2,32.4,34.4,41.4,51.2,76,80.8,79.8,58.6,57.6,59.8,57.4)\n",
    "#unixdata <- cbind(unixt, unixb)\n",
    "#argusdata <- cbind(argust, argusb)\n",
    "install.packages(\"readxl\")\n",
    "library(\"readxl\")\n",
    "df <- read_excel(\"data1.xlsx\")\n",
    "df\n",
    "unixb <- df$A\n",
    "unixt <- df$B\n",
    "argusb <- df$C\n",
    "argust <- df$D\n",
    "regunix <- lm(unixt~unixb,data=df)\n",
    "regargus <- lm(argust~argusb,data=df)\n",
    "\n",
    "#1\n",
    "plot(unixb, unixt,\n",
    "     xlab = \"data bytes\", ylab = \"time\",\n",
    "     pch = 19, frame = FALSE)\n",
    "abline(regunix, col = \"blue\")\n",
    "\n",
    "plot(argusb, argust,\n",
    "     xlab = \"data bytes\", ylab = \"time\",\n",
    "     pch = 19, frame = FALSE)\n",
    "abline(regargus, col = \"blue\")"
   ]
  },
  {
   "cell_type": "code",
   "execution_count": 12,
   "metadata": {
    "ExecuteTime": {
     "end_time": "2021-03-11T17:27:16.282026Z",
     "start_time": "2021-03-11T17:27:16.201Z"
    }
   },
   "outputs": [
    {
     "data": {
      "text/plain": [
       "\n",
       "Call:\n",
       "lm(formula = unixt ~ unixb, data = df)\n",
       "\n",
       "Residuals:\n",
       "   Min     1Q Median     3Q    Max \n",
       "-3.980 -3.780 -1.609  3.106  8.420 \n",
       "\n",
       "Coefficients:\n",
       "            Estimate Std. Error t value Pr(>|t|)    \n",
       "(Intercept) 26.89781    2.00502  13.415 3.67e-08 ***\n",
       "unixb        0.01735    0.00253   6.859 2.73e-05 ***\n",
       "---\n",
       "Signif. codes:  0 '***' 0.001 '**' 0.01 '*' 0.05 '.' 0.1 ' ' 1\n",
       "\n",
       "Residual standard error: 4.166 on 11 degrees of freedom\n",
       "Multiple R-squared:  0.8105,\tAdjusted R-squared:  0.7933 \n",
       "F-statistic: 47.05 on 1 and 11 DF,  p-value: 2.73e-05\n"
      ]
     },
     "metadata": {},
     "output_type": "display_data"
    },
    {
     "data": {
      "text/plain": [
       "\n",
       "Call:\n",
       "lm(formula = argust ~ argusb, data = df)\n",
       "\n",
       "Residuals:\n",
       "     Min       1Q   Median       3Q      Max \n",
       "-10.3338  -7.9338  -1.3682   0.2318  15.9499 \n",
       "\n",
       "Coefficients:\n",
       "             Estimate Std. Error t value Pr(>|t|)    \n",
       "(Intercept) 31.067729   4.710541   6.595 3.89e-05 ***\n",
       "argusb       0.033700   0.005895   5.717 0.000135 ***\n",
       "---\n",
       "Signif. codes:  0 '***' 0.001 '**' 0.01 '*' 0.05 '.' 0.1 ' ' 1\n",
       "\n",
       "Residual standard error: 9.331 on 11 degrees of freedom\n",
       "Multiple R-squared:  0.7482,\tAdjusted R-squared:  0.7253 \n",
       "F-statistic: 32.68 on 1 and 11 DF,  p-value: 0.0001348\n"
      ]
     },
     "metadata": {},
     "output_type": "display_data"
    }
   ],
   "source": [
    "summary(regunix)\n",
    "\n",
    "summary(regargus)"
   ]
  },
  {
   "cell_type": "markdown",
   "metadata": {},
   "source": []
  },
  {
   "cell_type": "markdown",
   "metadata": {},
   "source": [
    "7)Intervals for intercepts overlap while those of the slopes do notmeans that times are not significantly different in the two systems while the per byte times (slopes) are different.  \n"
   ]
  },
  {
   "cell_type": "markdown",
   "metadata": {},
   "source": [
    "**Exercise 9**"
   ]
  },
  {
   "cell_type": "markdown",
   "metadata": {},
   "source": [
    "or the disk I/O and CPU data of Example 14.1, we have n=7,   $\\bar{x} =38.71,        \\sum x^{2} =13.855, and se=1.0834$\n",
    "\n",
    "standard deviations of bo and b1 are \n",
    "$s_{b_{0}} = s_{e}[1/n + \\frac{\\bar{x}^{2}}{ \\sum x^{2} - n\\bar{x}^{2}}]^{1/2} = 0.8311$\n",
    "$s_{b_{1}} = \\frac{s_{e}}{[\\sum x^{2} - n\\bar{x}^{2}]^{1/2}} = 0.0187$ \n",
    "\n",
    "\n",
    " the 0.95-quantile of a t-variate with 5 degrees  of freedom is 2.015\n",
    " so the 90% confidence interval for $b_0$ is\n",
    "$ -0.0083 \\pm 2.015\\cdot 0.8311 = (-1.6830,1.6663)  $\n",
    "\n",
    "because the confidence interval includes zero, the hypothesis that this parameter is zero cannot be rejected at 0.10 significance level. b0 is essentially zero\n",
    "\n",
    "90% Confidence Interval for $b_1$ is\n",
    "$ 0.2438 \\pm  2.015 \\cdot 0.0187 = (0.2061,0.2814)$\n",
    "\n",
    "Since the confidence interval does not include zero, the slope b1 is significantly different from zero at  this confidence level.\n",
    "\n",
    "CPU time = -0.0083 + 0.2438(number of disk i/os)\n",
    "for 100 disk I/0's the mean CPU time is\n",
    "CPU time = -0.0083 + 0.2438(100) = 24.3674\n",
    "\n",
    "standard deviation of the predicted mean of a large #observations is \n",
    "$s = 1.0834[1/7 + \\frac{(100-38.71)^{2}}{13,855- 7(38.71)^2}]^{2}= 1.2159$\n",
    "90% CI for the predicted mean\n",
    "$24.3674 \\pm(2.015)(1.2159) = (21.9174, 26.81)$  \n",
    "\n",
    "so CPU time of a single future  program with 100 disk I/O's\n",
    "$s = 1.0834[1 + \\frac{(100-38.71)^{2}}{13,855- 7(38.71)^2}]^{2}= 1.6286$\n",
    "90% CI for a single prediction  \n",
    "$24.3674 \\pm (2.015)(1.6286) = (21.09, 27.65)$\n"
   ]
  },
  {
   "cell_type": "markdown",
   "metadata": {
    "ExecuteTime": {
     "end_time": "2021-03-11T12:13:31.433743Z",
     "start_time": "2021-03-11T12:13:31.417789Z"
    }
   },
   "source": [
    "**Exercise 10**"
   ]
  },
  {
   "cell_type": "code",
   "execution_count": null,
   "metadata": {},
   "outputs": [],
   "source": []
  },
  {
   "cell_type": "markdown",
   "metadata": {
    "ExecuteTime": {
     "end_time": "2021-03-11T12:14:51.714836Z",
     "start_time": "2021-03-11T12:14:51.689904Z"
    }
   },
   "source": [
    "**Review Questions**"
   ]
  },
  {
   "cell_type": "markdown",
   "metadata": {},
   "source": [
    "1. How does regression differ from correlation?\n",
    "\n",
    "Correlation is a single statistic, or data point, whereas regression is the entire equation with all of the data points that are represented with a line. Correlation shows the relationship between the two variables, while regression allows us to see how one affects the other.\n",
    "\n",
    "\n",
    "2. How does an algebraic line differ from a statistical line?\n",
    "\n",
    "In Algebra, the equation of a line is represented by y = mx + b, where m is the slope and b is the y-intercept, whereas In Statistics, the preferred equation of a line is represented by y = a + bx, where b is the slope and a is the y-intercept.\n",
    "\n",
    "3. Lines are characterized by their slope and intercept. What does the slope tell you about the line? What does the intercept tell you? What does a slope of 0 indicate?  \n",
    "\n",
    "The slope indicates the steepness of a line and the intercept indicates the location where it intersects an axis. A slope of zero means that there is a constant relationship between x and y.\n",
    "\n",
    "4. What is ”squared” in a least squared regression line?  \n",
    "\n",
    "vertical distances (residuals) are squared in order to avoid the problem of distances with a negative sign.\n",
    "\n",
    "5. Suppose the relation between AGE (years) and HEIGHT (inches) in an adolescent population is described by this model: = 46 + 1.5X. Interpret the slope of this model.Then, predict the average height of a 10 year-old\n",
    "the average height of a 10 year old is 46+ 1.5 * 10 = 61 inches\n",
    "6. What t value do you use when calculating a confidence interval 95%for b when n = 25?  \n",
    "significance level = 1- 0.95 = 0.05  \n",
    "df = n-1 = 24   \n",
    "so from table t-value = 2.064   \n",
    "\n",
    "7. What symbol is used to denote the slope in the data?  \n",
    "in sample data b1 is used to denote slope\n",
    "8. What symbol is used to denote the slope in the population?  \n",
    "in population β1 is used to denote slope\n",
    "9. The Normality and equal variance assumptions for regression refer to the distribution of the residuals.  \n",
    "true\n",
    "\n",
    "10. What is a residual?  \n",
    "Residuals in a statistical or machine learning model are the differences between observed and predicted values of data\n",
    "11. What distributional conditions are necessary to help infer population slope beta?  \n",
    "linearity, independence, normality and equal variance are mandatory.\n",
    "12. Assuming that the 90% confidence interval of the slope contains zero (0). What that implies?\n",
    "Confidence interval tells you the actual coefficient value can lie within that range. If that interval includes 0, that means the actual coefficient value can be zero and that means that the predictor has no relationship with the response variable or it is insignificant in terms of its influence on response variable."
   ]
  },
  {
   "cell_type": "code",
   "execution_count": null,
   "metadata": {},
   "outputs": [],
   "source": []
  }
 ],
 "metadata": {
  "kernelspec": {
   "display_name": "R",
   "language": "R",
   "name": "ir"
  },
  "language_info": {
   "codemirror_mode": "r",
   "file_extension": ".r",
   "mimetype": "text/x-r-source",
   "name": "R",
   "pygments_lexer": "r",
   "version": "4.0.2"
  },
  "toc": {
   "base_numbering": 1,
   "nav_menu": {},
   "number_sections": true,
   "sideBar": true,
   "skip_h1_title": false,
   "title_cell": "Table of Contents",
   "title_sidebar": "Contents",
   "toc_cell": false,
   "toc_position": {},
   "toc_section_display": true,
   "toc_window_display": false
  },
  "varInspector": {
   "cols": {
    "lenName": 16,
    "lenType": 16,
    "lenVar": 40
   },
   "kernels_config": {
    "python": {
     "delete_cmd_postfix": "",
     "delete_cmd_prefix": "del ",
     "library": "var_list.py",
     "varRefreshCmd": "print(var_dic_list())"
    },
    "r": {
     "delete_cmd_postfix": ") ",
     "delete_cmd_prefix": "rm(",
     "library": "var_list.r",
     "varRefreshCmd": "cat(var_dic_list()) "
    }
   },
   "types_to_exclude": [
    "module",
    "function",
    "builtin_function_or_method",
    "instance",
    "_Feature"
   ],
   "window_display": false
  }
 },
 "nbformat": 4,
 "nbformat_minor": 4
}
