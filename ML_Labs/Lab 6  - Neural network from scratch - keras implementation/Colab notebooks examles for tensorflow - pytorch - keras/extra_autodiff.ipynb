{
  "nbformat": 4,
  "nbformat_minor": 0,
  "metadata": {
    "kernelspec": {
      "name": "python3",
      "display_name": "Python 3",
      "language": "python"
    },
    "language_info": {
      "mimetype": "text/x-python",
      "nbconvert_exporter": "python",
      "name": "python",
      "pygments_lexer": "ipython3",
      "version": "3.5.4",
      "file_extension": ".py",
      "codemirror_mode": {
        "version": 3,
        "name": "ipython"
      }
    },
    "latex_envs": {
      "LaTeX_envs_menu_present": true,
      "autoclose": false,
      "autocomplete": true,
      "bibliofile": "biblio.bib",
      "cite_by": "apalike",
      "current_citInitial": 1,
      "eqLabelWithNumbers": true,
      "eqNumInitial": 1,
      "hotkeys": {
        "equation": "Ctrl-E",
        "itemize": "Ctrl-I"
      },
      "labels_anchors": false,
      "latex_user_defs": false,
      "report_style_numbering": false,
      "user_envs_cfg": false
    },
    "nav_menu": {
      "height": "603px",
      "width": "616px"
    },
    "nbTranslate": {
      "displayLangs": [
        "*"
      ],
      "hotkey": "alt-t",
      "langInMainMenu": true,
      "sourceLang": "en",
      "targetLang": "fr",
      "useGoogleTranslate": true
    },
    "toc": {
      "nav_menu": {},
      "number_sections": true,
      "sideBar": true,
      "skip_h1_title": false,
      "base_numbering": 1,
      "title_cell": "Table of Contents",
      "title_sidebar": "Contents",
      "toc_cell": false,
      "toc_position": {},
      "toc_section_display": "block",
      "toc_window_display": true
    },
    "varInspector": {
      "window_display": false,
      "cols": {
        "lenName": 16,
        "lenType": 16,
        "lenVar": 40
      },
      "kernels_config": {
        "python": {
          "library": "var_list.py",
          "delete_cmd_prefix": "del ",
          "delete_cmd_postfix": "",
          "varRefreshCmd": "print(var_dic_list())"
        },
        "r": {
          "library": "var_list.r",
          "delete_cmd_prefix": "rm(",
          "delete_cmd_postfix": ") ",
          "varRefreshCmd": "cat(var_dic_list()) "
        }
      },
      "types_to_exclude": [
        "module",
        "function",
        "builtin_function_or_method",
        "instance",
        "_Feature"
      ]
    },
    "colab": {
      "name": "extra_autodiff.ipynb",
      "provenance": []
    }
  },
  "cells": [
    {
      "cell_type": "markdown",
      "metadata": {
        "id": "UopHydRrVgTu"
      },
      "source": [
        "**Appendix D – Autodiff**"
      ]
    },
    {
      "cell_type": "markdown",
      "metadata": {
        "id": "Rqdmq1DHVgTu"
      },
      "source": [
        "_This notebook contains toy implementations of various autodiff techniques, to explain how they works._"
      ]
    },
    {
      "cell_type": "markdown",
      "metadata": {
        "id": "oWo80aLyVgTu"
      },
      "source": [
        "# Setup"
      ]
    },
    {
      "cell_type": "markdown",
      "metadata": {
        "id": "ayLh2qsdVgTu"
      },
      "source": [
        "First, let's make sure this notebook works well in both python 2 and 3:"
      ]
    },
    {
      "cell_type": "code",
      "metadata": {
        "trusted": false,
        "id": "yrDzb_eLVgTu"
      },
      "source": [
        "# To support both python 2 and python 3\n",
        "from __future__ import absolute_import, division, print_function, unicode_literals"
      ],
      "execution_count": null,
      "outputs": []
    },
    {
      "cell_type": "markdown",
      "metadata": {
        "id": "64hA8DLBVgTv"
      },
      "source": [
        "# Introduction"
      ]
    },
    {
      "cell_type": "markdown",
      "metadata": {
        "id": "cIs57XJ6VgTv"
      },
      "source": [
        "Suppose we want to compute the gradients of the function $f(x,y)=x^2y + y + 2$ with regards to the parameters x and y:"
      ]
    },
    {
      "cell_type": "code",
      "metadata": {
        "trusted": false,
        "id": "-UI_bMUsVgTv"
      },
      "source": [
        "def f(x,y):\n",
        "    return x*x*y + y + 2"
      ],
      "execution_count": null,
      "outputs": []
    },
    {
      "cell_type": "markdown",
      "metadata": {
        "id": "hBBSVfUFVgTv"
      },
      "source": [
        "One approach is to solve this analytically:\n",
        "\n",
        "$\\dfrac{\\partial f}{\\partial x} = 2xy$\n",
        "\n",
        "$\\dfrac{\\partial f}{\\partial y} = x^2 + 1$"
      ]
    },
    {
      "cell_type": "code",
      "metadata": {
        "trusted": false,
        "id": "u1uFKmAzVgTv"
      },
      "source": [
        "def df(x,y):\n",
        "    return 2*x*y, x*x + 1"
      ],
      "execution_count": null,
      "outputs": []
    },
    {
      "cell_type": "markdown",
      "metadata": {
        "id": "kQ0TgzZoVgTv"
      },
      "source": [
        "So for example $\\dfrac{\\partial f}{\\partial x}(3,4) = 24$ and $\\dfrac{\\partial f}{\\partial y}(3,4) = 10$."
      ]
    },
    {
      "cell_type": "code",
      "metadata": {
        "trusted": false,
        "id": "d-KSnUtmVgTv",
        "colab": {
          "base_uri": "https://localhost:8080/"
        },
        "outputId": "b9ee6320-c84f-4473-a58a-8f649a444643"
      },
      "source": [
        "df(3, 4)"
      ],
      "execution_count": null,
      "outputs": [
        {
          "output_type": "execute_result",
          "data": {
            "text/plain": [
              "(24, 10)"
            ]
          },
          "metadata": {
            "tags": []
          },
          "execution_count": 4
        }
      ]
    },
    {
      "cell_type": "markdown",
      "metadata": {
        "id": "3nIoD5K4VgTx"
      },
      "source": [
        "Perfect! We can also find the equations for the second order derivatives (also called Hessians):\n",
        "\n",
        "$\\dfrac{\\partial^2 f}{\\partial x \\partial x} = \\dfrac{\\partial (2xy)}{\\partial x} = 2y$\n",
        "\n",
        "$\\dfrac{\\partial^2 f}{\\partial x \\partial y} = \\dfrac{\\partial (2xy)}{\\partial y} = 2x$\n",
        "\n",
        "$\\dfrac{\\partial^2 f}{\\partial y \\partial x} = \\dfrac{\\partial (x^2 + 1)}{\\partial x} = 2x$\n",
        "\n",
        "$\\dfrac{\\partial^2 f}{\\partial y \\partial y} = \\dfrac{\\partial (x^2 + 1)}{\\partial y} = 0$"
      ]
    },
    {
      "cell_type": "markdown",
      "metadata": {
        "id": "EvpCj5otVgTx"
      },
      "source": [
        "At x=3 and y=4, these Hessians are respectively 8, 6, 6, 0. Let's use the equations above to compute them:"
      ]
    },
    {
      "cell_type": "code",
      "metadata": {
        "trusted": false,
        "id": "I_BSIUqvVgTx"
      },
      "source": [
        "def d2f(x, y):\n",
        "    return [2*y, 2*x], [2*x, 0]"
      ],
      "execution_count": null,
      "outputs": []
    },
    {
      "cell_type": "code",
      "metadata": {
        "trusted": false,
        "id": "CpZMQUkjVgTx",
        "colab": {
          "base_uri": "https://localhost:8080/"
        },
        "outputId": "5b56da84-1578-4e68-b53e-461127bf1a5b"
      },
      "source": [
        "d2f(3, 4)"
      ],
      "execution_count": null,
      "outputs": [
        {
          "output_type": "execute_result",
          "data": {
            "text/plain": [
              "([8, 6], [6, 0])"
            ]
          },
          "metadata": {
            "tags": []
          },
          "execution_count": 6
        }
      ]
    },
    {
      "cell_type": "markdown",
      "metadata": {
        "id": "hFAvo_SoVgTx"
      },
      "source": [
        "Perfect, but this requires some mathematical work. It is not too hard in this case, but for a deep neural network, it is pratically impossible to compute the derivatives this way. So let's look at various ways to automate this!"
      ]
    },
    {
      "cell_type": "markdown",
      "metadata": {
        "id": "fdTDob78VgTx"
      },
      "source": [
        "# Numeric differentiation"
      ]
    },
    {
      "cell_type": "markdown",
      "metadata": {
        "id": "ePkSPLp6VgTx"
      },
      "source": [
        "Here, we compute an approxiation of the gradients using the equation: $\\dfrac{\\partial f}{\\partial x} = \\displaystyle{\\lim_{\\epsilon \\to 0}}\\dfrac{f(x+\\epsilon, y) - f(x, y)}{\\epsilon}$ (and there is a similar definition for $\\dfrac{\\partial f}{\\partial y}$)."
      ]
    },
    {
      "cell_type": "code",
      "metadata": {
        "trusted": false,
        "id": "jpWyEJpBVgTx"
      },
      "source": [
        "def gradients(func, vars_list, eps=0.0001):\n",
        "    partial_derivatives = []\n",
        "    base_func_eval = func(*vars_list)\n",
        "    for idx in range(len(vars_list)):\n",
        "        tweaked_vars = vars_list[:]\n",
        "        tweaked_vars[idx] += eps\n",
        "        tweaked_func_eval = func(*tweaked_vars)\n",
        "        derivative = (tweaked_func_eval - base_func_eval) / eps\n",
        "        partial_derivatives.append(derivative)\n",
        "    return partial_derivatives"
      ],
      "execution_count": null,
      "outputs": []
    },
    {
      "cell_type": "code",
      "metadata": {
        "trusted": false,
        "id": "OYkwsHWpVgTx"
      },
      "source": [
        "def df(x, y):\n",
        "    return gradients(f, [x, y])"
      ],
      "execution_count": null,
      "outputs": []
    },
    {
      "cell_type": "code",
      "metadata": {
        "trusted": false,
        "id": "C8i54912VgTx",
        "outputId": "19082294-94fe-49c9-de19-e2c08289b06f"
      },
      "source": [
        "df(3, 4)"
      ],
      "execution_count": null,
      "outputs": [
        {
          "output_type": "execute_result",
          "data": {
            "text/plain": [
              "[24.000400000048216, 10.000000000047748]"
            ]
          },
          "metadata": {
            "tags": []
          },
          "execution_count": 9
        }
      ]
    },
    {
      "cell_type": "markdown",
      "metadata": {
        "id": "PqVC8CE_VgTy"
      },
      "source": [
        "It works well!"
      ]
    },
    {
      "cell_type": "markdown",
      "metadata": {
        "id": "FNBTc5L7VgTy"
      },
      "source": [
        "The good news is that it is pretty easy to compute the Hessians. First let's create functions that compute the first order derivatives (also called Jacobians):"
      ]
    },
    {
      "cell_type": "code",
      "metadata": {
        "trusted": false,
        "id": "z5UC-SRwVgTy",
        "outputId": "03b7c33c-5c77-467d-c528-170bdf015d87"
      },
      "source": [
        "def dfdx(x, y):\n",
        "    return gradients(f, [x,y])[0]\n",
        "\n",
        "def dfdy(x, y):\n",
        "    return gradients(f, [x,y])[1]\n",
        "\n",
        "dfdx(3., 4.), dfdy(3., 4.)"
      ],
      "execution_count": null,
      "outputs": [
        {
          "output_type": "execute_result",
          "data": {
            "text/plain": [
              "(24.000400000048216, 10.000000000047748)"
            ]
          },
          "metadata": {
            "tags": []
          },
          "execution_count": 10
        }
      ]
    },
    {
      "cell_type": "markdown",
      "metadata": {
        "id": "g1KORDf6VgTy"
      },
      "source": [
        "Now we can simply apply the `gradients()` function to these functions:"
      ]
    },
    {
      "cell_type": "code",
      "metadata": {
        "trusted": false,
        "id": "LKP9pNfwVgTy"
      },
      "source": [
        "def d2f(x, y):\n",
        "    return [gradients(dfdx, [3., 4.]), gradients(dfdy, [3., 4.])]"
      ],
      "execution_count": null,
      "outputs": []
    },
    {
      "cell_type": "code",
      "metadata": {
        "trusted": false,
        "id": "5TvuqEEwVgTy",
        "outputId": "035e8546-bc54-46f1-e43a-232f92fd0e76"
      },
      "source": [
        "d2f(3, 4)"
      ],
      "execution_count": null,
      "outputs": [
        {
          "output_type": "execute_result",
          "data": {
            "text/plain": [
              "[[7.999999951380232, 6.000099261882497],\n",
              " [6.000099261882497, -1.4210854715202004e-06]]"
            ]
          },
          "metadata": {
            "tags": []
          },
          "execution_count": 12
        }
      ]
    },
    {
      "cell_type": "markdown",
      "metadata": {
        "id": "tkS5rIG3VgTy"
      },
      "source": [
        "So everything works well, but the result is approximate, and computing the gradients of a function with regards to $n$ variables requires calling that function $n$ times. In deep neural nets, there are often thousands of parameters to tweak using gradient descent (which requires computing the gradients of the loss function with regards to each of these parameters), so this approach would be much too slow."
      ]
    },
    {
      "cell_type": "markdown",
      "metadata": {
        "id": "mNSozb16VgTz"
      },
      "source": [
        "## Implementing a Toy Computation Graph"
      ]
    },
    {
      "cell_type": "markdown",
      "metadata": {
        "id": "z1eDR7iKVgTz"
      },
      "source": [
        "Rather than this numerical approach, let's implement some symbolic autodiff techniques. For this, we will need to define classes to represent constants, variables and operations."
      ]
    },
    {
      "cell_type": "code",
      "metadata": {
        "trusted": false,
        "id": "8JWU9cjPVgTz"
      },
      "source": [
        "class Const(object):\n",
        "    def __init__(self, value):\n",
        "        self.value = value\n",
        "    def evaluate(self):\n",
        "        return self.value\n",
        "    def __str__(self):\n",
        "        return str(self.value)\n",
        "\n",
        "class Var(object):\n",
        "    def __init__(self, name, init_value=0):\n",
        "        self.value = init_value\n",
        "        self.name = name\n",
        "    def evaluate(self):\n",
        "        return self.value\n",
        "    def __str__(self):\n",
        "        return self.name\n",
        "\n",
        "class BinaryOperator(object):\n",
        "    def __init__(self, a, b):\n",
        "        self.a = a\n",
        "        self.b = b\n",
        "\n",
        "class Add(BinaryOperator):\n",
        "    def evaluate(self):\n",
        "        return self.a.evaluate() + self.b.evaluate()\n",
        "    def __str__(self):\n",
        "        return \"{} + {}\".format(self.a, self.b)\n",
        "\n",
        "class Mul(BinaryOperator):\n",
        "    def evaluate(self):\n",
        "        return self.a.evaluate() * self.b.evaluate()\n",
        "    def __str__(self):\n",
        "        return \"({}) * ({})\".format(self.a, self.b)"
      ],
      "execution_count": null,
      "outputs": []
    },
    {
      "cell_type": "markdown",
      "metadata": {
        "id": "Y0x2ccKrVgTz"
      },
      "source": [
        "Good, now we can build a computation graph to represent the function $f$:"
      ]
    },
    {
      "cell_type": "code",
      "metadata": {
        "trusted": false,
        "id": "JkdzzZGLVgTz"
      },
      "source": [
        "x = Var(\"x\")\n",
        "y = Var(\"y\")\n",
        "f = Add(Mul(Mul(x, x), y), Add(y, Const(2))) # f(x,y) = x²y + y + 2"
      ],
      "execution_count": null,
      "outputs": []
    },
    {
      "cell_type": "markdown",
      "metadata": {
        "id": "golOKp20VgTz"
      },
      "source": [
        "And we can run this graph to compute $f$ at any point, for example $f(3, 4)$."
      ]
    },
    {
      "cell_type": "code",
      "metadata": {
        "trusted": false,
        "id": "vOzKzxGLVgTz",
        "colab": {
          "base_uri": "https://localhost:8080/"
        },
        "outputId": "451968a4-d923-4895-c2c1-a956b6bcec5e"
      },
      "source": [
        "x.value = 3\n",
        "y.value = 4\n",
        "f.evaluate()"
      ],
      "execution_count": null,
      "outputs": [
        {
          "output_type": "execute_result",
          "data": {
            "text/plain": [
              "42"
            ]
          },
          "metadata": {
            "tags": []
          },
          "execution_count": 9
        }
      ]
    },
    {
      "cell_type": "markdown",
      "metadata": {
        "id": "1WKZAZTzVgTz"
      },
      "source": [
        "Perfect, it found the ultimate answer."
      ]
    },
    {
      "cell_type": "markdown",
      "metadata": {
        "id": "pBU6bcK-VgTz"
      },
      "source": [
        "## Computing gradients"
      ]
    },
    {
      "cell_type": "markdown",
      "metadata": {
        "id": "bw6avKtZVgTz"
      },
      "source": [
        "The autodiff methods we will present below are all based on the *chain rule*."
      ]
    },
    {
      "cell_type": "markdown",
      "metadata": {
        "id": "aC1xmeCmVgTz"
      },
      "source": [
        "Suppose we have two functions $u$ and $v$, and we apply them sequentially to some input $x$, and we get the result $z$. So we have $z = v(u(x))$, which we can rewrite as $z = v(s)$ and $s = u(x)$. Now we can apply the chain rule to get the partial derivative of the output $z$ with regards to the input $x$:\n",
        "\n",
        "$ \\dfrac{\\partial z}{\\partial x} = \\dfrac{\\partial s}{\\partial x} \\cdot \\dfrac{\\partial z}{\\partial s}$"
      ]
    },
    {
      "cell_type": "markdown",
      "metadata": {
        "id": "JOrT-rNXVgTz"
      },
      "source": [
        "Now if $z$ is the output of a sequence of functions which have intermediate outputs $s_1, s_2, ..., s_n$, the chain rule still applies:\n",
        "\n",
        "$ \\dfrac{\\partial z}{\\partial x} = \\dfrac{\\partial s_1}{\\partial x} \\cdot \\dfrac{\\partial s_2}{\\partial s_1} \\cdot \\dfrac{\\partial s_3}{\\partial s_2} \\cdot \\dots \\cdot \\dfrac{\\partial s_{n-1}}{\\partial s_{n-2}} \\cdot \\dfrac{\\partial s_n}{\\partial s_{n-1}} \\cdot \\dfrac{\\partial z}{\\partial s_n}$"
      ]
    },
    {
      "cell_type": "markdown",
      "metadata": {
        "id": "ZVxJqQhVVgTz"
      },
      "source": [
        "In forward mode autodiff, the algorithm computes these terms \"forward\" (i.e., in the same order as the computations required to compute the output $z$), that is from left to right: first $\\dfrac{\\partial s_1}{\\partial x}$, then $\\dfrac{\\partial s_2}{\\partial s_1}$, and so on. In reverse mode autodiff, the algorithm computes these terms \"backwards\", from right to left: first $\\dfrac{\\partial z}{\\partial s_n}$, then $\\dfrac{\\partial s_n}{\\partial s_{n-1}}$, and so on.\n",
        "\n",
        "For example, suppose you want to compute the derivative of the function $z(x)=\\sin(x^2)$ at x=3, using forward mode autodiff. The algorithm would first compute the partial derivative $\\dfrac{\\partial s_1}{\\partial x}=\\dfrac{\\partial x^2}{\\partial x}=2x=6$. Next, it would compute $\\dfrac{\\partial z}{\\partial x}=\\dfrac{\\partial s_1}{\\partial x}\\cdot\\dfrac{\\partial z}{\\partial s_1}= 6 \\cdot \\dfrac{\\partial \\sin(s_1)}{\\partial s_1}=6 \\cdot \\cos(s_1)=6 \\cdot \\cos(3^2)\\approx-5.46$."
      ]
    },
    {
      "cell_type": "markdown",
      "metadata": {
        "id": "bsFY-aeOVgTz"
      },
      "source": [
        "Let's verify this result using the `gradients()` function defined earlier:"
      ]
    },
    {
      "cell_type": "code",
      "metadata": {
        "trusted": false,
        "id": "_q54kRyOVgTz",
        "colab": {
          "base_uri": "https://localhost:8080/"
        },
        "outputId": "9aab6abc-3e0c-430a-ecfd-4bd9ae042202"
      },
      "source": [
        "from math import sin\n",
        "\n",
        "def z(x):\n",
        "    return sin(x**2)\n",
        "\n",
        "gradients(z, [3])"
      ],
      "execution_count": null,
      "outputs": [
        {
          "output_type": "execute_result",
          "data": {
            "text/plain": [
              "[-5.46761419430053]"
            ]
          },
          "metadata": {
            "tags": []
          },
          "execution_count": 12
        }
      ]
    },
    {
      "cell_type": "markdown",
      "metadata": {
        "id": "pnJv0ZaKVgT0"
      },
      "source": [
        "Look good. Now let's do the same thing using reverse mode autodiff. This time the algorithm would start from the right hand side so it would compute $\\dfrac{\\partial z}{\\partial s_1} = \\dfrac{\\partial \\sin(s_1)}{\\partial s_1}=\\cos(s_1)=\\cos(3^2)\\approx -0.91$. Next it would compute $\\dfrac{\\partial z}{\\partial x}=\\dfrac{\\partial s_1}{\\partial x}\\cdot\\dfrac{\\partial z}{\\partial s_1} \\approx \\dfrac{\\partial s_1}{\\partial x} \\cdot -0.91 = \\dfrac{\\partial x^2}{\\partial x} \\cdot -0.91=2x \\cdot -0.91 = 6\\cdot-0.91=-5.46$."
      ]
    },
    {
      "cell_type": "markdown",
      "metadata": {
        "id": "Gt4vYPSzVgT0"
      },
      "source": [
        "Of course both approaches give the same result (except for rounding errors), and with a single input and output they involve the same number of computations. But when there are several inputs or outputs, they can have very different performance. Indeed, if there are many inputs, the right-most terms will be needed to compute the partial derivatives with regards to each input, so it is a good idea to compute these right-most terms first. That means using reverse-mode autodiff. This way, the right-most terms can be computed just once and used to compute all the partial derivatives. Conversely, if there are many outputs, forward-mode is generally preferable because the left-most terms can be computed just once to compute the partial derivatives of the different outputs. In Deep Learning, there are typically thousands of model parameters, meaning there are lots of inputs, but few outputs. In fact, there is generally just one output during training: the loss. This is why reverse mode autodiff is used in TensorFlow and all major Deep Learning libraries."
      ]
    },
    {
      "cell_type": "markdown",
      "metadata": {
        "id": "-t1oOhXAVgT0"
      },
      "source": [
        "There's one additional complexity in reverse mode autodiff: the value of $s_i$ is generally required when computing $\\dfrac{\\partial s_{i+1}}{\\partial s_i}$, and computing $s_i$ requires first computing $s_{i-1}$, which requires computing $s_{i-2}$, and so on. So basically, a first pass forward through the network is required to compute $s_1$, $s_2$, $s_3$, $\\dots$, $s_{n-1}$ and $s_n$, and then the algorithm can compute the partial derivatives from right to left. Storing all the intermediate values $s_i$ in RAM is sometimes a problem, especially when handling images, and when using GPUs which often have limited RAM: to limit this problem, one can reduce the number of layers in the neural network, or configure TensorFlow to make it swap these values from GPU RAM to CPU RAM. Another approach is to only cache every other intermediate value, $s_1$, $s_3$, $s_5$, $\\dots$, $s_{n-4}$, $s_{n-2}$ and $s_n$. This means that when the algorithm computes the partial derivatives, if an intermediate value $s_i$ is missing, it will need to recompute it based on the previous intermediate value $s_{i-1}$. This trades off CPU for RAM (if you are interested, check out [this paper](https://pdfs.semanticscholar.org/f61e/9fd5a4878e1493f7a6b03774a61c17b7e9a4.pdf))."
      ]
    },
    {
      "cell_type": "markdown",
      "metadata": {
        "id": "JbaeO0f5VgT0"
      },
      "source": [
        "### Forward mode autodiff"
      ]
    },
    {
      "cell_type": "code",
      "metadata": {
        "trusted": false,
        "id": "pMZWuk-nVgT1"
      },
      "source": [
        "Const.gradient = lambda self, var: Const(0)\n",
        "Var.gradient = lambda self, var: Const(1) if self is var else Const(0)\n",
        "Add.gradient = lambda self, var: Add(self.a.gradient(var), self.b.gradient(var))\n",
        "Mul.gradient = lambda self, var: Add(Mul(self.a, self.b.gradient(var)), Mul(self.a.gradient(var), self.b))\n",
        "\n",
        "x = Var(name=\"x\", init_value=3.)\n",
        "y = Var(name=\"y\", init_value=4.)\n",
        "f = Add(Mul(Mul(x, x), y), Add(y, Const(2))) # f(x,y) = x²y + y + 2\n",
        "\n",
        "dfdx = f.gradient(x)  # 2xy\n",
        "dfdy = f.gradient(y)  # x² + 1"
      ],
      "execution_count": null,
      "outputs": []
    },
    {
      "cell_type": "code",
      "metadata": {
        "trusted": false,
        "id": "SJLtPjciVgT1",
        "colab": {
          "base_uri": "https://localhost:8080/"
        },
        "outputId": "0a980452-19e3-40bf-b855-7cbe75b8b332"
      },
      "source": [
        "dfdx.evaluate(), dfdy.evaluate()"
      ],
      "execution_count": null,
      "outputs": [
        {
          "output_type": "execute_result",
          "data": {
            "text/plain": [
              "(24.0, 10.0)"
            ]
          },
          "metadata": {
            "tags": []
          },
          "execution_count": 14
        }
      ]
    },
    {
      "cell_type": "markdown",
      "metadata": {
        "id": "eccbIJasVgT1"
      },
      "source": [
        "Since the output of the `gradient()` method is fully symbolic, we are not limited to the first order derivatives, we can also compute second order derivatives, and so on:"
      ]
    },
    {
      "cell_type": "code",
      "metadata": {
        "trusted": false,
        "id": "LfP4uYA9VgT1"
      },
      "source": [
        "d2fdxdx = dfdx.gradient(x) # 2y\n",
        "d2fdxdy = dfdx.gradient(y) # 2x\n",
        "d2fdydx = dfdy.gradient(x) # 2x\n",
        "d2fdydy = dfdy.gradient(y) # 0"
      ],
      "execution_count": null,
      "outputs": []
    },
    {
      "cell_type": "code",
      "metadata": {
        "trusted": false,
        "id": "1g-BmrUMVgT1",
        "colab": {
          "base_uri": "https://localhost:8080/"
        },
        "outputId": "88c99c9a-b936-4a62-f30b-01cdf8066d54"
      },
      "source": [
        "[[d2fdxdx.evaluate(), d2fdxdy.evaluate()],\n",
        " [d2fdydx.evaluate(), d2fdydy.evaluate()]]"
      ],
      "execution_count": null,
      "outputs": [
        {
          "output_type": "execute_result",
          "data": {
            "text/plain": [
              "[[8.0, 6.0], [6.0, 0.0]]"
            ]
          },
          "metadata": {
            "tags": []
          },
          "execution_count": 16
        }
      ]
    },
    {
      "cell_type": "markdown",
      "metadata": {
        "id": "vNiWakc_VgT1"
      },
      "source": [
        "Note that the result is now exact, not an approximation (up to the limit of the machine's float precision, of course)."
      ]
    },
    {
      "cell_type": "markdown",
      "metadata": {
        "id": "5Sxyv_FWVgT1"
      },
      "source": [
        "### Forward mode autodiff using dual numbers"
      ]
    },
    {
      "cell_type": "markdown",
      "metadata": {
        "id": "dLSnqjkQVgT1"
      },
      "source": [
        "A nice way to apply forward mode autodiff is to use [dual numbers](https://en.wikipedia.org/wiki/Dual_number). In short, a dual number $z$ has the form $z = a + b\\epsilon$, where $a$ and $b$ are real numbers, and $\\epsilon$ is an infinitesimal number, positive but smaller than all real numbers, and such that $\\epsilon^2=0$.\n",
        "It can be shown that $f(x + \\epsilon) = f(x) + \\dfrac{\\partial f}{\\partial x}\\epsilon$, so simply by computing $f(x + \\epsilon)$ we get both the value of $f(x)$ and the partial derivative of $f$ with regards to $x$. "
      ]
    },
    {
      "cell_type": "markdown",
      "metadata": {
        "id": "PGiIAX3iVgT2"
      },
      "source": [
        "Dual numbers have their own arithmetic rules, which are generally quite natural. For example:\n",
        "\n",
        "**Addition**\n",
        "\n",
        "$(a_1 + b_1\\epsilon) + (a_2 + b_2\\epsilon) = (a_1 + a_2) + (b_1 + b_2)\\epsilon$\n",
        "\n",
        "**Subtraction**\n",
        "\n",
        "$(a_1 + b_1\\epsilon) - (a_2 + b_2\\epsilon) = (a_1 - a_2) + (b_1 - b_2)\\epsilon$\n",
        "\n",
        "**Multiplication**\n",
        "\n",
        "$(a_1 + b_1\\epsilon) \\times (a_2 + b_2\\epsilon) = (a_1 a_2) + (a_1 b_2 + a_2 b_1)\\epsilon + b_1 b_2\\epsilon^2 = (a_1 a_2) + (a_1b_2 + a_2b_1)\\epsilon$\n",
        "\n",
        "**Division**\n",
        "\n",
        "$\\dfrac{a_1 + b_1\\epsilon}{a_2 + b_2\\epsilon} = \\dfrac{a_1 + b_1\\epsilon}{a_2 + b_2\\epsilon} \\cdot \\dfrac{a_2 - b_2\\epsilon}{a_2 - b_2\\epsilon} = \\dfrac{a_1 a_2 + (b_1 a_2 - a_1 b_2)\\epsilon - b_1 b_2\\epsilon^2}{{a_2}^2 + (a_2 b_2 - a_2 b_2)\\epsilon - {b_2}^2\\epsilon} = \\dfrac{a_1}{a_2} + \\dfrac{a_1 b_2 - b_1 a_2}{{a_2}^2}\\epsilon$\n",
        "\n",
        "**Power**\n",
        "\n",
        "$(a + b\\epsilon)^n = a^n + (n a^{n-1}b)\\epsilon$\n",
        "\n",
        "etc."
      ]
    },
    {
      "cell_type": "markdown",
      "metadata": {
        "id": "2fmWVA3IVgT2"
      },
      "source": [
        "Let's create a class to represent dual numbers, and implement a few operations (addition and multiplication). You can try adding some more if you want."
      ]
    },
    {
      "cell_type": "code",
      "metadata": {
        "trusted": false,
        "id": "zDWPwoqwVgT2"
      },
      "source": [
        "class DualNumber(object):\n",
        "    def __init__(self, value=0.0, eps=0.0):\n",
        "        self.value = value\n",
        "        self.eps = eps\n",
        "    def __add__(self, b):\n",
        "        return DualNumber(self.value + self.to_dual(b).value,\n",
        "                          self.eps + self.to_dual(b).eps)\n",
        "    def __radd__(self, a):\n",
        "        return self.to_dual(a).__add__(self)\n",
        "    def __mul__(self, b):\n",
        "        return DualNumber(self.value * self.to_dual(b).value,\n",
        "                          self.eps * self.to_dual(b).value + self.value * self.to_dual(b).eps)\n",
        "    def __rmul__(self, a):\n",
        "        return self.to_dual(a).__mul__(self)\n",
        "    def __str__(self):\n",
        "        if self.eps:\n",
        "            return \"{:.1f} + {:.1f}ε\".format(self.value, self.eps)\n",
        "        else:\n",
        "            return \"{:.1f}\".format(self.value)\n",
        "    def __repr__(self):\n",
        "        return str(self)\n",
        "    @classmethod\n",
        "    def to_dual(cls, n):\n",
        "        if hasattr(n, \"value\"):\n",
        "            return n\n",
        "        else:\n",
        "            return cls(n)"
      ],
      "execution_count": null,
      "outputs": []
    },
    {
      "cell_type": "markdown",
      "metadata": {
        "id": "pn36V5VdVgT2"
      },
      "source": [
        "$3 + (3 + 4 \\epsilon) = 6 + 4\\epsilon$"
      ]
    },
    {
      "cell_type": "code",
      "metadata": {
        "trusted": false,
        "id": "8oAy0WruVgT2",
        "outputId": "d039a19e-1718-49f2-eeba-b23dbb7765f2"
      },
      "source": [
        "3 + DualNumber(3, 4)"
      ],
      "execution_count": null,
      "outputs": [
        {
          "output_type": "execute_result",
          "data": {
            "text/plain": [
              "6.0 + 4.0ε"
            ]
          },
          "metadata": {
            "tags": []
          },
          "execution_count": 22
        }
      ]
    },
    {
      "cell_type": "markdown",
      "metadata": {
        "id": "HqSzJiK1VgT2"
      },
      "source": [
        "$(3 + 4ε)\\times(5 + 7ε)$ = $3 \\times 5 + 3 \\times 7ε + 4ε \\times 5 + 4ε \\times 7ε$ = $15 + 21ε + 20ε + 28ε^2$ = $15 + 41ε + 28 \\times 0$ = $15 + 41ε$"
      ]
    },
    {
      "cell_type": "code",
      "metadata": {
        "trusted": false,
        "id": "urhfFb70VgT3",
        "outputId": "deff5125-7673-4c55-aae7-adb288154616"
      },
      "source": [
        "DualNumber(3, 4) * DualNumber(5, 7)"
      ],
      "execution_count": null,
      "outputs": [
        {
          "output_type": "execute_result",
          "data": {
            "text/plain": [
              "15.0 + 41.0ε"
            ]
          },
          "metadata": {
            "tags": []
          },
          "execution_count": 23
        }
      ]
    },
    {
      "cell_type": "markdown",
      "metadata": {
        "id": "9LYv72EWVgT3"
      },
      "source": [
        "Now let's see if the dual numbers work with our toy computation framework:"
      ]
    },
    {
      "cell_type": "code",
      "metadata": {
        "trusted": false,
        "id": "mql0dZoBVgT3",
        "outputId": "b8e2a700-48bc-4a12-fd65-19fe877e4330"
      },
      "source": [
        "x.value = DualNumber(3.0)\n",
        "y.value = DualNumber(4.0)\n",
        "\n",
        "f.evaluate()"
      ],
      "execution_count": null,
      "outputs": [
        {
          "output_type": "execute_result",
          "data": {
            "text/plain": [
              "42.0"
            ]
          },
          "metadata": {
            "tags": []
          },
          "execution_count": 24
        }
      ]
    },
    {
      "cell_type": "markdown",
      "metadata": {
        "id": "Ns81Y5gWVgT4"
      },
      "source": [
        "Yep, sure works. Now let's use this to compute the partial derivatives of $f$ with regards to $x$ and $y$ at x=3 and y=4:"
      ]
    },
    {
      "cell_type": "code",
      "metadata": {
        "trusted": false,
        "id": "NPsou_KLVgT4"
      },
      "source": [
        "x.value = DualNumber(3.0, 1.0)  # 3 + ε\n",
        "y.value = DualNumber(4.0)       # 4\n",
        "\n",
        "dfdx = f.evaluate().eps\n",
        "\n",
        "x.value = DualNumber(3.0)       # 3\n",
        "y.value = DualNumber(4.0, 1.0)  # 4 + ε\n",
        "\n",
        "dfdy = f.evaluate().eps"
      ],
      "execution_count": null,
      "outputs": []
    },
    {
      "cell_type": "code",
      "metadata": {
        "trusted": false,
        "id": "oOQAUU38VgT4",
        "outputId": "f6199cc1-663a-4941-a941-03da9e12678f"
      },
      "source": [
        "dfdx"
      ],
      "execution_count": null,
      "outputs": [
        {
          "output_type": "execute_result",
          "data": {
            "text/plain": [
              "24.0"
            ]
          },
          "metadata": {
            "tags": []
          },
          "execution_count": 26
        }
      ]
    },
    {
      "cell_type": "code",
      "metadata": {
        "trusted": false,
        "id": "3V3vV-ptVgT4",
        "outputId": "fd205005-f4c8-4b7b-f65f-6c9a13d4feae"
      },
      "source": [
        "dfdy"
      ],
      "execution_count": null,
      "outputs": [
        {
          "output_type": "execute_result",
          "data": {
            "text/plain": [
              "10.0"
            ]
          },
          "metadata": {
            "tags": []
          },
          "execution_count": 27
        }
      ]
    },
    {
      "cell_type": "markdown",
      "metadata": {
        "id": "lZc-x1VzVgT4"
      },
      "source": [
        "Great! However, in this implementation we are limited to first order derivatives.\n",
        "Now let's look at reverse mode."
      ]
    },
    {
      "cell_type": "markdown",
      "metadata": {
        "id": "fRnfpNs1VgT4"
      },
      "source": [
        "### Reverse mode autodiff"
      ]
    },
    {
      "cell_type": "markdown",
      "metadata": {
        "id": "wl3xyiV7VgT4"
      },
      "source": [
        "Let's rewrite our toy framework to add reverse mode autodiff:"
      ]
    },
    {
      "cell_type": "code",
      "metadata": {
        "trusted": false,
        "id": "mQFm9GRFVgT4"
      },
      "source": [
        "class Const(object):\n",
        "    def __init__(self, value):\n",
        "        self.value = value\n",
        "    def evaluate(self):\n",
        "        return self.value\n",
        "    def backpropagate(self, gradient):\n",
        "        pass\n",
        "    def __str__(self):\n",
        "        return str(self.value)\n",
        "\n",
        "class Var(object):\n",
        "    def __init__(self, name, init_value=0):\n",
        "        self.value = init_value\n",
        "        self.name = name\n",
        "        self.gradient = 0\n",
        "    def evaluate(self):\n",
        "        return self.value\n",
        "    def backpropagate(self, gradient):\n",
        "        self.gradient += gradient\n",
        "    def __str__(self):\n",
        "        return self.name\n",
        "\n",
        "class BinaryOperator(object):\n",
        "    def __init__(self, a, b):\n",
        "        self.a = a\n",
        "        self.b = b\n",
        "\n",
        "class Add(BinaryOperator):\n",
        "    def evaluate(self):\n",
        "        self.value = self.a.evaluate() + self.b.evaluate()\n",
        "        return self.value\n",
        "    def backpropagate(self, gradient):\n",
        "        self.a.backpropagate(gradient)\n",
        "        self.b.backpropagate(gradient)\n",
        "    def __str__(self):\n",
        "        return \"{} + {}\".format(self.a, self.b)\n",
        "\n",
        "class Mul(BinaryOperator):\n",
        "    def evaluate(self):\n",
        "        self.value = self.a.evaluate() * self.b.evaluate()\n",
        "        return self.value\n",
        "    def backpropagate(self, gradient):\n",
        "        self.a.backpropagate(gradient * self.b.value)\n",
        "        self.b.backpropagate(gradient * self.a.value)\n",
        "    def __str__(self):\n",
        "        return \"({}) * ({})\".format(self.a, self.b)"
      ],
      "execution_count": null,
      "outputs": []
    },
    {
      "cell_type": "code",
      "metadata": {
        "trusted": false,
        "id": "3d-vKdFKVgT4"
      },
      "source": [
        "x = Var(\"x\", init_value=3)\n",
        "y = Var(\"y\", init_value=4)\n",
        "f = Add(Mul(Mul(x, x), y), Add(y, Const(2))) # f(x,y) = x²y + y + 2\n",
        "\n",
        "result = f.evaluate()\n",
        "f.backpropagate(1.0)"
      ],
      "execution_count": null,
      "outputs": []
    },
    {
      "cell_type": "code",
      "metadata": {
        "trusted": false,
        "id": "v_JGWwh8VgT4",
        "outputId": "af56cdef-09a5-4643-e8b2-ce0115c75638"
      },
      "source": [
        "print(f)"
      ],
      "execution_count": null,
      "outputs": [
        {
          "output_type": "stream",
          "text": [
            "((x) * (x)) * (y) + y + 2\n"
          ],
          "name": "stdout"
        }
      ]
    },
    {
      "cell_type": "code",
      "metadata": {
        "trusted": false,
        "id": "C5IUZCrDVgT4",
        "outputId": "35620f43-1bc6-400c-e76f-de38ef658693"
      },
      "source": [
        "result"
      ],
      "execution_count": null,
      "outputs": [
        {
          "output_type": "execute_result",
          "data": {
            "text/plain": [
              "42"
            ]
          },
          "metadata": {
            "tags": []
          },
          "execution_count": 31
        }
      ]
    },
    {
      "cell_type": "code",
      "metadata": {
        "trusted": false,
        "id": "_Ipv_tFMVgT4",
        "outputId": "3b160c80-4627-424e-d221-69a431a93883"
      },
      "source": [
        "x.gradient"
      ],
      "execution_count": null,
      "outputs": [
        {
          "output_type": "execute_result",
          "data": {
            "text/plain": [
              "24.0"
            ]
          },
          "metadata": {
            "tags": []
          },
          "execution_count": 32
        }
      ]
    },
    {
      "cell_type": "code",
      "metadata": {
        "trusted": false,
        "id": "BwGuP8hEVgT5",
        "outputId": "f24618a9-afb8-4b22-fd3c-9fbea345fedf"
      },
      "source": [
        "y.gradient"
      ],
      "execution_count": null,
      "outputs": [
        {
          "output_type": "execute_result",
          "data": {
            "text/plain": [
              "10.0"
            ]
          },
          "metadata": {
            "tags": []
          },
          "execution_count": 33
        }
      ]
    },
    {
      "cell_type": "markdown",
      "metadata": {
        "id": "PD0DZyixVgT5"
      },
      "source": [
        "Again, in this implementation the outputs are just numbers, not symbolic expressions, so we are limited to first order derivatives. However, we could have made the `backpropagate()` methods return symbolic expressions rather than values (e.g., return `Add(2,3)` rather than 5). This would make it possible to compute second order gradients (and beyond). This is what TensorFlow does, as do all the major libraries that implement autodiff."
      ]
    },
    {
      "cell_type": "markdown",
      "metadata": {
        "id": "ApaYzrKjVgT5"
      },
      "source": [
        "### Reverse mode autodiff using TensorFlow"
      ]
    },
    {
      "cell_type": "code",
      "metadata": {
        "trusted": true,
        "id": "dX2Gbax3VgT5",
        "colab": {
          "base_uri": "https://localhost:8080/"
        },
        "outputId": "8b2a8721-eb33-468d-8359-7da95551ebba"
      },
      "source": [
        "import tensorflow as tf\n",
        "import tensorflow.compat.v1 as tf\n",
        "tf.disable_v2_behavior()\n"
      ],
      "execution_count": 17,
      "outputs": [
        {
          "output_type": "stream",
          "text": [
            "WARNING:tensorflow:From /usr/local/lib/python3.6/dist-packages/tensorflow/python/compat/v2_compat.py:96: disable_resource_variables (from tensorflow.python.ops.variable_scope) is deprecated and will be removed in a future version.\n",
            "Instructions for updating:\n",
            "non-resource variables are not supported in the long term\n"
          ],
          "name": "stdout"
        }
      ]
    },
    {
      "cell_type": "code",
      "metadata": {
        "trusted": true,
        "id": "r0UDJh89VgT5",
        "colab": {
          "base_uri": "https://localhost:8080/"
        },
        "outputId": "eca4a4e0-68f6-4e0d-f603-0e40188e9e7d"
      },
      "source": [
        "tf.reset_default_graph()\n",
        "\n",
        "x = tf.Variable(3., name=\"x\")\n",
        "y = tf.Variable(4., name=\"y\")\n",
        "f = x*x*y + y + 2\n",
        "\n",
        "jacobians = tf.gradients(f, [x, y])\n",
        "\n",
        "init = tf.global_variables_initializer()\n",
        "\n",
        "with tf.Session() as sess:\n",
        "    init.run()\n",
        "    f_val, jacobians_val = sess.run([f, jacobians])\n",
        "\n",
        "f_val, jacobians_val"
      ],
      "execution_count": 18,
      "outputs": [
        {
          "output_type": "execute_result",
          "data": {
            "text/plain": [
              "(42.0, [24.0, 10.0])"
            ]
          },
          "metadata": {
            "tags": []
          },
          "execution_count": 18
        }
      ]
    },
    {
      "cell_type": "markdown",
      "metadata": {
        "id": "SSA-LceUVgT5"
      },
      "source": [
        "Since everything is symbolic, we can compute second order derivatives, and beyond. However, when we compute the derivative of a tensor with regards to a variable that it does not depend on, instead of returning 0.0, the `gradients()` function returns None, which cannot be evaluated by `sess.run()`. So beware of `None` values. Here we just replace them with zero tensors."
      ]
    },
    {
      "cell_type": "code",
      "metadata": {
        "trusted": true,
        "id": "FVq3LJF2VgT6",
        "colab": {
          "base_uri": "https://localhost:8080/"
        },
        "outputId": "90239f34-468d-4098-d84a-0ef60986165a"
      },
      "source": [
        "hessians_x = tf.gradients(jacobians[0], [x, y])\n",
        "hessians_y = tf.gradients(jacobians[1], [x, y])\n",
        "\n",
        "def replace_none_with_zero(tensors):\n",
        "    return [tensor if tensor is not None else tf.constant(0.)\n",
        "            for tensor in tensors]\n",
        "\n",
        "hessians_x = replace_none_with_zero(hessians_x)\n",
        "hessians_y = replace_none_with_zero(hessians_y)\n",
        "\n",
        "init = tf.global_variables_initializer()\n",
        "\n",
        "with tf.Session() as sess:\n",
        "    init.run()\n",
        "    hessians_x_val, hessians_y_val = sess.run([hessians_x, hessians_y])\n",
        "\n",
        "hessians_x_val, hessians_y_val"
      ],
      "execution_count": 19,
      "outputs": [
        {
          "output_type": "execute_result",
          "data": {
            "text/plain": [
              "([8.0, 6.0], [6.0, 0.0])"
            ]
          },
          "metadata": {
            "tags": []
          },
          "execution_count": 19
        }
      ]
    },
    {
      "cell_type": "markdown",
      "metadata": {
        "id": "gq1R65J3VgT6"
      },
      "source": [
        "And that's all folks! Hope you enjoyed this notebook."
      ]
    },
    {
      "cell_type": "code",
      "metadata": {
        "trusted": false,
        "id": "2Vb7Wu16VgT6"
      },
      "source": [
        ""
      ],
      "execution_count": null,
      "outputs": []
    }
  ]
}